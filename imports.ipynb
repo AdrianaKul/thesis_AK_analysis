{
 "cells": [
  {
   "cell_type": "code",
   "execution_count": null,
   "metadata": {},
   "outputs": [],
   "source": [
    "import sys\n",
    "\n",
    "# # uncomment the following lines to install the required packages\n",
    "# !{sys.executable} -m pip install gmsh\n",
    "# !{sys.executable} -m pip install scipy\n",
    "# !{sys.executable} -m pip install matplotlib\n",
    "# !{sys.executable} -m pip install pandas\n",
    "# !{sys.executable} -m pip install numpy\n",
    "# !{sys.executable} -m pip install pyvista\n",
    "# !{sys.executable} -m pip install ipywidgets\n",
    "# !{sys.executable} -m pip install pyvirtualdisplay\n",
    "\n",
    "# print(\"All packages installed!\")"
   ]
  },
  {
   "cell_type": "code",
   "execution_count": null,
   "metadata": {},
   "outputs": [],
   "source": [
    "# maths\n",
    "import numpy as np\n",
    "import pandas as pd\n",
    "\n",
    "# plotting graphs settings\n",
    "import matplotlib.pyplot as plt\n",
    "# plt.rcParams['figure.figsize'] = [9, 6]\n",
    "plt.rcParams['figure.figsize'] = [6, 4]\n",
    "plt.rcParams['figure.dpi'] = 300\n",
    "# plt.rcParams['font.family'] = \"Serif\"\n",
    "plt.rcParams['font.family'] = \"Times New Roman\"\n",
    "plt.rcParams['font.size'] = 20\n",
    "\n",
    "SMALL_SIZE = 8\n",
    "MEDIUM_SIZE = 10\n",
    "BIGGER_SIZE = 12\n",
    "\n",
    "plt.rc('font', size=SMALL_SIZE)          # controls default text sizes\n",
    "plt.rc('axes', titlesize=SMALL_SIZE)     # fontsize of the axes title\n",
    "plt.rc('axes', labelsize=MEDIUM_SIZE)    # fontsize of the x and y labels\n",
    "plt.rc('xtick', labelsize=SMALL_SIZE)    # fontsize of the tick labels\n",
    "plt.rc('ytick', labelsize=SMALL_SIZE)    # fontsize of the tick labels\n",
    "plt.rc('legend', fontsize=SMALL_SIZE)    # legend fontsize\n",
    "plt.rc('figure', titlesize=BIGGER_SIZE)  # fontsize of the figure title\n",
    "\n",
    "plt.rcParams['text.usetex'] = True\n",
    "\n",
    "# create mesh with gmsh\n",
    "import gmsh\n",
    "\n",
    "# plotting vtks\n",
    "import pyvista as pv\n",
    "pv.set_plot_theme(\"document\")\n",
    "import ipywidgets as widgets\n",
    "from pyvirtualdisplay import Display\n",
    "\n",
    "print(\"Imports finished! :D\")"
   ]
  },
  {
   "cell_type": "code",
   "execution_count": null,
   "metadata": {},
   "outputs": [],
   "source": [
    "# locations of the executables\n",
    "\n",
    "# directories\n",
    "um_view = \"$HOME/um_view_release\" # change this to the location of your um_view_release or um_view with mofem_data_driven_finite_elements installed\n",
    "tools_dir = um_view + \"/bin\"\n",
    "dd_dir = um_view + \"/mofem_data_driven_finite_elements\"\n",
    "\n",
    "# tools\n",
    "read_med = tools_dir + \"/read_med\"\n",
    "mofem_part = tools_dir + \"/mofem_part\"\n",
    "\n",
    "# create datasets\n",
    "create_csv_dataset = dd_dir + \"/create_csv_dataset\"\n",
    "\n",
    "# classic diffusion\n",
    "classic_diffusion = dd_dir + \"/classic_diffusion\"\n",
    "hdiv_diffusion = dd_dir + \"/hdiv_diffusion\"\n",
    "\n",
    "# data driven diffusion\n",
    "data_driven_diffusion = dd_dir + \"/data_driven_diffusion\"\n",
    "data_driven_diffusion_snes = dd_dir + \"/data_driven_diffusion_snes\"\n",
    "hdiv_data_driven_diffusion = dd_dir + \"/hdiv_data_driven_diffusion\"\n",
    "hdiv_data_driven_diffusion_snes = dd_dir + \"/hdiv_data_driven_diffusion_snes\"\n",
    "\n",
    "# nonlinear diffusion\n",
    "diffusion_nonlinear_graphite = dd_dir + \"/diffusion_nonlinear_graphite\"\n",
    "diffusion_nonlinear_hdiv_graphite = dd_dir + \"/diffusion_nonlinear_hdiv_graphite\"\n",
    "diffusion_nonlinear_snes = dd_dir + \"/diffusion_nonlinear_snes\""
   ]
  },
  {
   "cell_type": "code",
   "execution_count": null,
   "metadata": {},
   "outputs": [],
   "source": [
    "class AttrDict(dict):\n",
    "    def __getattr__(self, attr):\n",
    "        if attr in self:\n",
    "            return self[attr]\n",
    "        raise AttributeError(f\"'AttrDict' object has no attribute '{attr}'\")\n",
    "    \n",
    "params = AttrDict() # Attribute dictionary for storing the parameters"
   ]
  },
  {
   "cell_type": "code",
   "execution_count": null,
   "metadata": {},
   "outputs": [],
   "source": [
    "def show_results(params):\n",
    "    out_to_vtk = !ls -c1 {params.show_file}*vtk\n",
    "    last_file=out_to_vtk[0]\n",
    "\n",
    "    mesh = pv.read(last_file[:-3] + \"vtk\")\n",
    "    if params.warp_field:\n",
    "        mesh = mesh.warp_by_vector(vectors=params.warp_field, factor=params.warp_factor)\n",
    "\n",
    "    if params.show_edges:\n",
    "        mesh=mesh.shrink(0.95)\n",
    "    \n",
    "    jupyter_backend='ipygany'\n",
    "    cmap = \"turbo\"\n",
    "\n",
    "    p = pv.Plotter(notebook=True)\n",
    "    p.add_mesh(mesh, scalars=params.show_field, component=None, smooth_shading=True, cmap=cmap)\n",
    "    p.camera_position = \"xy\"\n",
    "    \n",
    "    p.enable_parallel_projection()\n",
    "    p.enable_image_style()\n",
    "    \n",
    "    p.show(jupyter_backend=jupyter_backend)\n",
    "\n",
    "params.warp_field = \"\"    # no warp field\n",
    "params.warp_factor = 1.0  # warp factor\n",
    "params.show_edges = True # show edges"
   ]
  }
 ],
 "metadata": {
  "jupytext": {
   "formats": "ipynb,md"
  },
  "kernelspec": {
   "display_name": "Python 3 (ipykernel)",
   "language": "python",
   "name": "python3"
  },
  "language_info": {
   "codemirror_mode": {
    "name": "ipython",
    "version": 3
   },
   "file_extension": ".py",
   "mimetype": "text/x-python",
   "name": "python",
   "nbconvert_exporter": "python",
   "pygments_lexer": "ipython3",
   "version": "3.11.6"
  }
 },
 "nbformat": 4,
 "nbformat_minor": 2
}
