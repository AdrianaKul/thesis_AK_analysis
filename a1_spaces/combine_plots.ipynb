{
 "cells": [
  {
   "cell_type": "code",
   "execution_count": null,
   "metadata": {},
   "outputs": [],
   "source": [
    "# import settings and functions\n",
    "%run ./../imports.ipynb"
   ]
  },
  {
   "cell_type": "code",
   "execution_count": null,
   "metadata": {},
   "outputs": [],
   "source": [
    "base = 'demkowicz'\n",
    "space = 'hcurl'\n",
    "hdiv_transform = True\n",
    "# hdiv_transform = False\n",
    "\n",
    "# base = 'demkowicz'\n",
    "# space = 'hdiv'\n",
    "\n",
    "# base = 'ainsworth'\n",
    "# space = 'h1'\n",
    "\n",
    "# base = 'ainsworth'\n",
    "# space = 'l2'"
   ]
  },
  {
   "cell_type": "code",
   "execution_count": null,
   "metadata": {},
   "outputs": [],
   "source": [
    "import matplotlib.pyplot as plt\n",
    "import matplotlib.image as mpimg\n",
    "\n",
    "import os\n",
    "import subprocess\n",
    "\n",
    "def get_space_from_name(name):\n",
    "    if 'hcurl' in name:\n",
    "        return 'hcurl'\n",
    "    elif '_transformed_' in name:\n",
    "        return 'hdiv'\n",
    "    elif 'hdiv' in name:\n",
    "        return 'hdiv'\n",
    "    elif \"h1\" in name:\n",
    "        return 'h1'\n",
    "    elif \"l2\" in name:\n",
    "        return 'l2'\n",
    "    else:\n",
    "        return 'unknown'\n",
    "\n",
    "def arrange_images(image_paths, images_per_row):\n",
    "    fig, axs = plt.subplots(len(images_per_row), max(images_per_row), figsize=(max(images_per_row),len(images_per_row)))\n",
    "\n",
    "    image_index = 0\n",
    "    for row_index, row in enumerate(axs):\n",
    "        for col_index in range(images_per_row[row_index]):\n",
    "            pdf_path = image_paths[image_index]\n",
    "            # png_path = convert_pdf_to_png(pdf_path)\n",
    "            img = mpimg.imread(pdf_path)\n",
    "            row[col_index].imshow(img)\n",
    "            row[col_index].axis('off')\n",
    "            image_index += 1\n",
    "\n",
    "        # Turn off axes for extra subplots\n",
    "        for extra_col_index in range(images_per_row[row_index], len(row)):\n",
    "            row[extra_col_index].axis('off')\n",
    "    plt.subplots_adjust(wspace=0, hspace=0)\n",
    "    plt.tight_layout()\n",
    "    filename = \"combined_\"+get_space_from_name(pdf_path)\n",
    "    plt.savefig(f'{filename}.pdf')\n",
    "    plt.savefig(f'{filename}.png', dpi = 1000)\n",
    "    plt.show()"
   ]
  },
  {
   "cell_type": "code",
   "execution_count": null,
   "metadata": {},
   "outputs": [],
   "source": [
    "if space == 'hcurl':\n",
    "    params.p_save = \"shape_\"+ space + \"_\" \n",
    "    if hdiv_transform:\n",
    "        params.p_save = \"shape_hdiv_\"\n",
    "elif space == 'hdiv':\n",
    "    params.p_save = \"shape_\"+ space + \"_\" \n",
    "else: \n",
    "    params.p_save = \"shape_\"+ space + \"_\" \n",
    "\n",
    "print(params.p_save)"
   ]
  },
  {
   "cell_type": "code",
   "execution_count": null,
   "metadata": {},
   "outputs": [],
   "source": [
    "import glob\n",
    "\n",
    "import re\n",
    "\n",
    "def sort_key(filename):\n",
    "    number = re.search(r'_(\\d+)', filename)\n",
    "    return int(number.group(1)) if number else 0\n",
    "\n",
    "image_paths = sorted(glob.glob(params.p_save + \"*.png\"), key=sort_key)\n",
    "\n",
    "# Get a list of all PDF files that start with the specified prefix\n",
    "# image_paths = sorted(glob.glob(params.p_save + \"*.png\"))\n",
    "\n",
    "print(image_paths)"
   ]
  },
  {
   "cell_type": "code",
   "execution_count": null,
   "metadata": {},
   "outputs": [],
   "source": [
    "if space == 'hcurl':\n",
    "    images_per_row = [3, 5, 7]  # Modify this list as needed\n",
    "    # rearranging array of 15 entries\n",
    "    temp_parths = [image_paths[0], image_paths[3], image_paths[6], \n",
    "                   image_paths[1], image_paths[4], image_paths[7], image_paths[9], image_paths[10],\n",
    "                     image_paths[2], image_paths[5], image_paths[8], image_paths[11], image_paths[12], image_paths[13], image_paths[14]]\n",
    "    image_paths = temp_parths\n",
    "    print(image_paths)\n",
    "elif space == 'l2':\n",
    "    images_per_row = [1, 2, 3, 4]  # Modify this list as needed\n",
    "elif space == 'h1':\n",
    "    temp_path = image_paths[4]\n",
    "    image_paths[4] = image_paths[7]\n",
    "    image_paths[7] = temp_path\n",
    "    images_per_row = [3, 3, 3]\n",
    "# images_per_row = [3, 5, 7]  # Modify this list as needed\n",
    "arrange_images(image_paths, images_per_row)"
   ]
  },
  {
   "cell_type": "code",
   "execution_count": null,
   "metadata": {},
   "outputs": [],
   "source": [
    "# from pdf2image import convert_from_path\n",
    "\n",
    "# def arrange_images(image_paths, images_per_row):\n",
    "#     fig, axs = plt.subplots(len(images_per_row), max(images_per_row), figsize=(20, 20))\n",
    "\n",
    "#     image_index = 0\n",
    "#     for row_index, row in enumerate(axs):\n",
    "#         for col_index in range(images_per_row[row_index]):\n",
    "#             pdf_path = image_paths[image_index]\n",
    "#             images = convert_from_path(pdf_path)\n",
    "#             row[col_index].imshow(images[0])\n",
    "#             row[col_index].axis('off')\n",
    "#             image_index += 1\n",
    "\n",
    "#         # Turn off axes for extra subplots\n",
    "#         for extra_col_index in range(images_per_row[row_index], len(row)):\n",
    "#             row[extra_col_index].axis('off')\n",
    "\n",
    "#     plt.tight_layout()\n",
    "#     plt.show()\n",
    "\n",
    "# "
   ]
  },
  {
   "cell_type": "code",
   "execution_count": null,
   "metadata": {},
   "outputs": [],
   "source": []
  }
 ],
 "metadata": {
  "kernelspec": {
   "display_name": "Python 3",
   "language": "python",
   "name": "python3"
  },
  "language_info": {
   "codemirror_mode": {
    "name": "ipython",
    "version": 3
   },
   "file_extension": ".py",
   "mimetype": "text/x-python",
   "name": "python",
   "nbconvert_exporter": "python",
   "pygments_lexer": "ipython3",
   "version": "3.11.6"
  }
 },
 "nbformat": 4,
 "nbformat_minor": 2
}
