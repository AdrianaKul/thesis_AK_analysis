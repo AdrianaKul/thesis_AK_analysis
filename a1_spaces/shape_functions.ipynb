{
 "cells": [
  {
   "cell_type": "code",
   "execution_count": null,
   "metadata": {},
   "outputs": [],
   "source": [
    "# import settings and functions\n",
    "%run ./../imports.ipynb"
   ]
  },
  {
   "cell_type": "code",
   "execution_count": null,
   "metadata": {},
   "outputs": [],
   "source": [
    "plot_base_2d = um_view + \"/tutorials/fun-2/plot_base_2d\"\n"
   ]
  },
  {
   "cell_type": "markdown",
   "metadata": {},
   "source": [
    "Options\n",
    "=======\n",
    "\n",
    "[-load_file] if provided mesh is load from file\n",
    "\n",
    "[-file_name] mesh name\n",
    "\n",
    "[-base ainsworth, ainsworth_labatto, demkowicz, bernstein]\n",
    "\n",
    "[-space h1, l2, hcurl, hdiv]\n",
    "\n",
    "[-oder o] where is approximation order"
   ]
  },
  {
   "cell_type": "code",
   "execution_count": null,
   "metadata": {},
   "outputs": [],
   "source": [
    "base = 'demkowicz'\n",
    "space = 'hcurl'\n",
    "\n",
    "base = 'ainsworth'\n",
    "space = 'h1'\n",
    "\n",
    "base = 'ainsworth'\n",
    "space = 'l2'\n",
    "\n",
    "order = 3"
   ]
  },
  {
   "cell_type": "code",
   "execution_count": null,
   "metadata": {},
   "outputs": [],
   "source": [
    "!rm out_*\n",
    "!{plot_base_2d} \\\n",
    "-base {base} \\\n",
    "-space {space} \\\n",
    "-order {order} \\\n",
    "-log_sl verbose  "
   ]
  },
  {
   "cell_type": "code",
   "execution_count": null,
   "metadata": {},
   "outputs": [],
   "source": [
    "!convert.py out*"
   ]
  },
  {
   "cell_type": "code",
   "execution_count": null,
   "metadata": {},
   "outputs": [],
   "source": [
    "vtks = !ls out*vtk\n",
    "print(vtks)"
   ]
  },
  {
   "cell_type": "code",
   "execution_count": null,
   "metadata": {},
   "outputs": [],
   "source": [
    "# start display for showing results\n",
    "display = Display(backend=\"xvfb\", visible=False, size=(1024, 768))\n",
    "display.start()"
   ]
  },
  {
   "cell_type": "code",
   "execution_count": null,
   "metadata": {},
   "outputs": [],
   "source": [
    "def show_glyphs(params):\n",
    "    out_to_vtk = !ls -c1 {params.show_file}*vtk\n",
    "    last_file=out_to_vtk[0]\n",
    "\n",
    "    p = pv.Plotter(notebook=True)\n",
    "\n",
    "    mesh = pv.read(last_file[:-3] + \"vtk\")\n",
    "\n",
    "    # Subsample the mesh\n",
    "    # mesh = mesh.extract_points(every_n=10)  # Keep every 10th point\n",
    "\n",
    "    # Add glyphs\n",
    "    N = 10  # Change this to the desired value\n",
    "    arrows = mesh.glyph(orient=params.show_field, scale=params.show_field, factor=0.3, tolerance=0.02)\n",
    "    print(arrows.array_names)\n",
    "    p.add_mesh(arrows, cmap=params.p_cmap, clim=params.clim, show_scalar_bar=params.show_scalar_bar)\n",
    "\n",
    "    if params.show_edges:\n",
    "        mesh=mesh.shrink(0.95)\n",
    "\n",
    "    jupyter_backend='ipygany'\n",
    "\n",
    "    p.add_mesh(mesh, show_scalar_bar=False, opacity=0.2, color='gray', smooth_shading=True)\n",
    "\n",
    "    p.camera_position = params.camera_position\n",
    "\n",
    "    p.enable_parallel_projection()\n",
    "    p.enable_image_style()\n",
    "\n",
    "    p.show(jupyter_backend=jupyter_backend)\n",
    "    if params.p_save:\n",
    "        p.save_graphic(params.p_save)\n",
    "\n",
    "params.clim = [0,1]\n",
    "params.p_cmap = \"rainbow\"\n",
    "params.show_field = \"U\"\n",
    "params.show_file = vtks[3][:-3]\n",
    "params.show_scalar_bar = False\n",
    "params.show_edges = False\n",
    "# show_glyphs(params)"
   ]
  },
  {
   "cell_type": "code",
   "execution_count": null,
   "metadata": {},
   "outputs": [],
   "source": [
    "for i in range(0, len(vtks)):\n",
    "    params.show_file = vtks[i][:-3]\n",
    "    params.p_save = \"shape_\"+ str(i) +\".pdf\"\n",
    "    print(space)\n",
    "    if space == 'hcurl':\n",
    "        params.p_save = \"shape_\"+ space + \"_\" + str(i) +\".pdf\"\n",
    "        show_glyphs(params)\n",
    "    else: \n",
    "        params.show_field = \"U\"\n",
    "        params.warp_field_scalar = \"U\" \n",
    "        params.component = 1\n",
    "        # params.p_cmap = \"PiYG\"\n",
    "        params.camera_position =  [\n",
    "            (-2, -2, 3),\n",
    "            (0.35, 0.35, 0),\n",
    "            (0.25, 0.25, 1),\n",
    "        ]\n",
    "\n",
    "        zoom_factor = 0.4  # Adjust this value to your needs\n",
    "\n",
    "        camera_position = params.camera_position\n",
    "\n",
    "        # Calculate the new camera position\n",
    "        new_camera_position = [\n",
    "            camera_position[0][0] + (camera_position[1][0] - camera_position[0][0]) * zoom_factor,\n",
    "            camera_position[0][1] + (camera_position[1][1] - camera_position[0][1]) * zoom_factor,\n",
    "            camera_position[0][2] + (camera_position[1][2] - camera_position[0][2]) * zoom_factor,\n",
    "        ]\n",
    "\n",
    "        params.camera_position = [new_camera_position, camera_position[1], camera_position[2]]\n",
    "\n",
    "        params.clim = [-1, 1]\n",
    "        params.warp_factor = 0.5\n",
    "        params.p_save = \"shape_\"+ space + \"_\" + str(i) +\".pdf\"\n",
    "        show_results(params)"
   ]
  },
  {
   "cell_type": "code",
   "execution_count": null,
   "metadata": {},
   "outputs": [],
   "source": []
  },
  {
   "cell_type": "code",
   "execution_count": null,
   "metadata": {},
   "outputs": [],
   "source": []
  }
 ],
 "metadata": {
  "kernelspec": {
   "display_name": "Python 3",
   "language": "python",
   "name": "python3"
  },
  "language_info": {
   "codemirror_mode": {
    "name": "ipython",
    "version": 3
   },
   "file_extension": ".py",
   "mimetype": "text/x-python",
   "name": "python",
   "nbconvert_exporter": "python",
   "pygments_lexer": "ipython3",
   "version": "3.11.6"
  }
 },
 "nbformat": 4,
 "nbformat_minor": 2
}
