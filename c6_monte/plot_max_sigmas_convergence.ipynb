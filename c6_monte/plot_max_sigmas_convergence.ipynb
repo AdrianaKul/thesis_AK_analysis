{
 "cells": [
  {
   "cell_type": "code",
   "execution_count": null,
   "metadata": {},
   "outputs": [],
   "source": [
    "# import settings and functions\n",
    "%run ./../imports.ipynb"
   ]
  },
  {
   "cell_type": "code",
   "execution_count": null,
   "metadata": {},
   "outputs": [],
   "source": [
    "import os\n",
    "# get names of all folders in this directory\n",
    "folders = [f for f in os.listdir('.') if os.path.isdir(f)]\n",
    "\n",
    "print(folders)\n",
    "# remove '.ipynb_checkpoints' from the list\n",
    "folders = [f for f in folders if f != '.ipynb_checkpoints']\n",
    "\n",
    "# remove forlder where all boundary is constrained\n",
    "folders = [f for f in folders if f != 'L_monte_all_T']\n",
    "\n",
    "print(folders)\n",
    "\n",
    "ana_names = folders\n",
    "print(ana_names)\n",
    "\n",
    "# rename ana_names entries\n",
    "# if L_monte_hdiv -> weaker DD\n",
    "# if L_monte_hdiv_ref weaker DD + ref\n",
    "# if L_monte -> stronger DD\n",
    "\n",
    "ana_names = ['weaker DD + ref' if 'L_monte_hdiv_ref' in name else name for name in ana_names]\n",
    "ana_names = ['weaker DD' if 'L_monte_hdiv' in name else name for name in ana_names]\n",
    "ana_names = ['stronger DD' if 'L_monte' in name else name for name in ana_names]\n",
    "\n",
    "print(ana_names)\n",
    "\n"
   ]
  },
  {
   "cell_type": "code",
   "execution_count": null,
   "metadata": {},
   "outputs": [],
   "source": [
    "naming_std = [\"T\", \"g_x\", \"g_y\", \"q_x\", \"q_y\"]\n",
    "\n",
    "noise_list = [0.0, 0.01, 0.02, 0.05, 0.1]\n",
    "\n",
    "noise_choise = 2\n",
    "\n",
    "# csv_fine_name = \"standard_deviation_max.csv\"\n",
    "csv_fine_name = str(noise_list[noise_choise]*100) + \"_standard_deviation_max.csv\"\n",
    "# print which files are being read\n",
    "print(\"Reading files: \" + csv_fine_name)\n",
    "\n",
    "\n",
    "# read the data from sumanalys_monte_sigma.csv file with naming defined by naming_std from all folders\n",
    "data_std = []\n",
    "for folder in folders:\n",
    "    data_std.append(pd.read_csv(folder + \"/\"+str(csv_fine_name),  index_col=False, skiprows=0))\n",
    "\n",
    "# print(data_std[0])\n",
    "\n",
    "# get headers\n",
    "headers = data_std[0].columns.values\n",
    "print(headers)\n",
    "\n",
    "y_labels = [r\"$\\sigma_T^{max}$\", r\"$\\sigma_{g_x}^{max}$\", r\"$\\sigma_{g_y}^{max}$\", r\"$\\sigma_{q_x}^{max}$\", r\"$\\sigma_{q_y}^{max}$\"]\n",
    "print(y_labels)\n",
    "\n",
    "# # read the data from sumanalys_monte_sigma.csv file with naming defined by naming_std\n",
    "# data_std = pd.read_csv(\"sumanalys_monte_sigma.csv\", names=naming_std, index_col=False, skiprows=0)\n",
    "# print(data_std)"
   ]
  },
  {
   "cell_type": "code",
   "execution_count": null,
   "metadata": {},
   "outputs": [],
   "source": [
    "# plot the data for each folder in one figure \n",
    "# label is the name of the folder\n",
    "# difference markers and line styles for each line\n",
    "markers = ['o', 's', 'x', '^', 'v', '<', '>', 'p', 'P', '*', 'h', 'H', '+', 'x', 'X', '|', '_']\n",
    "line_styles = ['-', '--', '-.', ':']\n",
    "\n",
    "plt.figure()\n",
    "for i in range(len(folders)):\n",
    "    plt.plot(data_std[i][headers[0]], label=ana_names[i], marker=\"\", linestyle=line_styles[i])\n",
    "plt.legend(loc='best')\n",
    "plt.grid(True, ls=':')\n",
    "# log\n",
    "# plt.yscale('log')\n",
    "plt.xlabel(r'\\# of Monte Carlo Steps')\n",
    "plt.ylabel(r'Max $\\sigma$ of Temperature $T$')\n",
    "# plt.ylabel(y_labels[0])\n",
    "plt.tight_layout()\n",
    "# plt.savefig('c6_monte_max_sigma_T.pdf')\n",
    "plt.savefig('c6_monte_max_sigma_T_convergence_'+str(int(noise_list[noise_choise]*100))+'_.pdf')\n",
    "plt.show()\n"
   ]
  },
  {
   "cell_type": "code",
   "execution_count": null,
   "metadata": {},
   "outputs": [],
   "source": [
    "# same for q_x\n",
    "plt.figure()\n",
    "q_list = ['q_x', 'q_y']\n",
    "q_names = [r'$q_x$', r'$q_y$']\n",
    "colors = plt.rcParams['axes.prop_cycle'].by_key()['color']\n",
    "for j in range(2):\n",
    "    for i in range(len(folders)):\n",
    "        plt.plot(data_std[i][headers[j+3]], label=q_names[j]+\"; \"+ana_names[i], marker=\"\", linestyle=line_styles[j], color=colors[i])\n",
    "plt.legend(loc='best', prop={'size': 0.75*plt.rcParams['legend.fontsize']}, ncol=1)\n",
    "plt.grid(True, ls=':')\n",
    "# log\n",
    "# plt.yscale('log')\n",
    "plt.xlabel(r'\\# of Monte Carlo Steps')\n",
    "plt.ylabel(r'Max $\\sigma$ of flux $\\mathbf q$')\n",
    "# plt.ylabel(y_labels[3])\n",
    "plt.tight_layout()\n",
    "plt.savefig('c6_monte_max_sigma_q_convergence_'+str(int(noise_list[noise_choise]*100))+'_.pdf')\n",
    "plt.show()\n",
    "\n"
   ]
  },
  {
   "cell_type": "code",
   "execution_count": null,
   "metadata": {},
   "outputs": [],
   "source": [
    "# same for g\n",
    "plt.figure()\n",
    "g_list = ['g_x', 'g_y']\n",
    "g_names = [r'$g_x$', r'$g_y$']\n",
    "colors = plt.rcParams['axes.prop_cycle'].by_key()['color']\n",
    "for j in range(2):\n",
    "    for i in range(len(folders)):\n",
    "        plt.plot(data_std[i][headers[j+1]], label=g_names[j]+\"; \"+ana_names[i], marker=\"\", linestyle=line_styles[j], color=colors[i])\n",
    "plt.legend(loc='best', prop={'size': 0.75*plt.rcParams['legend.fontsize']}, ncol=1)\n",
    "plt.grid(True, ls=':')\n",
    "# log\n",
    "# plt.yscale('log')\n",
    "plt.xlabel(r'\\# of Monte Carlo Steps')\n",
    "plt.ylabel(r'Max $\\sigma$ of gradient $\\mathbf g$')\n",
    "# plt.ylabel(y_labels[1])\n",
    "plt.tight_layout()\n",
    "plt.savefig('c6_monte_max_sigma_g_convergence_'+str(int(noise_list[noise_choise]*100))+'_.pdf')\n",
    "plt.show()\n"
   ]
  },
  {
   "cell_type": "code",
   "execution_count": 17,
   "metadata": {},
   "outputs": [],
   "source": [
    "# # same for q_x\n",
    "# plt.figure()\n",
    "# for i in range(len(folders)):\n",
    "#     plt.plot(noise_list, data_std[i]['q_x'], label=ana_names[i], marker=markers[i], linestyle=line_styles[i])\n",
    "# plt.legend(loc='best')\n",
    "# plt.grid(True, ls=':')\n",
    "# plt.xlabel(r'$\\sigma$ of noise')\n",
    "# plt.ylabel(r'Max $\\sigma$ of q_x')\n",
    "# plt.tight_layout()\n",
    "# plt.savefig('c6_monte_max_sigma_q_x.pdf')\n",
    "# plt.show()"
   ]
  },
  {
   "cell_type": "code",
   "execution_count": 18,
   "metadata": {},
   "outputs": [],
   "source": [
    "# # q_y\n",
    "# plt.figure()\n",
    "# for i in range(len(folders)):\n",
    "#     plt.plot(noise_list, data_std[i]['q_y'], label=folders[i], marker=markers[i], linestyle=line_styles[i])\n",
    "# plt.legend(loc='best')\n",
    "# plt.grid(True, ls=':')\n",
    "# plt.xlabel(r'$\\sigma$ of noise')\n",
    "# plt.ylabel(r'Max $\\sigma$ of q_y')\n",
    "# plt.tight_layout()\n",
    "# plt.savefig('c6_monte_max_sigma_q_y.pdf')\n",
    "# plt.show()\n"
   ]
  },
  {
   "cell_type": "code",
   "execution_count": 19,
   "metadata": {},
   "outputs": [],
   "source": [
    "# # g_x\n",
    "# plt.figure()\n",
    "# for i in range(len(folders)):\n",
    "#     plt.plot(noise_list, data_std[i]['g_x'], label=folders[i], marker=markers[i], linestyle=line_styles[i])\n",
    "# plt.legend(loc='best')\n",
    "# plt.grid(True, ls=':')\n",
    "# plt.xlabel(r'$\\sigma$ of noise')\n",
    "# plt.ylabel(r'Max $\\sigma$ of g_x')\n",
    "# plt.tight_layout()\n",
    "# plt.savefig('c6_monte_max_sigma_g_x.pdf')\n",
    "# plt.show()"
   ]
  },
  {
   "cell_type": "code",
   "execution_count": 20,
   "metadata": {},
   "outputs": [],
   "source": [
    "# # g_y\n",
    "# plt.figure()\n",
    "# for i in range(len(folders)):\n",
    "#     plt.plot(noise_list, data_std[i]['g_y'], label=folders[i], marker=markers[i], linestyle=line_styles[i])\n",
    "# plt.legend(loc='best')\n",
    "# plt.grid(True, ls=':')\n",
    "# plt.xlabel(r'$\\sigma$ of noise')\n",
    "# plt.ylabel(r'Max $\\sigma$ of g_y')\n",
    "# plt.tight_layout()\n",
    "# plt.savefig('c6_monte_max_sigma_g_y.pdf')\n",
    "# plt.show()"
   ]
  },
  {
   "cell_type": "code",
   "execution_count": null,
   "metadata": {},
   "outputs": [],
   "source": []
  },
  {
   "cell_type": "code",
   "execution_count": null,
   "metadata": {},
   "outputs": [],
   "source": []
  }
 ],
 "metadata": {
  "kernelspec": {
   "display_name": "Python 3",
   "language": "python",
   "name": "python3"
  },
  "language_info": {
   "codemirror_mode": {
    "name": "ipython",
    "version": 3
   },
   "file_extension": ".py",
   "mimetype": "text/x-python",
   "name": "python",
   "nbconvert_exporter": "python",
   "pygments_lexer": "ipython3",
   "version": "3.11.6"
  }
 },
 "nbformat": 4,
 "nbformat_minor": 2
}
