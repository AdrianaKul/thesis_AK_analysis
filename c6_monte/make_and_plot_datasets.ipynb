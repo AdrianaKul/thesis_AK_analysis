{
 "cells": [
  {
   "cell_type": "code",
   "execution_count": null,
   "metadata": {},
   "outputs": [],
   "source": [
    "# import settings and functions\n",
    "%run ./../imports.ipynb"
   ]
  },
  {
   "cell_type": "code",
   "execution_count": null,
   "metadata": {},
   "outputs": [],
   "source": [
    "noise_list = [0.0, 0.01, 0.02, 0.05, 0.1]\n",
    "core_name = \"dummy_\"\n",
    "dataset_name_list = [core_name+str(int(noise*100)) for noise in noise_list]\n",
    "\n",
    "print(dataset_name_list)"
   ]
  },
  {
   "cell_type": "code",
   "execution_count": null,
   "metadata": {},
   "outputs": [],
   "source": [
    "# recreate dataset\n",
    "recreate_dataset = True\n",
    "\n",
    "dummy_count = 1e6\n",
    "\n",
    "if recreate_dataset:\n",
    "\n",
    "    for i in range(len(noise_list)):\n",
    "\n",
    "        !{create_csv_dataset} -output_file {dataset_name_list[i]}.csv -my_dummy_noise_q 0 -my_dummy_noise_k {noise_list[i]} -my_dummy_k 1 -my_dummy_range_dp 9.0 -my_dummy_count {int(dummy_count)}\n",
    "\n",
    "    scal = np.genfromtxt('./scaling.in')\n",
    "    print(scal)\n",
    "\n",
    "\n",
    "# data = pd.read_csv(csv_name+\".csv\", index_col=False)\n",
    "# headers = []\n",
    "# headers = data.columns.values\n",
    "# print(headers)"
   ]
  },
  {
   "cell_type": "code",
   "execution_count": null,
   "metadata": {},
   "outputs": [],
   "source": [
    "for i in range(len(noise_list)):\n",
    "\n",
    "    # read the data from dummy_tree.csv file with naming defined by headers\n",
    "    data = pd.read_csv(dataset_name_list[i]+\".csv\", index_col=False)\n",
    "\n",
    "    # keep only every 10th row\n",
    "    data = data[::10]\n",
    "\n",
    "    headers = data.columns.values\n",
    "    print(headers)\n",
    "\n",
    "    # print(data)\n",
    "\n",
    "    # plot row 0 vs row 2\n",
    "    plt.figure(figsize=(4.5,4.5))\n",
    "    # size of the points is 1\n",
    "    plt.scatter(data[headers[0]], data[headers[2]], s=1)\n",
    "    plt.xlabel(label_gradient_g_x)\n",
    "    plt.ylabel(label_flux_x)\n",
    "    plt.grid(True, ls=':')\n",
    "    plt.tight_layout()\n",
    "    plt.savefig(\"c6_L_dataset_\"+str(int(noise_list[i]*100))+\".png\", dpi=300)\n",
    "    plt.show()\n",
    "\n",
    "    # # plot row 1 vs row 3\n",
    "    # plt.figure()\n",
    "    # plt.scatter(data[headers[1]], data[headers[3]], s=1)\n",
    "    # plt.xlabel(headers[1])\n",
    "    # plt.ylabel(headers[3])\n",
    "    # plt.grid(True, ls=':')\n",
    "    # plt.show()"
   ]
  },
  {
   "cell_type": "code",
   "execution_count": null,
   "metadata": {},
   "outputs": [],
   "source": []
  }
 ],
 "metadata": {
  "kernelspec": {
   "display_name": "Python 3",
   "language": "python",
   "name": "python3"
  },
  "language_info": {
   "codemirror_mode": {
    "name": "ipython",
    "version": 3
   },
   "file_extension": ".py",
   "mimetype": "text/x-python",
   "name": "python",
   "nbconvert_exporter": "python",
   "pygments_lexer": "ipython3",
   "version": "3.11.6"
  }
 },
 "nbformat": 4,
 "nbformat_minor": 2
}
