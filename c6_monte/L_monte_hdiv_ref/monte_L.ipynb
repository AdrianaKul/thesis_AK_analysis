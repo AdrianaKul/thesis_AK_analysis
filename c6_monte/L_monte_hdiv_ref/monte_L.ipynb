{
 "cells": [
  {
   "cell_type": "code",
   "execution_count": null,
   "metadata": {
    "ExecuteTime": {
     "end_time": "2024-08-30T20:03:58.125593Z",
     "start_time": "2024-08-30T20:03:56.824211Z"
    },
    "execution": {
     "iopub.execute_input": "2024-09-10T15:13:26.037535Z",
     "iopub.status.busy": "2024-09-10T15:13:26.037086Z",
     "iopub.status.idle": "2024-09-10T15:13:27.676447Z",
     "shell.execute_reply": "2024-09-10T15:13:27.675534Z"
    }
   },
   "outputs": [],
   "source": [
    "# import settings and functions\n",
    "%run ./../../imports.ipynb\n",
    "\n",
    "%run ./../L_monte_settings.ipynb"
   ]
  },
  {
   "cell_type": "markdown",
   "metadata": {},
   "source": [
    "## What mesh?\n",
    "\n",
    "Copy your choice to the next cell\n",
    "\n",
    "for SquareTop:\n",
    "```\n",
    "analytical_solution_tag = \"-ana_square_top\"\n",
    "generate_config = generateConfig_squareTop\n",
    "generate_mesh = generateMesh_squareTop\n",
    "```\n",
    "\n",
    "for SquareSinCos:\n",
    "```\n",
    "analytical_solution_tag = \"-ana_square_sincos\"\n",
    "generate_config = generateConfig_squareSinCos\n",
    "generate_mesh = generateMesh_squareSinCos\n",
    "```"
   ]
  },
  {
   "cell_type": "code",
   "execution_count": null,
   "metadata": {
    "ExecuteTime": {
     "end_time": "2024-08-30T20:03:58.129441Z",
     "start_time": "2024-08-30T20:03:58.127233Z"
    },
    "execution": {
     "iopub.execute_input": "2024-09-10T15:13:27.720033Z",
     "iopub.status.busy": "2024-09-10T15:13:27.719818Z",
     "iopub.status.idle": "2024-09-10T15:13:27.723147Z",
     "shell.execute_reply": "2024-09-10T15:13:27.722545Z"
    }
   },
   "outputs": [],
   "source": [
    "# # Change according to instruction above\n",
    "# analytical_solution_tag = \"-ana_mexi_hat\"\n",
    "# generate_config = generateConfig_squareMexiHat\n",
    "# generate_mesh = generateMesh_squareMexiHat\n",
    "\n",
    "# analytical_solution_tag = \"-ana_square_top\"\n",
    "# generate_config = generateConfig_squareTop\n",
    "# generate_mesh = generateMesh_squareTop\n",
    "\n",
    "# analytical_solution_tag = \"-ana_square_sincos\"\n",
    "# generate_config = generateConfig_squareSinCos\n",
    "# generate_mesh = generateMesh_squareSinCos\n",
    "\n",
    "analytical_solution_tag = \"-ana_L_shape\"\n",
    "generate_config = generateConfig_Lshape\n",
    "generate_mesh = generateMesh_Lshape"
   ]
  },
  {
   "cell_type": "markdown",
   "metadata": {},
   "source": [
    "## Analysis setup"
   ]
  },
  {
   "cell_type": "code",
   "execution_count": null,
   "metadata": {
    "ExecuteTime": {
     "end_time": "2024-08-30T20:03:58.142865Z",
     "start_time": "2024-08-30T20:03:58.130480Z"
    },
    "execution": {
     "iopub.execute_input": "2024-09-10T15:13:27.725654Z",
     "iopub.status.busy": "2024-09-10T15:13:27.725118Z",
     "iopub.status.idle": "2024-09-10T15:13:27.729710Z",
     "shell.execute_reply": "2024-09-10T15:13:27.729091Z"
    }
   },
   "outputs": [],
   "source": [
    "prefix = \"c6_L_DD_Hdiv_ref_\"\n",
    "\n",
    "# which executable?\n",
    "\n",
    "exe = hdiv_data_driven_diffusion_snes\n",
    "sumanalys = \"sumanalys.csv\"\n",
    "ana_name = \"ana_square_mexi_mixed_order\"\n",
    "\n",
    "# ana_compare_exe = [data_driven_diffusion_snes, classic_diffusion]\n",
    "# ana_compare_name = [\"ana_square_mexi_dd\", \"ana_square_mexi_classic\"]\n",
    "# # ana_compare_name = [\"ana_square_mexi_mixed\"]\n",
    "# ana_compare_sum = [\"sumanalys.csv\", \"sumanalys.csv\", \"FEM_errors.csv\", \"sumanalys.csv\"]\n",
    "\n",
    "# Convergence analysis parameters\n",
    "order_list = [1, 2, 3] # approximation order p\n",
    "elem_size_list = [0.08, 0.04, 0.02] # element size h\n",
    "# elem_size_list = [0.1, 0.05, 0.025] # element size h\n",
    "# order_list = [2, 3] # approximation order p\n",
    "# elem_size_list = [1./3., 1./7., 1./13.] # element size h\n",
    "params.triangle_mesh = True\n",
    "params.nproc = 1 # number of processors\n",
    "jumps = \"\"\n",
    "if params.nproc == 1:\n",
    "    jumps = \"-get_jumps\"\n",
    "# jumps = \"-get_jumps\"\n",
    "\n",
    "run_test = True\n",
    "run_analysis = True\n",
    "\n",
    "# params.triangle_mesh = False\n",
    "\n",
    "run_test = False\n",
    "run_analysis = False\n",
    "\n",
    "# naming = [\"order\", \"gaussnum\", \"iterations\",\"volume\", \"datanum\",\"rmsPoiErr\", \"errorEstimator\",\n",
    "#           \"L2norm\", \"H1seminorm\",\"fluxErr\", \"orderRefinementCounter\", \"errorIndicatorGrad\", \"errorIndicatorDiv\", \"jumpL2\", \"jumpHdiv\", \"eleNum\"]\n",
    "naming = [\"order\", \"gaussnum\", \"iterations\",\"volume\", \"datanum\",\"rmsPoiErr\", \"errorEstimator\",\n",
    "          \"L2norm\", \"H1seminorm\",\"fluxErr\", \"orderRefinementCounter\"]\n",
    "\n",
    "error_name_list = [\"L2norm\", \"H1seminorm\", \"fluxErr\"]\n",
    "error_label_list = [(r'Global error $L^2$-norm'),\n",
    "               (r'Global error $H^1$-seminorm'), (r'Global Flux error')]"
   ]
  },
  {
   "cell_type": "code",
   "execution_count": null,
   "metadata": {
    "ExecuteTime": {
     "end_time": "2024-08-30T20:03:58.157549Z",
     "start_time": "2024-08-30T20:03:58.144213Z"
    },
    "execution": {
     "iopub.execute_input": "2024-09-10T15:13:27.731779Z",
     "iopub.status.busy": "2024-09-10T15:13:27.731380Z",
     "iopub.status.idle": "2024-09-10T15:13:27.734752Z",
     "shell.execute_reply": "2024-09-10T15:13:27.734167Z"
    }
   },
   "outputs": [],
   "source": [
    "params.conductivity = 1.0 # linear conductivity\n",
    "# params.element_size = elem_size_list[0] # element size in the regular mesh\n",
    "params.element_size = 0.1\n",
    "params.order = 2 # approximation order for displacements\n",
    "\n",
    "# params.triangle_mesh = False # use triangular mesh\n",
    "\n",
    "# Pre-processing parameters\n",
    "# params.mesh_file = \"square_mexi\"\n",
    "params.mesh_file = \"L_shape\"\n",
    "params.length_x = 1\n",
    "params.length_y = 1\n",
    "params.length_z = 0\n",
    "params.show_mesh = True\n",
    "\n",
    "\n",
    "# solution parameters\n",
    "params.log_file = \"log\" # log file name \n"
   ]
  },
  {
   "cell_type": "markdown",
   "metadata": {},
   "source": [
    "## Run test"
   ]
  },
  {
   "cell_type": "code",
   "execution_count": null,
   "metadata": {
    "ExecuteTime": {
     "end_time": "2024-08-30T20:03:58.228652Z",
     "start_time": "2024-08-30T20:03:58.158467Z"
    },
    "execution": {
     "iopub.execute_input": "2024-09-10T15:13:27.736943Z",
     "iopub.status.busy": "2024-09-10T15:13:27.736420Z",
     "iopub.status.idle": "2024-09-10T15:13:27.849511Z",
     "shell.execute_reply": "2024-09-10T15:13:27.848634Z"
    }
   },
   "outputs": [],
   "source": [
    "# start display for showing results\n",
    "display = Display(backend=\"xvfb\", visible=False, size=(1024, 768))\n",
    "display.start()"
   ]
  },
  {
   "cell_type": "code",
   "execution_count": null,
   "metadata": {
    "ExecuteTime": {
     "end_time": "2024-08-30T20:03:59.589597Z",
     "start_time": "2024-08-30T20:03:58.230118Z"
    },
    "execution": {
     "iopub.execute_input": "2024-09-10T15:13:27.851988Z",
     "iopub.status.busy": "2024-09-10T15:13:27.851805Z",
     "iopub.status.idle": "2024-09-10T15:13:29.596843Z",
     "shell.execute_reply": "2024-09-10T15:13:29.596236Z"
    }
   },
   "outputs": [],
   "source": [
    "# Testing mesh generation\n",
    "if run_test:\n",
    "    params.show_mesh = True\n",
    "    generate_config(params)\n",
    "    generate_mesh(params)\n",
    "\n",
    "# stop the display\n",
    "display.stop()\n"
   ]
  },
  {
   "cell_type": "code",
   "execution_count": null,
   "metadata": {
    "ExecuteTime": {
     "end_time": "2024-08-30T20:03:59.595142Z",
     "start_time": "2024-08-30T20:03:59.591335Z"
    },
    "execution": {
     "iopub.execute_input": "2024-09-10T15:13:29.599287Z",
     "iopub.status.busy": "2024-09-10T15:13:29.599114Z",
     "iopub.status.idle": "2024-09-10T15:13:29.603695Z",
     "shell.execute_reply": "2024-09-10T15:13:29.603202Z"
    }
   },
   "outputs": [],
   "source": [
    "display.stop()"
   ]
  },
  {
   "cell_type": "code",
   "execution_count": null,
   "metadata": {
    "ExecuteTime": {
     "end_time": "2024-08-30T20:04:00.058165Z",
     "start_time": "2024-08-30T20:03:59.596509Z"
    },
    "execution": {
     "iopub.execute_input": "2024-09-10T15:13:29.605625Z",
     "iopub.status.busy": "2024-09-10T15:13:29.605478Z",
     "iopub.status.idle": "2024-09-10T15:13:30.322743Z",
     "shell.execute_reply": "2024-09-10T15:13:30.321706Z"
    }
   },
   "outputs": [],
   "source": [
    "params.part_file = params.mesh_file + \"_\" + str(params.nproc) + \"p.h5m\"\n",
    "!{mofem_part} -my_file {params.mesh_file + \".h5m\"} -my_nparts {params.nproc} -output_file {params.part_file} -dim 2 -adj_dim 1"
   ]
  },
  {
   "cell_type": "code",
   "execution_count": null,
   "metadata": {
    "ExecuteTime": {
     "end_time": "2024-08-30T20:04:00.570390Z",
     "start_time": "2024-08-30T20:04:00.059916Z"
    },
    "execution": {
     "iopub.execute_input": "2024-09-10T15:13:30.326010Z",
     "iopub.status.busy": "2024-09-10T15:13:30.325785Z",
     "iopub.status.idle": "2024-09-10T15:13:30.329549Z",
     "shell.execute_reply": "2024-09-10T15:13:30.328896Z"
    }
   },
   "outputs": [],
   "source": [
    "# # recreate dataset\n",
    "# recreate_dataset = True\n",
    "# csv_name = \"dummy_tree\"\n",
    "\n",
    "# dummy_noise = 0.1\n",
    "\n",
    "# dummy_count = 10000\n",
    "\n",
    "# if recreate_dataset:\n",
    "#     !{create_csv_dataset} -output_file {csv_name}.csv -my_dummy_noise_q 0 -my_dummy_noise_k {dummy_noise} -my_dummy_k 1 -my_dummy_range_dp 9.0 -my_dummy_count {int(dummy_count)}\n",
    "\n",
    "#     scal = np.genfromtxt('./scaling.in')\n",
    "#     print(scal)\n",
    "\n",
    "# data = pd.read_csv(csv_name+\".csv\", index_col=False)\n",
    "# headers = []\n",
    "# headers = data.columns.values\n",
    "# print(headers)"
   ]
  },
  {
   "cell_type": "code",
   "execution_count": null,
   "metadata": {
    "ExecuteTime": {
     "end_time": "2024-08-30T20:04:00.577897Z",
     "start_time": "2024-08-30T20:04:00.572990Z"
    },
    "execution": {
     "iopub.execute_input": "2024-09-10T15:13:30.332105Z",
     "iopub.status.busy": "2024-09-10T15:13:30.331589Z",
     "iopub.status.idle": "2024-09-10T15:13:30.338353Z",
     "shell.execute_reply": "2024-09-10T15:13:30.337676Z"
    }
   },
   "outputs": [],
   "source": [
    "noise_list = [0.0, 0.01, 0.02, 0.05, 0.1]\n",
    "# noise_list = [0.02, 0.05, 0.1]\n",
    "ana_name = \"noise_sincos_\"\n",
    "\n",
    "ana_name_list = []\n",
    "\n",
    "for noise in noise_list:\n",
    "    ana_name_list.append(ana_name + str(noise))\n",
    "    \n",
    "# dummy_count_list = [1e3, 1e4, 1e5, 1e6, 1e7]\n",
    "# dummy_count_list = [1e3, 1e4, 1e5, 1e6]\n",
    "dummy_count = 1e6\n",
    "\n",
    "# realisations = 30\n",
    "monte_num = 30\n",
    "\n",
    "monte_control = f\"-monte_carlo {monte_num} -monte_patch_number 2\"\n",
    "\n",
    "\n",
    "refinement_style = 0\n",
    "ref_iter_num = 0\n",
    "refinement_control = \"\"\n",
    "ref = True\n",
    "\n",
    "if ref:\n",
    "    print(\"refinement: \")\n",
    "\n",
    "    # refinement style: \n",
    "    # 0 - no refinement\n",
    "    # 1 - p refinement (order)\n",
    "    # 2 - h refinement (mesh)\n",
    "    # 3 - hp refinement\n",
    "    refinement_style = 3\n",
    "\n",
    "    # number of refinements\n",
    "    ref_iter_num = 1\n",
    "\n",
    "    # refine mesh due to error indicators only on boundary\n",
    "    boundary_ony = \"-refine_h_boundary_only\"\n",
    "\n",
    "    # order refinement control\n",
    "    # > ord_ref_control * average error -> refine\n",
    "    ord_ref_control = 3.0\n",
    "    # mesh refinement control\n",
    "    # > mesh_ref_control * average error -> refine\n",
    "    mesh_ref_control = 4.0\n",
    "\n",
    "    # # DD refinement control\n",
    "    # # d > tol_distance_ref * d_ave -> do not refine\n",
    "    # tol_distance_ref = 1.0\n",
    "    # # d > tol_distance_var_ref * d_var \n",
    "    # # &&\n",
    "    # # d_var > tol_distance_var_ave * d_ave\n",
    "    # #  -> refine\n",
    "    # tol_distance_var_ref = 2.0\n",
    "    # tol_distance_var_ave = 0.5\n",
    "\n",
    "    refinement_control = f\"-refinement_style {refinement_style} -ref_iter_num {ref_iter_num} -ref_control {ord_ref_control} -ref_control_mesh {mesh_ref_control} {boundary_ony}\"\n",
    "    # -tol_distance_ref {tol_distance_ref} -tol_distance_var_ref {tol_distance_var_ref} -tol_distance_var_ave {tol_distance_var_ave} "
   ]
  },
  {
   "cell_type": "code",
   "execution_count": null,
   "metadata": {
    "ExecuteTime": {
     "start_time": "2024-08-30T20:03:56.524Z"
    },
    "execution": {
     "iopub.execute_input": "2024-09-10T15:13:30.340578Z",
     "iopub.status.busy": "2024-09-10T15:13:30.340389Z",
     "iopub.status.idle": "2024-09-10T18:10:49.410714Z",
     "shell.execute_reply": "2024-09-10T18:10:49.409979Z"
    }
   },
   "outputs": [],
   "source": [
    "if run_analysis:\n",
    "    !rm sumanalys.csv # making sure the previous analysis doesn't affect this one\n",
    "\n",
    "    # loop over noise_lisgt and ana_name_list\n",
    "    for (noise_in, ana_csv_name) in zip(noise_list, ana_name_list):\n",
    "        !rm out*\n",
    "        # !{create_csv_dataset} -output_file {csv_name}.csv -my_dummy_noise_q 0 -my_dummy_noise_k {noise_in} -my_dummy_k 1 -my_dummy_range_dp 9.0 -my_dummy_count {int(dummy_count)}\n",
    "\n",
    "        core_name = \"../dummy_\"\n",
    "        dataset_name = core_name+str(int(noise_in*100)) \n",
    "\n",
    "        # for i in range(realisations):\n",
    "        !{exe} -file_name {params.part_file} -my_order {params.order} {analytical_solution_tag} -csv_tree_file {dataset_name}.csv -write_long_error_file -rand_ini {monte_control} {refinement_control}\n",
    "\n",
    "        !mv ./sumanalys.csv ./{ana_csv_name}.csv\n",
    "        !mbconvert out_sigma_ele_29.h5m {noise_in*100}_out_sigma_29.vtk\n",
    "        !mbconvert out_monte_ele_errors_29.h5m {noise_in*100}_out_monte_ele_errors_29.vtk\n",
    "        !mbconvert out_before_perturb_29.h5m {noise_in*100}_out_before_perturb_29.vtk\n",
    "        !mbconvert out_after_perturb_29.h5m {noise_in*100}_out_after_perturb_29.vtk\n",
    "        # !mv ./sumanalys_monte_sigma.csv ./{ana_csv_name}_sigma.csv\n"
   ]
  },
  {
   "cell_type": "code",
   "execution_count": null,
   "metadata": {
    "ExecuteTime": {
     "start_time": "2024-08-30T20:03:56.525Z"
    },
    "execution": {
     "iopub.execute_input": "2024-09-10T18:10:49.413330Z",
     "iopub.status.busy": "2024-09-10T18:10:49.413115Z",
     "iopub.status.idle": "2024-09-10T18:10:49.608914Z",
     "shell.execute_reply": "2024-09-10T18:10:49.608363Z"
    }
   },
   "outputs": [],
   "source": [
    "!cat ./sumanalys_monte_sigma.csv"
   ]
  },
  {
   "cell_type": "markdown",
   "metadata": {},
   "source": [
    "### Plot results"
   ]
  },
  {
   "cell_type": "code",
   "execution_count": null,
   "metadata": {
    "execution": {
     "iopub.execute_input": "2024-09-10T18:10:49.611328Z",
     "iopub.status.busy": "2024-09-10T18:10:49.611133Z",
     "iopub.status.idle": "2024-09-10T18:10:49.622989Z",
     "shell.execute_reply": "2024-09-10T18:10:49.622514Z"
    }
   },
   "outputs": [],
   "source": [
    "naming_std = [\"T\", \"g_x\", \"g_y\", \"q_x\", \"q_y\"]\n",
    "\n",
    "# read the data from sumanalys_monte_sigma.csv file with naming defined by naming_std\n",
    "data_std = pd.read_csv(\"sumanalys_monte_sigma.csv\", names=naming_std, index_col=False, skiprows=0)\n",
    "print(data_std)\n"
   ]
  },
  {
   "cell_type": "code",
   "execution_count": null,
   "metadata": {
    "execution": {
     "iopub.execute_input": "2024-09-10T18:10:49.624987Z",
     "iopub.status.busy": "2024-09-10T18:10:49.624817Z",
     "iopub.status.idle": "2024-09-10T18:10:50.664914Z",
     "shell.execute_reply": "2024-09-10T18:10:50.664258Z"
    }
   },
   "outputs": [],
   "source": [
    "# plot the results from csv file wrt noise \n",
    "plt.figure()\n",
    "for name in naming_std:\n",
    "    plt.plot(noise_list, data_std[name], label=name)\n",
    "plt.legend(loc='best')\n",
    "plt.grid(True, ls=':')\n",
    "plt.xlabel('Standard deviation of noise')\n",
    "plt.ylabel('Standard deviation of error')\n",
    "\n",
    "\n"
   ]
  },
  {
   "cell_type": "code",
   "execution_count": null,
   "metadata": {
    "execution": {
     "iopub.execute_input": "2024-09-10T18:10:50.667173Z",
     "iopub.status.busy": "2024-09-10T18:10:50.666974Z",
     "iopub.status.idle": "2024-09-10T18:10:50.832494Z",
     "shell.execute_reply": "2024-09-10T18:10:50.831933Z"
    }
   },
   "outputs": [],
   "source": [
    "# plot just 'T'\n",
    "plt.figure()\n",
    "plt.plot(noise_list, data_std['T'], label='T')\n",
    "plt.legend(loc='best')\n",
    "plt.grid(True, ls=':')\n",
    "plt.xlabel('Standard deviation of noise')\n",
    "plt.ylabel('Standard deviation of error')\n"
   ]
  },
  {
   "cell_type": "code",
   "execution_count": null,
   "metadata": {
    "execution": {
     "iopub.execute_input": "2024-09-10T18:10:50.834657Z",
     "iopub.status.busy": "2024-09-10T18:10:50.834468Z",
     "iopub.status.idle": "2024-09-10T18:11:00.010196Z",
     "shell.execute_reply": "2024-09-10T18:11:00.008125Z"
    }
   },
   "outputs": [],
   "source": [
    "%run ./../L_plot_save_sigmas.ipynb"
   ]
  },
  {
   "cell_type": "code",
   "execution_count": null,
   "metadata": {
    "execution": {
     "iopub.execute_input": "2024-09-10T18:11:00.014080Z",
     "iopub.status.busy": "2024-09-10T18:11:00.013687Z",
     "iopub.status.idle": "2024-09-10T18:11:00.017464Z",
     "shell.execute_reply": "2024-09-10T18:11:00.016775Z"
    }
   },
   "outputs": [],
   "source": [
    "# # # plot {noise_in*100}_out_sigma_29.vtk for each noise\n",
    "\n",
    "# display = Display(backend=\"xvfb\", visible=False, size=(1024, 768))\n",
    "# display.start()\n",
    "\n",
    "# params.show_edges = False\n",
    "# params.show_mesh = False\n",
    "# params.show_field = \"SIGMA_T\"\n",
    "# params.p_cmap = color_temperature\n",
    "# params.clim = lim_std_T\n",
    "# for noise_in in noise_list:\n",
    "#     vtk_file = f\"{noise_in*100}_out_sigma_29\"\n",
    "#     print(vtk_file)\n",
    "#     params.show_file = vtk_file\n",
    "#     params.p_save = prefix + f\"noise_{noise_in*100}_sigma_T.pdf\"\n",
    "#     show_results(params)\n",
    "\n",
    "# display.stop()"
   ]
  },
  {
   "cell_type": "code",
   "execution_count": null,
   "metadata": {
    "execution": {
     "iopub.execute_input": "2024-09-10T18:11:00.019559Z",
     "iopub.status.busy": "2024-09-10T18:11:00.019070Z",
     "iopub.status.idle": "2024-09-10T18:11:00.022005Z",
     "shell.execute_reply": "2024-09-10T18:11:00.021415Z"
    }
   },
   "outputs": [],
   "source": [
    "# # # plot {noise_in*100}_out_sigma_29.vtk for each noise\n",
    "\n",
    "# display = Display(backend=\"xvfb\", visible=False, size=(1024, 768))\n",
    "# display.start()\n",
    "\n",
    "# params.show_field_name = \"SIGMA_GRAD_MAG\"\n",
    "# params.show_field = \"SIGMA_GRAD_X\"\n",
    "# params.show_field_2 = \"SIGMA_GRAD_Y\"\n",
    "# params.p_cmap = color_std_gradient\n",
    "# params.clim = lim_std_G\n",
    "# params.show_edges = False\n",
    "\n",
    "# for noise_in in noise_list:\n",
    "#     vtk_file = f\"{noise_in*100}_out_sigma_29\"\n",
    "#     print(vtk_file)\n",
    "#     params.show_file = vtk_file\n",
    "#     params.p_save = prefix + f\"noise_{noise_in*100}_sigma_grad.pdf\"\n",
    "#     show_results_monte_magnitude(params)\n",
    "\n",
    "# display.stop()"
   ]
  },
  {
   "cell_type": "code",
   "execution_count": null,
   "metadata": {
    "execution": {
     "iopub.execute_input": "2024-09-10T18:11:00.023836Z",
     "iopub.status.busy": "2024-09-10T18:11:00.023685Z",
     "iopub.status.idle": "2024-09-10T18:11:00.026531Z",
     "shell.execute_reply": "2024-09-10T18:11:00.025926Z"
    }
   },
   "outputs": [],
   "source": [
    "# # # plot {noise_in*100}_out_sigma_29.vtk for each noise\n",
    "\n",
    "# display = Display(backend=\"xvfb\", visible=False, size=(1024, 768))\n",
    "# display.start()\n",
    "\n",
    "# params.show_field_name = \"SIGMA_FLUX_MAG\"\n",
    "# params.show_field = \"SIGMA_FLUX_X\"\n",
    "# params.show_field_2 = \"SIGMA_FLUX_Y\"\n",
    "# params.p_cmap = color_std_flux\n",
    "# params.clim = lim_std_Q\n",
    "# params.show_edges = False\n",
    "\n",
    "# for noise_in in noise_list:\n",
    "#     vtk_file = f\"{noise_in*100}_out_sigma_29\"\n",
    "#     print(vtk_file)\n",
    "#     params.show_file = vtk_file\n",
    "#     params.p_save = prefix + f\"noise_{noise_in*100}_sigma_flux.pdf\"\n",
    "#     show_results_monte_magnitude(params)\n",
    "\n",
    "# display.stop()\n",
    "\n",
    "# params.show_field_name = None\n",
    "# params.p_save = None\n",
    "# params.clim = None"
   ]
  },
  {
   "cell_type": "code",
   "execution_count": null,
   "metadata": {
    "execution": {
     "iopub.execute_input": "2024-09-10T18:11:00.028194Z",
     "iopub.status.busy": "2024-09-10T18:11:00.028041Z",
     "iopub.status.idle": "2024-09-10T18:11:00.060868Z",
     "shell.execute_reply": "2024-09-10T18:11:00.060224Z"
    }
   },
   "outputs": [],
   "source": [
    "# print scatter for dataset from dummy_tree.csv\n",
    "\n",
    "# read the data from dummy_tree.csv file with naming defined by headers\n",
    "data = pd.read_csv(\"dummy_tree.csv\", names=headers, index_col=False, skiprows=1)\n",
    "print(data)\n",
    "\n",
    "# plot row 0 vs row 2\n",
    "plt.figure()\n",
    "# size of the points is 1\n",
    "plt.scatter(data[headers[0]], data[headers[2]], s=1)\n",
    "plt.xlabel(headers[0])\n",
    "plt.ylabel(headers[2])\n",
    "plt.grid(True, ls=':')\n",
    "plt.show()\n",
    "\n",
    "# plot row 1 vs row 3\n",
    "plt.figure()\n",
    "plt.scatter(data[headers[1]], data[headers[3]], s=1)\n",
    "plt.xlabel(headers[1])\n",
    "plt.ylabel(headers[3])\n",
    "plt.grid(True, ls=':')\n",
    "plt.show()\n"
   ]
  },
  {
   "cell_type": "code",
   "execution_count": null,
   "metadata": {
    "execution": {
     "iopub.execute_input": "2024-09-10T18:11:00.063019Z",
     "iopub.status.busy": "2024-09-10T18:11:00.062548Z",
     "iopub.status.idle": "2024-09-10T18:11:09.034610Z",
     "shell.execute_reply": "2024-09-10T18:11:09.033375Z"
    }
   },
   "outputs": [],
   "source": [
    "%run ./../L_plot_save_T_Q.ipynb"
   ]
  },
  {
   "cell_type": "code",
   "execution_count": null,
   "metadata": {
    "execution": {
     "iopub.execute_input": "2024-09-10T18:11:09.038313Z",
     "iopub.status.busy": "2024-09-10T18:11:09.038127Z",
     "iopub.status.idle": "2024-09-10T18:11:17.449446Z",
     "shell.execute_reply": "2024-09-10T18:11:17.447346Z"
    }
   },
   "outputs": [],
   "source": [
    "%run ./../L_plot_save_G_err.ipynb"
   ]
  },
  {
   "cell_type": "code",
   "execution_count": null,
   "metadata": {
    "execution": {
     "iopub.execute_input": "2024-09-10T18:11:17.454103Z",
     "iopub.status.busy": "2024-09-10T18:11:17.453888Z",
     "iopub.status.idle": "2024-09-10T18:11:17.458296Z",
     "shell.execute_reply": "2024-09-10T18:11:17.457483Z"
    }
   },
   "outputs": [],
   "source": [
    "print(\"Done\")"
   ]
  },
  {
   "cell_type": "code",
   "execution_count": null,
   "metadata": {
    "execution": {
     "iopub.execute_input": "2024-09-10T18:11:17.462057Z",
     "iopub.status.busy": "2024-09-10T18:11:17.461605Z",
     "iopub.status.idle": "2024-09-10T18:11:17.465091Z",
     "shell.execute_reply": "2024-09-10T18:11:17.464313Z"
    }
   },
   "outputs": [],
   "source": [
    "# # plot {noise_in*100}_out_before_perturb_29.vtk and {noise_in*100}_out_after_perturb_29.vtk for each noise\n",
    "\n",
    "# display = Display(backend=\"xvfb\", visible=False, size=(1024, 768))\n",
    "# display.start()\n",
    "\n",
    "# params.show_mesh = True\n",
    "# params.show_field = \"T\"\n",
    "# params.p_cmap = color_temperature\n",
    "# # params.show_field = \"Q\"\n",
    "# params.field_part = -1\n",
    "# # params.p_cmap = color_flux\n",
    "# for noise_in in noise_list:\n",
    "#     vtk_file = f\"{noise_in*100}_out_before_perturb_29\"\n",
    "#     print(vtk_file)\n",
    "#     print(\"before perturbation\")\n",
    "#     params.p_save = prefix + f\"noise_{noise_in*100}_T.pdf\"\n",
    "#     params.show_file = vtk_file\n",
    "#     show_results(params)\n",
    "#     params.p_save = None\n",
    "#     vtk_file = f\"{noise_in*100}_out_after_perturb_29\"\n",
    "#     print(vtk_file)\n",
    "#     print(\"after perturbation\")\n",
    "#     params.show_file = vtk_file\n",
    "#     show_results(params)\n",
    "\n",
    "\n",
    "# params.field_part = -1\n",
    "\n",
    "# display.stop()"
   ]
  },
  {
   "cell_type": "code",
   "execution_count": null,
   "metadata": {
    "execution": {
     "iopub.execute_input": "2024-09-10T18:11:17.468857Z",
     "iopub.status.busy": "2024-09-10T18:11:17.468412Z",
     "iopub.status.idle": "2024-09-10T18:11:17.471763Z",
     "shell.execute_reply": "2024-09-10T18:11:17.471002Z"
    }
   },
   "outputs": [],
   "source": [
    "# # plot {noise_in*100}_out_before_perturb_29.vtk and {noise_in*100}_out_after_perturb_29.vtk for each noise\n",
    "\n",
    "# display = Display(backend=\"xvfb\", visible=False, size=(1024, 768))\n",
    "# display.start()\n",
    "\n",
    "# params.show_mesh = True\n",
    "# # params.show_field = \"T\"\n",
    "# # params.p_cmap = color_temperature\n",
    "# params.show_field = \"Q\"\n",
    "# params.field_part = -1\n",
    "# params.p_cmap = color_flux\n",
    "# for noise_in in noise_list:\n",
    "#     vtk_file = f\"{noise_in*100}_out_before_perturb_29\"\n",
    "#     print(vtk_file)\n",
    "#     print(\"before perturbation\")\n",
    "#     params.p_save = prefix + f\"noise_{noise_in*100}_G.pdf\"\n",
    "#     params.show_file = vtk_file\n",
    "#     show_results(params)\n",
    "#     params.p_save = None\n",
    "#     vtk_file = f\"{noise_in*100}_out_after_perturb_29\"\n",
    "#     print(vtk_file)\n",
    "#     print(\"after perturbation\")\n",
    "#     params.show_file = vtk_file\n",
    "#     show_results(params)\n",
    "\n",
    "\n",
    "# params.field_part = -1\n",
    "\n",
    "# display.stop()"
   ]
  },
  {
   "cell_type": "code",
   "execution_count": null,
   "metadata": {
    "execution": {
     "iopub.execute_input": "2024-09-10T18:11:17.475006Z",
     "iopub.status.busy": "2024-09-10T18:11:17.474586Z",
     "iopub.status.idle": "2024-09-10T18:11:17.477969Z",
     "shell.execute_reply": "2024-09-10T18:11:17.477186Z"
    }
   },
   "outputs": [],
   "source": [
    "# # plot {noise_in*100}_out_before_perturb_29.vtk and {noise_in*100}_out_after_perturb_29.vtk for each noise\n",
    "\n",
    "# display = Display(backend=\"xvfb\", visible=False, size=(1024, 768))\n",
    "# display.start()\n",
    "\n",
    "# params.show_mesh = True\n",
    "# # params.show_field = \"T\"\n",
    "# # params.p_cmap = color_temperature\n",
    "# params.show_field = \"Q\"\n",
    "# params.field_part = -1\n",
    "# params.p_cmap = color_flux\n",
    "# for noise_in in noise_list:\n",
    "#     vtk_file = f\"{noise_in*100}_out_before_perturb_29\"\n",
    "#     print(vtk_file)\n",
    "#     print(\"before perturbation\")\n",
    "#     params.p_save = prefix + f\"noise_{noise_in*100}_Q.pdf\"\n",
    "#     params.show_file = vtk_file\n",
    "#     show_results(params)\n",
    "#     params.p_save = None\n",
    "#     vtk_file = f\"{noise_in*100}_out_after_perturb_29\"\n",
    "#     print(vtk_file)\n",
    "#     print(\"after perturbation\")\n",
    "#     params.show_file = vtk_file\n",
    "#     show_results(params)\n",
    "\n",
    "# params.field_part = -1\n",
    "\n",
    "# display.stop()"
   ]
  },
  {
   "cell_type": "code",
   "execution_count": null,
   "metadata": {
    "execution": {
     "iopub.execute_input": "2024-09-10T18:11:17.481702Z",
     "iopub.status.busy": "2024-09-10T18:11:17.481094Z",
     "iopub.status.idle": "2024-09-10T18:11:17.484418Z",
     "shell.execute_reply": "2024-09-10T18:11:17.483676Z"
    }
   },
   "outputs": [],
   "source": [
    "# # plot for the error estimators for {noise_in*100}_out_monte_ele_errors_29.vtk\n",
    "\n",
    "# display = Display(backend=\"xvfb\", visible=False, size=(1024, 768))\n",
    "# display.start()\n",
    "\n",
    "# params.show_field = \"ERROR_ESTIMATOR\"\n",
    "# # params.show_field = \"DD_DISTANCE_VAR\"\n",
    "# # params.show_field = \"ORDER\"\n",
    "# params.show_edges = False\n",
    "# params.p_cmap = 'jet'\n",
    "\n",
    "# for noise_in in noise_list:\n",
    "#     vtk_file = f\"{noise_in*100}_out_monte_ele_errors_29\"\n",
    "#     print(vtk_file)\n",
    "#     print(\"error estimator\")\n",
    "#     params.show_file = vtk_file\n",
    "#     params.p_save = prefix + f\"noise_{noise_in*100}_err_est.pdf\"\n",
    "#     show_results(params)\n",
    "\n",
    "# display.stop()\n",
    "\n",
    "# params.p_save = None"
   ]
  },
  {
   "cell_type": "code",
   "execution_count": null,
   "metadata": {},
   "outputs": [],
   "source": []
  }
 ],
 "metadata": {
  "kernelspec": {
   "display_name": "Python 3 (ipykernel)",
   "language": "python",
   "name": "python3"
  },
  "language_info": {
   "codemirror_mode": {
    "name": "ipython",
    "version": 3
   },
   "file_extension": ".py",
   "mimetype": "text/x-python",
   "name": "python",
   "nbconvert_exporter": "python",
   "pygments_lexer": "ipython3",
   "version": "3.11.6"
  }
 },
 "nbformat": 4,
 "nbformat_minor": 2
}
