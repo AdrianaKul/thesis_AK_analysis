{
 "cells": [
  {
   "cell_type": "code",
   "execution_count": null,
   "metadata": {},
   "outputs": [],
   "source": [
    "import os\n",
    "import subprocess\n",
    "import sys\n",
    "\n",
    "# rerun jupyter notebooks which replot the figures\n",
    "\n",
    "def rerun_notebook(notebook):\n",
    "    print(f\"Rerunning {notebook}\")\n",
    "    subprocess.run([\"jupyter\", \"nbconvert\", \"--ClearOutputPreprocessor.enabled=True\", \"--execute\", \"--to\", \"notebook\", \"--inplace\", \"--ExecutePreprocessor.allow_errors=True\", \"--ExecutePreprocessor.timeout=-1\", notebook])\n",
    "    print(\"Done running\")\n",
    "    !jupyter nbconvert --clear-output --inplace {notebook}\n"
   ]
  },
  {
   "cell_type": "code",
   "execution_count": null,
   "metadata": {},
   "outputs": [],
   "source": [
    "import os\n",
    "\n",
    "# Define the directory path\n",
    "directory_path = './'\n",
    "\n",
    "# Get names of all folders in this directory\n",
    "folders = [f for f in os.listdir(directory_path) if os.path.isdir(os.path.join(directory_path, f))]\n",
    "\n",
    "print(folders)\n",
    "\n",
    "# remove '.ipynb_checkpoints' from the list\n",
    "folders = [f for f in folders if f != '.ipynb_checkpoints']\n",
    "\n",
    "print(folders)"
   ]
  },
  {
   "cell_type": "code",
   "execution_count": null,
   "metadata": {},
   "outputs": [],
   "source": [
    "for i in range(len(folders)):\n",
    "    notebook = directory_path+folders[i]+\"/monte_L.ipynb\"\n",
    "    !ls {notebook}\n",
    "    rerun_notebook(notebook)"
   ]
  },
  {
   "cell_type": "code",
   "execution_count": null,
   "metadata": {},
   "outputs": [],
   "source": [
    "print(\"All done\")"
   ]
  },
  {
   "cell_type": "code",
   "execution_count": null,
   "metadata": {},
   "outputs": [],
   "source": []
  }
 ],
 "metadata": {
  "kernelspec": {
   "display_name": "Python 3",
   "language": "python",
   "name": "python3"
  },
  "language_info": {
   "codemirror_mode": {
    "name": "ipython",
    "version": 3
   },
   "file_extension": ".py",
   "mimetype": "text/x-python",
   "name": "python",
   "nbconvert_exporter": "python",
   "pygments_lexer": "ipython3",
   "version": "3.11.6"
  }
 },
 "nbformat": 4,
 "nbformat_minor": 2
}
