{
 "cells": [
  {
   "cell_type": "code",
   "execution_count": null,
   "metadata": {
    "ExecuteTime": {
     "end_time": "2024-09-08T13:07:06.824102Z",
     "start_time": "2024-09-08T13:07:05.380547Z"
    },
    "execution": {
     "iopub.execute_input": "2024-09-25T15:55:54.175273Z",
     "iopub.status.busy": "2024-09-25T15:55:54.174816Z",
     "iopub.status.idle": "2024-09-25T15:55:55.800071Z",
     "shell.execute_reply": "2024-09-25T15:55:55.799585Z"
    }
   },
   "outputs": [],
   "source": [
    "# import settings and functions\n",
    "%run ./../../imports.ipynb\n",
    "\n",
    "%run ./../L_monte_settings.ipynb"
   ]
  },
  {
   "cell_type": "markdown",
   "metadata": {},
   "source": [
    "## What mesh?\n",
    "\n",
    "Copy your choice to the next cell\n",
    "\n",
    "for SquareTop:\n",
    "```\n",
    "analytical_solution_tag = \"-ana_square_top\"\n",
    "generate_config = generateConfig_squareTop\n",
    "generate_mesh = generateMesh_squareTop\n",
    "```\n",
    "\n",
    "for SquareSinCos:\n",
    "```\n",
    "analytical_solution_tag = \"-ana_square_sincos\"\n",
    "generate_config = generateConfig_squareSinCos\n",
    "generate_mesh = generateMesh_squareSinCos\n",
    "```"
   ]
  },
  {
   "cell_type": "code",
   "execution_count": null,
   "metadata": {
    "ExecuteTime": {
     "end_time": "2024-09-08T13:07:06.829966Z",
     "start_time": "2024-09-08T13:07:06.827198Z"
    },
    "execution": {
     "iopub.execute_input": "2024-09-25T15:55:55.839068Z",
     "iopub.status.busy": "2024-09-25T15:55:55.838528Z",
     "iopub.status.idle": "2024-09-25T15:55:55.841234Z",
     "shell.execute_reply": "2024-09-25T15:55:55.840870Z"
    }
   },
   "outputs": [],
   "source": [
    "# # Change according to instruction above\n",
    "# analytical_solution_tag = \"-ana_mexi_hat\"\n",
    "# generate_config = generateConfig_squareMexiHat\n",
    "# generate_mesh = generateMesh_squareMexiHat\n",
    "\n",
    "# analytical_solution_tag = \"-ana_square_top\"\n",
    "# generate_config = generateConfig_squareTop\n",
    "# generate_mesh = generateMesh_squareTop\n",
    "\n",
    "# analytical_solution_tag = \"-ana_square_sincos\"\n",
    "# generate_config = generateConfig_squareSinCos\n",
    "# generate_mesh = generateMesh_squareSinCos\n",
    "\n",
    "analytical_solution_tag = \"-ana_L_shape\"\n",
    "generate_config = generateConfig_Lshape\n",
    "generate_mesh = generateMesh_Lshape\n",
    "\n",
    "params.mesh_all_dirichlet = True"
   ]
  },
  {
   "cell_type": "markdown",
   "metadata": {},
   "source": [
    "## Analysis setup"
   ]
  },
  {
   "cell_type": "code",
   "execution_count": null,
   "metadata": {
    "ExecuteTime": {
     "end_time": "2024-09-08T13:07:06.839546Z",
     "start_time": "2024-09-08T13:07:06.831360Z"
    },
    "execution": {
     "iopub.execute_input": "2024-09-25T15:55:55.843838Z",
     "iopub.status.busy": "2024-09-25T15:55:55.843478Z",
     "iopub.status.idle": "2024-09-25T15:55:55.848487Z",
     "shell.execute_reply": "2024-09-25T15:55:55.848076Z"
    }
   },
   "outputs": [],
   "source": [
    "prefix = \"c6_L_DD_all_T_\"\n",
    "\n",
    "# which executable?\n",
    "\n",
    "exe = data_driven_diffusion_snes\n",
    "sumanalys = \"sumanalys.csv\"\n",
    "ana_name = \"ana_square_mexi_mixed_order\"\n",
    "\n",
    "# ana_compare_exe = [data_driven_diffusion_snes, classic_diffusion]\n",
    "# ana_compare_name = [\"ana_square_mexi_dd\", \"ana_square_mexi_classic\"]\n",
    "# # ana_compare_name = [\"ana_square_mexi_mixed\"]\n",
    "# ana_compare_sum = [\"sumanalys.csv\", \"sumanalys.csv\", \"FEM_errors.csv\", \"sumanalys.csv\"]\n",
    "\n",
    "# Convergence analysis parameters\n",
    "order_list = [1, 2, 3] # approximation order p\n",
    "elem_size_list = [0.08, 0.04, 0.02] # element size h\n",
    "# elem_size_list = [0.1, 0.05, 0.025] # element size h\n",
    "# order_list = [2, 3] # approximation order p\n",
    "# elem_size_list = [1./3., 1./7., 1./13.] # element size h\n",
    "params.triangle_mesh = True\n",
    "params.nproc = 1 # number of processors\n",
    "jumps = \"\"\n",
    "if params.nproc == 1:\n",
    "    jumps = \"-get_jumps\"\n",
    "# jumps = \"-get_jumps\"\n",
    "\n",
    "run_test = True\n",
    "run_analysis = True\n",
    "\n",
    "# params.triangle_mesh = False\n",
    "\n",
    "# run_test = False\n",
    "# run_analysis = False\n",
    "\n",
    "# naming = [\"order\", \"gaussnum\", \"iterations\",\"volume\", \"datanum\",\"rmsPoiErr\", \"errorEstimator\",\n",
    "#           \"L2norm\", \"H1seminorm\",\"fluxErr\", \"orderRefinementCounter\", \"errorIndicatorGrad\", \"errorIndicatorDiv\", \"jumpL2\", \"jumpHdiv\", \"eleNum\"]\n",
    "naming = [\"order\", \"gaussnum\", \"iterations\",\"volume\", \"datanum\",\"rmsPoiErr\", \"errorEstimator\",\n",
    "          \"L2norm\", \"H1seminorm\",\"fluxErr\", \"orderRefinementCounter\"]\n",
    "\n",
    "error_name_list = [\"L2norm\", \"H1seminorm\", \"fluxErr\"]\n",
    "error_label_list = [(r'Global error $L^2$-norm'),\n",
    "               (r'Global error $H^1$-seminorm'), (r'Global Flux error')]"
   ]
  },
  {
   "cell_type": "code",
   "execution_count": null,
   "metadata": {
    "ExecuteTime": {
     "end_time": "2024-09-08T13:07:06.844969Z",
     "start_time": "2024-09-08T13:07:06.841724Z"
    },
    "execution": {
     "iopub.execute_input": "2024-09-25T15:55:55.850987Z",
     "iopub.status.busy": "2024-09-25T15:55:55.850699Z",
     "iopub.status.idle": "2024-09-25T15:55:55.853850Z",
     "shell.execute_reply": "2024-09-25T15:55:55.853434Z"
    }
   },
   "outputs": [],
   "source": [
    "params.conductivity = 1.0 # linear conductivity\n",
    "# params.element_size = elem_size_list[0] # element size in the regular mesh\n",
    "params.element_size = 0.1\n",
    "params.order = 2 # approximation order for displacements\n",
    "\n",
    "# params.triangle_mesh = False # use triangular mesh\n",
    "\n",
    "# Pre-processing parameters\n",
    "# params.mesh_file = \"square_mexi\"\n",
    "params.mesh_file = \"L_shape\"\n",
    "params.length_x = 1\n",
    "params.length_y = 1\n",
    "params.length_z = 0\n",
    "params.show_mesh = True\n",
    "\n",
    "\n",
    "# solution parameters\n",
    "params.log_file = \"log\" # log file name \n"
   ]
  },
  {
   "cell_type": "markdown",
   "metadata": {},
   "source": [
    "## Run test"
   ]
  },
  {
   "cell_type": "code",
   "execution_count": null,
   "metadata": {
    "ExecuteTime": {
     "end_time": "2024-09-08T13:07:07.046096Z",
     "start_time": "2024-09-08T13:07:06.846195Z"
    },
    "execution": {
     "iopub.execute_input": "2024-09-25T15:55:55.856349Z",
     "iopub.status.busy": "2024-09-25T15:55:55.855985Z",
     "iopub.status.idle": "2024-09-25T15:55:56.097977Z",
     "shell.execute_reply": "2024-09-25T15:55:56.097477Z"
    }
   },
   "outputs": [],
   "source": [
    "# start display for showing results\n",
    "display = Display(backend=\"xvfb\", visible=False, size=(1024, 768))\n",
    "display.start()"
   ]
  },
  {
   "cell_type": "code",
   "execution_count": null,
   "metadata": {
    "ExecuteTime": {
     "end_time": "2024-09-08T13:07:09.316091Z",
     "start_time": "2024-09-08T13:07:07.048678Z"
    },
    "execution": {
     "iopub.execute_input": "2024-09-25T15:55:56.100921Z",
     "iopub.status.busy": "2024-09-25T15:55:56.100699Z",
     "iopub.status.idle": "2024-09-25T15:55:59.104132Z",
     "shell.execute_reply": "2024-09-25T15:55:59.103537Z"
    }
   },
   "outputs": [],
   "source": [
    "# Testing mesh generation\n",
    "if run_test:\n",
    "    params.show_mesh = True\n",
    "    generate_config(params)\n",
    "    generate_mesh(params)\n",
    "\n",
    "# stop the display\n",
    "display.stop()\n"
   ]
  },
  {
   "cell_type": "code",
   "execution_count": null,
   "metadata": {
    "ExecuteTime": {
     "end_time": "2024-09-08T13:07:09.321804Z",
     "start_time": "2024-09-08T13:07:09.318288Z"
    },
    "execution": {
     "iopub.execute_input": "2024-09-25T15:55:59.107108Z",
     "iopub.status.busy": "2024-09-25T15:55:59.106872Z",
     "iopub.status.idle": "2024-09-25T15:55:59.111221Z",
     "shell.execute_reply": "2024-09-25T15:55:59.110786Z"
    }
   },
   "outputs": [],
   "source": [
    "display.stop()"
   ]
  },
  {
   "cell_type": "code",
   "execution_count": null,
   "metadata": {
    "ExecuteTime": {
     "end_time": "2024-09-08T13:07:10.304793Z",
     "start_time": "2024-09-08T13:07:09.322767Z"
    },
    "execution": {
     "iopub.execute_input": "2024-09-25T15:55:59.113408Z",
     "iopub.status.busy": "2024-09-25T15:55:59.113226Z",
     "iopub.status.idle": "2024-09-25T15:56:00.362413Z",
     "shell.execute_reply": "2024-09-25T15:56:00.361129Z"
    }
   },
   "outputs": [],
   "source": [
    "params.part_file = params.mesh_file + \"_\" + str(params.nproc) + \"p.h5m\"\n",
    "!{mofem_part} -my_file {params.mesh_file + \".h5m\"} -my_nparts {params.nproc} -output_file {params.part_file} -dim 2 -adj_dim 1"
   ]
  },
  {
   "cell_type": "code",
   "execution_count": null,
   "metadata": {
    "ExecuteTime": {
     "end_time": "2024-09-08T13:07:11.245708Z",
     "start_time": "2024-09-08T13:07:10.306539Z"
    },
    "execution": {
     "iopub.execute_input": "2024-09-25T15:56:00.367076Z",
     "iopub.status.busy": "2024-09-25T15:56:00.366671Z",
     "iopub.status.idle": "2024-09-25T15:56:01.634246Z",
     "shell.execute_reply": "2024-09-25T15:56:01.633673Z"
    }
   },
   "outputs": [],
   "source": [
    "# recreate dataset\n",
    "recreate_dataset = True\n",
    "csv_name = \"dummy_tree\"\n",
    "\n",
    "dummy_noise = 0.1\n",
    "\n",
    "dummy_count = 10000\n",
    "\n",
    "if recreate_dataset:\n",
    "    !{create_csv_dataset} -output_file {csv_name}.csv -my_dummy_noise_q 0 -my_dummy_noise_k {dummy_noise} -my_dummy_k 1 -my_dummy_range_dp 9.0 -my_dummy_count {int(dummy_count)}\n",
    "\n",
    "    scal = np.genfromtxt('./scaling.in')\n",
    "    print(scal)\n",
    "\n",
    "data = pd.read_csv(csv_name+\".csv\", index_col=False)\n",
    "headers = []\n",
    "headers = data.columns.values\n",
    "print(headers)"
   ]
  },
  {
   "cell_type": "code",
   "execution_count": null,
   "metadata": {
    "ExecuteTime": {
     "end_time": "2024-09-08T13:07:11.253316Z",
     "start_time": "2024-09-08T13:07:11.248463Z"
    },
    "execution": {
     "iopub.execute_input": "2024-09-25T15:56:01.636641Z",
     "iopub.status.busy": "2024-09-25T15:56:01.636327Z",
     "iopub.status.idle": "2024-09-25T15:56:01.641762Z",
     "shell.execute_reply": "2024-09-25T15:56:01.641361Z"
    }
   },
   "outputs": [],
   "source": [
    "noise_list = [0.0, 0.01, 0.02, 0.05, 0.1]\n",
    "# noise_list = [0.02, 0.05, 0.1]\n",
    "ana_name = \"noise_sincos_\"\n",
    "\n",
    "ana_name_list = []\n",
    "\n",
    "for noise in noise_list:\n",
    "    ana_name_list.append(ana_name + str(noise))\n",
    "    \n",
    "# dummy_count_list = [1e3, 1e4, 1e5, 1e6, 1e7]\n",
    "# dummy_count_list = [1e3, 1e4, 1e5, 1e6]\n",
    "dummy_count = 1e6\n",
    "\n",
    "# realisations = 30\n",
    "monte_num = 30\n",
    "\n",
    "monte_control = f\"-monte_carlo {monte_num} -monte_patch_number 2\"\n",
    "\n",
    "\n",
    "refinement_style = 0\n",
    "ref_iter_num = 0\n",
    "refinement_control = \"\"\n",
    "ref = True\n",
    "\n",
    "if ref:\n",
    "    print(\"refinement: \")\n",
    "\n",
    "    # refinement style: \n",
    "    # 0 - no refinement\n",
    "    # 1 - p refinement (order)\n",
    "    # 2 - h refinement (mesh)\n",
    "    # 3 - hp refinement\n",
    "    refinement_style = 3\n",
    "\n",
    "    # number of refinements\n",
    "    ref_iter_num = 1\n",
    "\n",
    "    # refine mesh due to error indicators only on boundary\n",
    "    boundary_ony = \"-refine_h_boundary_only\"\n",
    "\n",
    "    # order refinement control\n",
    "    # > ord_ref_control * average error -> refine\n",
    "    ord_ref_control = 3.0\n",
    "    # mesh refinement control\n",
    "    # > mesh_ref_control * average error -> refine\n",
    "    mesh_ref_control = 4.0\n",
    "\n",
    "    # # DD refinement control\n",
    "    # # d > tol_distance_ref * d_ave -> do not refine\n",
    "    # tol_distance_ref = 1.0\n",
    "    # # d > tol_distance_var_ref * d_var \n",
    "    # # &&\n",
    "    # # d_var > tol_distance_var_ave * d_ave\n",
    "    # #  -> refine\n",
    "    # tol_distance_var_ref = 2.0\n",
    "    # tol_distance_var_ave = 0.5\n",
    "\n",
    "    refinement_control = f\"-refinement_style {refinement_style} -ref_iter_num {ref_iter_num} -ref_control {ord_ref_control} -ref_control_mesh {mesh_ref_control} {boundary_ony}\"\n",
    "    # -tol_distance_ref {tol_distance_ref} -tol_distance_var_ref {tol_distance_var_ref} -tol_distance_var_ave {tol_distance_var_ave} "
   ]
  },
  {
   "cell_type": "markdown",
   "metadata": {},
   "source": [
    "#### run analysis"
   ]
  },
  {
   "cell_type": "code",
   "execution_count": null,
   "metadata": {
    "execution": {
     "iopub.execute_input": "2024-09-25T15:56:01.643774Z",
     "iopub.status.busy": "2024-09-25T15:56:01.643399Z",
     "iopub.status.idle": "2024-09-25T15:56:01.647516Z",
     "shell.execute_reply": "2024-09-25T15:56:01.647130Z"
    }
   },
   "outputs": [],
   "source": [
    "# redefine if analysis should be run\n",
    "%run ./../load_setup.ipynb"
   ]
  },
  {
   "cell_type": "code",
   "execution_count": null,
   "metadata": {
    "ExecuteTime": {
     "start_time": "2024-09-08T13:07:05.266Z"
    },
    "execution": {
     "iopub.execute_input": "2024-09-25T15:56:01.649548Z",
     "iopub.status.busy": "2024-09-25T15:56:01.649183Z",
     "iopub.status.idle": "2024-09-25T15:56:01.665787Z",
     "shell.execute_reply": "2024-09-25T15:56:01.665386Z"
    }
   },
   "outputs": [],
   "source": [
    "if run_analysis:\n",
    "    !rm sumanalys.csv # making sure the previous analysis doesn't affect this one\n",
    "\n",
    "    # loop over noise_lisgt and ana_name_list\n",
    "    for (noise_in, ana_csv_name) in zip(noise_list, ana_name_list):\n",
    "        !rm out*\n",
    "        # !{create_csv_dataset} -output_file {csv_name}.csv -my_dummy_noise_q 0 -my_dummy_noise_k {noise_in} -my_dummy_k 1 -my_dummy_range_dp 9.0 -my_dummy_count {int(dummy_count)}\n",
    "\n",
    "        core_name = \"../dummy_\"\n",
    "        dataset_name = core_name+str(int(noise_in*100)) \n",
    "\n",
    "        # for i in range(realisations):\n",
    "        !{exe} -file_name {params.part_file} -my_order {params.order} {analytical_solution_tag} -csv_tree_file {dataset_name}.csv -write_long_error_file -rand_ini {monte_control} {refinement_control}\n",
    "\n",
    "        !mv ./sumanalys.csv ./{ana_csv_name}.csv\n",
    "        !mbconvert out_sigma_ele_29.h5m {noise_in*100}_out_sigma_29.vtk\n",
    "        !mbconvert out_monte_ele_errors_29.h5m {noise_in*100}_out_monte_ele_errors_29.vtk\n",
    "        !mbconvert out_before_perturb_29.h5m {noise_in*100}_out_before_perturb_29.vtk\n",
    "        !mbconvert out_after_perturb_29.h5m {noise_in*100}_out_after_perturb_29.vtk\n",
    "        # !mv ./sumanalys_monte_sigma.csv ./{ana_csv_name}_sigma.csv\n",
    "\n",
    "    # rewrite sumanalys_monte_sigma.csv to only consist or the last 5 rows\n",
    "    !tail -n {len(noise_list)} sumanalys_monte_sigma.csv > sumanalys_monte_sigma.csv\n"
   ]
  },
  {
   "cell_type": "code",
   "execution_count": null,
   "metadata": {
    "ExecuteTime": {
     "start_time": "2024-09-08T13:07:05.267Z"
    },
    "execution": {
     "iopub.execute_input": "2024-09-25T15:56:01.667629Z",
     "iopub.status.busy": "2024-09-25T15:56:01.667394Z",
     "iopub.status.idle": "2024-09-25T15:56:01.864439Z",
     "shell.execute_reply": "2024-09-25T15:56:01.863696Z"
    }
   },
   "outputs": [],
   "source": [
    "!cat ./sumanalys_monte_sigma.csv"
   ]
  },
  {
   "cell_type": "markdown",
   "metadata": {},
   "source": [
    "### Plot results"
   ]
  },
  {
   "cell_type": "code",
   "execution_count": null,
   "metadata": {
    "ExecuteTime": {
     "start_time": "2024-09-08T13:07:05.268Z"
    },
    "execution": {
     "iopub.execute_input": "2024-09-25T15:56:01.868156Z",
     "iopub.status.busy": "2024-09-25T15:56:01.867763Z",
     "iopub.status.idle": "2024-09-25T15:56:01.878430Z",
     "shell.execute_reply": "2024-09-25T15:56:01.877939Z"
    }
   },
   "outputs": [],
   "source": [
    "naming_std = [\"T\", \"g_x\", \"g_y\", \"q_x\", \"q_y\"]\n",
    "\n",
    "# read the data from sumanalys_monte_sigma.csv file with naming defined by naming_std\n",
    "data_std = pd.read_csv(\"sumanalys_monte_sigma.csv\", names=naming_std, index_col=False, skiprows=0)\n",
    "print(data_std)\n"
   ]
  },
  {
   "cell_type": "code",
   "execution_count": null,
   "metadata": {
    "ExecuteTime": {
     "start_time": "2024-09-08T13:07:05.268Z"
    },
    "execution": {
     "iopub.execute_input": "2024-09-25T15:56:01.880947Z",
     "iopub.status.busy": "2024-09-25T15:56:01.880638Z",
     "iopub.status.idle": "2024-09-25T15:56:01.883781Z",
     "shell.execute_reply": "2024-09-25T15:56:01.883324Z"
    }
   },
   "outputs": [],
   "source": [
    "# print noise list\n",
    "print(noise_list)"
   ]
  },
  {
   "cell_type": "code",
   "execution_count": null,
   "metadata": {
    "ExecuteTime": {
     "start_time": "2024-09-08T13:07:05.269Z"
    },
    "execution": {
     "iopub.execute_input": "2024-09-25T15:56:01.886285Z",
     "iopub.status.busy": "2024-09-25T15:56:01.885844Z",
     "iopub.status.idle": "2024-09-25T15:56:02.337416Z",
     "shell.execute_reply": "2024-09-25T15:56:02.336869Z"
    }
   },
   "outputs": [],
   "source": [
    "# plot the results from csv file wrt noise \n",
    "plt.figure()\n",
    "for name in naming_std:\n",
    "    plt.plot(noise_list, data_std[name], label=name)\n",
    "plt.legend(loc='best')\n",
    "plt.grid(True, ls=':')\n",
    "plt.xlabel('Standard deviation of noise')\n",
    "plt.ylabel('Standard deviation of error')\n",
    "\n",
    "\n"
   ]
  },
  {
   "cell_type": "code",
   "execution_count": null,
   "metadata": {
    "ExecuteTime": {
     "start_time": "2024-09-08T13:07:05.270Z"
    },
    "execution": {
     "iopub.execute_input": "2024-09-25T15:56:02.341217Z",
     "iopub.status.busy": "2024-09-25T15:56:02.340892Z",
     "iopub.status.idle": "2024-09-25T15:56:02.679994Z",
     "shell.execute_reply": "2024-09-25T15:56:02.679571Z"
    }
   },
   "outputs": [],
   "source": [
    "# plot just 'T'\n",
    "plt.figure()\n",
    "plt.plot(noise_list, data_std['T'], label='T')\n",
    "plt.legend(loc='best')\n",
    "plt.grid(True, ls=':')\n",
    "plt.xlabel('Standard deviation of noise')\n",
    "plt.ylabel('Standard deviation of error')\n"
   ]
  },
  {
   "cell_type": "code",
   "execution_count": null,
   "metadata": {
    "ExecuteTime": {
     "start_time": "2024-09-08T13:07:05.270Z"
    },
    "execution": {
     "iopub.execute_input": "2024-09-25T15:56:02.683585Z",
     "iopub.status.busy": "2024-09-25T15:56:02.683349Z",
     "iopub.status.idle": "2024-09-25T15:56:03.839482Z",
     "shell.execute_reply": "2024-09-25T15:56:03.838953Z"
    }
   },
   "outputs": [],
   "source": [
    "%run ./../L_plot_save_sigmas.ipynb"
   ]
  },
  {
   "cell_type": "code",
   "execution_count": null,
   "metadata": {
    "execution": {
     "iopub.execute_input": "2024-09-25T15:56:03.843051Z",
     "iopub.status.busy": "2024-09-25T15:56:03.842653Z",
     "iopub.status.idle": "2024-09-25T15:56:04.541959Z",
     "shell.execute_reply": "2024-09-25T15:56:04.541256Z"
    }
   },
   "outputs": [],
   "source": [
    "%run ./../L_plot_save_T_Q.ipynb"
   ]
  },
  {
   "cell_type": "code",
   "execution_count": null,
   "metadata": {
    "ExecuteTime": {
     "start_time": "2024-09-08T13:07:05.271Z"
    },
    "execution": {
     "iopub.execute_input": "2024-09-25T15:56:04.544989Z",
     "iopub.status.busy": "2024-09-25T15:56:04.544680Z",
     "iopub.status.idle": "2024-09-25T15:56:04.547786Z",
     "shell.execute_reply": "2024-09-25T15:56:04.547248Z"
    }
   },
   "outputs": [],
   "source": [
    "# # # plot {noise_in*100}_out_sigma_29.vtk for each noise\n",
    "\n",
    "# display = Display(backend=\"xvfb\", visible=False, size=(1024, 768))\n",
    "# display.start()\n",
    "\n",
    "# params.show_edges = False\n",
    "# params.show_mesh = False\n",
    "# params.show_field = \"SIGMA_T\"\n",
    "# params.p_cmap = color_temperature\n",
    "# for noise_in in noise_list:\n",
    "#     vtk_file = f\"{noise_in*100}_out_sigma_29\"\n",
    "#     print(vtk_file)\n",
    "#     params.show_file = vtk_file\n",
    "#     params.p_save = prefix + f\"noise_{noise_in*100}_sigma_T.pdf\"\n",
    "#     show_results(params)\n",
    "\n",
    "# display.stop()"
   ]
  },
  {
   "cell_type": "code",
   "execution_count": null,
   "metadata": {
    "ExecuteTime": {
     "start_time": "2024-09-08T13:07:05.272Z"
    },
    "execution": {
     "iopub.execute_input": "2024-09-25T15:56:04.550014Z",
     "iopub.status.busy": "2024-09-25T15:56:04.549799Z",
     "iopub.status.idle": "2024-09-25T15:56:04.552526Z",
     "shell.execute_reply": "2024-09-25T15:56:04.551992Z"
    }
   },
   "outputs": [],
   "source": [
    "# # # plot {noise_in*100}_out_sigma_29.vtk for each noise\n",
    "\n",
    "# display = Display(backend=\"xvfb\", visible=False, size=(1024, 768))\n",
    "# display.start()\n",
    "\n",
    "# params.show_field_name = \"SIGMA_GRAD_MAG\"\n",
    "# params.show_field = \"SIGMA_GRAD_X\"\n",
    "# params.show_field_2 = \"SIGMA_GRAD_Y\"\n",
    "# params.p_cmap = color_std_gradient\n",
    "# params.show_edges = False\n",
    "\n",
    "# for noise_in in noise_list:\n",
    "#     vtk_file = f\"{noise_in*100}_out_sigma_29\"\n",
    "#     print(vtk_file)\n",
    "#     params.show_file = vtk_file\n",
    "#     params.p_save = prefix + f\"noise_{noise_in*100}_sigma_grad.pdf\"\n",
    "#     show_results_monte_magnitude(params)\n",
    "\n",
    "# display.stop()"
   ]
  },
  {
   "cell_type": "code",
   "execution_count": null,
   "metadata": {
    "ExecuteTime": {
     "start_time": "2024-09-08T13:07:05.272Z"
    },
    "execution": {
     "iopub.execute_input": "2024-09-25T15:56:04.554722Z",
     "iopub.status.busy": "2024-09-25T15:56:04.554517Z",
     "iopub.status.idle": "2024-09-25T15:56:04.557184Z",
     "shell.execute_reply": "2024-09-25T15:56:04.556663Z"
    }
   },
   "outputs": [],
   "source": [
    "# # # plot {noise_in*100}_out_sigma_29.vtk for each noise\n",
    "\n",
    "# display = Display(backend=\"xvfb\", visible=False, size=(1024, 768))\n",
    "# display.start()\n",
    "\n",
    "# params.show_field_name = \"SIGMA_FLUX_MAG\"\n",
    "# params.show_field = \"SIGMA_FLUX_X\"\n",
    "# params.show_field_2 = \"SIGMA_FLUX_Y\"\n",
    "# params.p_cmap = color_std_gradient\n",
    "# params.show_edges = False\n",
    "\n",
    "# for noise_in in noise_list:\n",
    "#     vtk_file = f\"{noise_in*100}_out_sigma_29\"\n",
    "#     print(vtk_file)\n",
    "#     params.show_file = vtk_file\n",
    "#     params.p_save = prefix + f\"noise_{noise_in*100}_sigma_flux.pdf\"\n",
    "#     show_results_monte_magnitude(params)\n",
    "\n",
    "# display.stop()\n",
    "\n",
    "# params.p_save = None"
   ]
  },
  {
   "cell_type": "code",
   "execution_count": null,
   "metadata": {
    "ExecuteTime": {
     "start_time": "2024-09-08T13:07:05.273Z"
    },
    "execution": {
     "iopub.execute_input": "2024-09-25T15:56:04.559442Z",
     "iopub.status.busy": "2024-09-25T15:56:04.559040Z",
     "iopub.status.idle": "2024-09-25T15:56:04.561705Z",
     "shell.execute_reply": "2024-09-25T15:56:04.561178Z"
    }
   },
   "outputs": [],
   "source": [
    "# # print scatter for dataset from dummy_tree.csv\n",
    "\n",
    "# # read the data from dummy_tree.csv file with naming defined by headers\n",
    "# data = pd.read_csv(\"dummy_tree.csv\", names=headers, index_col=False, skiprows=1)\n",
    "# print(data)\n",
    "\n",
    "# # plot row 0 vs row 2\n",
    "# plt.figure()\n",
    "# plt.scatter(data[headers[0]], data[headers[2]], s=1)\n",
    "# plt.xlabel(headers[0])\n",
    "# plt.ylabel(headers[2])\n",
    "# plt.grid(True, ls=':')\n",
    "# plt.show()\n",
    "\n",
    "# # plot row 1 vs row 3\n",
    "# plt.figure()\n",
    "# plt.scatter(data[headers[1]], data[headers[3]], s=1)\n",
    "# plt.xlabel(headers[1])\n",
    "# plt.ylabel(headers[3])\n",
    "# plt.grid(True, ls=':')\n",
    "# plt.show()"
   ]
  },
  {
   "cell_type": "code",
   "execution_count": null,
   "metadata": {},
   "outputs": [],
   "source": []
  }
 ],
 "metadata": {
  "kernelspec": {
   "display_name": "Python 3 (ipykernel)",
   "language": "python",
   "name": "python3"
  },
  "language_info": {
   "codemirror_mode": {
    "name": "ipython",
    "version": 3
   },
   "file_extension": ".py",
   "mimetype": "text/x-python",
   "name": "python",
   "nbconvert_exporter": "python",
   "pygments_lexer": "ipython3",
   "version": "3.8.10"
  },
  "widgets": {
   "application/vnd.jupyter.widget-state+json": {
    "state": {
     "1680173e331743488d7cde4ee80e2526": {
      "model_module": "@jupyter-widgets/controls",
      "model_module_version": "1.5.0",
      "model_name": "GridBoxModel",
      "state": {
       "_dom_classes": [],
       "_model_module": "@jupyter-widgets/controls",
       "_model_module_version": "1.5.0",
       "_model_name": "GridBoxModel",
       "_view_count": null,
       "_view_module": "@jupyter-widgets/controls",
       "_view_module_version": "1.5.0",
       "_view_name": "GridBoxView",
       "box_style": "",
       "children": [
        "IPY_MODEL_37f95c7a8a6a4c9bb57ac6a521120b44",
        "IPY_MODEL_e618242ae5e4446f91ca897b0b6da396"
       ],
       "layout": "IPY_MODEL_83a5c54ee4f4499d99da8a4df96198e6"
      }
     },
     "18f4a20e39a84266932011a4f743f115": {
      "model_module": "@jupyter-widgets/controls",
      "model_module_version": "1.5.0",
      "model_name": "DescriptionStyleModel",
      "state": {
       "_model_module": "@jupyter-widgets/controls",
       "_model_module_version": "1.5.0",
       "_model_name": "DescriptionStyleModel",
       "_view_count": null,
       "_view_module": "@jupyter-widgets/base",
       "_view_module_version": "1.2.0",
       "_view_name": "StyleView",
       "description_width": ""
      }
     },
     "196360eac5804b8186394ec454b0367b": {
      "model_module": "ipygany",
      "model_module_version": "^0.5.0",
      "model_name": "DataModel",
      "state": {
       "_model_module": "ipygany",
       "_model_module_version": "^0.5.0",
       "_model_name": "DataModel",
       "_view_count": null,
       "_view_module": null,
       "_view_module_version": "",
       "_view_name": null,
       "components": [
        "IPY_MODEL_3a79c124cb664a33a8fdbbf6aa891380"
       ],
       "name": "Data"
      }
     },
     "2bece551b6164838a5ffbe38c930a7b6": {
      "buffers": [
       {
        "data": "oAAAAKEAAACiAAAAowAAAKQAAAClAAAApgAAAKcAAACoAAAAqQAAAKoAAACrAAAArAAAAK0AAACuAAAArwAAALAAAACxAAAAsgAAALMAAAC0AAAAtQAAALYAAAC3AAAAuAAAALkAAAC6AAAAuwAAALwAAAC9AAAAvgAAAL8AAADAAAAAwQAAAMIAAADDAAAAxAAAAMUAAADGAAAAxwAAAMgAAADJAAAAygAAAMsAAADMAAAAzQAAAM4AAADPAAAA0AAAANEAAADSAAAA0wAAANQAAADVAAAA1gAAANcAAADYAAAA2QAAANoAAADbAAAA3AAAAN0AAADeAAAA3wAAAOAAAADhAAAA4gAAAOMAAADkAAAA5QAAAOYAAADnAAAA6AAAAOkAAADqAAAA6wAAAOwAAADtAAAA7gAAAO8AAADwAAAA8QAAAPIAAADzAAAA9AAAAPUAAAD2AAAA9wAAAPgAAAD5AAAA+gAAAPsAAAD8AAAA/QAAAP4AAAD/AAAAAAEAAAEBAAACAQAAAwEAAAQBAAAFAQAABgEAAAcBAAAIAQAACQEAAAoBAAALAQAADAEAAA0BAAAOAQAADwEAABABAAARAQAAEgEAABMBAAAUAQAAFQEAABYBAAAXAQAAGAEAABkBAAAaAQAAGwEAABwBAAAdAQAAHgEAAB8BAAAgAQAAIQEAACIBAAAjAQAAJAEAACUBAAAmAQAAJwEAACgBAAApAQAAKgEAACsBAAAsAQAALQEAAC4BAAAvAQAAMAEAADEBAAAyAQAAMwEAADQBAAA1AQAANgEAADcBAAA4AQAAOQEAADoBAAA7AQAAPAEAAD0BAAA+AQAAPwEAAEABAABBAQAAQgEAAEMBAABEAQAARQEAAEYBAABHAQAASAEAAEkBAABKAQAASwEAAEwBAABNAQAATgEAAE8BAABQAQAAUQEAAFIBAABTAQAAVAEAAFUBAABWAQAAVwEAAFgBAABZAQAAWgEAAFsBAABcAQAAXQEAAF4BAABfAQAAYAEAAGEBAABiAQAAYwEAAGQBAABlAQAAZgEAAGcBAABoAQAAaQEAAGoBAABrAQAAbAEAAG0BAABuAQAAbwEAAHABAABxAQAAcgEAAHMBAAB0AQAAdQEAAHYBAAB3AQAAeAEAAHkBAAB6AQAAewEAAHwBAAB9AQAAfgEAAH8BAACAAQAAgQEAAIIBAACDAQAAhAEAAIUBAACGAQAAhwEAAIgBAACJAQAAigEAAIsBAACMAQAAjQEAAI4BAACPAQAAkAEAAJEBAACSAQAAkwEAAJQBAACVAQAAlgEAAJcBAACYAQAAmQEAAJoBAACbAQAAnAEAAJ0BAACeAQAAnwEAAKABAAChAQAAogEAAKMBAACkAQAApQEAAKYBAACnAQAAqAEAAKkBAACqAQAAqwEAAKwBAACtAQAArgEAAK8BAACwAQAAsQEAALIBAACzAQAAtAEAALUBAAC2AQAAtwEAALgBAAC5AQAAugEAALsBAAC8AQAAvQEAAL4BAAC/AQAAwAEAAMEBAADCAQAAwwEAAMQBAADFAQAAxgEAAMcBAADIAQAAyQEAAMoBAADLAQAAzAEAAM0BAADOAQAAzwEAANABAADRAQAA0gEAANMBAADUAQAA1QEAANYBAADXAQAA2AEAANkBAADaAQAA2wEAANwBAADdAQAA3gEAAN8BAADgAQAA4QEAAOIBAADjAQAA5AEAAOUBAADmAQAA5wEAAOgBAADpAQAA6gEAAOsBAADsAQAA7QEAAO4BAADvAQAA8AEAAPEBAADyAQAA8wEAAPQBAAD1AQAA9gEAAPcBAAD4AQAA+QEAAPoBAAD7AQAA/AEAAP0BAAD+AQAA/wEAAAACAAABAgAAAgIAAAMCAAAEAgAABQIAAAYCAAAHAgAACAIAAAkCAAAKAgAACwIAAAwCAAANAgAADgIAAA8CAAAQAgAAEQIAABICAAATAgAAFAIAABUCAAAWAgAAFwIAABgCAAAZAgAAGgIAABsCAAAcAgAAHQIAAB4CAAAfAgAAIAIAACECAAAiAgAAIwIAACQCAAAlAgAAJgIAACcCAAAoAgAAKQIAACoCAAArAgAALAIAAC0CAAAuAgAALwIAADACAAAxAgAAMgIAADMCAAA0AgAANQIAADYCAAA3AgAAOAIAADkCAAA6AgAAOwIAADwCAAA9AgAAPgIAAD8CAABAAgAAQQIAAEICAABDAgAARAIAAEUCAABGAgAARwIAAEgCAABJAgAASgIAAEsCAABMAgAATQIAAE4CAABPAgAAUAIAAFECAABSAgAAUwIAAFQCAABVAgAAVgIAAFcCAABYAgAAWQIAAFoCAABbAgAAXAIAAF0CAABeAgAAXwIAAGACAABhAgAAYgIAAGMCAABkAgAAZQIAAGYCAABnAgAAaAIAAGkCAABqAgAAawIAAGwCAABtAgAAbgIAAG8CAABwAgAAcQIAAHICAABzAgAAdAIAAHUCAAB2AgAAdwIAAHgCAAB5AgAAegIAAHsCAAB8AgAAfQIAAH4CAAB/AgAAgAIAAIECAACCAgAAgwIAAIQCAACFAgAAhgIAAIcCAACIAgAAiQIAAIoCAACLAgAAjAIAAI0CAACOAgAAjwIAAJACAACRAgAAkgIAAJMCAACUAgAAlQIAAJYCAACXAgAAmAIAAJkCAACaAgAAmwIAAJwCAACdAgAAngIAAJ8CAACgAgAAoQIAAKICAACjAgAApAIAAKUCAACmAgAApwIAAKgCAACpAgAAqgIAAKsCAACsAgAArQIAAK4CAACvAgAAsAIAALECAACyAgAAswIAALQCAAC1AgAAtgIAALcCAAC4AgAAuQIAALoCAAC7AgAAvAIAAL0CAAC+AgAAvwIAAMACAADBAgAAwgIAAMMCAADEAgAAxQIAAMYCAADHAgAAyAIAAMkCAADKAgAAywIAAMwCAADNAgAAzgIAAM8CAADQAgAA0QIAANICAADTAgAA1AIAANUCAADWAgAA1wIAANgCAADZAgAA2gIAANsCAADcAgAA3QIAAN4CAADfAgAA4AIAAOECAADiAgAA4wIAAOQCAADlAgAA5gIAAOcCAADoAgAA6QIAAOoCAADrAgAA7AIAAO0CAADuAgAA7wIAAPACAADxAgAA8gIAAPMCAAD0AgAA9QIAAPYCAAD3AgAA+AIAAPkCAAD6AgAA+wIAAPwCAAD9AgAA/gIAAP8CAAAAAwAAAQMAAAIDAAADAwAABAMAAAUDAAAGAwAABwMAAAgDAAAJAwAACgMAAAsDAAAMAwAADQMAAA4DAAAPAwAAEAMAABEDAAASAwAAEwMAABQDAAAVAwAAFgMAABcDAAAYAwAAGQMAABoDAAAbAwAAHAMAAB0DAAAeAwAAHwMAACADAAAhAwAAIgMAACMDAAAkAwAAJQMAACYDAAAnAwAAKAMAACkDAAAqAwAAKwMAACwDAAAtAwAALgMAAC8DAAAwAwAAMQMAADIDAAAzAwAANAMAADUDAAA2AwAANwMAADgDAAA5AwAAOgMAADsDAAA8AwAAPQMAAD4DAAA/AwAAQAMAAEEDAABCAwAAQwMAAEQDAABFAwAARgMAAEcDAABIAwAASQMAAEoDAABLAwAATAMAAE0DAABOAwAATwMAAFADAABRAwAAUgMAAFMDAABUAwAAVQMAAFYDAABXAwAAWAMAAFkDAABaAwAAWwMAAFwDAABdAwAAXgMAAF8DAABgAwAAYQMAAGIDAABjAwAAZAMAAGUDAABmAwAAZwMAAGgDAABpAwAAagMAAGsDAABsAwAAbQMAAG4DAABvAwAAcAMAAHEDAAByAwAAcwMAAHQDAAB1AwAAdgMAAHcDAAB4AwAAeQMAAHoDAAB7AwAAfAMAAH0DAAB+AwAAfwMAAIADAACBAwAAggMAAIMDAACEAwAAhQMAAIYDAACHAwAAiAMAAIkDAACKAwAAiwMAAIwDAACNAwAAjgMAAI8DAACQAwAAkQMAAJIDAACTAwAAlAMAAJUDAACWAwAAlwMAAJgDAACZAwAAmgMAAJsDAACcAwAAnQMAAJ4DAACfAwAAoAMAAKEDAACiAwAAowMAAKQDAAClAwAApgMAAKcDAACoAwAAqQMAAKoDAACrAwAArAMAAK0DAACuAwAArwMAALADAACxAwAAsgMAALMDAAC0AwAAtQMAALYDAAC3AwAAuAMAALkDAAC6AwAAuwMAALwDAAC9AwAAvgMAAL8DAADAAwAAwQMAAMIDAADDAwAAxAMAAMUDAADGAwAAxwMAAMgDAADJAwAAygMAAMsDAADMAwAAzQMAAM4DAADPAwAA0AMAANEDAADSAwAA0wMAANQDAADVAwAA1gMAANcDAADYAwAA2QMAANoDAADbAwAA3AMAAN0DAADeAwAA3wMAAOADAADhAwAA4gMAAOMDAADkAwAA5QMAAOYDAADnAwAA6AMAAOkDAADqAwAA6wMAAOwDAADtAwAA7gMAAO8DAADwAwAA8QMAAPIDAADzAwAA9AMAAPUDAAD2AwAA9wMAAPgDAAD5AwAA+gMAAPsDAAD8AwAA/QMAAP4DAAD/AwAAAAQAAAEEAAACBAAAAwQAAAQEAAAFBAAABgQAAAcEAAAIBAAACQQAAAoEAAALBAAADAQAAA0EAAAOBAAADwQAABAEAAARBAAAEgQAABMEAAAUBAAAFQQAABYEAAAXBAAAGAQAABkEAAAaBAAAGwQAABwEAAAdBAAAHgQAAB8EAAAgBAAAIQQAACIEAAAjBAAAJAQAACUEAAAmBAAAJwQAACgEAAApBAAAKgQAACsEAAAsBAAALQQAAC4EAAAvBAAAMAQAADEEAAAyBAAAMwQAADQEAAA1BAAANgQAADcEAAA4BAAAOQQAADoEAAA7BAAAPAQAAD0EAAA+BAAAPwQAAEAEAABBBAAAQgQAAEMEAABEBAAARQQAAEYEAABHBAAASAQAAEkEAABKBAAASwQAAEwEAABNBAAATgQAAE8EAABQBAAAUQQAAFIEAABTBAAAVAQAAFUEAABWBAAAVwQAAFgEAABZBAAAWgQAAFsEAABcBAAAXQQAAF4EAABfBAAAYAQAAGEEAABiBAAAYwQAAGQEAABlBAAAZgQAAGcEAABoBAAAaQQAAGoEAABrBAAAbAQAAG0EAABuBAAAbwQAAHAEAABxBAAAcgQAAHMEAAB0BAAAdQQAAHYEAAB3BAAAeAQAAHkEAAB6BAAAewQAAHwEAAB9BAAAfgQAAH8EAACABAAAgQQAAIIEAACDBAAAhAQAAIUEAACGBAAAhwQAAIgEAACJBAAAigQAAIsEAACMBAAAjQQAAI4EAACPBAAAkAQAAJEEAACSBAAAkwQAAJQEAACVBAAAlgQAAJcEAACYBAAAmQQAAJoEAACbBAAAnAQAAJ0EAACeBAAAnwQAAKAEAAChBAAAogQAAKMEAACkBAAApQQAAKYEAACnBAAAqAQAAKkEAACqBAAAqwQAAKwEAACtBAAArgQAAK8EAACwBAAAsQQAALIEAACzBAAAtAQAALUEAAC2BAAAtwQAALgEAAC5BAAAugQAALsEAAC8BAAAvQQAAL4EAAC/BAAAwAQAAMEEAADCBAAAwwQAAMQEAADFBAAAxgQAAMcEAADIBAAAyQQAAMoEAADLBAAAzAQAAM0EAADOBAAAzwQAANAEAADRBAAA0gQAANMEAADUBAAA1QQAANYEAADXBAAA2AQAANkEAADaBAAA2wQAANwEAADdBAAA3gQAAN8EAADgBAAA4QQAAOIEAADjBAAA5AQAAOUEAADmBAAA5wQAAOgEAADpBAAA6gQAAOsEAADsBAAA7QQAAO4EAADvBAAA8AQAAPEEAADyBAAA8wQAAPQEAAD1BAAA9gQAAPcEAAD4BAAA+QQAAPoEAAD7BAAA/AQAAP0EAAD+BAAA/wQAAAAFAAABBQAAAgUAAAMFAAAEBQAABQUAAAYFAAAHBQAACAUAAAkFAAAKBQAACwUAAAwFAAANBQAADgUAAA8FAAAQBQAAEQUAABIFAAATBQAAFAUAABUFAAAWBQAAFwUAABgFAAAZBQAAGgUAABsFAAAcBQAAHQUAAB4FAAAfBQAAIAUAACEFAAAiBQAAIwUAACQFAAAlBQAAJgUAACcFAAAoBQAAKQUAACoFAAArBQAALAUAAC0FAAAuBQAALwUAADAFAAAxBQAAMgUAADMFAAA0BQAANQUAADYFAAA3BQAAOAUAADkFAAA6BQAAOwUAADwFAAA9BQAAPgUAAD8FAABABQAAQQUAAEIFAABDBQAARAUAAEUFAABGBQAARwUAAEgFAABJBQAASgUAAEsFAABMBQAATQUAAE4FAABPBQAAUAUAAFEFAABSBQAAUwUAAFQFAABVBQAAVgUAAFcFAABYBQAAWQUAAFoFAABbBQAAXAUAAF0FAABeBQAAXwUAAGAFAABhBQAAYgUAAGMFAABkBQAAZQUAAGYFAABnBQAAaAUAAGkFAABqBQAAawUAAGwFAABtBQAAbgUAAG8FAABwBQAAcQUAAHIFAABzBQAAdAUAAHUFAAB2BQAAdwUAAHgFAAB5BQAAegUAAHsFAAB8BQAAfQUAAH4FAAB/BQAAgAUAAIEFAACCBQAAgwUAAIQFAACFBQAAhgUAAIcFAACIBQAAiQUAAIoFAACLBQAAjAUAAI0FAACOBQAAjwUAAJAFAACRBQAAkgUAAJMFAACUBQAAlQUAAJYFAACXBQAAmAUAAJkFAACaBQAAmwUAAJwFAACdBQAAngUAAJ8FAACgBQAAoQUAAKIFAACjBQAApAUAAKUFAACmBQAApwUAAKgFAACpBQAAqgUAAKsFAACsBQAArQUAAK4FAACvBQAAsAUAALEFAACyBQAAswUAALQFAAC1BQAAtgUAALcFAAC4BQAAuQUAALoFAAC7BQAAvAUAAL0FAAC+BQAAvwUAAMAFAADBBQAAwgUAAMMFAADEBQAAxQUAAMYFAADHBQAAyAUAAMkFAADKBQAAywUAAMwFAADNBQAAzgUAAM8FAADQBQAA0QUAANIFAADTBQAA1AUAANUFAADWBQAA1wUAANgFAADZBQAA2gUAANsFAADcBQAA3QUAAN4FAADfBQAA4AUAAOEFAADiBQAA4wUAAOQFAADlBQAA5gUAAOcFAADoBQAA6QUAAOoFAADrBQAA7AUAAO0FAADuBQAA7wUAAPAFAADxBQAA8gUAAPMFAAD0BQAA9QUAAPYFAAD3BQAA+AUAAPkFAAD6BQAA+wUAAPwFAAD9BQAA/gUAAP8FAAAABgAAAQYAAAIGAAADBgAABAYAAAUGAAAGBgAABwYAAAgGAAAJBgAACgYAAAsGAAAMBgAADQYAAA4GAAAPBgAAEAYAABEGAAASBgAAEwYAABQGAAAVBgAAFgYAABcGAAAYBgAAGQYAABoGAAAbBgAAHAYAAB0GAAAeBgAAHwYAACAGAAAhBgAAIgYAACMGAAAkBgAAJQYAACYGAAAnBgAAKAYAACkGAAAqBgAAKwYAACwGAAAtBgAALgYAAC8GAAAwBgAAMQYAADIGAAAzBgAANAYAADUGAAA2BgAANwYAADgGAAA5BgAAOgYAADsGAAA8BgAAPQYAAD4GAAA/BgAAQAYAAEEGAABCBgAAQwYAAEQGAABFBgAARgYAAEcGAABIBgAASQYAAEoGAABLBgAATAYAAE0GAABOBgAATwYAAFAGAABRBgAAUgYAAFMGAABUBgAAVQYAAFYGAABXBgAAWAYAAFkGAABaBgAAWwYAAFwGAABdBgAAXgYAAF8GAABgBgAAYQYAAGIGAABjBgAAZAYAAGUGAABmBgAAZwYAAGgGAABpBgAAagYAAGsGAABsBgAAbQYAAG4GAABvBgAAcAYAAHEGAAByBgAAcwYAAHQGAAB1BgAAdgYAAHcGAAB4BgAAeQYAAHoGAAB7BgAAfAYAAH0GAAB+BgAAfwYAAIAGAACBBgAAggYAAIMGAACEBgAAhQYAAIYGAACHBgAAiAYAAIkGAACKBgAAiwYAAIwGAACNBgAAjgYAAI8GAACQBgAAkQYAAJIGAACTBgAAlAYAAJUGAACWBgAAlwYAAJgGAACZBgAAmgYAAJsGAACcBgAAnQYAAJ4GAACfBgAAoAYAAKEGAACiBgAAowYAAKQGAAClBgAApgYAAKcGAACoBgAAqQYAAKoGAACrBgAArAYAAK0GAACuBgAArwYAALAGAACxBgAAsgYAALMGAAC0BgAAtQYAALYGAAC3BgAAuAYAALkGAAC6BgAAuwYAALwGAAC9BgAAvgYAAL8GAADABgAAwQYAAMIGAADDBgAAxAYAAMUGAADGBgAAxwYAAMgGAADJBgAAygYAAMsGAADMBgAAzQYAAM4GAADPBgAA0AYAANEGAADSBgAA0wYAANQGAADVBgAA1gYAANcGAADYBgAA2QYAANoGAADbBgAA3AYAAN0GAADeBgAA3wYAAOAGAADhBgAA4gYAAOMGAADkBgAA5QYAAOYGAADnBgAA6AYAAOkGAADqBgAA6wYAAOwGAADtBgAA7gYAAO8GAADwBgAA8QYAAPIGAADzBgAA9AYAAPUGAAD2BgAA9wYAAPgGAAD5BgAA+gYAAPsGAAD8BgAA/QYAAP4GAAD/BgAAAAcAAAEHAAACBwAAAwcAAAQHAAAFBwAABgcAAAcHAAAIBwAACQcAAAoHAAALBwAADAcAAA0HAAAOBwAADwcAABAHAAARBwAAEgcAABMHAAAUBwAAFQcAABYHAAAXBwAAGAcAABkHAAAaBwAAGwcAABwHAAAdBwAAHgcAAB8HAAAgBwAAIQcAACIHAAAjBwAAJAcAACUHAAAmBwAAJwcAACgHAAApBwAAKgcAACsHAAAsBwAALQcAAC4HAAAvBwAAMAcAADEHAAAyBwAAMwcAADQHAAA1BwAANgcAADcHAAA4BwAAOQcAADoHAAA7BwAAPAcAAD0HAAA+BwAAPwcAAEAHAABBBwAAQgcAAEMHAABEBwAARQcAAEYHAABHBwAASAcAAEkHAABKBwAASwcAAEwHAABNBwAATgcAAE8HAABQBwAAUQcAAFIHAABTBwAAVAcAAFUHAABWBwAAVwcAAFgHAABZBwAAWgcAAFsHAABcBwAAXQcAAF4HAABfBwAAYAcAAGEHAABiBwAAYwcAAGQHAABlBwAAZgcAAGcHAABoBwAAaQcAAGoHAABrBwAAbAcAAG0HAABuBwAAbwcAAHAHAABxBwAAcgcAAHMHAAB0BwAAdQcAAHYHAAB3BwAAeAcAAHkHAAB6BwAAewcAAHwHAAB9BwAAfgcAAH8HAACABwAAgQcAAIIHAACDBwAAhAcAAIUHAACGBwAAhwcAAIgHAACJBwAAigcAAIsHAACMBwAAjQcAAI4HAACPBwAAkAcAAJEHAACSBwAAkwcAAJQHAACVBwAAlgcAAJcHAACYBwAAmQcAAJoHAACbBwAAnAcAAJ0HAACeBwAAnwcAAKAHAAChBwAAogcAAKMHAACkBwAApQcAAKYHAACnBwAAqAcAAKkHAACqBwAAqwcAAKwHAACtBwAArgcAAK8HAACwBwAAsQcAALIHAACzBwAAtAcAALUHAAC2BwAAtwcAALgHAAC5BwAAugcAALsHAAC8BwAAvQcAAL4HAAC/BwAAwAcAAMEHAADCBwAAwwcAAMQHAADFBwAAxgcAAMcHAADIBwAAyQcAAMoHAADLBwAAzAcAAM0HAADOBwAAzwcAANAHAADRBwAA0gcAANMHAADUBwAA1QcAANYHAADXBwAA2AcAANkHAADaBwAA2wcAANwHAADdBwAA3gcAAN8HAADgBwAA4QcAAOIHAADjBwAA5AcAAOUHAADmBwAA5wcAAOgHAADpBwAA6gcAAOsHAADsBwAA7QcAAO4HAADvBwAA8AcAAPEHAADyBwAA8wcAAPQHAAD1BwAA9gcAAPcHAAD4BwAA+QcAAPoHAAD7BwAA/AcAAP0HAAD+BwAA/wcAAAAIAAABCAAAAggAAAMIAAAECAAABQgAAAYIAAAHCAAACAgAAAkIAAAKCAAACwgAAAwIAAANCAAADggAAA8IAAAQCAAAEQgAABIIAAATCAAAFAgAABUIAAAWCAAAFwgAABgIAAAZCAAAGggAABsIAAAcCAAAHQgAAB4IAAAfCAAAIAgAACEIAAAiCAAAIwgAACQIAAAlCAAAJggAACcIAAAoCAAAKQgAACoIAAArCAAALAgAAC0IAAAuCAAALwgAADAIAAAxCAAAMggAADMIAAA0CAAANQgAADYIAAA3CAAAOAgAADkIAAA6CAAAOwgAADwIAAA9CAAAPggAAD8IAABACAAAQQgAAEIIAABDCAAARAgAAEUIAABGCAAARwgAAEgIAABJCAAASggAAEsIAABMCAAATQgAAE4IAABPCAAAUAgAAFEIAABSCAAAUwgAAFQIAABVCAAAVggAAFcIAABYCAAAWQgAAFoIAABbCAAAXAgAAF0IAABeCAAAXwgAAGAIAABhCAAAYggAAGMIAABkCAAAZQgAAGYIAABnCAAAaAgAAGkIAABqCAAAawgAAGwIAABtCAAAbggAAG8IAABwCAAAcQgAAHIIAABzCAAAdAgAAHUIAAB2CAAAdwgAAHgIAAB5CAAAeggAAHsIAAB8CAAAfQgAAH4IAAB/CAAAgAgAAIEIAACCCAAAgwgAAIQIAACFCAAAhggAAIcIAACICAAAiQgAAIoIAACLCAAAjAgAAI0IAACOCAAAjwgAAJAIAACRCAAAkggAAJMIAACUCAAAlQgAAJYIAACXCAAAmAgAAJkIAACaCAAAmwgAAJwIAACdCAAAnggAAJ8IAACgCAAAoQgAAKIIAACjCAAApAgAAKUIAACmCAAApwgAAKgIAACpCAAAqggAAKsIAACsCAAArQgAAK4IAACvCAAAsAgAALEIAACyCAAAswgAALQIAAC1CAAAtggAALcIAAC4CAAAuQgAALoIAAC7CAAAvAgAAL0IAAC+CAAAvwgAAMAIAADBCAAAwggAAMMIAADECAAAxQgAAMYIAADHCAAAyAgAAMkIAADKCAAAywgAAMwIAADNCAAAzggAAM8IAADQCAAA0QgAANIIAADTCAAA1AgAANUIAADWCAAA1wgAANgIAADZCAAA2ggAANsIAADcCAAA3QgAAN4IAADfCAAA4AgAAOEIAADiCAAA4wgAAOQIAADlCAAA5ggAAOcIAADoCAAA6QgAAOoIAADrCAAA7AgAAO0IAADuCAAA7wgAAPAIAADxCAAA8ggAAPMIAAD0CAAA9QgAAPYIAAD3CAAA+AgAAPkIAAD6CAAA+wgAAPwIAAD9CAAA/ggAAP8IAAAACQAAAQkAAAIJAAADCQAABAkAAAUJAAAGCQAABwkAAAgJAAAJCQAACgkAAAsJAAAMCQAADQkAAA4JAAAPCQAAEAkAABEJAAASCQAAEwkAABQJAAAVCQAAFgkAABcJAAAYCQAAGQkAABoJAAAbCQAAHAkAAB0JAAAeCQAAHwkAACAJAAAhCQAAIgkAACMJAAAkCQAAJQkAACYJAAAnCQAAKAkAACkJAAAqCQAAKwkAACwJAAAtCQAA",
        "encoding": "base64",
        "path": [
         "triangle_indices",
         "data"
        ]
       },
       {
        "data": "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",
        "encoding": "base64",
        "path": [
         "vertices",
         "data"
        ]
       }
      ],
      "model_module": "ipygany",
      "model_module_version": "^0.5.0",
      "model_name": "PolyMeshModel",
      "state": {
       "_model_module": "ipygany",
       "_model_module_version": "^0.5.0",
       "_model_name": "PolyMeshModel",
       "_view_count": null,
       "_view_module": null,
       "_view_module_version": "",
       "_view_name": null,
       "data": [],
       "default_color": "#d2b48c",
       "environment_meshes": [],
       "triangle_indices": {
        "dtype": "int32",
        "shape": [
         2190
        ]
       },
       "vertices": {
        "dtype": "float32",
        "shape": [
         7050
        ]
       }
      }
     },
     "36523524f83c436bb5f7a73b0f0662dc": {
      "model_module": "@jupyter-widgets/controls",
      "model_module_version": "1.5.0",
      "model_name": "HTMLModel",
      "state": {
       "_dom_classes": [],
       "_model_module": "@jupyter-widgets/controls",
       "_model_module_version": "1.5.0",
       "_model_name": "HTMLModel",
       "_view_count": null,
       "_view_module": "@jupyter-widgets/controls",
       "_view_module_version": "1.5.0",
       "_view_name": "HTMLView",
       "description": "",
       "description_tooltip": null,
       "layout": "IPY_MODEL_aff229247d7c45fd937a3e155b3ceee4",
       "placeholder": "​",
       "style": "IPY_MODEL_884c0e44b9c341458dd207c90cf67071",
       "value": "<h3>SIGMA_T</h3>"
      }
     },
     "37f95c7a8a6a4c9bb57ac6a521120b44": {
      "model_module": "@jupyter-widgets/controls",
      "model_module_version": "1.5.0",
      "model_name": "VBoxModel",
      "state": {
       "_dom_classes": [],
       "_model_module": "@jupyter-widgets/controls",
       "_model_module_version": "1.5.0",
       "_model_name": "VBoxModel",
       "_view_count": null,
       "_view_module": "@jupyter-widgets/controls",
       "_view_module_version": "1.5.0",
       "_view_name": "VBoxView",
       "box_style": "",
       "children": [
        "IPY_MODEL_36523524f83c436bb5f7a73b0f0662dc",
        "IPY_MODEL_fac2b215772d4821b3f603a734482edb",
        "IPY_MODEL_5bf3e74450a743049443b31346283664"
       ],
       "layout": "IPY_MODEL_cabb8d0340f44c6cb91469dcee4ca67a"
      }
     },
     "3a79c124cb664a33a8fdbbf6aa891380": {
      "buffers": [
       {
        "data": "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",
        "encoding": "base64",
        "path": [
         "array",
         "data"
        ]
       }
      ],
      "model_module": "ipygany",
      "model_module_version": "^0.5.0",
      "model_name": "ComponentModel",
      "state": {
       "_model_module": "ipygany",
       "_model_module_version": "^0.5.0",
       "_model_name": "ComponentModel",
       "_view_count": null,
       "_view_module": null,
       "_view_module_version": "",
       "_view_name": null,
       "array": {
        "dtype": "float32",
        "shape": [
         730
        ]
       },
       "name": "X1"
      }
     },
     "3e0f269e0bad4b088b3e78caf3cb1234": {
      "model_module": "@jupyter-widgets/base",
      "model_module_version": "1.2.0",
      "model_name": "LayoutModel",
      "state": {
       "_model_module": "@jupyter-widgets/base",
       "_model_module_version": "1.2.0",
       "_model_name": "LayoutModel",
       "_view_count": null,
       "_view_module": "@jupyter-widgets/base",
       "_view_module_version": "1.2.0",
       "_view_name": "LayoutView",
       "align_content": null,
       "align_items": null,
       "align_self": null,
       "border": null,
       "bottom": null,
       "display": null,
       "flex": null,
       "flex_flow": null,
       "grid_area": null,
       "grid_auto_columns": null,
       "grid_auto_flow": null,
       "grid_auto_rows": null,
       "grid_column": null,
       "grid_gap": null,
       "grid_row": null,
       "grid_template_areas": null,
       "grid_template_columns": null,
       "grid_template_rows": null,
       "height": null,
       "justify_content": null,
       "justify_items": null,
       "left": null,
       "margin": null,
       "max_height": null,
       "max_width": null,
       "min_height": null,
       "min_width": null,
       "object_fit": null,
       "object_position": null,
       "order": null,
       "overflow": null,
       "overflow_x": null,
       "overflow_y": null,
       "padding": null,
       "right": null,
       "top": null,
       "visibility": null,
       "width": null
      }
     },
     "4234616afbea46508c29e72ef7854625": {
      "model_module": "@jupyter-widgets/base",
      "model_module_version": "1.2.0",
      "model_name": "LayoutModel",
      "state": {
       "_model_module": "@jupyter-widgets/base",
       "_model_module_version": "1.2.0",
       "_model_name": "LayoutModel",
       "_view_count": null,
       "_view_module": "@jupyter-widgets/base",
       "_view_module_version": "1.2.0",
       "_view_name": "LayoutView",
       "align_content": null,
       "align_items": null,
       "align_self": null,
       "border": null,
       "bottom": null,
       "display": null,
       "flex": null,
       "flex_flow": null,
       "grid_area": null,
       "grid_auto_columns": null,
       "grid_auto_flow": null,
       "grid_auto_rows": null,
       "grid_column": null,
       "grid_gap": null,
       "grid_row": null,
       "grid_template_areas": null,
       "grid_template_columns": null,
       "grid_template_rows": null,
       "height": null,
       "justify_content": null,
       "justify_items": null,
       "left": null,
       "margin": null,
       "max_height": null,
       "max_width": "500px",
       "min_height": "50px",
       "min_width": null,
       "object_fit": null,
       "object_position": null,
       "order": null,
       "overflow": null,
       "overflow_x": null,
       "overflow_y": null,
       "padding": null,
       "right": null,
       "top": null,
       "visibility": null,
       "width": null
      }
     },
     "5bf3e74450a743049443b31346283664": {
      "model_module": "ipygany",
      "model_module_version": "^0.5.0",
      "model_name": "ColorBarModel",
      "state": {
       "_dom_classes": [],
       "_model_module": "ipygany",
       "_model_module_version": "^0.5.0",
       "_model_name": "ColorBarModel",
       "_view_count": null,
       "_view_module": "ipygany",
       "_view_module_version": "^0.5.0",
       "_view_name": "ColorBarView",
       "layout": "IPY_MODEL_4234616afbea46508c29e72ef7854625",
       "parent": "IPY_MODEL_8832e15528a3486a82a0fb70f2355cf2"
      }
     },
     "5f29ade754e5464186cc5cf64e7bcf78": {
      "model_module": "ipygany",
      "model_module_version": "^0.5.0",
      "model_name": "SceneModel",
      "state": {
       "_dom_classes": [],
       "_model_module": "ipygany",
       "_model_module_version": "^0.5.0",
       "_model_name": "SceneModel",
       "_view_count": null,
       "_view_module": "ipygany",
       "_view_module_version": "^0.5.0",
       "_view_name": "SceneView",
       "background_color": "#ffffff",
       "background_opacity": 1.0,
       "camera": {
        "position": [
         0.0,
         0.0,
         2.7320508075688776
        ],
        "target": [
         0.0,
         0.0,
         0.0
        ],
        "up": [
         0.0,
         1.0,
         0.0
        ]
       },
       "children": [
        "IPY_MODEL_2bece551b6164838a5ffbe38c930a7b6"
       ],
       "layout": "IPY_MODEL_b40f5e416b1848aaa4bee896c18b68ad"
      }
     },
     "6cbf8b200d3b46bf842e6183c35facce": {
      "model_module": "@jupyter-widgets/base",
      "model_module_version": "1.2.0",
      "model_name": "LayoutModel",
      "state": {
       "_model_module": "@jupyter-widgets/base",
       "_model_module_version": "1.2.0",
       "_model_name": "LayoutModel",
       "_view_count": null,
       "_view_module": "@jupyter-widgets/base",
       "_view_module_version": "1.2.0",
       "_view_name": "LayoutView",
       "align_content": null,
       "align_items": null,
       "align_self": null,
       "border": null,
       "bottom": null,
       "display": null,
       "flex": null,
       "flex_flow": null,
       "grid_area": "center",
       "grid_auto_columns": null,
       "grid_auto_flow": null,
       "grid_auto_rows": null,
       "grid_column": null,
       "grid_gap": null,
       "grid_row": null,
       "grid_template_areas": null,
       "grid_template_columns": null,
       "grid_template_rows": null,
       "height": null,
       "justify_content": null,
       "justify_items": null,
       "left": null,
       "margin": null,
       "max_height": null,
       "max_width": null,
       "min_height": null,
       "min_width": null,
       "object_fit": null,
       "object_position": null,
       "order": null,
       "overflow": null,
       "overflow_x": null,
       "overflow_y": null,
       "padding": null,
       "right": null,
       "top": null,
       "visibility": null,
       "width": null
      }
     },
     "83a5c54ee4f4499d99da8a4df96198e6": {
      "model_module": "@jupyter-widgets/base",
      "model_module_version": "1.2.0",
      "model_name": "LayoutModel",
      "state": {
       "_model_module": "@jupyter-widgets/base",
       "_model_module_version": "1.2.0",
       "_model_name": "LayoutModel",
       "_view_count": null,
       "_view_module": "@jupyter-widgets/base",
       "_view_module_version": "1.2.0",
       "_view_name": "LayoutView",
       "align_content": null,
       "align_items": null,
       "align_self": null,
       "border": null,
       "bottom": null,
       "display": null,
       "flex": null,
       "flex_flow": null,
       "grid_area": null,
       "grid_auto_columns": null,
       "grid_auto_flow": null,
       "grid_auto_rows": null,
       "grid_column": null,
       "grid_gap": null,
       "grid_row": null,
       "grid_template_areas": "\"center center center\"\n\"footer footer footer\"",
       "grid_template_columns": "1fr 2fr 1fr",
       "grid_template_rows": "0fr 150px",
       "height": null,
       "justify_content": null,
       "justify_items": null,
       "left": null,
       "margin": null,
       "max_height": null,
       "max_width": null,
       "min_height": null,
       "min_width": null,
       "object_fit": null,
       "object_position": null,
       "order": null,
       "overflow": null,
       "overflow_x": null,
       "overflow_y": null,
       "padding": null,
       "right": null,
       "top": null,
       "visibility": null,
       "width": null
      }
     },
     "8832e15528a3486a82a0fb70f2355cf2": {
      "buffers": [
       {
        "data": "",
        "encoding": "base64",
        "path": [
         "vertices",
         "data"
        ]
       }
      ],
      "model_module": "ipygany",
      "model_module_version": "^0.5.0",
      "model_name": "IsoColorModel",
      "state": {
       "_model_module": "ipygany",
       "_model_module_version": "^0.5.0",
       "_model_name": "IsoColorModel",
       "_view_count": null,
       "_view_module": null,
       "_view_module_version": "",
       "_view_name": null,
       "colormap": 34,
       "default_color": "#6395b0",
       "environment_meshes": [],
       "input": "Data",
       "max": 0.004,
       "min": 0.0,
       "parent": "IPY_MODEL_cdf2f939b5714b0e8a58fe80b53d5c6c",
       "range": [
        0.0,
        0.004
       ],
       "type": "linear",
       "vertices": {
        "dtype": "float32",
        "shape": [
         0
        ]
       }
      }
     },
     "884c0e44b9c341458dd207c90cf67071": {
      "model_module": "@jupyter-widgets/controls",
      "model_module_version": "1.5.0",
      "model_name": "DescriptionStyleModel",
      "state": {
       "_model_module": "@jupyter-widgets/controls",
       "_model_module_version": "1.5.0",
       "_model_name": "DescriptionStyleModel",
       "_view_count": null,
       "_view_module": "@jupyter-widgets/base",
       "_view_module_version": "1.2.0",
       "_view_name": "StyleView",
       "description_width": ""
      }
     },
     "aff229247d7c45fd937a3e155b3ceee4": {
      "model_module": "@jupyter-widgets/base",
      "model_module_version": "1.2.0",
      "model_name": "LayoutModel",
      "state": {
       "_model_module": "@jupyter-widgets/base",
       "_model_module_version": "1.2.0",
       "_model_name": "LayoutModel",
       "_view_count": null,
       "_view_module": "@jupyter-widgets/base",
       "_view_module_version": "1.2.0",
       "_view_name": "LayoutView",
       "align_content": null,
       "align_items": null,
       "align_self": null,
       "border": null,
       "bottom": null,
       "display": null,
       "flex": null,
       "flex_flow": null,
       "grid_area": null,
       "grid_auto_columns": null,
       "grid_auto_flow": null,
       "grid_auto_rows": null,
       "grid_column": null,
       "grid_gap": null,
       "grid_row": null,
       "grid_template_areas": null,
       "grid_template_columns": null,
       "grid_template_rows": null,
       "height": null,
       "justify_content": null,
       "justify_items": null,
       "left": null,
       "margin": null,
       "max_height": null,
       "max_width": null,
       "min_height": null,
       "min_width": null,
       "object_fit": null,
       "object_position": null,
       "order": null,
       "overflow": null,
       "overflow_x": null,
       "overflow_y": null,
       "padding": null,
       "right": null,
       "top": null,
       "visibility": null,
       "width": null
      }
     },
     "b40f5e416b1848aaa4bee896c18b68ad": {
      "model_module": "@jupyter-widgets/base",
      "model_module_version": "1.2.0",
      "model_name": "LayoutModel",
      "state": {
       "_model_module": "@jupyter-widgets/base",
       "_model_module_version": "1.2.0",
       "_model_name": "LayoutModel",
       "_view_count": null,
       "_view_module": "@jupyter-widgets/base",
       "_view_module_version": "1.2.0",
       "_view_name": "LayoutView",
       "align_content": null,
       "align_items": null,
       "align_self": null,
       "border": null,
       "bottom": null,
       "display": null,
       "flex": null,
       "flex_flow": null,
       "grid_area": null,
       "grid_auto_columns": null,
       "grid_auto_flow": null,
       "grid_auto_rows": null,
       "grid_column": null,
       "grid_gap": null,
       "grid_row": null,
       "grid_template_areas": null,
       "grid_template_columns": null,
       "grid_template_rows": null,
       "height": null,
       "justify_content": null,
       "justify_items": null,
       "left": null,
       "margin": null,
       "max_height": null,
       "max_width": null,
       "min_height": null,
       "min_width": null,
       "object_fit": null,
       "object_position": null,
       "order": null,
       "overflow": null,
       "overflow_x": null,
       "overflow_y": null,
       "padding": null,
       "right": null,
       "top": null,
       "visibility": null,
       "width": null
      }
     },
     "cabb8d0340f44c6cb91469dcee4ca67a": {
      "model_module": "@jupyter-widgets/base",
      "model_module_version": "1.2.0",
      "model_name": "LayoutModel",
      "state": {
       "_model_module": "@jupyter-widgets/base",
       "_model_module_version": "1.2.0",
       "_model_name": "LayoutModel",
       "_view_count": null,
       "_view_module": "@jupyter-widgets/base",
       "_view_module_version": "1.2.0",
       "_view_name": "LayoutView",
       "align_content": null,
       "align_items": null,
       "align_self": null,
       "border": null,
       "bottom": null,
       "display": null,
       "flex": null,
       "flex_flow": null,
       "grid_area": "footer",
       "grid_auto_columns": null,
       "grid_auto_flow": null,
       "grid_auto_rows": null,
       "grid_column": null,
       "grid_gap": null,
       "grid_row": null,
       "grid_template_areas": null,
       "grid_template_columns": null,
       "grid_template_rows": null,
       "height": null,
       "justify_content": null,
       "justify_items": null,
       "left": null,
       "margin": null,
       "max_height": null,
       "max_width": null,
       "min_height": null,
       "min_width": null,
       "object_fit": null,
       "object_position": null,
       "order": null,
       "overflow": null,
       "overflow_x": null,
       "overflow_y": null,
       "padding": null,
       "right": null,
       "top": null,
       "visibility": null,
       "width": null
      }
     },
     "cdf2f939b5714b0e8a58fe80b53d5c6c": {
      "buffers": [
       {
        "data": "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",
        "encoding": "base64",
        "path": [
         "triangle_indices",
         "data"
        ]
       },
       {
        "data": "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",
        "encoding": "base64",
        "path": [
         "vertices",
         "data"
        ]
       }
      ],
      "model_module": "ipygany",
      "model_module_version": "^0.5.0",
      "model_name": "PolyMeshModel",
      "state": {
       "_model_module": "ipygany",
       "_model_module_version": "^0.5.0",
       "_model_name": "PolyMeshModel",
       "_view_count": null,
       "_view_module": null,
       "_view_module_version": "",
       "_view_name": null,
       "data": [
        "IPY_MODEL_196360eac5804b8186394ec454b0367b"
       ],
       "default_color": "#d2b48c",
       "environment_meshes": [],
       "triangle_indices": {
        "dtype": "int32",
        "shape": [
         2190
        ]
       },
       "vertices": {
        "dtype": "float32",
        "shape": [
         1218
        ]
       }
      }
     },
     "d81df0ae24ef41e28040cd610ff962a7": {
      "buffers": [
       {
        "data": "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",
        "encoding": "base64",
        "path": [
         "triangle_indices",
         "data"
        ]
       },
       {
        "data": "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",
        "encoding": "base64",
        "path": [
         "vertices",
         "data"
        ]
       }
      ],
      "model_module": "ipygany",
      "model_module_version": "^0.5.0",
      "model_name": "PolyMeshModel",
      "state": {
       "_model_module": "ipygany",
       "_model_module_version": "^0.5.0",
       "_model_name": "PolyMeshModel",
       "_view_count": null,
       "_view_module": null,
       "_view_module_version": "",
       "_view_name": null,
       "data": [
        "IPY_MODEL_ff20eb4b581547b48d46e9a28f98cf3b"
       ],
       "default_color": "#d2b48c",
       "environment_meshes": [],
       "triangle_indices": {
        "dtype": "int32",
        "shape": [
         8760
        ]
       },
       "vertices": {
        "dtype": "float32",
        "shape": [
         13140
        ]
       }
      }
     },
     "da241f2e46e94f7a9ebe0abbeac7bd01": {
      "buffers": [
       {
        "data": "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",
        "encoding": "base64",
        "path": [
         "array",
         "data"
        ]
       }
      ],
      "model_module": "ipygany",
      "model_module_version": "^0.5.0",
      "model_name": "ComponentModel",
      "state": {
       "_model_module": "ipygany",
       "_model_module_version": "^0.5.0",
       "_model_name": "ComponentModel",
       "_view_count": null,
       "_view_module": null,
       "_view_module_version": "",
       "_view_name": null,
       "array": {
        "dtype": "float32",
        "shape": [
         4380
        ]
       },
       "name": "X1"
      }
     },
     "de77d18081984fc39c6cf091265615d3": {
      "model_module": "@jupyter-widgets/controls",
      "model_module_version": "1.5.0",
      "model_name": "LinkModel",
      "state": {
       "_model_module": "@jupyter-widgets/controls",
       "_model_module_version": "1.5.0",
       "_model_name": "LinkModel",
       "_view_count": null,
       "_view_module": "@jupyter-widgets/controls",
       "_view_module_version": "1.5.0",
       "_view_name": null,
       "source": [
        "IPY_MODEL_8832e15528a3486a82a0fb70f2355cf2",
        "colormap"
       ],
       "target": [
        "IPY_MODEL_fac2b215772d4821b3f603a734482edb",
        "index"
       ]
      }
     },
     "df0fc16157734dc88a6de8142a22afdb": {
      "buffers": [
       {
        "data": "",
        "encoding": "base64",
        "path": [
         "vertices",
         "data"
        ]
       }
      ],
      "model_module": "ipygany",
      "model_module_version": "^0.5.0",
      "model_name": "IsoColorModel",
      "state": {
       "_model_module": "ipygany",
       "_model_module_version": "^0.5.0",
       "_model_name": "IsoColorModel",
       "_view_count": null,
       "_view_module": null,
       "_view_module_version": "",
       "_view_name": null,
       "colormap": 34,
       "default_color": "#6395b0",
       "environment_meshes": [],
       "input": "Data",
       "max": 0.004,
       "min": 0.0,
       "parent": "IPY_MODEL_d81df0ae24ef41e28040cd610ff962a7",
       "range": [
        0.0,
        0.004
       ],
       "type": "linear",
       "vertices": {
        "dtype": "float32",
        "shape": [
         0
        ]
       }
      }
     },
     "e618242ae5e4446f91ca897b0b6da396": {
      "model_module": "ipygany",
      "model_module_version": "^0.5.0",
      "model_name": "SceneModel",
      "state": {
       "_dom_classes": [],
       "_model_module": "ipygany",
       "_model_module_version": "^0.5.0",
       "_model_name": "SceneModel",
       "_view_count": null,
       "_view_module": "ipygany",
       "_view_module_version": "^0.5.0",
       "_view_name": "SceneView",
       "background_color": "#ffffff",
       "background_opacity": 1.0,
       "camera": {
        "position": [
         0.0,
         0.0,
         2.9877354224088664
        ],
        "target": [
         0.0,
         0.0,
         0.0
        ],
        "up": [
         0.0,
         1.0,
         0.0
        ]
       },
       "children": [
        "IPY_MODEL_8832e15528a3486a82a0fb70f2355cf2"
       ],
       "layout": "IPY_MODEL_6cbf8b200d3b46bf842e6183c35facce"
      }
     },
     "fac2b215772d4821b3f603a734482edb": {
      "model_module": "@jupyter-widgets/controls",
      "model_module_version": "1.5.0",
      "model_name": "DropdownModel",
      "state": {
       "_dom_classes": [],
       "_model_module": "@jupyter-widgets/controls",
       "_model_module_version": "1.5.0",
       "_model_name": "DropdownModel",
       "_options_labels": [
        "BrBG",
        "PRGn",
        "PiYG",
        "PuOr",
        "RdBu",
        "RdGy",
        "RdYlBu",
        "RdYlGn",
        "Spectral",
        "BuGn",
        "BuPu",
        "GnBu",
        "OrRd",
        "PuBuGn",
        "PuBu",
        "PuRd",
        "RdPu",
        "YlGnBu",
        "YlGn",
        "YlOrBr",
        "YlOrRd",
        "Blues",
        "Greens",
        "Greys",
        "Purples",
        "Reds",
        "Oranges",
        "Cividis",
        "CubehelixDefault",
        "Rainbow",
        "Warm",
        "Cool",
        "Sinebow",
        "Turbo",
        "Viridis",
        "Magma",
        "Inferno",
        "Plasma"
       ],
       "_view_count": null,
       "_view_module": "@jupyter-widgets/controls",
       "_view_module_version": "1.5.0",
       "_view_name": "DropdownView",
       "description": "Colormap:",
       "description_tooltip": null,
       "disabled": false,
       "index": 0,
       "layout": "IPY_MODEL_3e0f269e0bad4b088b3e78caf3cb1234",
       "style": "IPY_MODEL_18f4a20e39a84266932011a4f743f115"
      }
     },
     "ff20eb4b581547b48d46e9a28f98cf3b": {
      "model_module": "ipygany",
      "model_module_version": "^0.5.0",
      "model_name": "DataModel",
      "state": {
       "_model_module": "ipygany",
       "_model_module_version": "^0.5.0",
       "_model_name": "DataModel",
       "_view_count": null,
       "_view_module": null,
       "_view_module_version": "",
       "_view_name": null,
       "components": [
        "IPY_MODEL_da241f2e46e94f7a9ebe0abbeac7bd01"
       ],
       "name": "Data"
      }
     }
    },
    "version_major": 2,
    "version_minor": 0
   }
  }
 },
 "nbformat": 4,
 "nbformat_minor": 2
}
