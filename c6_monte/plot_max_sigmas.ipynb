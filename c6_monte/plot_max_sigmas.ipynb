{
 "cells": [
  {
   "cell_type": "markdown",
   "metadata": {},
   "source": [
    "### Fix files \n",
    "\n",
    "get last numbers form the files since it was deleted??"
   ]
  },
  {
   "cell_type": "code",
   "execution_count": null,
   "metadata": {},
   "outputs": [],
   "source": [
    "# import settings and functions\n",
    "%run ./../imports.ipynb"
   ]
  },
  {
   "cell_type": "code",
   "execution_count": null,
   "metadata": {},
   "outputs": [],
   "source": [
    "import os\n",
    "# get names of all folders in this directory\n",
    "folders = [f for f in os.listdir('.') if os.path.isdir(f)]\n",
    "\n",
    "print(folders)\n",
    "# remove '.ipynb_checkpoints' from the list\n",
    "folders = [f for f in folders if f != '.ipynb_checkpoints']\n",
    "\n",
    "# remove forlder where all boundary is constrained\n",
    "folders = [f for f in folders if f != 'L_monte_all_T']\n",
    "\n",
    "print(folders)\n",
    "\n",
    "ana_names = folders\n",
    "print(ana_names)\n",
    "\n",
    "ana_names = ['weaker DD + ref' if 'L_monte_hdiv_ref' in name else name for name in ana_names]\n",
    "ana_names = ['weaker DD' if 'L_monte_hdiv' in name else name for name in ana_names]\n",
    "ana_names = ['stronger DD' if 'L_monte' in name else name for name in ana_names]\n",
    "\n",
    "print(ana_names)"
   ]
  },
  {
   "cell_type": "code",
   "execution_count": 17,
   "metadata": {},
   "outputs": [],
   "source": [
    "naming_std = [\"T\", \"g_x\", \"g_y\", \"q_x\", \"q_y\"]\n",
    "\n",
    "noise_list = [0.0, 0.01, 0.02, 0.05, 0.1]\n",
    "\n",
    "# read the data from sumanalys_monte_sigma.csv file with naming defined by naming_std from all folders\n",
    "data_std = []\n",
    "for folder in folders:\n",
    "    data_std.append(pd.read_csv(folder + \"/sumanalys_monte_sigma.csv\", names=naming_std, index_col=False, skiprows=0))\n",
    "\n",
    "\n",
    "# # read the data from sumanalys_monte_sigma.csv file with naming defined by naming_std\n",
    "# data_std = pd.read_csv(\"sumanalys_monte_sigma.csv\", names=naming_std, index_col=False, skiprows=0)\n",
    "# print(data_std)"
   ]
  },
  {
   "cell_type": "code",
   "execution_count": null,
   "metadata": {},
   "outputs": [],
   "source": [
    "print(data_std[0])\n",
    "\n",
    "for j in range(len(folders)):\n",
    "    print(folders[j])\n",
    "    if data_std[j].empty:\n",
    "        print(\"data is empty\")\n",
    "        for noise in noise_list:\n",
    "            if str(noise*100) + \"_standard_deviation_max.csv\" in os.listdir(folders[j]):\n",
    "                print(\"reading data from csv file\")\n",
    "                data_std_long = pd.read_csv(folders[j] + \"/\" + str(noise*100) + \"_standard_deviation_max.csv\", index_col=False)\n",
    "                print(folders[j] + \"/\" + str(noise*100) + \"_standard_deviation_max.csv\")\n",
    "                row_to_add = data_std_long.iloc[-1]\n",
    "                row_to_add.index = data_std[j].columns\n",
    "                # print(row_to_add)\n",
    "                data_std[j].loc[len(data_std[j])] = row_to_add\n",
    "    print(data_std[j])\n",
    "                "
   ]
  },
  {
   "cell_type": "code",
   "execution_count": null,
   "metadata": {},
   "outputs": [],
   "source": [
    "# plot the data for each folder in one figure \n",
    "# label is the name of the folder\n",
    "# difference markers and line styles for each line\n",
    "markers = ['o', 'x', 's', '^', 'v', '<', '>', 'p', 'P', '*', 'h', 'H', '+', 'x', 'X', '|', '_']\n",
    "line_styles = ['-', '--', '-.', ':']\n",
    "\n",
    "plt.figure()\n",
    "for i in range(len(folders)):\n",
    "    plt.plot(noise_list, data_std[i]['T'], label=ana_names[i], marker=markers[2], linestyle=line_styles[i])\n",
    "plt.legend(loc='best')\n",
    "plt.grid(True, ls=':')\n",
    "# log\n",
    "# plt.yscale('log')\n",
    "plt.xlabel(r'$\\sigma$ of noise')\n",
    "plt.ylabel(r'Max $\\sigma$ of Temperature $T$')\n",
    "plt.tight_layout()\n",
    "plt.savefig('c6_monte_max_sigma_T.pdf')\n",
    "plt.show()\n"
   ]
  },
  {
   "cell_type": "code",
   "execution_count": null,
   "metadata": {},
   "outputs": [],
   "source": [
    "# same for q_x\n",
    "plt.figure()\n",
    "q_list = ['q_x', 'q_y']\n",
    "q_names = [r'$q_x$', r'$q_y$']\n",
    "# get current colors\n",
    "colors = plt.rcParams['axes.prop_cycle'].by_key()['color']\n",
    "for j in range(2):\n",
    "    for i in range(len(folders)):\n",
    "        plt.plot(noise_list, data_std[i][q_list[j]], label=q_names[j]+\"; \"+ana_names[i], marker=markers[j], linestyle=line_styles[i], color=colors[i])\n",
    "plt.legend(loc='best', prop={'size': 0.75*plt.rcParams['legend.fontsize']}, ncol=2)\n",
    "plt.grid(True, ls=':')\n",
    "# log\n",
    "# plt.yscale('log')\n",
    "plt.xlabel(r'$\\sigma$ of noise')\n",
    "plt.ylabel(r'Max $\\sigma$ of flux $\\mathbf q$')\n",
    "plt.tight_layout()\n",
    "plt.savefig('c6_monte_max_sigma_q.pdf')\n",
    "plt.show()"
   ]
  },
  {
   "cell_type": "code",
   "execution_count": null,
   "metadata": {},
   "outputs": [],
   "source": [
    "# same for gradient\n",
    "plt.figure()\n",
    "g_list = ['g_x', 'g_y']\n",
    "g_names = [r'$g_x$', r'$g_y$']\n",
    "# get current colors\n",
    "colors = plt.rcParams['axes.prop_cycle'].by_key()['color']\n",
    "for j in range(2):\n",
    "    for i in range(len(folders)):\n",
    "        plt.plot(noise_list, data_std[i][g_list[j]], label=g_names[j]+\"; \"+ana_names[i], marker=markers[j], linestyle=line_styles[i], color=colors[i])\n",
    "# legend fond size to 0.6 of current\n",
    "plt.legend(loc='best', prop={'size': 0.75*plt.rcParams['legend.fontsize']}, ncol=2)\n",
    "plt.grid(True, ls=':')\n",
    "plt.xlabel(r'$\\sigma$ of noise')\n",
    "plt.ylabel(r'Max $\\sigma$ of gradient $\\mathbf g$')\n",
    "plt.tight_layout()\n",
    "plt.savefig('c6_monte_max_sigma_g.pdf')\n",
    "plt.show()\n"
   ]
  },
  {
   "cell_type": "code",
   "execution_count": null,
   "metadata": {},
   "outputs": [],
   "source": [
    "# same for q_x\n",
    "plt.figure()\n",
    "for i in range(len(folders)):\n",
    "    plt.plot(noise_list, data_std[i]['q_x'], label=ana_names[i], marker=markers[i], linestyle=line_styles[i])\n",
    "plt.legend(loc='best')\n",
    "plt.grid(True, ls=':')\n",
    "plt.xlabel(r'$\\sigma$ of noise')\n",
    "plt.ylabel(r'Max $\\sigma$ of q_x')\n",
    "plt.tight_layout()\n",
    "plt.savefig('c6_monte_max_sigma_q_x.pdf')\n",
    "plt.show()"
   ]
  },
  {
   "cell_type": "code",
   "execution_count": null,
   "metadata": {},
   "outputs": [],
   "source": [
    "# q_y\n",
    "plt.figure()\n",
    "for i in range(len(folders)):\n",
    "    plt.plot(noise_list, data_std[i]['q_y'], label=ana_names[i], marker=markers[i], linestyle=line_styles[i])\n",
    "plt.legend(loc='best')\n",
    "plt.grid(True, ls=':')\n",
    "plt.xlabel(r'$\\sigma$ of noise')\n",
    "plt.ylabel(r'Max $\\sigma$ of q_y')\n",
    "plt.tight_layout()\n",
    "plt.savefig('c6_monte_max_sigma_q_y.pdf')\n",
    "plt.show()\n"
   ]
  },
  {
   "cell_type": "code",
   "execution_count": null,
   "metadata": {},
   "outputs": [],
   "source": [
    "# g_x\n",
    "plt.figure()\n",
    "for i in range(len(folders)):\n",
    "    plt.plot(noise_list, data_std[i]['g_x'], label=ana_names[i], marker=markers[i], linestyle=line_styles[i])\n",
    "plt.legend(loc='best')\n",
    "plt.grid(True, ls=':')\n",
    "plt.xlabel(r'$\\sigma$ of noise')\n",
    "plt.ylabel(r'Max $\\sigma$ of g_x')\n",
    "plt.tight_layout()\n",
    "plt.savefig('c6_monte_max_sigma_g_x.pdf')\n",
    "plt.show()"
   ]
  },
  {
   "cell_type": "code",
   "execution_count": null,
   "metadata": {},
   "outputs": [],
   "source": [
    "# g_y\n",
    "plt.figure()\n",
    "for i in range(len(folders)):\n",
    "    plt.plot(noise_list, data_std[i]['g_y'], label=ana_names[i], marker=markers[i], linestyle=line_styles[i])\n",
    "plt.legend(loc='best')\n",
    "plt.grid(True, ls=':')\n",
    "plt.xlabel(r'$\\sigma$ of noise')\n",
    "plt.ylabel(r'Max $\\sigma$ of g_y')\n",
    "plt.tight_layout()\n",
    "plt.savefig('c6_monte_max_sigma_g_y.pdf')\n",
    "plt.show()"
   ]
  },
  {
   "cell_type": "code",
   "execution_count": null,
   "metadata": {},
   "outputs": [],
   "source": []
  },
  {
   "cell_type": "code",
   "execution_count": null,
   "metadata": {},
   "outputs": [],
   "source": []
  }
 ],
 "metadata": {
  "kernelspec": {
   "display_name": "Python 3",
   "language": "python",
   "name": "python3"
  },
  "language_info": {
   "codemirror_mode": {
    "name": "ipython",
    "version": 3
   },
   "file_extension": ".py",
   "mimetype": "text/x-python",
   "name": "python",
   "nbconvert_exporter": "python",
   "pygments_lexer": "ipython3",
   "version": "3.11.6"
  }
 },
 "nbformat": 4,
 "nbformat_minor": 2
}
