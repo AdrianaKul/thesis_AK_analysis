{
 "cells": [
  {
   "cell_type": "code",
   "execution_count": null,
   "metadata": {},
   "outputs": [],
   "source": [
    "# import settings and functions\n",
    "%run ./../imports.ipynb"
   ]
  },
  {
   "cell_type": "code",
   "execution_count": null,
   "metadata": {},
   "outputs": [],
   "source": [
    "import os\n",
    "# get names of all folders in this directory\n",
    "folders = [f for f in os.listdir('.') if os.path.isdir(f)]\n",
    "\n",
    "print(folders)\n",
    "# remove '.ipynb_checkpoints' from the list\n",
    "folders = [f for f in folders if f != '.ipynb_checkpoints']\n",
    "\n",
    "print(folders)"
   ]
  },
  {
   "cell_type": "code",
   "execution_count": 3,
   "metadata": {},
   "outputs": [],
   "source": [
    "naming_std = [\"T\", \"g_x\", \"g_y\", \"q_x\", \"q_y\"]\n",
    "\n",
    "noise_list = [0.0, 0.01, 0.02, 0.05, 0.1]\n",
    "\n",
    "# read the data from sumanalys_monte_sigma.csv file with naming defined by naming_std from all folders\n",
    "data_std = []\n",
    "for folder in folders:\n",
    "    data_std.append(pd.read_csv(folder + \"/sumanalys_monte_sigma.csv\", names=naming_std, index_col=False, skiprows=0))\n",
    "\n",
    "\n",
    "# # read the data from sumanalys_monte_sigma.csv file with naming defined by naming_std\n",
    "# data_std = pd.read_csv(\"sumanalys_monte_sigma.csv\", names=naming_std, index_col=False, skiprows=0)\n",
    "# print(data_std)"
   ]
  },
  {
   "cell_type": "code",
   "execution_count": null,
   "metadata": {},
   "outputs": [],
   "source": [
    "# plot the data for each folder in one figure \n",
    "# label is the name of the folder\n",
    "# difference markers and line styles for each line\n",
    "markers = ['o', 's', 'x', '^', 'v', '<', '>', 'p', 'P', '*', 'h', 'H', '+', 'x', 'X', '|', '_']\n",
    "line_styles = ['-', '--', '-.', ':']\n",
    "\n",
    "plt.figure()\n",
    "for i in range(len(folders)):\n",
    "    plt.plot(noise_list, data_std[i]['T'], label=folders[i], marker=markers[i], linestyle=line_styles[i])\n",
    "plt.legend(loc='best')\n",
    "plt.grid(True, ls=':')\n",
    "# log\n",
    "plt.yscale('log')\n",
    "plt.xlabel(r'$\\sigma$ of noise')\n",
    "plt.ylabel(r'Max $\\sigma$ of Temperature')\n",
    "plt.tight_layout()\n",
    "plt.savefig('c6_monte_max_sigma_T.pdf')\n",
    "plt.show()\n"
   ]
  },
  {
   "cell_type": "code",
   "execution_count": null,
   "metadata": {},
   "outputs": [],
   "source": [
    "# same for q_x\n",
    "plt.figure()\n",
    "for i in range(len(folders)):\n",
    "    plt.plot(noise_list, data_std[i]['q_x'], label=folders[i], marker=markers[i], linestyle=line_styles[i])\n",
    "plt.legend(loc='best')\n",
    "plt.grid(True, ls=':')\n",
    "plt.xlabel(r'$\\sigma$ of noise')\n",
    "plt.ylabel(r'Max $\\sigma$ of q_x')\n",
    "plt.tight_layout()\n",
    "plt.savefig('c6_monte_max_sigma_q_x.pdf')\n",
    "plt.show()"
   ]
  },
  {
   "cell_type": "code",
   "execution_count": null,
   "metadata": {},
   "outputs": [],
   "source": [
    "# q_y\n",
    "plt.figure()\n",
    "for i in range(len(folders)):\n",
    "    plt.plot(noise_list, data_std[i]['q_y'], label=folders[i], marker=markers[i], linestyle=line_styles[i])\n",
    "plt.legend(loc='best')\n",
    "plt.grid(True, ls=':')\n",
    "plt.xlabel(r'$\\sigma$ of noise')\n",
    "plt.ylabel(r'Max $\\sigma$ of q_y')\n",
    "plt.tight_layout()\n",
    "plt.savefig('c6_monte_max_sigma_q_y.pdf')\n",
    "plt.show()\n"
   ]
  },
  {
   "cell_type": "code",
   "execution_count": null,
   "metadata": {},
   "outputs": [],
   "source": [
    "# g_x\n",
    "plt.figure()\n",
    "for i in range(len(folders)):\n",
    "    plt.plot(noise_list, data_std[i]['g_x'], label=folders[i], marker=markers[i], linestyle=line_styles[i])\n",
    "plt.legend(loc='best')\n",
    "plt.grid(True, ls=':')\n",
    "plt.xlabel(r'$\\sigma$ of noise')\n",
    "plt.ylabel(r'Max $\\sigma$ of g_x')\n",
    "plt.tight_layout()\n",
    "plt.savefig('c6_monte_max_sigma_g_x.pdf')\n",
    "plt.show()"
   ]
  },
  {
   "cell_type": "code",
   "execution_count": null,
   "metadata": {},
   "outputs": [],
   "source": [
    "# g_y\n",
    "plt.figure()\n",
    "for i in range(len(folders)):\n",
    "    plt.plot(noise_list, data_std[i]['g_y'], label=folders[i], marker=markers[i], linestyle=line_styles[i])\n",
    "plt.legend(loc='best')\n",
    "plt.grid(True, ls=':')\n",
    "plt.xlabel(r'$\\sigma$ of noise')\n",
    "plt.ylabel(r'Max $\\sigma$ of g_y')\n",
    "plt.tight_layout()\n",
    "plt.savefig('c6_monte_max_sigma_g_y.pdf')\n",
    "plt.show()"
   ]
  },
  {
   "cell_type": "code",
   "execution_count": null,
   "metadata": {},
   "outputs": [],
   "source": []
  },
  {
   "cell_type": "code",
   "execution_count": null,
   "metadata": {},
   "outputs": [],
   "source": []
  }
 ],
 "metadata": {
  "kernelspec": {
   "display_name": "Python 3",
   "language": "python",
   "name": "python3"
  },
  "language_info": {
   "codemirror_mode": {
    "name": "ipython",
    "version": 3
   },
   "file_extension": ".py",
   "mimetype": "text/x-python",
   "name": "python",
   "nbconvert_exporter": "python",
   "pygments_lexer": "ipython3",
   "version": "3.11.6"
  }
 },
 "nbformat": 4,
 "nbformat_minor": 2
}
