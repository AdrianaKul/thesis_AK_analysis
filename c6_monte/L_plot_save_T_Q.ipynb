{
 "cells": [
  {
   "cell_type": "code",
   "execution_count": null,
   "metadata": {},
   "outputs": [],
   "source": [
    "# lim_std_T_list = [[0.,0.004], [0., 0.004], [0., 0.007], [0., 0.02], [0., 0.07]]\n",
    "# lim_std_Q_list = [[0.,0.08], [0., 0.12], [0., 0.3], [0., 0.8], [0., 1.25]]\n",
    "# lim_std_G_list = [[0.,0.08], [0., 0.12], [0., 0.3], [0., 0.8], [0., 1.25]]"
   ]
  },
  {
   "cell_type": "code",
   "execution_count": null,
   "metadata": {},
   "outputs": [],
   "source": [
    "# plot {noise_in*100}_out_before_perturb_29.vtk and {noise_in*100}_out_after_perturb_29.vtk for each noise\n",
    "\n",
    "display = Display(backend=\"xvfb\", visible=False, size=(1024, 768))\n",
    "display.start()\n",
    "\n",
    "params.show_mesh = True\n",
    "params.show_field = \"T\"\n",
    "params.p_cmap = color_temperature\n",
    "# params.show_field = \"Q\"\n",
    "params.field_part = -1\n",
    "# params.p_cmap = color_flux\n",
    "for noise_in in noise_list:\n",
    "    vtk_file = f\"{noise_in*100}_out_before_perturb_29\"\n",
    "    print(vtk_file)\n",
    "    print(\"before perturbation\")\n",
    "    params.p_save = prefix + f\"noise_{int(noise_in*100)}_T.pdf\"\n",
    "    params.show_file = vtk_file\n",
    "    show_results(params)\n",
    "    params.p_save = None\n",
    "    vtk_file = f\"{noise_in*100}_out_after_perturb_29\"\n",
    "    print(vtk_file)\n",
    "    print(\"after perturbation\")\n",
    "    params.show_file = vtk_file\n",
    "    show_results(params)\n",
    "\n",
    "\n",
    "params.field_part = -1\n",
    "\n",
    "display.stop()"
   ]
  },
  {
   "cell_type": "code",
   "execution_count": null,
   "metadata": {},
   "outputs": [],
   "source": [
    "# plot {noise_in*100}_out_before_perturb_29.vtk and {noise_in*100}_out_after_perturb_29.vtk for each noise\n",
    "\n",
    "display = Display(backend=\"xvfb\", visible=False, size=(1024, 768))\n",
    "display.start()\n",
    "\n",
    "params.show_mesh = True\n",
    "# params.show_field = \"T\"\n",
    "# params.p_cmap = color_temperature\n",
    "params.show_field = \"Q\"\n",
    "params.field_part = -1\n",
    "params.p_cmap = color_flux\n",
    "for noise_in in noise_list:\n",
    "    vtk_file = f\"{noise_in*100}_out_before_perturb_29\"\n",
    "    print(vtk_file)\n",
    "    print(\"before perturbation\")\n",
    "    params.p_save = prefix + f\"noise_{int(noise_in*100)}_Q.pdf\"\n",
    "    params.show_file = vtk_file\n",
    "    show_results(params)\n",
    "    params.p_save = None\n",
    "    vtk_file = f\"{noise_in*100}_out_after_perturb_29\"\n",
    "    print(vtk_file)\n",
    "    print(\"after perturbation\")\n",
    "    params.show_file = vtk_file\n",
    "    show_results(params)\n",
    "\n",
    "\n",
    "params.field_part = -1\n",
    "\n",
    "display.stop()"
   ]
  },
  {
   "cell_type": "code",
   "execution_count": null,
   "metadata": {},
   "outputs": [],
   "source": [
    "params.show_field_name = None\n",
    "params.p_save = None\n",
    "params.clim = None\n",
    "params.show_field_2 = None"
   ]
  }
 ],
 "metadata": {
  "language_info": {
   "name": "python"
  }
 },
 "nbformat": 4,
 "nbformat_minor": 2
}
