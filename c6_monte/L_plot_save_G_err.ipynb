{
 "cells": [
  {
   "cell_type": "code",
   "execution_count": null,
   "metadata": {},
   "outputs": [],
   "source": [
    "# lim_std_T_list = [[0.,0.004], [0., 0.004], [0., 0.007], [0., 0.02], [0., 0.07]]\n",
    "# lim_std_Q_list = [[0.,0.08], [0., 0.12], [0., 0.3], [0., 0.8], [0., 1.25]]\n",
    "# lim_std_G_list = [[0.,0.08], [0., 0.12], [0., 0.3], [0., 0.8], [0., 1.25]]"
   ]
  },
  {
   "cell_type": "code",
   "execution_count": null,
   "metadata": {},
   "outputs": [],
   "source": [
    "# plot {noise_in*100}_out_before_perturb_29.vtk and {noise_in*100}_out_after_perturb_29.vtk for each noise\n",
    "\n",
    "display = Display(backend=\"xvfb\", visible=False, size=(1024, 768))\n",
    "display.start()\n",
    "\n",
    "params.show_mesh = True\n",
    "params.show_field = \"G\"\n",
    "params.p_cmap = color_gradient\n",
    "# params.show_field = \"Q\"\n",
    "params.field_part = -1\n",
    "# params.p_cmap = color_flux\n",
    "for noise_in in noise_list:\n",
    "    vtk_file = f\"{noise_in*100}_out_before_perturb_\"+str(monte_num-1)\n",
    "    print(vtk_file)\n",
    "    print(\"before perturbation\")\n",
    "    params.p_save = prefix + f\"noise_{int(noise_in*100)}_G.pdf\"\n",
    "    params.show_file = vtk_file\n",
    "    show_results(params)\n",
    "    params.p_save = None\n",
    "    vtk_file = f\"{noise_in*100}_out_after_perturb_\"+str(monte_num-1)\n",
    "    print(vtk_file)\n",
    "    print(\"after perturbation\")\n",
    "    params.show_file = vtk_file\n",
    "    show_results(params)\n",
    "\n",
    "\n",
    "params.field_part = -1\n",
    "\n",
    "display.stop()"
   ]
  },
  {
   "cell_type": "code",
   "execution_count": null,
   "metadata": {},
   "outputs": [],
   "source": [
    "# if run_analysis:\n",
    "#     !rm sumanalys.csv # making sure the previous analysis doesn't affect this one\n",
    "\n",
    "#     # loop over noise_lisgt and ana_name_list\n",
    "#     for (noise_in, ana_csv_name) in zip(noise_list, ana_name_list):\n",
    "#         !rm out*\n",
    "#         # !{create_csv_dataset} -output_file {csv_name}.csv -my_dummy_noise_q 0 -my_dummy_noise_k {noise_in} -my_dummy_k 1 -my_dummy_range_dp 9.0 -my_dummy_count {int(dummy_count)}\n",
    "\n",
    "#         core_name = \"../dummy_\"\n",
    "#         dataset_name = core_name+str(int(noise_in*100)) \n",
    "\n",
    "#         # for i in range(realisations):\n",
    "#         !{exe} -file_name {params.part_file} -my_order {params.order} {analytical_solution_tag} -csv_tree_file {dataset_name}.csv -write_long_error_file -rand_ini {monte_control}\n",
    "\n",
    "#         !mv ./sumanalys.csv ./{ana_csv_name}.csv\n",
    "#         !mbconvert out_sigma_ele_29.h5m {noise_in*100}_out_sigma_29.vtk\n",
    "#         !mbconvert out_monte_ele_errors_29.h5m {noise_in*100}_out_monte_ele_errors_29.vtk\n",
    "#         !mbconvert out_before_perturb_29.h5m {noise_in*100}_out_before_perturb_29.vtk\n",
    "#         !mbconvert out_after_perturb_29.h5m {noise_in*100}_out_after_perturb_29.vtk\n",
    "#         # !mv ./sumanalys_monte_sigma.csv ./{ana_csv_name}_sigma.csv\n",
    "#         !mv standard_deviation_max.csv {noise_in*100}_standard_deviation_max.csv\n",
    "\n",
    "#     # rewrite sumanalys_monte_sigma.csv to only consist or the last number of rows as items in noise list\n",
    "#     !tail -n {len(noise_list)} sumanalys_monte_sigma.csv > sumanalys_monte_sigma.csv\n",
    "\n"
   ]
  },
  {
   "cell_type": "code",
   "execution_count": null,
   "metadata": {},
   "outputs": [],
   "source": [
    "# plot for the error estimators for {noise_in*100}_out_monte_ele_errors_29.vtk\n",
    "\n",
    "display = Display(backend=\"xvfb\", visible=False, size=(1024, 768))\n",
    "display.start()\n",
    "\n",
    "params.show_field = \"ERROR_ESTIMATOR\"\n",
    "# params.show_field = \"DD_DISTANCE_VAR\"\n",
    "# params.show_field = \"ORDER\"\n",
    "params.show_edges = False\n",
    "params.p_cmap = 'jet'\n",
    "\n",
    "for noise_in in noise_list:\n",
    "    vtk_file = f\"{noise_in*100}_out_monte_ele_errors_\"+str(monte_num-1)\n",
    "    print(vtk_file)\n",
    "    print(\"error estimator\")\n",
    "    params.show_file = vtk_file\n",
    "    params.p_save = prefix + f\"noise_{int(noise_in*100)}_err_est.pdf\"\n",
    "    show_results(params)\n",
    "\n",
    "display.stop()\n",
    "\n",
    "params.p_save = None"
   ]
  },
  {
   "cell_type": "code",
   "execution_count": null,
   "metadata": {},
   "outputs": [],
   "source": [
    "params.show_field_name = None\n",
    "params.p_save = None\n",
    "params.clim = None\n",
    "params.show_field_2 = None"
   ]
  }
 ],
 "metadata": {
  "language_info": {
   "name": "python"
  }
 },
 "nbformat": 4,
 "nbformat_minor": 2
}
