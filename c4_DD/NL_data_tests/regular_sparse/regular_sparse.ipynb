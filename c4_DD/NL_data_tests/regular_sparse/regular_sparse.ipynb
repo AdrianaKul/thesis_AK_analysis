{
 "cells": [
  {
   "cell_type": "code",
   "execution_count": null,
   "metadata": {
    "ExecuteTime": {
     "end_time": "2024-02-04T18:06:05.250997Z",
     "start_time": "2024-02-04T18:06:04.464573Z"
    }
   },
   "outputs": [],
   "source": [
    "# import settings and functions\n",
    "%run ./../../../imports.ipynb\n"
   ]
  },
  {
   "cell_type": "code",
   "execution_count": null,
   "metadata": {},
   "outputs": [],
   "source": [
    "# regular sparse\n",
    "prefix = \"c4_brick_regular_sparse_\"\n",
    "csv_name = 'dataset_regular_sparse_scaled.csv'\n",
    "\n",
    "# # regular semidense\n",
    "# prefix = \"c4_brick_regular_semidense_\"\n",
    "# csv_name = 'dataset_regular_semidense_scaled.csv'\n",
    "\n",
    "# # regular semidense\n",
    "# prefix = \"c4_brick_regular_dense_\"\n",
    "# csv_name = 'dataset_regular_dense_scaled.csv'\n",
    "\n",
    "# # random noisy\n",
    "# prefix = \"c4_brick_random_noisy_\"\n",
    "# csv_name = 'dataset_random_dense_noisy_scaled.csv'\n",
    "\n",
    "\n",
    "run_test = True\n",
    "run_analysis = True\n",
    "\n",
    "run_test = False\n",
    "run_analysis = False\n",
    "\n",
    "color_lims = True\n",
    "# color_lims = False"
   ]
  },
  {
   "cell_type": "code",
   "execution_count": null,
   "metadata": {},
   "outputs": [],
   "source": [
    "\n",
    "!cp ./../../../datasets_brick/scaling.in .\n",
    "!cp ./../../../datasets_brick/regular/{csv_name} .\n",
    "\n",
    "scal = np.genfromtxt('./scaling.in')\n",
    "scaling = scal\n",
    "print(scaling)"
   ]
  },
  {
   "cell_type": "markdown",
   "metadata": {},
   "source": [
    "## Analysis setup"
   ]
  },
  {
   "cell_type": "code",
   "execution_count": null,
   "metadata": {},
   "outputs": [],
   "source": [
    "# which executable?\n",
    "\n",
    "exe = data_driven_diffusion_snes\n",
    "# exe = hdiv_data_driven_diffusion_snes\n",
    "sumanalys = \"sumanalys.csv\"\n",
    "ana_name = \"ana_DD_brick\"\n",
    "\n",
    "ana_compare_exe = [data_driven_diffusion_snes]\n",
    "ana_compare_name = [\"ana_DD_brick\"]\n",
    "ana_compare_sum = [\"sumanalys.csv\"]\n",
    "\n",
    "# ana_compare_exe = [hdiv_diffusion, classic_diffusion]\n",
    "# ana_compare_name = [\"ana_brick_mixed\", \"ana_brick_classic\"]\n",
    "# ana_compare_sum = [\"sumanalys.csv\", \"FEM_errors.csv\"]\n",
    "\n",
    "# Convergence analysis parameters\n",
    "order_list = [1, 2, 3] # approximation order p\n",
    "# elem_size_list = [0.5, 0.2, 0.1, 0.05, 0.02] # element size h\n",
    "# order_list = [1, 2, 3] # approximation order p\n",
    "# elem_size_list = [0.5, 0.2, 0.1, 0.05] # element size h\n",
    "params.triangle_mesh = True\n",
    "params.nproc = 1 # number of processors\n",
    "jumps = \"\"\n",
    "if params.nproc == 1:\n",
    "    jumps = \"-get_jumps\"\n",
    "# jumps = \"-get_jumps\"\n",
    "\n",
    "naming = [\"order\", \"gaussnum\", \"iterations\",\"volume\", \"datanum\",\"rmsPoiErr\", \"errorEstimator\",\n",
    "          \"L2norm\", \"H1seminorm\",\"fluxErr\", \"orderRefinementCounter\", \"errorIndicatorGrad\", \"errorIndicatorDiv\", \"jumpL2\", \"jumpHdiv\", \"eleNum\"]\n",
    "# naming = [\"order\", \"gaussnum\", \"iterations\",\"volume\", \"datanum\",\"rmsPoiErr\", \"errorEstimator\",\n",
    "#           \"L2norm\", \"H1seminorm\",\"fluxErr\", \"orderRefinementCounter\"]\n",
    "\n",
    "error_name_list = [\"L2norm\", \"H1seminorm\", \"fluxErr\"]\n",
    "error_label_list = [(r'Global error $L^2$-norm'),\n",
    "               (r'Global error $H^1$-seminorm'), (r'Global Flux error')]"
   ]
  },
  {
   "cell_type": "code",
   "execution_count": null,
   "metadata": {
    "ExecuteTime": {
     "end_time": "2024-02-04T18:06:05.254997Z",
     "start_time": "2024-02-04T18:06:05.252603Z"
    }
   },
   "outputs": [],
   "source": [
    "params.conductivity = 1.0 # linear conductivity\n",
    "params.element_size = 0.2 # element size in the regular mesh\n",
    "# params.element_size = elem_size_list[0] # element size in the regular mesh\n",
    "params.order = 3 # approximation order for displacements\n",
    "\n",
    "# params.triangle_mesh = False # use triangular mesh\n",
    "\n",
    "# Pre-processing parameters\n",
    "params.mesh_file = \"L_shape\"\n",
    "params.length_x = 1\n",
    "params.length_y = 1\n",
    "params.length_z = 0\n",
    "params.show_mesh = True\n",
    "\n",
    "\n",
    "# solution parameters\n",
    "params.log_file = \"log\" # log file name \n"
   ]
  },
  {
   "cell_type": "markdown",
   "metadata": {},
   "source": [
    "### New brick meshes"
   ]
  },
  {
   "cell_type": "code",
   "execution_count": null,
   "metadata": {},
   "outputs": [],
   "source": [
    "params.list_mesh_files = []\n",
    "params.element_sizes = []\n",
    "\n",
    "params.list_mesh_files.append(\"./../brick_20.cub\")\n",
    "params.element_sizes.append(5)\n",
    "\n",
    "params.list_mesh_files.append(\"./../brick_15.cub\")\n",
    "params.element_sizes.append(4)\n",
    "\n",
    "params.list_mesh_files.append(\"./../brick_10.cub\")\n",
    "params.element_sizes.append(3)\n",
    "\n",
    "params.list_mesh_files.append(\"./../brick_7.cub\")\n",
    "params.element_sizes.append(2)\n",
    "\n",
    "params.list_mesh_files.append(\"./../brick_6.cub\")\n",
    "params.element_sizes.append(1)\n",
    "\n",
    "params.list_mesh_files.append(\"./../brick_4.cub\")\n",
    "params.element_sizes.append(1)\n",
    "\n",
    "# which mesh to use\n",
    "input_number = 3"
   ]
  },
  {
   "cell_type": "code",
   "execution_count": null,
   "metadata": {},
   "outputs": [],
   "source": [
    "h = params.element_sizes\n",
    "cub_names = params.list_mesh_files\n",
    "input_names = []\n",
    "for i in cub_names:\n",
    "    input_names.append(i[:-3]+\"h5m\")\n",
    "count = len(h)\n",
    "print(cub_names)\n",
    "print(input_names)"
   ]
  },
  {
   "cell_type": "code",
   "execution_count": null,
   "metadata": {},
   "outputs": [],
   "source": [
    "# # %%capture\n",
    "# # partition the mesh\n",
    "# for i in range(count):\n",
    "#     # print(i)\n",
    "#     !{tools_dir}/mofem_part -my_file {cub_names[i]} -output_file {input_names[i]} -my_nparts 1 -dim 2 -adj_dim 1"
   ]
  },
  {
   "cell_type": "markdown",
   "metadata": {},
   "source": [
    "## Run test"
   ]
  },
  {
   "cell_type": "code",
   "execution_count": null,
   "metadata": {
    "ExecuteTime": {
     "end_time": "2024-02-04T18:06:05.347658Z",
     "start_time": "2024-02-04T18:06:05.256058Z"
    }
   },
   "outputs": [],
   "source": [
    "# start display for showing results\n",
    "display = Display(backend=\"xvfb\", visible=False, size=(1024, 768))\n",
    "display.start()"
   ]
  },
  {
   "cell_type": "code",
   "execution_count": null,
   "metadata": {
    "ExecuteTime": {
     "end_time": "2024-02-04T18:06:06.528759Z",
     "start_time": "2024-02-04T18:06:05.372517Z"
    }
   },
   "outputs": [],
   "source": [
    "# # Testing mesh generation\n",
    "# if run_test:\n",
    "#     params.show_mesh = True\n",
    "#     generate_config(params)\n",
    "#     generate_mesh(params)"
   ]
  },
  {
   "cell_type": "code",
   "execution_count": null,
   "metadata": {},
   "outputs": [],
   "source": [
    "# -csv_tree_file data_VGQ_generated_scaled.csv\n",
    "\n",
    "params.csv_tree_file = csv_name"
   ]
  },
  {
   "cell_type": "code",
   "execution_count": null,
   "metadata": {},
   "outputs": [],
   "source": [
    "\n",
    "# a = 134.0\n",
    "# b = -0.1047\n",
    "# c = 3.719 *10**(-5)\n",
    "\n",
    "# nonlinear_a = a\n",
    "# nonlinear_b = b\n",
    "# nonlinear_c = c\n",
    "\n",
    "\n",
    "# if run_test:\n",
    "#     !rm out*\n",
    "#     params.part_file = input_names[0]\n",
    "#     !{diffusion_nonlinear_graphite} -file_name {params.part_file} -my_order 2 -nonlinear_a {nonlinear_a} -nonlinear_b {nonlinear_b} -nonlinear_c {nonlinear_c} -scaling 0\n",
    "#     !convert.py out*"
   ]
  },
  {
   "cell_type": "code",
   "execution_count": null,
   "metadata": {},
   "outputs": [],
   "source": [
    "# Testing running analysis\n",
    "\n",
    "\n",
    "# exe = hdiv_diffusion\n",
    "# # exe = classic_diffusion\n",
    "# # exe = data_driven_diffusion\n",
    "# # # exe = data_driven_diffusion_snes\n",
    "# exe = hdiv_data_driven_diffusion_snes\n",
    "# # exe = hdiv_data_driven_diffusion\n",
    "\n",
    "if run_test:\n",
    "    !rm out*[0-9]*\n",
    "    params.part_file = input_names[3]\n",
    "    # params.mesh_file = cub_names[0]\n",
    "    # params.part_file = params.mesh_file + \"_\" + str(params.nproc) + \"p.h5m\"\n",
    "    # !{mofem_part} -my_file {params.mesh_file} -nparts {params.nproc} -output_file {params.part_file} -dim 2 -adj_dim 1\n",
    "    !mpirun -np {params.nproc} {exe} -file_name {params.part_file} -my_order {params.order} {jumps} -csv_tree_file {params.csv_tree_file} -scaling 1 -snes_max_it 500 -print_integ\n",
    "    #  -use_line -data_dim 4 -my_dummy_k 100.0\n",
    "\n"
   ]
  },
  {
   "cell_type": "code",
   "execution_count": null,
   "metadata": {},
   "outputs": [],
   "source": [
    "name_vtk_integ = \"out_integ_pts_\"+csv_name[:-4]\n",
    "name_vtk_result = \"out_result_\"+csv_name[:-4]\n",
    "name_vtk_error = \"out_error_\"+csv_name[:-4]\n",
    "name_vtk_moab = \"out_moab_\"+csv_name[:-4]\n",
    "\n",
    "print(name_vtk_integ)"
   ]
  },
  {
   "cell_type": "code",
   "execution_count": null,
   "metadata": {},
   "outputs": [],
   "source": [
    "if run_test:    \n",
    "    out_to_vtk = !ls -c1 out_integ_pts_*.h5m\n",
    "    last_file=out_to_vtk[0]\n",
    "    !mbconvert {last_file} {name_vtk_integ}.vtk\n",
    "    !mbconvert out_result_0.h5m {name_vtk_result}.vtk\n",
    "    !mbconvert out_error_1000.h5m {name_vtk_error}.vtk\n",
    "    # !mbconvert out_moab_5.h5m {name_vtk_moab}.vtk\n",
    "    !rm out_*h5m\n"
   ]
  },
  {
   "cell_type": "code",
   "execution_count": null,
   "metadata": {},
   "outputs": [],
   "source": [
    "# import settings and functions\n",
    "%run ./../plot_for_DD.ipynb"
   ]
  },
  {
   "cell_type": "code",
   "execution_count": null,
   "metadata": {},
   "outputs": [],
   "source": []
  },
  {
   "cell_type": "code",
   "execution_count": null,
   "metadata": {},
   "outputs": [],
   "source": []
  },
  {
   "cell_type": "code",
   "execution_count": null,
   "metadata": {},
   "outputs": [],
   "source": []
  }
 ],
 "metadata": {
  "jupytext": {
   "formats": "ipynb,md"
  },
  "kernelspec": {
   "display_name": "Python 3 (ipykernel)",
   "language": "python",
   "name": "python3"
  },
  "language_info": {
   "codemirror_mode": {
    "name": "ipython",
    "version": 3
   },
   "file_extension": ".py",
   "mimetype": "text/x-python",
   "name": "python",
   "nbconvert_exporter": "python",
   "pygments_lexer": "ipython3",
   "version": "3.11.6"
  }
 },
 "nbformat": 4,
 "nbformat_minor": 2
}
