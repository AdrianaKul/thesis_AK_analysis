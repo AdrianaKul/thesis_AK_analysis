{
 "cells": [
  {
   "cell_type": "markdown",
   "metadata": {},
   "source": [
    "## Do not execute this notebook on its own\n",
    "\n",
    "This notebook is to be called by other notebooks in the subfolders "
   ]
  },
  {
   "cell_type": "code",
   "execution_count": null,
   "metadata": {},
   "outputs": [],
   "source": [
    "# plot_for_DD.ipynb\n"
   ]
  },
  {
   "cell_type": "code",
   "execution_count": null,
   "metadata": {},
   "outputs": [],
   "source": [
    "lim_dist_ave = None\n",
    "lim_dis_std = None\n",
    "lim_dist_point = None\n",
    "lim_dist_q = None\n",
    "lim_dist_g = None\n",
    "lim_dist_T = None\n"
   ]
  },
  {
   "cell_type": "code",
   "execution_count": null,
   "metadata": {},
   "outputs": [],
   "source": [
    "if color_lims:\n",
    "    lim_dist_ave = [0., 1.]\n",
    "    lim_dis_std = [0., 1.]\n",
    "    lim_dist_point = [0., 3.]\n",
    "    lim_dist_q = [0., 1.]\n",
    "    lim_dist_g = [0., 2.]\n",
    "    lim_dist_T = [0., 1.]"
   ]
  },
  {
   "cell_type": "code",
   "execution_count": null,
   "metadata": {},
   "outputs": [],
   "source": [
    "# start display for showing results\n",
    "display = Display(backend=\"xvfb\", visible=False, size=(1024, 768))\n",
    "display.start()"
   ]
  },
  {
   "cell_type": "code",
   "execution_count": null,
   "metadata": {},
   "outputs": [],
   "source": [
    "print(\"plotting results for Temperature\")\n",
    "params.show_file = name_vtk_result\n",
    "params.show_field = \"T\"\n",
    "params.p_cmap = color_temperature\n",
    "params.show_edges = True\n",
    "params.p_save = prefix+\"T.pdf\"\n",
    "show_results(params)"
   ]
  },
  {
   "cell_type": "code",
   "execution_count": null,
   "metadata": {},
   "outputs": [],
   "source": [
    "print(\"plotting results for Flux (result scale)\")\n",
    "params.show_file = name_vtk_result\n",
    "params.show_field = \"Q\"\n",
    "params.warp_field_scalar = \"\"\n",
    "params.p_cmap = color_flux\n",
    "params.show_edges = True\n",
    "params.p_save = prefix+\"Q.pdf\"\n",
    "show_results(params)\n",
    "\n",
    "print(\"plotting results for Flux (dataset scale)\")\n",
    "params.show_file = name_vtk_result\n",
    "params.show_field = \"Q\"\n",
    "params.show_field_scale = scaling[0]\n",
    "params.warp_field_scalar = \"\"\n",
    "params.p_cmap = color_flux\n",
    "params.show_edges = True\n",
    "params.p_save = prefix+\"Q_scaled.pdf\"\n",
    "show_results(params)\n",
    "params.show_field_scale = 1.0"
   ]
  },
  {
   "cell_type": "code",
   "execution_count": null,
   "metadata": {},
   "outputs": [],
   "source": [
    "print(\"DD_DISTANCE_AVE\")\n",
    "params.show_file = name_vtk_error\n",
    "params.show_field = \"DD_DISTANCE_AVE\"\n",
    "params.show_edges = True\n",
    "params.p_cmap = 'Purples'\n",
    "params.clim = lim_dist_ave\n",
    "params.p_save = prefix+\"dis_ave.pdf\"\n",
    "show_results(params)\n",
    "\n",
    "print(\"DD_DISTANCE_VAR\")\n",
    "params.show_field = \"DD_DISTANCE_VAR\"\n",
    "params.p_cmap = \"Blues\"\n",
    "params.clim = lim_dis_std\n",
    "params.p_save = prefix+\"dis_var.pdf\"\n",
    "show_results(params)\n",
    "params.p_save = None"
   ]
  },
  {
   "cell_type": "code",
   "execution_count": null,
   "metadata": {},
   "outputs": [],
   "source": [
    "print(\"plotting results for Point_distance\")\n",
    "params.show_file = name_vtk_integ\n",
    "params.show_field = \"Point_distance\"\n",
    "params.clim = lim_dist_point\n",
    "# params.clim = None\n",
    "# TODO: check if this is correct\n",
    "params.p_save = prefix+\"dis_point.pdf\"\n",
    "params.p_cmap = 'Purples'\n",
    "show_resulting_points(params)"
   ]
  },
  {
   "cell_type": "code",
   "execution_count": null,
   "metadata": {},
   "outputs": [],
   "source": [
    "print(\"Q - Q_STAR (dataset scale)\")\n",
    "params.show_field_scale = 1.0\n",
    "params.show_field_scale_2 = 1.0\n",
    "params.show_file = name_vtk_integ\n",
    "params.field_part = 1\n",
    "params.show_field = \"Q\"\n",
    "params.show_field_2 = \"Q_STAR\"\n",
    "params.show_field_name = \"Q - Q_STAR\"\n",
    "params.clim = lim_dist_q\n",
    "params.p_cmap = 'PuBu'\n",
    "params.p_save = prefix+\"dis_Q_Qstar_y.pdf\"\n",
    "show_resulting_points(params)\n",
    "\n",
    "print(\"Q - Q_STAR (result scale)\")\n",
    "params.show_field_scale = 1./scaling[0]\n",
    "params.show_field_scale_2 = 1./scaling[0]\n",
    "if color_lims:\n",
    "    params.clim = [lim * (1.0/scaling[0]) for lim in lim_dist_q]\n",
    "params.p_save = prefix+\"dis_Q_Qstar_y_scaled.pdf\"\n",
    "show_resulting_points(params)\n",
    "params.show_field_2 = None\n",
    "params.field_part = -1\n",
    "params.p_save = None\n",
    "params.show_field_scale = 1.0\n",
    "params.show_field_scale_2 = 1.0"
   ]
  },
  {
   "cell_type": "code",
   "execution_count": null,
   "metadata": {},
   "outputs": [],
   "source": [
    "print(\"GRAD(P) - GRAD(P)_STAR\")\n",
    "params.show_file = name_vtk_integ\n",
    "params.show_field = \"GRAD(P)\"\n",
    "params.show_field_2 = \"GRAD(P)_STAR\"\n",
    "params.show_field_name = \"GRAD(P) - G_STAR\"\n",
    "params.clim = lim_dist_g\n",
    "params.p_cmap = \"YlGnBu\"\n",
    "params.field_part = 1\n",
    "params.p_save = prefix+\"dis_G_Gstar_y.pdf\"\n",
    "show_resulting_points(params)\n",
    "params.show_field_2 = None\n",
    "params.p_save = None\n",
    "params.field_part = -1"
   ]
  },
  {
   "cell_type": "code",
   "execution_count": null,
   "metadata": {},
   "outputs": [],
   "source": [
    "print(\"T - P_STAR (dataset scale)\")\n",
    "params.show_file = name_vtk_integ\n",
    "params.show_field = \"T\"\n",
    "params.clim = lim_dist_T\n",
    "params.show_field_scale = scaling[1]\n",
    "params.show_field_2 = \"P_STAR\"\n",
    "params.show_field_name = \"T - T_STAR\"\n",
    "params.p_cmap = \"Reds\"\n",
    "params.p_save = prefix+\"dis_T_Pstar.pdf\"\n",
    "show_resulting_points(params)\n",
    "\n",
    "print(\"T - P_STAR (result scale)\")\n",
    "params.show_field_scale = 1.0\n",
    "params.show_field = \"T\"\n",
    "params.show_field_2 = \"P_STAR\"\n",
    "if color_lims:\n",
    "    params.clim = lim_dist_T/scaling[1]\n",
    "params.show_field_scale_2 = 1./scaling[1]\n",
    "params.p_save = prefix+\"dis_T_Pstar_full_scale.pdf\"\n",
    "show_resulting_points(params)\n",
    "params.show_field_scale_2 = 1.0\n",
    "params.show_field_2 = None\n",
    "params.p_save = None\n",
    "params.show_field_name = None\n",
    "    "
   ]
  },
  {
   "cell_type": "code",
   "execution_count": null,
   "metadata": {},
   "outputs": [],
   "source": []
  }
 ],
 "metadata": {
  "kernelspec": {
   "display_name": "Python 3",
   "language": "python",
   "name": "python3"
  },
  "language_info": {
   "codemirror_mode": {
    "name": "ipython",
    "version": 3
   },
   "file_extension": ".py",
   "mimetype": "text/x-python",
   "name": "python",
   "nbconvert_exporter": "python",
   "pygments_lexer": "ipython3",
   "version": "3.11.6"
  }
 },
 "nbformat": 4,
 "nbformat_minor": 2
}
