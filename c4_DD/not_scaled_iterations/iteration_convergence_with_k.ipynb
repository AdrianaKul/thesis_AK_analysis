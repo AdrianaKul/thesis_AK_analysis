{
 "cells": [
  {
   "cell_type": "code",
   "execution_count": null,
   "metadata": {},
   "outputs": [],
   "source": [
    "# import settings and functions\n",
    "%run ./../../dataset_creation_imports.ipynb"
   ]
  },
  {
   "cell_type": "markdown",
   "metadata": {},
   "source": [
    "## What mesh?\n",
    "\n",
    "Copy your choice to the next cell\n",
    "\n",
    "for SquareTop:\n",
    "```\n",
    "analytical_solution_tag = \"-ana_square_top\"\n",
    "generate_config = generateConfig_squareTop\n",
    "generate_mesh = generateMesh_squareTop\n",
    "```\n",
    "\n",
    "for SquareSinCos:\n",
    "```\n",
    "analytical_solution_tag = \"-ana_square_sincos\"\n",
    "generate_config = generateConfig_squareSinCos\n",
    "generate_mesh = generateMesh_squareSinCos\n",
    "```"
   ]
  },
  {
   "cell_type": "code",
   "execution_count": null,
   "metadata": {},
   "outputs": [],
   "source": [
    "# Change according to instruction above\n",
    "analytical_solution_tag = \"-ana_square_sincos\"\n",
    "generate_config = generateConfig_squareSinCos\n",
    "generate_mesh = generateMesh_squareSinCos\n",
    "\n",
    "# analytical_solution_tag = \"-ana_L_shape\"\n",
    "# generate_config = generateConfig_Lshape\n",
    "# generate_mesh = generateMesh_Lshape\n",
    "\n",
    "# analytical_solution_tag = \"-ana_mexi_hat\"\n",
    "# generate_config = generateConfig_squareMexiHat\n",
    "# generate_mesh = generateMesh_squareMexiHat\n",
    "\n",
    "# analytical_solution_tag = \"-ana_square_top\"\n",
    "# generate_config = generateConfig_squareTop\n",
    "# generate_mesh = generateMesh_squareTop"
   ]
  },
  {
   "cell_type": "code",
   "execution_count": null,
   "metadata": {},
   "outputs": [],
   "source": [
    "exe = data_driven_diffusion_snes\n",
    "prefix = \"scale_DD_\"\n",
    "\n",
    "# exe = hdiv_data_driven_diffusion_snes\n",
    "# prefix = \"DD_hdiv_\"\n",
    "\n",
    "how_many_values = [11, 101, 1001, 10001]\n",
    "# how_many_values = [11, 101, 1001]\n",
    "\n",
    "run_simulation = True\n",
    "run_line_simulation = True\n",
    "\n",
    "run_simulation = False\n",
    "run_line_simulation = False\n"
   ]
  },
  {
   "cell_type": "code",
   "execution_count": null,
   "metadata": {},
   "outputs": [],
   "source": [
    "how_many = 41\n",
    "#\n",
    "params.conductivity = 1.0 # linear conductivity\n",
    "params.element_size = 0.05 # element size in the regular mesh\n",
    "params.order = 2 # approximation order for displacements\n",
    "# Pre-processing parameters\n",
    "params.mesh_file = \"square_top\"\n",
    "params.length_x = 1\n",
    "params.length_y = 1\n",
    "\n",
    "params.nproc = 1 # number of processors"
   ]
  },
  {
   "cell_type": "code",
   "execution_count": null,
   "metadata": {},
   "outputs": [],
   "source": [
    "# start display for showing results\n",
    "display = Display(backend=\"xvfb\", visible=False, size=(1024, 768))\n",
    "display.start()"
   ]
  },
  {
   "cell_type": "code",
   "execution_count": null,
   "metadata": {},
   "outputs": [],
   "source": [
    "# Testing mesh generation\n",
    "\n",
    "params.show_mesh = True\n",
    "generate_config(params)\n",
    "generate_mesh(params)"
   ]
  },
  {
   "cell_type": "code",
   "execution_count": null,
   "metadata": {},
   "outputs": [],
   "source": [
    "dataset_name = \"grid_data.csv\"\n",
    "make_grid_linear_dataset(8, how_many, dataset_name, 0.1, plot_dataset=True)"
   ]
  },
  {
   "cell_type": "code",
   "execution_count": null,
   "metadata": {},
   "outputs": [],
   "source": [
    "\n",
    "k_in_list = np.logspace(np.log10(0.1), np.log10(10), 51)\n",
    "print(k_in_list)"
   ]
  },
  {
   "cell_type": "code",
   "execution_count": null,
   "metadata": {},
   "outputs": [],
   "source": [
    "use_line = \"-use_line\"\n",
    "# use_line = \"\"\n",
    "\n",
    "if use_line:\n",
    "    prefix += \"line_\"\n",
    "    print(prefix)\n",
    "# prefix += "
   ]
  },
  {
   "cell_type": "code",
   "execution_count": null,
   "metadata": {},
   "outputs": [],
   "source": [
    "# Testing running analysis\n",
    "!rm out_*h5m\n",
    "\n",
    "how_many = 1001\n",
    "\n",
    "number_of_k = 51\n",
    "k_in_list = np.logspace(np.log10(0.05), np.log10(50), number_of_k)\n",
    "sumana_name = \"sumanalys_\" + prefix + str(number_of_k) \n",
    "print(sumana_name)\n",
    "\n",
    "# make_grid_linear_dataset(8, how_many, dataset_name, 0.1, plot_dataset=False)\n",
    "\n",
    "params.part_file = params.mesh_file + \"_\" + str(params.nproc) + \"p.h5m\"\n",
    "!{mofem_part} -my_file {params.mesh_file + \".h5m\"} -my_nparts {params.nproc} -output_file {params.part_file} -dim 2 -adj_dim 1\n",
    "if run_simulation:\n",
    "    !rm sumanalys.csv\n",
    "    for k_in in k_in_list:\n",
    "        make_grid_linear_dataset(8, how_many, dataset_name, k_in, plot_dataset=False)\n",
    "        print(\"k_in = \", k_in)\n",
    "        !{exe} -file_name {params.part_file} -my_order {params.order} {analytical_solution_tag} -csv_tree_file {dataset_name} {use_line} -scaling 0 -my_dummy_k {k_in} -snes_max_it 5000\n",
    "        print(\"analysis done\")\n",
    "    !cp sumanalys.csv {sumana_name}.csv\n",
    "\n",
    "    # !{exe} -file_name {params.part_file} -my_order {params.order} {analytical_solution_tag} -csv_tree_file {dataset_name} -write_long_error_file {use_line} -print_integ -scaling 0 -my_dummy_k 0.1  -snes_max_it 5000\n",
    "# -use_line -snes_max_it 500\n",
    "\n",
    "out_to_vtk = !ls -c1 out_result_*h5m\n",
    "\n",
    "!convert.py {out_to_vtk[0]}\n",
    "!rm out_*h5m"
   ]
  },
  {
   "cell_type": "code",
   "execution_count": null,
   "metadata": {},
   "outputs": [],
   "source": [
    "\n",
    "naming = [\"order\", \"gaussnum\", \"iterations\",\"volume\", \"datanum\",\"rmsPoiErr\", \"errorEstimator\",\n",
    "          \"L2norm\", \"H1seminorm\",\"fluxErr\", \"orderRefinementCounter\", \"errorIndicatorGrad\", \"errorIndicatorDiv\", \"jumpL2\", \"jumpHdiv\", \"eleNum\"]\n",
    "\n",
    "error_name_list = [\"L2norm\", \"H1seminorm\", \"fluxErr\"]\n",
    "error_label_list = [(r'Global error $L^2$-norm'),\n",
    "               (r'Global error $H^1$-seminorm'), (r'Global Flux error')]\n",
    "\n",
    "# error_name_list = [\"iterations\", \"rmsPoiErr\"]\n",
    "# error_label_list = [(r'Global error $L^2$-norm'),\n",
    "#                (r'Global error $H^1$-seminorm'), (r'Global Flux error')]\n",
    "\n",
    "# iter_ana = Analysis(\"sumanalys\", naming, [], [], [], prefix, [],  marker='x', linestyle='--', plot_gradients=True, label=\"Mixed\")\n",
    "iter_ana = Analysis(sumana_name, naming, [], [], [], prefix, [],  marker='x', linestyle='--', plot_gradients=True, label=\"Mixed\")"
   ]
  },
  {
   "cell_type": "code",
   "execution_count": null,
   "metadata": {},
   "outputs": [],
   "source": [
    "# print(iter_ana.data[\"fluxErr\"])\n",
    "\n",
    "# # divide each iter_ana.data[\"fluxErr\"] by k_in_list\n",
    "# for i in range(len(k_in_list)):\n",
    "#     iter_ana.data[\"fluxErr\"][i] /= k_in_list[i]\n",
    "\n",
    "# print(iter_ana.data[\"fluxErr\"])"
   ]
  },
  {
   "cell_type": "code",
   "execution_count": null,
   "metadata": {},
   "outputs": [],
   "source": [
    "plt.figure()\n",
    "\n",
    "plt.plot(k_in_list, iter_ana.data[\"L2norm\"], label=\"No scaling\", marker='x', linestyle='--')\n",
    "\n",
    "plt.xlabel(label_conductivity)\n",
    "plt.ylabel(r'Global error $L^2$-norm')\n",
    "plt.xscale('log')\n",
    "plt.yscale('log')\n",
    "ax = plt.gca()  # Define ax variable\n",
    "ax.grid(True, ls=':')  # Call ax.grid() method\n",
    "plt.legend()\n",
    "plt.tight_layout()\n",
    "plt.savefig(prefix+'scaling_l2_err.pdf')\n",
    "plt.show()\n",
    "\n",
    "plt.figure()\n",
    "plt.plot(k_in_list, iter_ana.data[\"H1seminorm\"], label=\"No scaling\", marker='x', linestyle='--')\n",
    "plt.xlabel(label_conductivity)\n",
    "plt.ylabel(r'Global error $H^1$-seminorm')\n",
    "plt.xscale('log')\n",
    "plt.yscale('log')\n",
    "ax = plt.gca()  # Define ax variable\n",
    "ax.grid(True, ls=':')  # Call ax.grid() method\n",
    "plt.legend()\n",
    "plt.tight_layout()\n",
    "plt.savefig(prefix+'scaling_h1_err.pdf')\n",
    "plt.show()\n",
    "\n",
    "plt.figure()\n",
    "plt.plot(k_in_list, iter_ana.data[\"fluxErr\"], label=\"No scaling\", marker='x', linestyle='--')\n",
    "plt.xlabel(label_conductivity)\n",
    "plt.ylabel(r'Global Flux error')\n",
    "plt.xscale('log')\n",
    "plt.yscale('log')\n",
    "ax = plt.gca()  # Define ax variable\n",
    "ax.grid(True, ls=':')  # Call ax.grid() method\n",
    "plt.legend()\n",
    "plt.tight_layout()\n",
    "plt.savefig(prefix+'scaling_flux_err.pdf')\n"
   ]
  },
  {
   "cell_type": "code",
   "execution_count": null,
   "metadata": {},
   "outputs": [],
   "source": [
    "plt.figure(figsize=(12, 4))\n",
    "\n",
    "plt.plot(k_in_list, iter_ana.data[\"iterations\"], label=\"No scaling\", marker='x', linestyle='--')\n",
    "\n",
    "plt.xlabel(label_conductivity)\n",
    "plt.ylabel(\"Number of iterations\")\n",
    "plt.xscale('log')\n",
    "plt.yscale('log')\n",
    "ax = plt.gca()  # Define ax variable\n",
    "ax.grid(True, ls=':')  # Call ax.grid() method\n",
    "plt.legend()\n",
    "plt.tight_layout()\n",
    "plt.savefig(prefix+'scaling_iterations.pdf')\n",
    "plt.show()"
   ]
  },
  {
   "cell_type": "code",
   "execution_count": null,
   "metadata": {},
   "outputs": [],
   "source": [
    "\n",
    "params.field_part = -1\n",
    "params.show_file = \"out_iteration_\"\n",
    "params.show_file = \"out_result_\"\n",
    "params.show_field = \"T\"\n",
    "# params.warp_factor = 0.4  # warp factor\n",
    "params.show_edges = True\n",
    "# params.p_save = \"run_test_p.pdf\"\n",
    "show_results(params)"
   ]
  },
  {
   "cell_type": "code",
   "execution_count": null,
   "metadata": {},
   "outputs": [],
   "source": [
    "params.show_field = \"Q\"\n",
    "params.field_part = 1\n",
    "show_results(params)"
   ]
  },
  {
   "cell_type": "code",
   "execution_count": null,
   "metadata": {},
   "outputs": [],
   "source": []
  },
  {
   "cell_type": "code",
   "execution_count": null,
   "metadata": {},
   "outputs": [],
   "source": []
  },
  {
   "cell_type": "code",
   "execution_count": null,
   "metadata": {},
   "outputs": [],
   "source": []
  }
 ],
 "metadata": {
  "kernelspec": {
   "display_name": "Python 3",
   "language": "python",
   "name": "python3"
  },
  "language_info": {
   "codemirror_mode": {
    "name": "ipython",
    "version": 3
   },
   "file_extension": ".py",
   "mimetype": "text/x-python",
   "name": "python",
   "nbconvert_exporter": "python",
   "pygments_lexer": "ipython3",
   "version": "3.11.6"
  }
 },
 "nbformat": 4,
 "nbformat_minor": 2
}
