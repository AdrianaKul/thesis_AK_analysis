{
 "cells": [
  {
   "cell_type": "code",
   "execution_count": null,
   "metadata": {
    "ExecuteTime": {
     "end_time": "2024-02-04T18:06:05.250997Z",
     "start_time": "2024-02-04T18:06:04.464573Z"
    }
   },
   "outputs": [],
   "source": [
    "# import settings and functions\n",
    "%run ./../../imports.ipynb\n"
   ]
  },
  {
   "cell_type": "markdown",
   "metadata": {},
   "source": [
    "## What mesh?\n",
    "\n",
    "Copy your choice to the next cell\n",
    "\n",
    "for SquareTop:\n",
    "```\n",
    "analytical_solution_tag = \"-ana_square_top\"\n",
    "generate_config = generateConfig_squareTop\n",
    "generate_mesh = generateMesh_squareTop\n",
    "```\n",
    "\n",
    "for SquareSinCos:\n",
    "```\n",
    "analytical_solution_tag = \"-ana_square_sincos\"\n",
    "generate_config = generateConfig_squareSinCos\n",
    "generate_mesh = generateMesh_squareSinCos\n",
    "```"
   ]
  },
  {
   "cell_type": "code",
   "execution_count": 2,
   "metadata": {},
   "outputs": [],
   "source": [
    "# Change according to instruction above\n",
    "# analytical_solution_tag = \"-ana_mexi_hat\"\n",
    "# generate_config = generateConfig_squareMexiHat\n",
    "# generate_mesh = generateMesh_squareMexiHat\n",
    "\n",
    "# analytical_solution_tag = \"-ana_square_top\"\n",
    "# generate_config = generateConfig_squareTop\n",
    "# generate_mesh = generateMesh_squareTop\n",
    "\n",
    "analytical_solution_tag = \"-ana_square_sincos\"\n",
    "generate_config = generateConfig_squareSinCos\n",
    "generate_mesh = generateMesh_squareSinCos"
   ]
  },
  {
   "cell_type": "markdown",
   "metadata": {},
   "source": [
    "## Analysis setup"
   ]
  },
  {
   "cell_type": "code",
   "execution_count": 3,
   "metadata": {},
   "outputs": [],
   "source": [
    "# which executable?\n",
    "\n",
    "exe = data_driven_diffusion_snes\n",
    "sumanalys = \"sumanalys.csv\"\n",
    "ana_name = \"ana_square_sincos_DD_order\"\n",
    "\n",
    "ana_compare_exe = [data_driven_diffusion_snes, classic_diffusion]\n",
    "ana_compare_name = [\"ana_square_sincos_mixed\", \"ana_square_sincos_classic\"]\n",
    "# ana_compare_name = [\"ana_square_sincos_mixed\"]\n",
    "ana_compare_sum = [\"sumanalys.csv\", \"FEM_errors.csv\"]\n",
    "\n",
    "# Convergence analysis parameters\n",
    "order_list = [1, 2, 3] # approximation order p\n",
    "elem_size_list = [0.1, 0.05, 0.02, 0.01] # element size h\n",
    "# order_list = [1, 2, 3] # approximation order p\n",
    "# elem_size_list = [0.5, 0.2, 0.1] # element size h\n",
    "params.triangle_mesh = True\n",
    "params.nproc = 1 # number of processors\n",
    "jumps = \"\"\n",
    "if params.nproc == 1:\n",
    "    jumps = \"-get_jumps\"\n",
    "# jumps = \"-get_jumps\"\n",
    "\n",
    "use_line = \"-use_line\"\n",
    "# use_line = \"\"\n",
    "\n",
    "run_test = True\n",
    "run_analysis = True\n",
    "run_refinement_analysis = True\n",
    "run_refinement_mesh_analysis = True\n",
    "run_refinement_hp_analysis = True\n",
    "\n",
    "run_test = False\n",
    "run_analysis = False\n",
    "run_refinement_analysis = False\n",
    "run_refinement_mesh_analysis = False\n",
    "run_refinement_hp_analysis = False\n",
    "\n",
    "naming = [\"order\", \"gaussnum\", \"iterations\",\"volume\", \"datanum\",\"rmsPoiErr\", \"errorEstimator\",\n",
    "          \"L2norm\", \"H1seminorm\",\"fluxErr\", \"orderRefinementCounter\", \"errorIndicatorGrad\", \"errorIndicatorDiv\", \"jumpL2\", \"jumpHdiv\", \"eleNum\"]\n",
    "# naming = [\"order\", \"gaussnum\", \"iterations\",\"volume\", \"datanum\",\"rmsPoiErr\", \"errorEstimator\",\n",
    "#           \"L2norm\", \"H1seminorm\",\"fluxErr\", \"orderRefinementCounter\"]\n",
    "\n",
    "error_name_list = [\"L2norm\", \"H1seminorm\", \"fluxErr\"]\n",
    "error_label_list = [(r'Global error $L^2$-norm'),\n",
    "               (r'Global error $H^1$-seminorm'), (r'Global Flux error')]"
   ]
  },
  {
   "cell_type": "code",
   "execution_count": 4,
   "metadata": {
    "ExecuteTime": {
     "end_time": "2024-02-04T18:06:05.254997Z",
     "start_time": "2024-02-04T18:06:05.252603Z"
    }
   },
   "outputs": [],
   "source": [
    "params.conductivity = 1.0 # linear conductivity\n",
    "params.element_size = 0.05 # element size in the regular mesh\n",
    "params.order = 2 # approximation order for displacements\n",
    "\n",
    "# params.triangle_mesh = False # use triangular mesh\n",
    "\n",
    "# Pre-processing parameters\n",
    "params.mesh_file = \"square_sincos\"\n",
    "params.length_x = 1\n",
    "params.length_y = 1\n",
    "params.length_z = 0\n",
    "params.show_mesh = True\n",
    "\n",
    "\n",
    "# solution parameters\n",
    "params.log_file = \"log\" # log file name \n"
   ]
  },
  {
   "cell_type": "markdown",
   "metadata": {},
   "source": [
    "## Run test"
   ]
  },
  {
   "cell_type": "code",
   "execution_count": null,
   "metadata": {
    "ExecuteTime": {
     "end_time": "2024-02-04T18:06:05.347658Z",
     "start_time": "2024-02-04T18:06:05.256058Z"
    }
   },
   "outputs": [],
   "source": [
    "# start display for showing results\n",
    "display = Display(backend=\"xvfb\", visible=False, size=(1024, 768))\n",
    "display.start()"
   ]
  },
  {
   "cell_type": "code",
   "execution_count": 6,
   "metadata": {
    "ExecuteTime": {
     "end_time": "2024-02-04T18:06:06.528759Z",
     "start_time": "2024-02-04T18:06:05.372517Z"
    }
   },
   "outputs": [],
   "source": [
    "# Testing mesh generation\n",
    "if run_test:\n",
    "    params.show_mesh = True\n",
    "    generate_config(params)\n",
    "    generate_mesh(params)"
   ]
  },
  {
   "cell_type": "code",
   "execution_count": 7,
   "metadata": {},
   "outputs": [],
   "source": [
    "# Testing running analysis\n",
    "params.order = 2\n",
    "if run_test:\n",
    "    !rm out*\n",
    "    params.part_file = params.mesh_file + \"_\" + str(params.nproc) + \"p.h5m\"\n",
    "    !{mofem_part} -my_file {params.mesh_file + \".h5m\"} -nparts {params.nproc} -output_file {params.part_file} -dim 2 -adj_dim 1\n",
    "    !mpirun -np {params.nproc} {exe} -file_name {params.part_file} -my_order {params.order} {analytical_solution_tag} {jumps} {use_line} \n",
    "    # -print_integ\n",
    "\n",
    "    # !convert.py out*\n"
   ]
  },
  {
   "cell_type": "code",
   "execution_count": 8,
   "metadata": {},
   "outputs": [],
   "source": [
    "if run_test:    \n",
    "    out_to_vtk = !ls -c1 out_integ_pts_*.h5m\n",
    "    last_file=out_to_vtk[0]\n",
    "    !convert.py {last_file} \n",
    "    out_to_vtk = !ls -c1 out_resu*.h5m\n",
    "    last_file=out_to_vtk[0]\n",
    "    !convert.py {last_file} \n",
    "    out_to_vtk = !ls -c1 out_ite*.h5m\n",
    "    last_file=out_to_vtk[0]\n",
    "    !convert.py {last_file} \n",
    "    out_to_vtk = !ls -c1 out_error*.h5m\n",
    "    last_file=out_to_vtk[0]\n",
    "    !convert.py {last_file} \n",
    "    !rm out*h5m"
   ]
  },
  {
   "cell_type": "code",
   "execution_count": 9,
   "metadata": {},
   "outputs": [],
   "source": [
    "if run_test:\n",
    "    params.show_file = \"out_resu\"\n",
    "    params.show_field = \"T\"\n",
    "    params.warp_field_scalar = \"T\"\n",
    "    params.show_edges = False\n",
    "    params.p_cmap = color_temperature\n",
    "    params.clim = (0, 1)\n",
    "    params.warp_factor = 0.8\n",
    "    params.camera_position =  [\n",
    "            (-1.3, -1.3, 1.1),\n",
    "            (0.35, 0.35, 0),\n",
    "            (0.25, 0.25, 1),\n",
    "        ]\n",
    "    # params.p_cmap = \"jet\"\n",
    "    params.p_save = \"c4_T_ord_\"+str(params.order)+\".pdf\"\n",
    "    show_results(params)\n",
    "\n",
    "\n",
    "    params.clim = None\n",
    "    params.camera_position = \"xy\"\n",
    "    params.warp_field_scalar = \"\"\n"
   ]
  },
  {
   "cell_type": "code",
   "execution_count": 10,
   "metadata": {},
   "outputs": [],
   "source": [
    "if run_test:\n",
    "    params.field_part = 10\n",
    "    params.show_file = \"out_resu\"\n",
    "    params.show_field = \"T\"\n",
    "    params.show_edges = True\n",
    "    params.clim = [0, 10]\n",
    "    # params.clim = None\n",
    "    params.p_cmap = color_gradient\n",
    "    params.p_save = \"c4_grad_T.pdf\"\n",
    "    show_results(params)\n",
    "    params.field_part = -1"
   ]
  },
  {
   "cell_type": "code",
   "execution_count": 11,
   "metadata": {},
   "outputs": [],
   "source": [
    "if run_test:\n",
    "    params.field_part = -1\n",
    "    params.show_file = \"out_resu\"\n",
    "    params.show_field = \"Q\"\n",
    "    params.show_edges = True\n",
    "    params.p_cmap = color_gradient\n",
    "    params.p_save = \"c4_Q.pdf\"\n",
    "    show_results(params)"
   ]
  },
  {
   "cell_type": "markdown",
   "metadata": {},
   "source": [
    "## Comparison between standard and mixed"
   ]
  },
  {
   "cell_type": "code",
   "execution_count": 12,
   "metadata": {},
   "outputs": [],
   "source": [
    "if run_analysis:    \n",
    "    for i in range(len(ana_compare_name)):\n",
    "        !rm {ana_compare_sum[i]}\n",
    "        !rm ./out_*\n",
    "        for elem_size in elem_size_list:\n",
    "            params.element_size = elem_size\n",
    "            params.show_mesh = False\n",
    "            generate_mesh(params)\n",
    "            params.part_file = params.mesh_file + \"_\" + str(params.nproc) + \"p.h5m\"\n",
    "            !{mofem_part} -my_file {params.mesh_file + \".h5m\"} -my_nparts {params.nproc} -output_file {params.part_file} -dim 2 -adj_dim 1\n",
    "            for order in order_list:\n",
    "                params.order = order\n",
    "                !mpirun -np {params.nproc} {ana_compare_exe[i]} -file_name {params.part_file} -my_order {params.order} {analytical_solution_tag} {jumps} {use_line}\n",
    "        !mv {ana_compare_sum[i]} {ana_compare_name[i]}.csv\n",
    "    \n"
   ]
  },
  {
   "cell_type": "markdown",
   "metadata": {},
   "source": [
    "### Load analysis"
   ]
  },
  {
   "cell_type": "code",
   "execution_count": null,
   "metadata": {},
   "outputs": [],
   "source": [
    "print(naming)"
   ]
  },
  {
   "cell_type": "code",
   "execution_count": 14,
   "metadata": {},
   "outputs": [],
   "source": [
    "error_name_list = []\n",
    "error_label_list = []\n",
    "\n",
    "error_name_list.append(\"L2norm\")\n",
    "error_label_list.append(r'Global error $L^2$-norm')\n",
    "error_name_list.append(\"H1seminorm\")\n",
    "error_label_list.append(r'Global error $H^1$-seminorm')\n",
    "error_name_list.append(\"fluxErr\")\n",
    "error_label_list.append(r'Global Flux error')\n",
    "\n"
   ]
  },
  {
   "cell_type": "code",
   "execution_count": 15,
   "metadata": {},
   "outputs": [],
   "source": [
    "filename_prefix = \"c4_DD_sincos_\"\n",
    "\n",
    "DD_ana = Analysis(ana_compare_name[0], naming, order_list, error_name_list, error_label_list, filename_prefix, elem_size_list,  marker='x', linestyle='--', plot_gradients=True, label=\"DD\")\n",
    "classic_ana = Analysis(ana_compare_name[1], naming, order_list, error_name_list, error_label_list, filename_prefix, elem_size_list,  marker='+', linestyle=':', plot_gradients=False, label=\"Standard\")"
   ]
  },
  {
   "cell_type": "markdown",
   "metadata": {},
   "source": [
    "### Plot results"
   ]
  },
  {
   "cell_type": "code",
   "execution_count": null,
   "metadata": {},
   "outputs": [],
   "source": [
    "\n",
    "DD_ana.plot_both_analyses_by_elem_size([])\n",
    "DD_ana.plot_both_analyses_by_gaussnum([])"
   ]
  },
  {
   "cell_type": "code",
   "execution_count": null,
   "metadata": {},
   "outputs": [],
   "source": [
    "DD_ana.plot_gradients = False\n",
    "DD_ana.legend_fond_size = 12\n",
    "\n",
    "DD_ana.plot_both_analyses_by_gaussnum([classic_ana])\n",
    "DD_ana.plot_both_analyses_by_elem_size([classic_ana])\n"
   ]
  },
  {
   "cell_type": "code",
   "execution_count": null,
   "metadata": {},
   "outputs": [],
   "source": []
  },
  {
   "cell_type": "code",
   "execution_count": null,
   "metadata": {},
   "outputs": [],
   "source": []
  },
  {
   "cell_type": "code",
   "execution_count": null,
   "metadata": {},
   "outputs": [],
   "source": []
  }
 ],
 "metadata": {
  "jupytext": {
   "formats": "ipynb,md"
  },
  "kernelspec": {
   "display_name": "Python 3",
   "language": "python",
   "name": "python3"
  },
  "language_info": {
   "codemirror_mode": {
    "name": "ipython",
    "version": 3
   },
   "file_extension": ".py",
   "mimetype": "text/x-python",
   "name": "python",
   "nbconvert_exporter": "python",
   "pygments_lexer": "ipython3",
   "version": "3.11.6"
  }
 },
 "nbformat": 4,
 "nbformat_minor": 2
}
