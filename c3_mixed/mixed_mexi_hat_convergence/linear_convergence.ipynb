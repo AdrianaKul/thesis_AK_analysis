{
 "cells": [
  {
   "cell_type": "code",
   "execution_count": null,
   "metadata": {
    "ExecuteTime": {
     "end_time": "2024-02-04T18:06:05.250997Z",
     "start_time": "2024-02-04T18:06:04.464573Z"
    }
   },
   "outputs": [],
   "source": [
    "# import settings and functions\n",
    "%run ./../../imports.ipynb\n"
   ]
  },
  {
   "cell_type": "markdown",
   "metadata": {},
   "source": [
    "## What mesh?\n",
    "\n",
    "Copy your choice to the next cell\n",
    "\n",
    "for SquareTop:\n",
    "```\n",
    "analytical_solution_tag = \"-ana_square_top\"\n",
    "generate_config = generateConfig_squareTop\n",
    "generate_mesh = generateMesh_squareTop\n",
    "```\n",
    "\n",
    "for SquareSinCos:\n",
    "```\n",
    "analytical_solution_tag = \"-ana_square_sincos\"\n",
    "generate_config = generateConfig_squareSinCos\n",
    "generate_mesh = generateMesh_squareSinCos\n",
    "```"
   ]
  },
  {
   "cell_type": "code",
   "execution_count": null,
   "metadata": {},
   "outputs": [],
   "source": [
    "# Change according to instruction above\n",
    "analytical_solution_tag = \"-ana_mexi_hat\"\n",
    "generate_config = generateConfig_squareMexiHat\n",
    "generate_mesh = generateMesh_squareMexiHat\n",
    "\n",
    "# analytical_solution_tag = \"-ana_square_top\"\n",
    "# generate_config = generateConfig_squareTop\n",
    "# generate_mesh = generateMesh_squareTop\n",
    "\n",
    "# analytical_solution_tag = \"-ana_square_sincos\"\n",
    "# generate_config = generateConfig_squareSinCos\n",
    "# generate_mesh = generateMesh_squareSinCos"
   ]
  },
  {
   "cell_type": "markdown",
   "metadata": {},
   "source": [
    "## Analysis setup"
   ]
  },
  {
   "cell_type": "code",
   "execution_count": null,
   "metadata": {},
   "outputs": [],
   "source": [
    "# which executable?\n",
    "\n",
    "exe = hdiv_diffusion\n",
    "sumanalys = \"sumanalys.csv\"\n",
    "ana_name = \"ana_square_mexi_mixed_order\"\n",
    "\n",
    "ana_compare_exe = [hdiv_diffusion, classic_diffusion]\n",
    "ana_compare_name = [\"ana_square_mexi_mixed\", \"ana_square_mexi_classic\"]\n",
    "# ana_compare_name = [\"ana_square_mexi_mixed\"]\n",
    "ana_compare_sum = [\"sumanalys.csv\", \"FEM_errors.csv\"]\n",
    "\n",
    "# Convergence analysis parameters\n",
    "order_list = [1, 2, 3] # approximation order p\n",
    "elem_size_list = [0.05, 0.02, 0.01, 0.005] # element size h\n",
    "# order_list = [1, 2, 3] # approximation order p\n",
    "# elem_size_list = [0.5, 0.2, 0.1] # element size h\n",
    "params.triangle_mesh = False\n",
    "params.nproc = 10 # number of processors\n",
    "\n",
    "run_test = True\n",
    "run_analysis = True\n",
    "\n",
    "naming = [\"order\", \"gaussnum\", \"iterations\",\"volume\", \"datanum\",\"rmsPoiErr\", \"errorEstimator\",\n",
    "          \"L2norm\", \"H1seminorm\",\"fluxErr\", \"orderRefinementCounter\", \"errorIndicatorGrad\", \"errorIndicatorDiv\", \"jumpL2\", \"jumpHdiv\", \"eleNum\"]\n",
    "# naming = [\"order\", \"gaussnum\", \"iterations\",\"volume\", \"datanum\",\"rmsPoiErr\", \"errorEstimator\",\n",
    "#           \"L2norm\", \"H1seminorm\",\"fluxErr\", \"orderRefinementCounter\"]\n",
    "\n",
    "error_name_list = [\"L2norm\", \"H1seminorm\", \"fluxErr\"]\n",
    "error_label_list = [(r'Global error $L^2$-norm'),\n",
    "               (r'Global error $H^1$-seminorm'), (r'Global Flux error')]"
   ]
  },
  {
   "cell_type": "code",
   "execution_count": null,
   "metadata": {
    "ExecuteTime": {
     "end_time": "2024-02-04T18:06:05.254997Z",
     "start_time": "2024-02-04T18:06:05.252603Z"
    }
   },
   "outputs": [],
   "source": [
    "params.conductivity = 1.0 # linear conductivity\n",
    "params.element_size = 0.1 # element size in the regular mesh\n",
    "params.order = 2 # approximation order for displacements\n",
    "\n",
    "# params.triangle_mesh = False # use triangular mesh\n",
    "\n",
    "# Pre-processing parameters\n",
    "params.mesh_file = \"square_mexi\"\n",
    "params.length_x = 1\n",
    "params.length_y = 1\n",
    "params.length_z = 0\n",
    "params.show_mesh = True\n",
    "\n",
    "\n",
    "# solution parameters\n",
    "params.log_file = \"log\" # log file name \n"
   ]
  },
  {
   "cell_type": "markdown",
   "metadata": {},
   "source": [
    "## Run test"
   ]
  },
  {
   "cell_type": "code",
   "execution_count": null,
   "metadata": {
    "ExecuteTime": {
     "end_time": "2024-02-04T18:06:05.347658Z",
     "start_time": "2024-02-04T18:06:05.256058Z"
    }
   },
   "outputs": [],
   "source": [
    "# start display for showing results\n",
    "display = Display(backend=\"xvfb\", visible=False, size=(1024, 768))\n",
    "display.start()"
   ]
  },
  {
   "cell_type": "code",
   "execution_count": null,
   "metadata": {
    "ExecuteTime": {
     "end_time": "2024-02-04T18:06:06.528759Z",
     "start_time": "2024-02-04T18:06:05.372517Z"
    }
   },
   "outputs": [],
   "source": [
    "# Testing mesh generation\n",
    "if run_test:\n",
    "    params.show_mesh = True\n",
    "    generate_config(params)\n",
    "    generate_mesh(params)"
   ]
  },
  {
   "cell_type": "code",
   "execution_count": null,
   "metadata": {},
   "outputs": [],
   "source": [
    "# Testing running analysis\n",
    "if run_test:\n",
    "    params.part_file = params.mesh_file + \"_\" + str(params.nproc) + \"p.h5m\"\n",
    "    !{mofem_part} -my_file {params.mesh_file + \".h5m\"} -nparts {params.nproc} -output_file {params.part_file} -dim 2 -adj_dim 1\n",
    "    !mpirun -np {params.nproc} {exe} -file_name {params.part_file} -my_order {params.order} {analytical_solution_tag}\n",
    "\n",
    "    !convert.py out*\n"
   ]
  },
  {
   "cell_type": "code",
   "execution_count": null,
   "metadata": {},
   "outputs": [],
   "source": [
    "if run_test:\n",
    "    # params.show_file = \"out_ori_result\"\n",
    "    params.show_file = \"out_result\"\n",
    "    params.show_field = \"P_reference\"\n",
    "    params.show_edges = True\n",
    "    params.p_save = \"run_test_p.pdf\"\n",
    "    show_results(params)"
   ]
  },
  {
   "cell_type": "code",
   "execution_count": null,
   "metadata": {},
   "outputs": [],
   "source": [
    "if run_test:\n",
    "    params.show_file = \"out_error\"\n",
    "    params.show_field = \"ERROR_INDICATOR_DIV\"\n",
    "    params.show_edges = True\n",
    "    params.p_save = \"run_test_err_ind_grad.pdf\"\n",
    "    show_results(params)"
   ]
  },
  {
   "cell_type": "markdown",
   "metadata": {},
   "source": [
    "## Comparison between standard and mixed"
   ]
  },
  {
   "cell_type": "code",
   "execution_count": null,
   "metadata": {},
   "outputs": [],
   "source": [
    "if run_analysis:    \n",
    "    for i in range(len(ana_compare_name)):\n",
    "        !rm {ana_compare_sum[i]}\n",
    "        !rm ./output_files/out*\n",
    "        for elem_size in elem_size_list:\n",
    "            params.element_size = elem_size\n",
    "            params.show_mesh = False\n",
    "            generate_mesh(params)\n",
    "            params.part_file = params.mesh_file + \"_\" + str(params.nproc) + \"p.h5m\"\n",
    "            !{mofem_part} -my_file {params.mesh_file + \".h5m\"} -my_nparts {params.nproc} -output_file {params.part_file} -dim 2 -adj_dim 1\n",
    "            for order in order_list:\n",
    "                params.order = order\n",
    "                !mpirun -np {params.nproc} {ana_compare_exe[i]} -file_name {params.part_file} -my_order {params.order} {analytical_solution_tag}\n",
    "        !mv {ana_compare_sum[i]} {ana_compare_name[i]}.csv\n",
    "    \n"
   ]
  },
  {
   "cell_type": "code",
   "execution_count": null,
   "metadata": {},
   "outputs": [],
   "source": [
    "exe = hdiv_diffusion\n",
    "sumanalys = \"sumanalys.csv\"\n",
    "ana_name = \"ana_square_mexi_mixed_order\"\n",
    "\n",
    "if run_analysis:    \n",
    "    !rm sumanalys\n",
    "    !rm ./output_files/out*\n",
    "    for elem_size in elem_size_list:\n",
    "        params.element_size = elem_size\n",
    "        params.show_mesh = False\n",
    "        generate_mesh(params)\n",
    "        params.part_file = params.mesh_file + \"_\" + str(params.nproc) + \"p.h5m\"\n",
    "        !{mofem_part} -my_file {params.mesh_file + \".h5m\"} -my_nparts {params.nproc} -output_file {params.part_file} -dim 2 -adj_dim 1\n",
    "        for order in order_list:\n",
    "            params.order = order\n",
    "            !mpirun -np {params.nproc} {ana_compare_exe[i]} -file_name {params.part_file} -my_order {params.order} {analytical_solution_tag}\n",
    "    !mv {ana_compare_sum[i]} {ana_compare_name[i]}.csv"
   ]
  },
  {
   "cell_type": "markdown",
   "metadata": {},
   "source": [
    "### Load analysis"
   ]
  },
  {
   "cell_type": "code",
   "execution_count": null,
   "metadata": {},
   "outputs": [],
   "source": [
    "print(naming)"
   ]
  },
  {
   "cell_type": "code",
   "execution_count": null,
   "metadata": {},
   "outputs": [],
   "source": [
    "error_name_list = []\n",
    "error_label_list = []\n",
    "\n",
    "# error_name_list.append(\"errorEstimator\")\n",
    "# error_label_list.append(r'Global error estimator')\n",
    "# error_name_list.append(\"errorIndicatorGrad\")\n",
    "# error_label_list.append(r'Global error indicator grad')\n",
    "# error_name_list.append(\"errorIndicatorDiv\")\n",
    "# error_label_list.append(r'Global error indicator div')\n",
    "# error_name_list.append(\"jumpL2\")\n",
    "# error_label_list.append(r'Global jump L2')\n",
    "# error_name_list.append(\"jumpHdiv\")\n",
    "# error_label_list.append(r'Global jump Hdiv')\n",
    "\n",
    "error_name_list.append(\"L2norm\")\n",
    "error_label_list.append(r'Global error $L^2$-norm')\n",
    "error_name_list.append(\"H1seminorm\")\n",
    "error_label_list.append(r'Global error $H^1$-seminorm')\n",
    "error_name_list.append(\"fluxErr\")\n",
    "error_label_list.append(r'Global Flux error')\n"
   ]
  },
  {
   "cell_type": "code",
   "execution_count": null,
   "metadata": {},
   "outputs": [],
   "source": [
    "pre_name = \"c3_mixed_hat_\"\n",
    "\n",
    "mixed_ana = Analysis(ana_compare_name[0], naming, order_list, error_name_list, error_label_list, pre_name, elem_size_list,  marker='x', linestyle='--', plot_gradients=True, label=\"Mixed\")\n",
    "classic_ana = Analysis(ana_compare_name[1], naming, order_list, error_name_list, error_label_list, pre_name, elem_size_list,  marker='o', linestyle='-', plot_gradients=False, label=\"Classic\")"
   ]
  },
  {
   "cell_type": "markdown",
   "metadata": {},
   "source": [
    "### Plot results"
   ]
  },
  {
   "cell_type": "code",
   "execution_count": null,
   "metadata": {},
   "outputs": [],
   "source": [
    "mixed_ana.plot_both_analyses_by_elem_size([classic_ana])\n",
    "# mixed_ana.plot_both_analyses_by_elem_size([])"
   ]
  },
  {
   "cell_type": "code",
   "execution_count": null,
   "metadata": {},
   "outputs": [],
   "source": [
    "mixed_ana.plot_both_analyses_by_gaussnum([classic_ana])\n",
    "# mixed_ana.plot_both_analyses_by_gaussnum([])\n"
   ]
  },
  {
   "cell_type": "code",
   "execution_count": null,
   "metadata": {},
   "outputs": [],
   "source": []
  },
  {
   "cell_type": "code",
   "execution_count": null,
   "metadata": {},
   "outputs": [],
   "source": []
  },
  {
   "cell_type": "code",
   "execution_count": null,
   "metadata": {},
   "outputs": [],
   "source": []
  }
 ],
 "metadata": {
  "jupytext": {
   "formats": "ipynb,md"
  },
  "kernelspec": {
   "display_name": "Python 3 (ipykernel)",
   "language": "python",
   "name": "python3"
  },
  "language_info": {
   "codemirror_mode": {
    "name": "ipython",
    "version": 3
   },
   "file_extension": ".py",
   "mimetype": "text/x-python",
   "name": "python",
   "nbconvert_exporter": "python",
   "pygments_lexer": "ipython3",
   "version": "3.11.6"
  }
 },
 "nbformat": 4,
 "nbformat_minor": 2
}
