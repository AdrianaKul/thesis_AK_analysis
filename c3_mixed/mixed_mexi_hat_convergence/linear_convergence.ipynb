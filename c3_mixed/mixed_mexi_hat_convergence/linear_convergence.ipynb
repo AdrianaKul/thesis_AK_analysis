{
 "cells": [
  {
   "cell_type": "code",
   "execution_count": null,
   "metadata": {
    "ExecuteTime": {
     "end_time": "2024-02-04T18:06:05.250997Z",
     "start_time": "2024-02-04T18:06:04.464573Z"
    }
   },
   "outputs": [],
   "source": [
    "# import settings and functions\n",
    "%run ./../../imports.ipynb\n"
   ]
  },
  {
   "cell_type": "markdown",
   "metadata": {},
   "source": [
    "## What mesh?\n",
    "\n",
    "Copy your choice to the next cell\n",
    "\n",
    "for SquareTop:\n",
    "```\n",
    "analytical_solution_tag = \"-ana_square_top\"\n",
    "generate_config = generateConfig_squareTop\n",
    "generate_mesh = generateMesh_squareTop\n",
    "```\n",
    "\n",
    "for SquareSinCos:\n",
    "```\n",
    "analytical_solution_tag = \"-ana_square_sincos\"\n",
    "generate_config = generateConfig_squareSinCos\n",
    "generate_mesh = generateMesh_squareSinCos\n",
    "```"
   ]
  },
  {
   "cell_type": "code",
   "execution_count": 2,
   "metadata": {},
   "outputs": [],
   "source": [
    "# Change according to instruction above\n",
    "analytical_solution_tag = \"-ana_mexi_hat\"\n",
    "generate_config = generateConfig_squareMexiHat\n",
    "generate_mesh = generateMesh_squareMexiHat\n",
    "\n",
    "# analytical_solution_tag = \"-ana_square_top\"\n",
    "# generate_config = generateConfig_squareTop\n",
    "# generate_mesh = generateMesh_squareTop\n",
    "\n",
    "# analytical_solution_tag = \"-ana_square_sincos\"\n",
    "# generate_config = generateConfig_squareSinCos\n",
    "# generate_mesh = generateMesh_squareSinCos"
   ]
  },
  {
   "cell_type": "markdown",
   "metadata": {},
   "source": [
    "## Analysis setup"
   ]
  },
  {
   "cell_type": "code",
   "execution_count": 3,
   "metadata": {},
   "outputs": [],
   "source": [
    "# which executable?\n",
    "\n",
    "exe = hdiv_diffusion\n",
    "sumanalys = \"sumanalys.csv\"\n",
    "ana_name = \"ana_square_mexi_mixed_order\"\n",
    "\n",
    "ana_compare_exe = [hdiv_diffusion, classic_diffusion]\n",
    "ana_compare_name = [\"ana_square_mexi_mixed\", \"ana_square_mexi_classic\"]\n",
    "# ana_compare_name = [\"ana_square_mexi_mixed\"]\n",
    "ana_compare_sum = [\"sumanalys.csv\", \"FEM_errors.csv\"]\n",
    "\n",
    "# Convergence analysis parameters\n",
    "order_list = [1, 2, 3, 4] # approximation order p\n",
    "elem_size_list = [0.1, 0.05, 0.02, 0.01] # element size h\n",
    "# order_list = [1, 2, 3] # approximation order p\n",
    "# elem_size_list = [0.5, 0.2, 0.1] # element size h\n",
    "params.triangle_mesh = True\n",
    "params.nproc = 1 # number of processors\n",
    "jumps = \"\"\n",
    "if params.nproc == 1:\n",
    "    jumps = \"-get_jumps\"\n",
    "# jumps = \"-get_jumps\"\n",
    "\n",
    "run_test = True\n",
    "run_analysis = True\n",
    "run_refinement_analysis = True\n",
    "run_refinement_mesh_analysis = True\n",
    "run_refinement_hp_analysis = True\n",
    "\n",
    "run_test = False\n",
    "run_analysis = False\n",
    "run_refinement_analysis = False\n",
    "run_refinement_mesh_analysis = False\n",
    "run_refinement_hp_analysis = False\n",
    "\n",
    "naming = [\"order\", \"gaussnum\", \"iterations\",\"volume\", \"datanum\",\"rmsPoiErr\", \"errorEstimator\",\n",
    "          \"L2norm\", \"H1seminorm\",\"fluxErr\", \"orderRefinementCounter\", \"errorIndicatorGrad\", \"errorIndicatorDiv\", \"jumpL2\", \"jumpHdiv\", \"eleNum\"]\n",
    "# naming = [\"order\", \"gaussnum\", \"iterations\",\"volume\", \"datanum\",\"rmsPoiErr\", \"errorEstimator\",\n",
    "#           \"L2norm\", \"H1seminorm\",\"fluxErr\", \"orderRefinementCounter\"]\n",
    "\n",
    "error_name_list = [\"L2norm\", \"H1seminorm\", \"fluxErr\"]\n",
    "error_label_list = [(r'Global error $L^2$-norm'),\n",
    "               (r'Global error $H^1$-seminorm'), (r'Global Flux error')]"
   ]
  },
  {
   "cell_type": "code",
   "execution_count": 4,
   "metadata": {
    "ExecuteTime": {
     "end_time": "2024-02-04T18:06:05.254997Z",
     "start_time": "2024-02-04T18:06:05.252603Z"
    }
   },
   "outputs": [],
   "source": [
    "params.conductivity = 1.0 # linear conductivity\n",
    "params.element_size = elem_size_list[1] # element size in the regular mesh\n",
    "params.order = 1 # approximation order for displacements\n",
    "\n",
    "# params.triangle_mesh = False # use triangular mesh\n",
    "\n",
    "# Pre-processing parameters\n",
    "params.mesh_file = \"square_mexi\"\n",
    "params.length_x = 1\n",
    "params.length_y = 1\n",
    "params.length_z = 0\n",
    "params.show_mesh = True\n",
    "\n",
    "\n",
    "# solution parameters\n",
    "params.log_file = \"log\" # log file name \n"
   ]
  },
  {
   "cell_type": "markdown",
   "metadata": {},
   "source": [
    "## Run test"
   ]
  },
  {
   "cell_type": "code",
   "execution_count": null,
   "metadata": {
    "ExecuteTime": {
     "end_time": "2024-02-04T18:06:05.347658Z",
     "start_time": "2024-02-04T18:06:05.256058Z"
    }
   },
   "outputs": [],
   "source": [
    "# start display for showing results\n",
    "display = Display(backend=\"xvfb\", visible=False, size=(1024, 768))\n",
    "display.start()"
   ]
  },
  {
   "cell_type": "code",
   "execution_count": 6,
   "metadata": {
    "ExecuteTime": {
     "end_time": "2024-02-04T18:06:06.528759Z",
     "start_time": "2024-02-04T18:06:05.372517Z"
    }
   },
   "outputs": [],
   "source": [
    "# Testing mesh generation\n",
    "if run_test:\n",
    "    params.show_mesh = True\n",
    "    generate_config(params)\n",
    "    generate_mesh(params)"
   ]
  },
  {
   "cell_type": "code",
   "execution_count": 7,
   "metadata": {},
   "outputs": [],
   "source": [
    "# Testing running analysis\n",
    "params.order = 3\n",
    "if run_test:\n",
    "    !rm out*\n",
    "    params.part_file = params.mesh_file + \"_\" + str(params.nproc) + \"p.h5m\"\n",
    "    !{mofem_part} -my_file {params.mesh_file + \".h5m\"} -nparts {params.nproc} -output_file {params.part_file} -dim 2 -adj_dim 1\n",
    "    !mpirun -np {params.nproc} {exe} -file_name {params.part_file} -my_order {params.order} {analytical_solution_tag} {jumps}\n",
    "\n",
    "    !convert.py out*\n"
   ]
  },
  {
   "cell_type": "code",
   "execution_count": 8,
   "metadata": {},
   "outputs": [],
   "source": [
    "if run_test:\n",
    "    params.show_file = \"out_resu\"\n",
    "    params.show_field = \"T\"\n",
    "    params.warp_field_scalar = \"T\"\n",
    "    params.show_edges = False\n",
    "    params.p_cmap = color_temperature\n",
    "    params.clim = (0, 1)\n",
    "    params.warp_factor = 0.8\n",
    "    params.p_resolution = (600, 400)\n",
    "    params.font_page_part = 1./2.\n",
    "    params.show_scalar_bar = True\n",
    "    params.camera_position =  [\n",
    "            (-1.3, -1.3, 1.1),\n",
    "            (0.35, 0.35, -0.2),\n",
    "            (0.25, 0.25, 1),\n",
    "        ]\n",
    "    # params.p_cmap = \"jet\"\n",
    "    params.p_save = \"c3_T_ord_\"+str(params.order)+\".pdf\"\n",
    "    show_results(params)\n",
    "\n",
    "\n",
    "    params.clim = None\n",
    "    params.camera_position = \"xy\"\n",
    "    params.warp_field_scalar = \"\"\n"
   ]
  },
  {
   "cell_type": "code",
   "execution_count": 9,
   "metadata": {},
   "outputs": [],
   "source": [
    "def p_settings(p, params):\n",
    "    if not params.p_resolution:\n",
    "        params.p_resolution = p.window_size\n",
    "    else:\n",
    "        p.window_size = params.p_resolution\n",
    "    print(f\"Current resolution: {params.p_resolution}\")\n",
    "    font_size = int(params.p_resolution[0] * 0.02 / params.font_page_part)  # Adjust the scaling factor as needed\n",
    "\n",
    "    scalar_bar_title = params.show_field_name if params.show_field_name else params.show_field\n",
    "    # Define the arguments for the scalar bar\n",
    "    scalar_bar_args = {\n",
    "        # 'n_labels': 8,\n",
    "        # 'position_x': 0.2,  \n",
    "        'title': scalar_bar_title,\n",
    "        'title_font_size': font_size,\n",
    "        'label_font_size': font_size,\n",
    "        \"vertical\": True,    \n",
    "        \"position_x\": 0.85,     # Shift scalar bar to the right to create margin\n",
    "        \"position_y\": 0.2,      # Adjust y-position to lower it slightly\n",
    "        'fmt': '%.3g'       \n",
    "    }\n",
    "\n",
    "    return scalar_bar_args"
   ]
  },
  {
   "cell_type": "code",
   "execution_count": 10,
   "metadata": {},
   "outputs": [],
   "source": [
    "if run_test:\n",
    "    params.field_part = 10\n",
    "    params.show_file = \"out_resu\"\n",
    "    params.show_field = \"T\"\n",
    "    params.show_field_name = \"Grad T\"\n",
    "    params.show_edges = True\n",
    "    params.clim = [0, 10]\n",
    "    # params.p_resolution = (1200, 800)\n",
    "    params.p_resolution = None\n",
    "    # params.clim = None\n",
    "    params.p_cmap = color_gradient\n",
    "    params.p_save = \"c3_grad_T.pdf\"\n",
    "    show_results(params)\n",
    "    params.field_part = -1\n",
    "    params.show_field_name = None"
   ]
  },
  {
   "cell_type": "code",
   "execution_count": 11,
   "metadata": {},
   "outputs": [],
   "source": [
    "if run_test:\n",
    "    params.field_part = -1\n",
    "    params.show_file = \"out_resu\"\n",
    "    params.show_field = \"Q\"\n",
    "    params.show_edges = True\n",
    "    params.p_cmap = color_gradient\n",
    "    params.p_save = \"c3_Q.pdf\"\n",
    "    show_results(params)"
   ]
  },
  {
   "cell_type": "code",
   "execution_count": 12,
   "metadata": {},
   "outputs": [],
   "source": [
    "if run_test:\n",
    "    params.show_file = \"out_error\"\n",
    "    params.show_field = \"ERROR_INDICATOR_GRAD\"\n",
    "    params.show_edges = True\n",
    "    params.clim = None\n",
    "    params.warp_field_scalar = \"\"\n",
    "    params.p_cmap = \"jet\"\n",
    "    # params.warp_factor = 0.4  # warp factor\n",
    "    params.p_save = \"c3_err_est_grad.pdf\"\n",
    "    show_results(params)"
   ]
  },
  {
   "cell_type": "code",
   "execution_count": 13,
   "metadata": {},
   "outputs": [],
   "source": [
    "if run_test:\n",
    "    params.show_file = \"out_error\"\n",
    "    params.show_field = \"ERROR_FLUX\"\n",
    "    params.show_edges = True\n",
    "    # params.p_cmap = \"jet\"\n",
    "    params.p_save = \"c3_err_flux.pdf\"\n",
    "    show_results(params)"
   ]
  },
  {
   "cell_type": "code",
   "execution_count": 14,
   "metadata": {},
   "outputs": [],
   "source": [
    "if jumps and run_test:\n",
    "    params.show_file = \"out_error\"\n",
    "    params.show_field = \"JUMP_L2\"\n",
    "    params.show_edges = True\n",
    "    params.p_cmap = \"jet\"\n",
    "    params.p_save = \"c3_err_ind_jump.pdf\"\n",
    "    show_results(params)"
   ]
  },
  {
   "cell_type": "code",
   "execution_count": 15,
   "metadata": {},
   "outputs": [],
   "source": [
    "if run_test:\n",
    "    params.show_file = \"out_error\"\n",
    "    params.show_field = \"ERROR_ESTIMATOR\"\n",
    "    params.show_edges = True\n",
    "    params.p_cmap = \"jet\"\n",
    "    params.p_save = \"c3_err_est.pdf\"\n",
    "    show_results(params)"
   ]
  },
  {
   "cell_type": "code",
   "execution_count": 16,
   "metadata": {},
   "outputs": [],
   "source": [
    "\n",
    "if run_test:\n",
    "    params.show_file = \"out_error\"\n",
    "    params.show_field = \"ERROR_H1_SEMINORM\"\n",
    "    params.show_edges = True\n",
    "    params.p_save = \"c3_err_H1.pdf\"\n",
    "    show_results(params)"
   ]
  },
  {
   "cell_type": "code",
   "execution_count": 17,
   "metadata": {},
   "outputs": [],
   "source": [
    "# if run_test:\n",
    "#     # params.show_file = \"out_ori_result\"\n",
    "#     params.show_file = \"out_result\"\n",
    "#     params.show_field = \"P_reference\"\n",
    "#     params.warp_field_scalar = \"P_reference\"\n",
    "#     params.warp_factor = 0.4  # warp factor\n",
    "#     params.show_edges = True\n",
    "#     params.p_save = \"run_test_p.pdf\"\n",
    "#     show_results(params)"
   ]
  },
  {
   "cell_type": "code",
   "execution_count": 18,
   "metadata": {},
   "outputs": [],
   "source": [
    "if run_test:\n",
    "    params.show_file = \"out_error\"\n",
    "    params.show_field = \"ERROR_INDICATOR_DIV\"\n",
    "    params.show_edges = True\n",
    "    params.warp_field_scalar = \"\"\n",
    "    # params.warp_factor = 0.4  # warp factor\n",
    "    params.p_save = \"c3_test_err_ind_div.pdf\"\n",
    "    show_results(params)"
   ]
  },
  {
   "cell_type": "code",
   "execution_count": 19,
   "metadata": {},
   "outputs": [],
   "source": [
    "if run_test:\n",
    "    params.show_file = \"out_error\"\n",
    "    params.show_field = \"ERROR_INDICATOR_GRAD\"\n",
    "    params.show_edges = True\n",
    "    params.warp_field_scalar = \"\"\n",
    "    # params.warp_factor = 0.4  # warp factor\n",
    "    params.p_save = \"c3_test_err_ind_grad.pdf\"\n",
    "    show_results(params)"
   ]
  },
  {
   "cell_type": "markdown",
   "metadata": {},
   "source": [
    "## Comparison between standard and mixed"
   ]
  },
  {
   "cell_type": "code",
   "execution_count": 20,
   "metadata": {},
   "outputs": [],
   "source": [
    "if run_analysis:    \n",
    "    for i in range(len(ana_compare_name)):\n",
    "        !rm {ana_compare_sum[i]}\n",
    "        !rm ./out_*\n",
    "        for elem_size in elem_size_list:\n",
    "            params.element_size = elem_size\n",
    "            params.show_mesh = False\n",
    "            generate_mesh(params)\n",
    "            params.part_file = params.mesh_file + \"_\" + str(params.nproc) + \"p.h5m\"\n",
    "            !{mofem_part} -my_file {params.mesh_file + \".h5m\"} -my_nparts {params.nproc} -output_file {params.part_file} -dim 2 -adj_dim 1\n",
    "            for order in order_list:\n",
    "                params.order = order\n",
    "                !mpirun -np {params.nproc} {ana_compare_exe[i]} -file_name {params.part_file} -my_order {params.order} {analytical_solution_tag} {jumps}\n",
    "        !mv {ana_compare_sum[i]} {ana_compare_name[i]}.csv\n",
    "    \n"
   ]
  },
  {
   "cell_type": "code",
   "execution_count": 21,
   "metadata": {},
   "outputs": [],
   "source": [
    "# refinement analysis\n",
    "\n",
    "ref_iter_num = 7\n",
    "ref_control = 2.0"
   ]
  },
  {
   "cell_type": "code",
   "execution_count": 22,
   "metadata": {},
   "outputs": [],
   "source": [
    "exe = hdiv_diffusion\n",
    "sumanalys = \"sumanalys.csv\"\n",
    "ana_ref_ord_name = \"ana_square_mexi_mixed_order\"\n",
    "\n",
    "refinement_style = 1\n",
    "# ref_iter_num = 7\n",
    "# ref_control = 5.0\n",
    "params.nproc = 1\n",
    "\n",
    "if run_refinement_analysis:    \n",
    "    !rm {sumanalys}\n",
    "    !rm ./out_*\n",
    "    elem_size =  elem_size_list[1]\n",
    "    params.element_size = elem_size\n",
    "    params.show_mesh = True\n",
    "    generate_mesh(params)\n",
    "    params.part_file = params.mesh_file + \"_\" + str(params.nproc) + \"p.h5m\"\n",
    "    !{mofem_part} -my_file {params.mesh_file + \".h5m\"} -my_nparts {params.nproc} -output_file {params.part_file} -dim 2 -adj_dim 1\n",
    "    order = order_list[0]\n",
    "    params.order = order\n",
    "    !mpirun -np {params.nproc} {exe} -file_name {params.part_file} -my_order {params.order} {analytical_solution_tag} -refinement_style {refinement_style} -ref_iter_num {ref_iter_num} -ref_control {ref_control} {jumps}\n",
    "    !mv {sumanalys} {ana_ref_ord_name}.csv"
   ]
  },
  {
   "cell_type": "code",
   "execution_count": null,
   "metadata": {},
   "outputs": [],
   "source": [
    "!convert.py out*\n",
    "\n",
    "if run_test:\n",
    "    params.show_file = \"out_error\"\n",
    "    params.show_field = \"ORDER\"\n",
    "    params.show_edges = True\n",
    "    params.p_cmap = \"rainbow\"\n",
    "    params.p_save = \"c3_order.pdf\"\n",
    "    # params.p_save = \"run_test_err_ind_grad.pdf\"\n",
    "    show_results(params)\n",
    "\n",
    "    params.show_file = \"out_error\"\n",
    "    params.show_field = \"ERROR_INDICATOR_GRAD\"\n",
    "    params.show_edges = True\n",
    "    params.p_cmap = \"jet\"\n",
    "    params.p_save = \"\"\n",
    "    # params.p_save = \"run_test_err_ind_grad.pdf\"\n",
    "    show_results(params)"
   ]
  },
  {
   "cell_type": "code",
   "execution_count": 24,
   "metadata": {},
   "outputs": [],
   "source": [
    "exe = hdiv_diffusion\n",
    "sumanalys = \"sumanalys.csv\"\n",
    "ana_ref_mesh_name = \"ana_square_mexi_mixed_mesh\"\n",
    "\n",
    "if run_refinement_mesh_analysis:   \n",
    "    refinement_style = 2\n",
    "    # ref_iter_num = 7\n",
    "    # ref_control = 2.0\n",
    "    params.nproc = 1\n",
    "\n",
    "    !rm {sumanalys}\n",
    "    !rm ./out_*\n",
    "    elem_size =  elem_size_list[1]\n",
    "    params.element_size = elem_size\n",
    "    params.show_mesh = True\n",
    "    generate_mesh(params)\n",
    "    params.part_file = params.mesh_file + \"_\" + str(params.nproc) + \"p.h5m\"\n",
    "    !{mofem_part} -my_file {params.mesh_file + \".h5m\"} -my_nparts {params.nproc} -output_file {params.part_file} -dim 2 -adj_dim 1\n",
    "    order = order_list[0]\n",
    "    params.order = order\n",
    "    !mpirun -np {params.nproc} {exe} -file_name {params.part_file} -my_order {params.order} {analytical_solution_tag} -refinement_style {refinement_style} -ref_iter_num {ref_iter_num} -ref_control {ref_control} {jumps}\n",
    "    !mv {sumanalys} {ana_ref_mesh_name}.csv"
   ]
  },
  {
   "cell_type": "code",
   "execution_count": null,
   "metadata": {},
   "outputs": [],
   "source": [
    "!convert.py out*\n",
    "\n",
    "if run_refinement_mesh_analysis:\n",
    "    params.show_file = \"out_error\"\n",
    "    params.show_field = \"ERROR_INDICATOR_DIV\"\n",
    "    params.show_edges = True\n",
    "    params.p_cmap = \"jet\"\n",
    "    # params.p_save = \"run_test_err_ind_grad.pdf\"\n",
    "    show_results(params)\n",
    "    params.show_field = \"ERROR_ESTIMATOR\"\n",
    "    show_results(params)"
   ]
  },
  {
   "cell_type": "code",
   "execution_count": 26,
   "metadata": {},
   "outputs": [],
   "source": [
    "# exe = hdiv_diffusion\n",
    "# sumanalys = \"sumanalys.csv\"\n",
    "ana_ref_hp_name = \"ana_square_mexi_mixed_hp\"\n",
    "\n",
    "if run_refinement_hp_analysis:   \n",
    "    refinement_style = 3\n",
    "    # ref_iter_num = 7\n",
    "    # ref_control = 2.0\n",
    "    params.nproc = 1\n",
    "\n",
    "    !rm {sumanalys}\n",
    "    !rm ./out_*\n",
    "    # elem_size =  elem_size_list[1]\n",
    "    # order = order_list[1]\n",
    "    elem_size =  elem_size_list[0]\n",
    "    order = order_list[0]\n",
    "\n",
    "    params.element_size = elem_size\n",
    "    params.show_mesh = True\n",
    "    generate_mesh(params)\n",
    "    params.part_file = params.mesh_file + \"_\" + str(params.nproc) + \"p.h5m\"\n",
    "    !{mofem_part} -my_file {params.mesh_file + \".h5m\"} -my_nparts {params.nproc} -output_file {params.part_file} -dim 2 -adj_dim 1\n",
    "    \n",
    "    params.order = order\n",
    "    !mpirun -np {params.nproc} {exe} -file_name {params.part_file} -my_order {params.order} {analytical_solution_tag} -refinement_style {refinement_style} -ref_iter_num {ref_iter_num} -ref_control {ref_control} {jumps}\n",
    "    !mv {sumanalys} {ana_ref_hp_name}.csv"
   ]
  },
  {
   "cell_type": "code",
   "execution_count": null,
   "metadata": {},
   "outputs": [],
   "source": [
    "!convert.py out*\n",
    "\n",
    "if run_refinement_hp_analysis:\n",
    "    params.show_file = \"out_error\"\n",
    "    params.show_field = \"ERROR_INDICATOR_DIV\"\n",
    "    params.show_edges = True\n",
    "    params.p_cmap = \"jet\"\n",
    "    # params.p_save = \"run_test_err_ind_grad.pdf\"\n",
    "    show_results(params)\n",
    "\n",
    "\n",
    "    params.show_field = \"ORDER\"\n",
    "    show_results(params)\n",
    "    params.show_field = \"ERROR_H1_SEMINORM\"\n",
    "    show_results(params)\n"
   ]
  },
  {
   "cell_type": "markdown",
   "metadata": {},
   "source": [
    "### Load analysis"
   ]
  },
  {
   "cell_type": "code",
   "execution_count": null,
   "metadata": {},
   "outputs": [],
   "source": [
    "print(naming)"
   ]
  },
  {
   "cell_type": "code",
   "execution_count": 29,
   "metadata": {},
   "outputs": [],
   "source": [
    "error_name_list = []\n",
    "error_label_list = []\n",
    "\n",
    "error_name_list.append(\"L2norm\")\n",
    "error_label_list.append(r'Global error $L^2$-norm')\n",
    "error_name_list.append(\"H1seminorm\")\n",
    "error_label_list.append(r'Global error $H^1$-seminorm')\n",
    "error_name_list.append(\"fluxErr\")\n",
    "error_label_list.append(r'Global Flux error')\n",
    "\n",
    "error_name_list.append(\"errorEstimator\")\n",
    "error_label_list.append(r'Global error estimator')\n",
    "error_name_list.append(\"errorIndicatorGrad\")\n",
    "error_label_list.append(r'Global error indicator grad')\n",
    "error_name_list.append(\"errorIndicatorDiv\")\n",
    "error_label_list.append(r'Global error indicator div')\n",
    "\n",
    "if jumps:\n",
    "    error_name_list.append(\"jumpL2\")\n",
    "    error_label_list.append(r'Global jump L2')\n",
    "    # error_name_list.append(\"jumpHdiv\")\n",
    "    # error_label_list.append(r'Global jump Hdiv')\n",
    "\n"
   ]
  },
  {
   "cell_type": "code",
   "execution_count": 30,
   "metadata": {},
   "outputs": [],
   "source": [
    "filename_prefix = \"c3_mixed_hat_\"\n",
    "\n",
    "mixed_ana = Analysis(ana_compare_name[0], naming, order_list, error_name_list, error_label_list, filename_prefix, elem_size_list,  marker='x', linestyle='--', plot_gradients=True, label=\"Mixed\")\n",
    "classic_ana = Analysis(ana_compare_name[1], naming, order_list, error_name_list, error_label_list, filename_prefix, elem_size_list,  marker='o', linestyle='-', plot_gradients=False, label=\"Standard\")\n",
    "\n",
    "\n",
    "order_ref_ana = Analysis(ana_ref_ord_name, naming, order_list, error_name_list, error_label_list, filename_prefix, elem_size_list,  marker='*', linestyle=':', plot_gradients=False, label=r\"Adaptive $p$-refinement\", color = 'black')\n",
    "\n",
    "mesh_ref_ana = Analysis(ana_ref_mesh_name, naming, order_list, error_name_list, error_label_list, filename_prefix, elem_size_list,  marker='v', linestyle=':', plot_gradients=False, label=r\"Adaptive $h$-refinement\", color = 'black')\n",
    "\n",
    "hp_ref_ana = Analysis(ana_ref_hp_name, naming, order_list, error_name_list, error_label_list, filename_prefix, elem_size_list,  marker='s', linestyle=':', plot_gradients=False, label=r'Adaptive $hp$-refinement', color = 'red')\n",
    "\n",
    "# ana_ref_ord_name"
   ]
  },
  {
   "cell_type": "markdown",
   "metadata": {},
   "source": [
    "### Plot results"
   ]
  },
  {
   "cell_type": "code",
   "execution_count": null,
   "metadata": {},
   "outputs": [],
   "source": [
    "# mixed_ana.plot_both_analyses_by_elem_size([classic_ana])\n",
    "mixed_ana.plot_both_analyses_by_elem_size([])\n",
    "# mixed_ana.plot_both_analyses_by_gaussnum([classic_ana], [order_ref_ana, mesh_ref_ana])\n",
    "mixed_ana.plot_both_analyses_by_gaussnum([])"
   ]
  },
  {
   "cell_type": "code",
   "execution_count": null,
   "metadata": {},
   "outputs": [],
   "source": [
    "mixed_ana.plot_gradients = False\n",
    "mixed_ana.legend_fond_size = 12\n",
    "\n",
    "mixed_ana.plot_both_analyses_by_gaussnum([classic_ana])\n",
    "mixed_ana.plot_both_analyses_by_elem_size([classic_ana])\n",
    "\n",
    "mixed_ana.filename_prefix = \"c3_mixed_hat_ref_order_\"\n",
    "mixed_ana.plot_both_analyses_by_gaussnum([], [order_ref_ana])\n",
    "mixed_ana.filename_prefix = \"c3_mixed_hat_ref_mesh_\"\n",
    "mixed_ana.plot_both_analyses_by_gaussnum([], [mesh_ref_ana])\n",
    "mixed_ana.filename_prefix = \"c3_mixed_hat_ref_order_mesh_\"\n",
    "mixed_ana.plot_both_analyses_by_gaussnum([], [order_ref_ana, mesh_ref_ana])\n",
    "mixed_ana.filename_prefix = \"c3_mixed_hat_ref_order_mesh_hp_\"\n",
    "# mixed_ana.plot_both_analyses_by_gaussnum([], [order_ref_ana, mesh_ref_ana, hp_ref_ana])"
   ]
  },
  {
   "cell_type": "code",
   "execution_count": null,
   "metadata": {},
   "outputs": [],
   "source": []
  },
  {
   "cell_type": "code",
   "execution_count": null,
   "metadata": {},
   "outputs": [],
   "source": []
  },
  {
   "cell_type": "code",
   "execution_count": null,
   "metadata": {},
   "outputs": [],
   "source": []
  }
 ],
 "metadata": {
  "jupytext": {
   "formats": "ipynb,md"
  },
  "kernelspec": {
   "display_name": "Python 3",
   "language": "python",
   "name": "python3"
  },
  "language_info": {
   "codemirror_mode": {
    "name": "ipython",
    "version": 3
   },
   "file_extension": ".py",
   "mimetype": "text/x-python",
   "name": "python",
   "nbconvert_exporter": "python",
   "pygments_lexer": "ipython3",
   "version": "3.11.6"
  }
 },
 "nbformat": 4,
 "nbformat_minor": 2
}
