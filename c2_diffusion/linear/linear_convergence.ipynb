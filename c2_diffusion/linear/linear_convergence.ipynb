{
 "cells": [
  {
   "cell_type": "code",
   "execution_count": null,
   "metadata": {
    "ExecuteTime": {
     "end_time": "2024-02-04T18:06:05.250997Z",
     "start_time": "2024-02-04T18:06:04.464573Z"
    }
   },
   "outputs": [],
   "source": [
    "# import settings and functions\n",
    "%run ./../../imports.ipynb\n"
   ]
  },
  {
   "cell_type": "markdown",
   "metadata": {},
   "source": [
    "## What mesh?\n",
    "\n",
    "Copy your choice to the next cell\n",
    "\n",
    "for SquareTop:\n",
    "```\n",
    "analytical_solution_tag = \"-ana_square_top\"\n",
    "generate_config = generateConfig_squareTop\n",
    "generate_mesh = generateMesh_squareTop\n",
    "```\n",
    "\n",
    "for SquareSinCos:\n",
    "```\n",
    "analytical_solution_tag = \"-ana_square_sincos\"\n",
    "generate_config = generateConfig_squareSinCos\n",
    "generate_mesh = generateMesh_squareSinCos\n",
    "```"
   ]
  },
  {
   "cell_type": "code",
   "execution_count": 2,
   "metadata": {},
   "outputs": [],
   "source": [
    "# Change according to instruction above\n",
    "analytical_solution_tag = \"-ana_square_sincos\"\n",
    "generate_config = generateConfig_squareSinCos\n",
    "generate_mesh = generateMesh_squareSinCos\n",
    "\n",
    "# analytical_solution_tag = \"-ana_L_shape\"\n",
    "# generate_config = generateConfig_Lshape\n",
    "# generate_mesh = generateMesh_Lshape"
   ]
  },
  {
   "cell_type": "markdown",
   "metadata": {},
   "source": [
    "## Analysis setup"
   ]
  },
  {
   "cell_type": "code",
   "execution_count": 3,
   "metadata": {},
   "outputs": [],
   "source": [
    "# Convergence analysis parameters\n",
    "order_list = [1, 2, 3, 4] # approximation order p\n",
    "elem_size_list = [0.2, 0.1, 0.05, 0.02, 0.01] # element size h\n",
    "# elem_size_list = [0.5, 0.2, 0.1] # element size h\n",
    "params.triangle_mesh = True\n",
    "\n",
    "ana_name = \"ana_square_top\"\n",
    "sumanalys = \"FEM_errors.csv\"\n",
    "\n",
    "run_test = True\n",
    "run_analysis = True\n",
    "\n",
    "naming = [\"order\", \"gaussnum\", \"iterations\",\"volume\", \"datanum\",\"rmsPoiErr\", \"errorIndicator\",\n",
    "          \"L2norm\", \"H1seminorm\",\"fluxErr\", \"orderRefinementCounter\"]\n",
    "\n",
    "error_name_list = [\"L2norm\", \"H1seminorm\", \"fluxErr\"]\n",
    "error_label_list = [(r'Global error $L^2$-norm'),\n",
    "               (r'Global error $H^1$-seminorm'), (r'Global Flux error')]"
   ]
  },
  {
   "cell_type": "code",
   "execution_count": 4,
   "metadata": {
    "ExecuteTime": {
     "end_time": "2024-02-04T18:06:05.254997Z",
     "start_time": "2024-02-04T18:06:05.252603Z"
    }
   },
   "outputs": [],
   "source": [
    "params.conductivity = 1.0 # linear conductivity\n",
    "params.element_size = 0.1 # element size in the regular mesh\n",
    "params.order = 1 # approximation order for displacements\n",
    "\n",
    "# params.triangle_mesh = False # use triangular mesh\n",
    "\n",
    "# Pre-processing parameters\n",
    "params.mesh_file = \"square_top\"\n",
    "params.length_x = 1\n",
    "params.length_y = 1\n",
    "params.length_z = 0\n",
    "params.show_mesh = True\n",
    "\n",
    "\n",
    "# solution parameters\n",
    "params.log_file = \"log\" # log file name \n",
    "params.nproc = 1 # number of processors\n"
   ]
  },
  {
   "cell_type": "markdown",
   "metadata": {},
   "source": [
    "## Run test"
   ]
  },
  {
   "cell_type": "code",
   "execution_count": null,
   "metadata": {
    "ExecuteTime": {
     "end_time": "2024-02-04T18:06:05.347658Z",
     "start_time": "2024-02-04T18:06:05.256058Z"
    }
   },
   "outputs": [],
   "source": [
    "# start display for showing results\n",
    "display = Display(backend=\"xvfb\", visible=False, size=(1024, 768))\n",
    "display.start()"
   ]
  },
  {
   "cell_type": "code",
   "execution_count": null,
   "metadata": {
    "ExecuteTime": {
     "end_time": "2024-02-04T18:06:06.528759Z",
     "start_time": "2024-02-04T18:06:05.372517Z"
    }
   },
   "outputs": [],
   "source": [
    "# Testing mesh generation\n",
    "if run_test:\n",
    "    params.show_mesh = True\n",
    "    generate_config(params)\n",
    "    generate_mesh(params)"
   ]
  },
  {
   "cell_type": "code",
   "execution_count": null,
   "metadata": {},
   "outputs": [],
   "source": [
    "# Testing running analysis\n",
    "if run_test:\n",
    "    params.part_file = params.mesh_file + \"_\" + str(params.nproc) + \"p.h5m\"\n",
    "    !{mofem_part} -my_file {params.mesh_file + \".h5m\"} -my_nparts {params.nproc} -output_file {params.part_file} -dim 2 -adj_dim 1\n",
    "    !{classic_diffusion} -file_name {params.part_file} -my_order {params.order} {analytical_solution_tag}\n",
    "\n",
    "    !convert.py out*\n"
   ]
  },
  {
   "cell_type": "code",
   "execution_count": null,
   "metadata": {},
   "outputs": [],
   "source": [
    "if run_test:\n",
    "    params.show_file = \"out_ori_result\"\n",
    "    params.show_field = \"P_reference\"\n",
    "    params.show_edges = True\n",
    "    show_results(params)"
   ]
  },
  {
   "cell_type": "markdown",
   "metadata": {},
   "source": [
    "## Convergence analysis"
   ]
  },
  {
   "cell_type": "code",
   "execution_count": null,
   "metadata": {},
   "outputs": [],
   "source": [
    "if run_analysis:\n",
    "    !rm {sumanalys}\n",
    "    !rm ./output_files/out*\n",
    "    for elem_size in elem_size_list:\n",
    "        params.element_size = elem_size\n",
    "        params.show_mesh = False\n",
    "        generate_mesh(params)\n",
    "        params.part_file = params.mesh_file + \"_\" + str(params.nproc) + \"p.h5m\"\n",
    "        !{mofem_part} -my_file {params.mesh_file + \".h5m\"} -my_nparts {params.nproc} -output_file {params.part_file} -dim 2 -adj_dim 1\n",
    "        for order in order_list:\n",
    "            params.order = order\n",
    "            !{classic_diffusion} -file_name {params.part_file} -my_order {params.order} {analytical_solution_tag}\n",
    "    !mv {sumanalys} {ana_name}.csv\n"
   ]
  },
  {
   "cell_type": "markdown",
   "metadata": {},
   "source": [
    "## Read and organise results"
   ]
  },
  {
   "cell_type": "code",
   "execution_count": 10,
   "metadata": {},
   "outputs": [],
   "source": [
    "# read analysis results from ana_name\n",
    "analysis = []\n",
    "data = pd.read_csv(ana_name+'.csv', header=None,\n",
    "                   names=naming,  index_col=False)\n",
    "analysis.append(data)\n",
    "analysis[0] = data"
   ]
  },
  {
   "cell_type": "code",
   "execution_count": 11,
   "metadata": {},
   "outputs": [],
   "source": [
    "# separate by order\n",
    "classic = []\n",
    "\n",
    "for i in order_list:\n",
    "    classic.append(analysis[0].query('order == ' + str(i)))"
   ]
  },
  {
   "cell_type": "markdown",
   "metadata": {},
   "source": [
    "## Plot results"
   ]
  },
  {
   "cell_type": "code",
   "execution_count": null,
   "metadata": {},
   "outputs": [],
   "source": [
    "for (error_name, error_label) in zip(error_name_list,error_label_list):\n",
    "    fig = plt.figure()\n",
    "    ax = plt.axes()\n",
    "    for i in range(len(order_list)):\n",
    "        x = classic[i][\"gaussnum\"]\n",
    "        y = classic[i][str(error_name)]\n",
    "\n",
    "        line, = ax.plot(x, y, '-x', label=(r'$p$ = ' + str(order_list[i])))\n",
    "\n",
    "        # Calculate the gradient of the line\n",
    "        gradient, _ = np.polyfit(np.log(x), np.log(y), 1)\n",
    "\n",
    "        # Annotate the plot with the gradient value\n",
    "        ax.annotate('Gradient = {:.1f}'.format(gradient), \n",
    "                    xy=(x.iloc[len(x)//2], y.iloc[len(y)//2]), \n",
    "                    xycoords='data',\n",
    "                    xytext=(1, 0),  # move a bit to the right\n",
    "                    textcoords='offset points'\n",
    "                    )\n",
    "        ax.set_xscale('log')\n",
    "        ax.legend(loc='best')\n",
    "        ax.set_yscale('log')\n",
    "        ax.set_ylabel(error_label)\n",
    "        ax.set_xlabel(\"Number of integration points\")\n",
    "        ax.grid(True, ls=':')\n",
    "\n",
    "    plt.tight_layout()\n",
    "    plt.savefig('c2_linear_gauss_' + error_name + '.svg')\n",
    "    plt.savefig('c2_linear_gauss_' + error_name + '.png')\n",
    "    plt.savefig('c2_linear_gauss_' + error_name + '.pdf')"
   ]
  },
  {
   "cell_type": "code",
   "execution_count": null,
   "metadata": {},
   "outputs": [],
   "source": [
    "for (error_name, error_label) in zip(error_name_list,error_label_list):\n",
    "    fig = plt.figure()\n",
    "    ax = plt.axes()\n",
    "    for i in range(len(order_list)):\n",
    "        x = elem_size_list\n",
    "        y = classic[i][str(error_name)]\n",
    "\n",
    "        line, = ax.plot(x, y, '-x', label=(r'$p$ = ' + str(order_list[i])))\n",
    "\n",
    "        # Calculate the gradient of the line\n",
    "        gradient, _ = np.polyfit(np.log(x), np.log(y), 1)\n",
    "\n",
    "        # Annotate the plot with the gradient value\n",
    "        ax.annotate('Gradient = {:.1f}'.format(gradient), \n",
    "                    xy=(x[len(x)//2], y.iloc[len(y)//2]), \n",
    "                    xycoords='data',\n",
    "                    xytext=(-1, 0),  # move a bit to the left\n",
    "                    textcoords='offset points',\n",
    "                    ha='right',  # Horizontal alignment is right\n",
    "                    va='bottom',  # Vertical alignment is bottom\n",
    "                    )\n",
    "        ax.set_xscale('log')\n",
    "        ax.legend(loc='best')\n",
    "        ax.set_yscale('log')\n",
    "        ax.set_ylabel(error_label)\n",
    "        ax.set_xlabel(\"Element size\")\n",
    "        ax.grid(True, ls=':')\n",
    "\n",
    "    plt.tight_layout()\n",
    "    plt.savefig('c2_linear_lenghtEle_' + error_name + '.svg')\n",
    "    plt.savefig('c2_linear_lenghtEle_' + error_name + '.png')\n",
    "    plt.savefig('c2_linear_lenghtEle_' + error_name + '.pdf')"
   ]
  },
  {
   "cell_type": "code",
   "execution_count": null,
   "metadata": {},
   "outputs": [],
   "source": []
  }
 ],
 "metadata": {
  "jupytext": {
   "formats": "ipynb,md"
  },
  "kernelspec": {
   "display_name": "Python 3",
   "language": "python",
   "name": "python3"
  },
  "language_info": {
   "codemirror_mode": {
    "name": "ipython",
    "version": 3
   },
   "file_extension": ".py",
   "mimetype": "text/x-python",
   "name": "python",
   "nbconvert_exporter": "python",
   "pygments_lexer": "ipython3",
   "version": "3.11.6"
  }
 },
 "nbformat": 4,
 "nbformat_minor": 2
}
