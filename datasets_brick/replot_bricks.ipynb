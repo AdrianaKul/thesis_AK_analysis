{
 "cells": [
  {
   "cell_type": "code",
   "execution_count": null,
   "metadata": {},
   "outputs": [],
   "source": [
    "import os\n",
    "import subprocess\n",
    "import sys\n",
    "\n",
    "# rerun jupyter notebooks which replot the figures\n",
    "\n",
    "def rerun_notebook(notebook):\n",
    "    print(f\"Rerunning {notebook}\")\n",
    "    subprocess.run([\"jupyter\", \"nbconvert\", \"--ClearOutputPreprocessor.enabled=True\", \"--execute\", \"--to\", \"notebook\", \"--inplace\", \"--ExecutePreprocessor.allow_errors=True\", \"--ExecutePreprocessor.timeout=-1\", notebook])\n"
   ]
  },
  {
   "cell_type": "code",
   "execution_count": null,
   "metadata": {},
   "outputs": [],
   "source": [
    "notebook = \"../c5_weak_DD/NL_data_tests/regular_sparse/run_with_common.ipynb\"\n",
    "\n",
    "!ls {notebook}"
   ]
  },
  {
   "cell_type": "code",
   "execution_count": null,
   "metadata": {},
   "outputs": [],
   "source": [
    "rerun_notebook(notebook)"
   ]
  },
  {
   "cell_type": "code",
   "execution_count": null,
   "metadata": {},
   "outputs": [],
   "source": []
  }
 ],
 "metadata": {
  "kernelspec": {
   "display_name": "Python 3",
   "language": "python",
   "name": "python3"
  },
  "language_info": {
   "codemirror_mode": {
    "name": "ipython",
    "version": 3
   },
   "file_extension": ".py",
   "mimetype": "text/x-python",
   "name": "python",
   "nbconvert_exporter": "python",
   "pygments_lexer": "ipython3",
   "version": "3.11.6"
  }
 },
 "nbformat": 4,
 "nbformat_minor": 2
}
