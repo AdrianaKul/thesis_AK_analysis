{
 "cells": [
  {
   "cell_type": "code",
   "execution_count": null,
   "metadata": {},
   "outputs": [],
   "source": [
    "# import settings and functions\n",
    "%run ./../imports.ipynb"
   ]
  },
  {
   "cell_type": "code",
   "execution_count": null,
   "metadata": {},
   "outputs": [],
   "source": [
    "# find all the files in .. directory which contain T_std in their name and show path to them\n",
    "import os\n",
    "import re\n",
    "\n",
    "def find_files(directory, patterns):\n",
    "    file_paths = []\n",
    "    for root, dirs, files in os.walk(directory):\n",
    "        for file in files:\n",
    "            # if re.search(pattern, file):\n",
    "            if all(re.search(pattern, file) for pattern in patterns):\n",
    "                file_paths.append(os.path.join(root, file))\n",
    "    return file_paths\n",
    "\n",
    "import fitz  # PyMuPDF\n",
    "import matplotlib.pyplot as plt\n",
    "import io  # Import the io module\n",
    "\n",
    "def plot_pdf(file):\n",
    "    # Open the PDF file\n",
    "    pdf_document = fitz.open(file)\n",
    "    for page_num in range(len(pdf_document)):\n",
    "        # Get the page\n",
    "        page = pdf_document.load_page(page_num)\n",
    "        # Render the page to an image\n",
    "        pix = page.get_pixmap()\n",
    "        # Convert the image to a format that matplotlib can display\n",
    "        img = pix.tobytes(\"png\")\n",
    "        plt.figure()\n",
    "        plt.imshow(plt.imread(io.BytesIO(img)))\n",
    "        plt.axis('off')\n",
    "        plt.show()\n",
    "\n"
   ]
  },
  {
   "cell_type": "code",
   "execution_count": null,
   "metadata": {},
   "outputs": [],
   "source": [
    "\n",
    "# file_paths = find_files(\"..\", \"err_est.pdf\")\n",
    "# file_paths = find_files(\"..\", \"T.pdf\")\n",
    "# file_paths = find_files(\"..\", \"T_std\")\n",
    "# file_paths = find_files(\"..\", \"Q_std_mag.pdf\")\n",
    "# file_paths = find_files(\"..\", \"G_std_mag.pdf\")\n",
    "# file_paths = find_files(\"..\", \"Q.pdf\")\n",
    "# file_paths = find_files(\"..\", \"Q_scaled.pdf\")\n",
    "file_paths = find_files(\"..\", [\"c6\",\"sigma_T\",\"10.0\",\"pdf\"])\n",
    "print(file_paths)\n",
    "\n",
    "# plot the pdf files found by find_files function\n",
    "for file in file_paths:\n",
    "    print(file)\n",
    "    plot_pdf(file)"
   ]
  },
  {
   "cell_type": "code",
   "execution_count": null,
   "metadata": {},
   "outputs": [],
   "source": []
  }
 ],
 "metadata": {
  "kernelspec": {
   "display_name": "Python 3",
   "language": "python",
   "name": "python3"
  },
  "language_info": {
   "codemirror_mode": {
    "name": "ipython",
    "version": 3
   },
   "file_extension": ".py",
   "mimetype": "text/x-python",
   "name": "python",
   "nbconvert_exporter": "python",
   "pygments_lexer": "ipython3",
   "version": "3.11.6"
  }
 },
 "nbformat": 4,
 "nbformat_minor": 2
}
