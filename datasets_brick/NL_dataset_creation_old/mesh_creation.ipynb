{
 "cells": [
  {
   "cell_type": "code",
   "execution_count": 1,
   "id": "b80a2059",
   "metadata": {},
   "outputs": [],
   "source": [
    "import numpy as np\n",
    "import matplotlib.pyplot as plt\n",
    "from matplotlib.pyplot import cm\n",
    "from scipy import optimize\n",
    "import time\n",
    "import os\n",
    "import os.path\n",
    "import zipfile\n",
    "import pandas as pd\n",
    "from scipy.optimize import curve_fit, least_squares\n",
    "import sys\n",
    "import gmsh\n",
    "import math\n",
    "\n",
    "import matplotlib.image as mpimg\n",
    "import re\n",
    "\n",
    "import pyvista as pv\n",
    "import ipywidgets as widgets\n",
    "pv.set_plot_theme(\"document\")\n",
    "\n",
    "plt.rcParams['figure.figsize'] = [12, 9]\n",
    "plt.rcParams['figure.dpi'] = 300\n",
    "plt.rcParams['font.family'] = \"Serif\"\n",
    "plt.rcParams['font.size'] = 15\n",
    "\n",
    "from pyvirtualdisplay import Display\n",
    "display = Display(backend=\"xvfb\", visible=False, size=(1024, 768))\n",
    "display.start()\n",
    "    \n",
    "user_name=!whoami # get user name\n",
    "user_name=user_name[0]\n",
    "um_view = \"$HOME/um_view\"\n",
    "\n",
    "# new executables\n",
    "mixed_exe = um_view + \"/*eshelbian_*/ep\"\n",
    "standard_exe = um_view + \"/tutorials/vec-2/nonlinear_elastic\"\n"
   ]
  },
  {
   "cell_type": "code",
   "execution_count": 2,
   "id": "110481cc",
   "metadata": {},
   "outputs": [],
   "source": [
    "def generate_config(params):\n",
    "    # Open the file for writing\n",
    "    with open(params.config_name, 'w') as f:\n",
    "        # FIX_ALL boundary condition (do not change)\n",
    "        data = ['[SET_ATTR_PRESSURE_UNIFORM_OUT]', 'number_of_attributes=1', 'user1='+str(params.p_out)]\n",
    "        # Use a for loop to write each line of data to the file\n",
    "        for line in data:\n",
    "            f.write(line + '\\n')\n",
    "            # print the data as it is written to the file\n",
    "            print(line)\n",
    "        data = ['[SET_ATTR_PRESSURE_UNIFORM_IN]', 'number_of_attributes=1', 'user1='+str(params.p_in)]\n",
    "        # Use a for loop to write each line of data to the file\n",
    "        for line in data:\n",
    "            f.write(line + '\\n')\n",
    "            # print the data\n",
    "            print(line)\n",
    "            "
   ]
  },
  {
   "cell_type": "code",
   "execution_count": 8,
   "id": "8fabe0b8",
   "metadata": {},
   "outputs": [],
   "source": [
    "class AttrDict(dict):\n",
    "    def __getattr__(self, attr):\n",
    "        if attr in self:\n",
    "            return self[attr]\n",
    "        raise AttributeError(f\"'AttrDict' object has no attribute '{attr}'\")\n",
    "        \n",
    "def generate_mesh_square_circle(params):\n",
    "    \n",
    "    # Initialize gmsh\n",
    "    gmsh.initialize()\n",
    "    gmsh.option.setNumber(\"General.Verbosity\", 3)\n",
    "    \n",
    "    tol = 0.001\n",
    "\n",
    "    square1 = gmsh.model.occ.add_rectangle(-params.square_length/2, -params.square_length/2, 0, params.square_length, params.square_length)\n",
    "    circle1 = gmsh.model.occ.add_disk(0, 0, 0, params.circle_radius, params.circle_radius)\n",
    "    \n",
    "    gmsh.model.occ.cut([(2,square1)], [(2,circle1)])\n",
    "    \n",
    "\n",
    "    # Create the relevant Gmsh data structures from Gmsh model.\n",
    "    gmsh.model.occ.synchronize()\n",
    "\n",
    "    gmsh.option.setNumber(\"Mesh.MeshSizeMin\", params.element_size)\n",
    "    gmsh.option.setNumber(\"Mesh.MeshSizeMax\", params.element_size)\n",
    "    \n",
    "    for n in (gmsh.model.getEntities(1)):\n",
    "        print(n)\n",
    "\n",
    "    # gmsh.model.addPhysicalGroup(dimention, [number of element], name=\"name\")\n",
    "    gmsh.model.addPhysicalGroup(2, [1], name=\"domain\")\n",
    "    gmsh.model.addPhysicalGroup(1, [1, 2, 3, 4], name=\"PRESSURE_UNIFORM_OUT\")\n",
    "    gmsh.model.addPhysicalGroup(1, [5], name=\"PRESSURE_UNIFORM_IN\")\n",
    "\n",
    "    # generate a 2D mesh\n",
    "    gmsh.model.mesh.generate(2)\n",
    "    \n",
    "    # save as a .med file\n",
    "    med_file = params.mesh_file + \".med\"\n",
    "    gmsh.write(med_file)\n",
    "    \n",
    "    # close gmsh\n",
    "    gmsh.finalize()\n",
    "    \n",
    "    # translate .med file to a format readable by MoFEM and assign values to physical groups\n",
    "    h5m_file=params.mesh_file + \"_\" + str(params.element_size) + \".h5m\"    \n",
    "    !read_med -med_file {med_file} -output_file {h5m_file} -meshsets_config {params.config_name} -dim 2 -adj_dim 1\n",
    "    \n",
    "    # visualise the mesh\n",
    "    if params.show_mesh:\n",
    "        vtk_file=params.mesh_file + \".vtk\"\n",
    "        !mbconvert {h5m_file} {vtk_file}\n",
    "\n",
    "        mesh = pv.read(vtk_file)\n",
    "        mesh = mesh.shrink(0.98)\n",
    "\n",
    "        p = pv.Plotter(notebook=True)\n",
    "        p.add_mesh(mesh, smooth_shading=False)\n",
    "\n",
    "        p.camera_position = \"xy\"\n",
    "        p.show(jupyter_backend='ipygany')\n",
    "        "
   ]
  },
  {
   "cell_type": "code",
   "execution_count": 9,
   "id": "beb01af3",
   "metadata": {},
   "outputs": [],
   "source": [
    "params = AttrDict() # Attribute dictionary for storing the parameters\n",
    "\n",
    "# Pre-processing parameters\n",
    "params.mesh_file = \"square_circle\"\n",
    "params.element_size = 0.2 # element size in the regular mesh\n",
    "params.show_mesh = True\n",
    "\n",
    "# boundary condition configuration\n",
    "params.config_name = \"bc.cfg\"\n",
    "\n",
    "# solution parameters\n",
    "params.log_file = \"log\" # log file name \n",
    "params.nproc = 2\n",
    "params.order = 2 # approximation order for displacements"
   ]
  },
  {
   "cell_type": "code",
   "execution_count": 10,
   "id": "5a0147a1",
   "metadata": {},
   "outputs": [],
   "source": [
    "params.square_length = 5\n",
    "params.circle_radius = 2\n",
    "params.p_out = 5\n",
    "params.p_in = 30"
   ]
  },
  {
   "cell_type": "code",
   "execution_count": 11,
   "id": "36d86f60",
   "metadata": {},
   "outputs": [
    {
     "name": "stdout",
     "output_type": "stream",
     "text": [
      "[SET_ATTR_PRESSURE_UNIFORM_OUT]\n",
      "number_of_attributes=1\n",
      "user1=5\n",
      "[SET_ATTR_PRESSURE_UNIFORM_IN]\n",
      "number_of_attributes=1\n",
      "user1=30\n"
     ]
    }
   ],
   "source": [
    "generate_config(params)"
   ]
  },
  {
   "cell_type": "code",
   "execution_count": 12,
   "id": "a8d27daf",
   "metadata": {
    "scrolled": false
   },
   "outputs": [
    {
     "name": "stdout",
     "output_type": "stream",
     "text": [
      "(1, 1)\n",
      "(1, 2)\n",
      "(1, 3)\n",
      "(1, 4)\n",
      "(1, 5)\n",
      "[\u001b[32m0\u001b[0m] \u001b[34m<inform> \u001b[0mMoFEM version 0.13.2 (MOAB 5.3.0 Petsc Release Version 3.16.1, Nov 01, 2021 )\n",
      "[\u001b[32m0\u001b[0m] \u001b[34m<inform> \u001b[0mgit commit id f7d09d66dd82df5235733f094cddfe80bdcb6782\n",
      "[\u001b[32m0\u001b[0m] \u001b[34m<inform> \u001b[0mLocal time: 2023-10-2 1:7:19\n",
      "[\u001b[32m0\u001b[0m] \u001b[34m<inform> \u001b[0mUTC time: 2023-10-2 1:7:19\n",
      "[\u001b[32m0\u001b[0m] \u001b[34m<inform> \u001b[0m\u001b[1m[MED] \u001b[0mReading MED file V4.1.0 using MED library V4.1.0\n",
      "[\u001b[32m0\u001b[0m] \u001b[34m<inform> \u001b[0m\u001b[1m[MED] \u001b[0mCheck mesh untitled nsteps 1\n",
      "[\u001b[32m0\u001b[0m] \u001b[34m<inform> \u001b[0m\u001b[1m[MED] \u001b[0mReading mesh untitled nsteps 1\n",
      "[\u001b[32m0\u001b[0m] \u001b[34m<inform> \u001b[0m\u001b[1m[MED] \u001b[0mRead number of nodes 6222\n",
      "[\u001b[32m0\u001b[0m] \u001b[34m<inform> \u001b[0m\u001b[1m[MED] \u001b[0mReading elements 652 of type Edge number of nodes 2\n",
      "[\u001b[32m0\u001b[0m] \u001b[34m<inform> \u001b[0m\u001b[1m[MED] \u001b[0mReading elements 11792 of type Tri number of nodes 3\n",
      "[\u001b[32m0\u001b[0m] \u001b[34m<inform> \u001b[0m\u001b[1m[read_med] \u001b[0mPrint all meshsets (old and added from meshsets configurational file\n",
      "[\u001b[32m0\u001b[0m] \u001b[34m<inform> \u001b[0m\u001b[1m[read_med] \u001b[0mmeshset 12682136550675316737 type BLOCKSET UNKNOWNNAME msId 1 name untitled\n",
      "[\u001b[32m0\u001b[0m] \u001b[34m<inform> \u001b[0m\u001b[1m[read_med] \u001b[0mmeshset 12682136550675316738 type BLOCKSET UNKNOWNNAME msId 2 name PRESSURE_UNIFORM_IN\n",
      "[\u001b[32m0\u001b[0m] \u001b[34m<inform> \u001b[0m\u001b[1m[read_med] \u001b[0mmeshset 12682136550675316739 type BLOCKSET UNKNOWNNAME msId 3 name PRESSURE_UNIFORM_OUT\n",
      "[\u001b[32m0\u001b[0m] \u001b[34m<inform> \u001b[0m\u001b[1m[read_med] \u001b[0mmeshset 12682136550675316740 type BLOCKSET UNKNOWNNAME msId 4 name domain\n",
      "Read \"square_circle_0.05.h5m\"\n",
      "Wrote \"square_circle.vtk\"\n"
     ]
    },
    {
     "data": {
      "application/vnd.jupyter.widget-view+json": {
       "model_id": "fa61f09213fd4fa889efdf29e02cb7b1",
       "version_major": 2,
       "version_minor": 0
      },
      "text/plain": [
       "Scene(background_color='#ffffff', camera={'position': [0.0, 0.0, 6.830127018922194], 'target': (0.0, 0.0, 0.0)…"
      ]
     },
     "metadata": {},
     "output_type": "display_data"
    }
   ],
   "source": [
    "params.show_mesh = True\n",
    "params.ele_sizes = [0.05]\n",
    "for h in params.ele_sizes:\n",
    "    params.element_size = h\n",
    "    generate_mesh_square_circle(params)"
   ]
  },
  {
   "cell_type": "code",
   "execution_count": null,
   "id": "9c56950d",
   "metadata": {},
   "outputs": [],
   "source": []
  },
  {
   "cell_type": "code",
   "execution_count": null,
   "id": "3e4b9154",
   "metadata": {},
   "outputs": [],
   "source": []
  }
 ],
 "metadata": {
  "kernelspec": {
   "display_name": "Python 3 (ipykernel)",
   "language": "python",
   "name": "python3"
  },
  "language_info": {
   "codemirror_mode": {
    "name": "ipython",
    "version": 3
   },
   "file_extension": ".py",
   "mimetype": "text/x-python",
   "name": "python",
   "nbconvert_exporter": "python",
   "pygments_lexer": "ipython3",
   "version": "3.8.10"
  }
 },
 "nbformat": 4,
 "nbformat_minor": 5
}
