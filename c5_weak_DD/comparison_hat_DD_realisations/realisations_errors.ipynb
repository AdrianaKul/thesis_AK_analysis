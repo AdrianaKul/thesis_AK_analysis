{
 "cells": [
  {
   "cell_type": "code",
   "execution_count": null,
   "metadata": {},
   "outputs": [],
   "source": [
    "# import settings and functions\n",
    "%run ./../../imports.ipynb\n"
   ]
  },
  {
   "cell_type": "code",
   "execution_count": null,
   "metadata": {},
   "outputs": [],
   "source": [
    "csv_name = \"dummy_tree_test.csv\"\n",
    "\n",
    "exe = hdiv_data_driven_diffusion_snes"
   ]
  },
  {
   "cell_type": "code",
   "execution_count": null,
   "metadata": {},
   "outputs": [],
   "source": [
    "!cp ./../comparison_hat_DD/param_file.petsc ./param_file.petsc\n",
    "!cp ./../comparison_hat_DD/dummy_tree_test.csv ./dummy_tree_test.csv\n",
    "!cp ./../comparison_hat_DD/scaling.in ./scaling.in"
   ]
  },
  {
   "cell_type": "code",
   "execution_count": null,
   "metadata": {},
   "outputs": [],
   "source": [
    "# # Change according to instruction above\n",
    "analytical_solution_tag = \"-ana_mexi_hat\"\n",
    "generate_config = generateConfig_squareMexiHat\n",
    "generate_mesh = generateMesh_squareMexiHat"
   ]
  },
  {
   "cell_type": "code",
   "execution_count": null,
   "metadata": {},
   "outputs": [],
   "source": [
    "prefix = \"c5_hat_missing_\"\n",
    "\n",
    "params.conductivity = 1.0 # linear conductivity\n",
    "# params.element_size = elem_size_list[0] # element size in the regular mesh\n",
    "params.element_size = 0.1\n",
    "params.order = 1 # approximation order for displacements\n",
    "\n",
    "# params.triangle_mesh = False # use triangular mesh\n",
    "\n",
    "# Pre-processing parameters\n",
    "params.mesh_file = \"square_mexi\"\n",
    "params.length_x = 1\n",
    "params.length_y = 1\n",
    "params.length_z = 0\n",
    "params.show_mesh = True\n",
    "\n",
    "\n",
    "# solution parameters\n",
    "params.log_file = \"log\" # log file name \n",
    "\n",
    "naming = [\"order\", \"gaussnum\", \"iterations\",\"volume\", \"datanum\",\"rmsPoiErr\", \"errorEstimator\",\n",
    "          \"L2norm\", \"H1seminorm\",\"fluxErr\", \"orderRefinementCounter\", \"errorIndicatorGrad\", \"errorIndicatorDiv\", \"jumpL2\", \"jumpHdiv\", \"eleNum\"]\n",
    "# naming = [\"order\", \"gaussnum\", \"iterations\",\"volume\", \"datanum\",\"rmsPoiErr\", \"errorEstimator\",\n",
    "#           \"L2norm\", \"H1seminorm\",\"fluxErr\", \"orderRefinementCounter\"]\n",
    "\n",
    "error_name_list = [\"L2norm\", \"H1seminorm\", \"fluxErr\"]\n",
    "error_label_list = [(r'Global error $L^2$-norm'),\n",
    "               (r'Global error $H^1$-seminorm'), (r'Global Flux error')]\n"
   ]
  },
  {
   "cell_type": "code",
   "execution_count": null,
   "metadata": {},
   "outputs": [],
   "source": [
    "# start display for showing results\n",
    "display = Display(backend=\"xvfb\", visible=False, size=(1024, 768))\n",
    "display.start()"
   ]
  },
  {
   "cell_type": "code",
   "execution_count": null,
   "metadata": {},
   "outputs": [],
   "source": [
    "params.show_mesh = True\n",
    "generate_config(params)\n",
    "generate_mesh(params)"
   ]
  },
  {
   "cell_type": "code",
   "execution_count": null,
   "metadata": {},
   "outputs": [],
   "source": [
    "params.nproc = 1\n",
    "params.part_file = params.mesh_file + \"_\" + str(params.nproc) + \"p.h5m\"\n",
    "!{mofem_part} -my_file {params.mesh_file + \".h5m\"} -my_nparts {params.nproc} -output_file {params.part_file} -dim 2 -adj_dim 1"
   ]
  },
  {
   "cell_type": "code",
   "execution_count": null,
   "metadata": {},
   "outputs": [],
   "source": [
    "realisations = 30\n",
    "run_analysis = True\n",
    "\n",
    "ana_csv_name = \"test\"\n",
    "\n",
    "params.order = 1\n",
    "\n",
    "ref_parts = \"-refinement_style 1 -ref_iter_num 6 -tol_distance_ref 4.0 \"\n",
    "\n",
    "refinement_style = 1\n",
    "\n",
    "\n",
    "if run_analysis:\n",
    "    !rm sumanalys.csv # making sure the previous analysis doesn't affect this one\n",
    "\n",
    "    for i in range(realisations):\n",
    "        !{exe} -file_name {params.part_file} -my_order {params.order} {analytical_solution_tag} -csv_tree_file {csv_name}-write_long_error_file -rand_ini {ref_parts}\n",
    "\n",
    "    !mv ./sumanalys.csv ./{ana_csv_name}.csv\n"
   ]
  },
  {
   "cell_type": "markdown",
   "metadata": {},
   "source": [
    "## load and plot results"
   ]
  },
  {
   "cell_type": "code",
   "execution_count": null,
   "metadata": {},
   "outputs": [],
   "source": [
    "data = pd.read_csv(f'{ana_csv_name}.csv', header=None, names=naming,  index_col=False)"
   ]
  },
  {
   "cell_type": "code",
   "execution_count": null,
   "metadata": {},
   "outputs": [],
   "source": [
    "import matplotlib.pyplot as plt\n",
    "import numpy as np\n",
    "\n",
    "def plot_dd_shaded_ana(ana_df_list, noise_list, errorType='L2norm', label=\"\", yscale_log=False):\n",
    "    fig = plt.figure()\n",
    "    plot_title = 'Mean with Standard Deviation'\n",
    "\n",
    "    for a in range(0, len(ana_df_list)):\n",
    "        # Group by 'datanum' and calculate mean and std\n",
    "        grouped_data = ana_df_list[a].groupby(['datanum']).agg([np.mean, np.std])\n",
    "        x = np.array(grouped_data.index).astype(float)\n",
    "        y_mean = np.array(grouped_data[(errorType, 'mean')]).astype(float)\n",
    "        y_std = np.array(grouped_data[(errorType, 'std')]).astype(float)\n",
    "\n",
    "        # Plot mean\n",
    "        plt.plot(x, y_mean, '-x', label='noise = ' + str(noise_list[a]))\n",
    "\n",
    "        # Shade the area for standard deviation\n",
    "        plt.fill_between(x, y_mean - y_std, y_mean + y_std, alpha=0.5)\n",
    "\n",
    "    plt.xscale('log')\n",
    "    if yscale_log:\n",
    "        plt.yscale('log')\n",
    "    plt.legend(loc='best')\n",
    "    if label:\n",
    "        plt.ylabel(label)\n",
    "    else:\n",
    "        plt.ylabel(errorType)\n",
    "    plt.xlabel(r'\\# data points')\n",
    "    plt.title(plot_title)\n",
    "    plt.grid(True)\n",
    "    plt.tight_layout()\n",
    "    plt.savefig(errorType + '.png')\n",
    "    plt.show()\n",
    "    plt.close()"
   ]
  }
 ],
 "metadata": {
  "kernelspec": {
   "display_name": "Python 3",
   "language": "python",
   "name": "python3"
  },
  "language_info": {
   "codemirror_mode": {
    "name": "ipython",
    "version": 3
   },
   "file_extension": ".py",
   "mimetype": "text/x-python",
   "name": "python",
   "nbconvert_exporter": "python",
   "pygments_lexer": "ipython3",
   "version": "3.11.6"
  }
 },
 "nbformat": 4,
 "nbformat_minor": 2
}
