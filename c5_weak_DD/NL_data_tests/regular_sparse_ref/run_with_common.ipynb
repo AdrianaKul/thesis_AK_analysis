{
 "cells": [
  {
   "cell_type": "code",
   "execution_count": null,
   "metadata": {
    "ExecuteTime": {
     "end_time": "2024-08-31T17:29:53.391340Z",
     "start_time": "2024-08-31T17:29:52.012925Z"
    },
    "execution": {
     "iopub.execute_input": "2024-09-06T18:07:01.960538Z",
     "iopub.status.busy": "2024-09-06T18:07:01.960390Z",
     "iopub.status.idle": "2024-09-06T18:07:03.853004Z",
     "shell.execute_reply": "2024-09-06T18:07:03.852112Z"
    }
   },
   "outputs": [],
   "source": [
    "# import settings and functions\n",
    "%run ./../../../imports.ipynb"
   ]
  },
  {
   "cell_type": "code",
   "execution_count": null,
   "metadata": {
    "ExecuteTime": {
     "end_time": "2024-08-31T17:29:53.397426Z",
     "start_time": "2024-08-31T17:29:53.395166Z"
    },
    "execution": {
     "iopub.execute_input": "2024-09-06T18:07:03.895984Z",
     "iopub.status.busy": "2024-09-06T18:07:03.895430Z",
     "iopub.status.idle": "2024-09-06T18:07:03.899560Z",
     "shell.execute_reply": "2024-09-06T18:07:03.898905Z"
    }
   },
   "outputs": [],
   "source": [
    "run_analysis = False\n",
    "\n",
    "color_lims = True\n",
    "\n",
    "exe = hdiv_data_driven_diffusion_snes\n",
    "sumanalys = \"sumanalys.csv\"\n",
    "ana_name = \"ana_DD_brick\"\n",
    "\n",
    "ref = True\n",
    "\n",
    "# resolution\n",
    "res_multiply = 1\n",
    "params.p_resolution = [1000*res_multiply,1100*res_multiply]\n",
    "params.crop_top_x_percent_pdf = 10"
   ]
  },
  {
   "cell_type": "code",
   "execution_count": null,
   "metadata": {
    "ExecuteTime": {
     "end_time": "2024-08-20T16:53:15.759197Z",
     "start_time": "2024-08-20T16:40:06.610290Z"
    },
    "execution": {
     "iopub.execute_input": "2024-09-06T18:07:03.902032Z",
     "iopub.status.busy": "2024-09-06T18:07:03.901582Z",
     "iopub.status.idle": "2024-09-06T18:07:17.579520Z",
     "shell.execute_reply": "2024-09-06T18:07:17.578529Z"
    }
   },
   "outputs": [],
   "source": [
    "# regular sparse\n",
    "prefix = \"c5_brick_regular_sparse_ref_\"\n",
    "csv_name = 'dataset_regular_sparse_scaled.csv'\n",
    "\n",
    "%run ../common_brick_running.ipynb"
   ]
  },
  {
   "cell_type": "code",
   "execution_count": null,
   "metadata": {
    "ExecuteTime": {
     "end_time": "2024-08-20T17:16:51.320005Z",
     "start_time": "2024-08-20T16:53:15.765587Z"
    },
    "execution": {
     "iopub.execute_input": "2024-09-06T18:07:17.582689Z",
     "iopub.status.busy": "2024-09-06T18:07:17.582377Z",
     "iopub.status.idle": "2024-09-06T18:07:37.972843Z",
     "shell.execute_reply": "2024-09-06T18:07:37.971734Z"
    }
   },
   "outputs": [],
   "source": [
    "# regular dense\n",
    "prefix = \"c5_brick_regular_dense_ref_\"\n",
    "csv_name = 'dataset_regular_dense_scaled.csv'\n",
    "\n",
    "%run ../common_brick_running.ipynb"
   ]
  },
  {
   "cell_type": "code",
   "execution_count": null,
   "metadata": {
    "ExecuteTime": {
     "start_time": "2024-08-31T17:29:55.849Z"
    },
    "execution": {
     "iopub.execute_input": "2024-09-06T18:07:37.975537Z",
     "iopub.status.busy": "2024-09-06T18:07:37.975239Z",
     "iopub.status.idle": "2024-09-06T18:07:55.711487Z",
     "shell.execute_reply": "2024-09-06T18:07:55.710497Z"
    }
   },
   "outputs": [],
   "source": [
    "# random noisy\n",
    "prefix = \"c5_brick_random_noisy_ref_\"\n",
    "csv_name = 'dataset_random_dense_noisy_scaled.csv'\n",
    "\n",
    "%run ../common_brick_running.ipynb"
   ]
  },
  {
   "cell_type": "code",
   "execution_count": null,
   "metadata": {
    "execution": {
     "iopub.execute_input": "2024-09-06T18:07:55.714147Z",
     "iopub.status.busy": "2024-09-06T18:07:55.713710Z",
     "iopub.status.idle": "2024-09-06T18:07:55.717365Z",
     "shell.execute_reply": "2024-09-06T18:07:55.716543Z"
    }
   },
   "outputs": [],
   "source": [
    "print(\"Done\")"
   ]
  }
 ],
 "metadata": {
  "kernelspec": {
   "display_name": "Python 3 (ipykernel)",
   "language": "python",
   "name": "python3"
  },
  "language_info": {
   "codemirror_mode": {
    "name": "ipython",
    "version": 3
   },
   "file_extension": ".py",
   "mimetype": "text/x-python",
   "name": "python",
   "nbconvert_exporter": "python",
   "pygments_lexer": "ipython3",
   "version": "3.11.6"
  }
 },
 "nbformat": 4,
 "nbformat_minor": 2
}
