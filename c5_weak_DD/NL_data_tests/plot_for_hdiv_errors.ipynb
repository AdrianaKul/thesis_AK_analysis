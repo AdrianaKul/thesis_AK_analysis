{
 "cells": [
  {
   "cell_type": "markdown",
   "metadata": {},
   "source": [
    "## Do not execute this notebook on its own\n",
    "\n",
    "This notebook is to be called by other notebooks in the subfolders "
   ]
  },
  {
   "cell_type": "code",
   "execution_count": null,
   "metadata": {},
   "outputs": [],
   "source": [
    "# plot_for_DD.ipynb\n"
   ]
  },
  {
   "cell_type": "code",
   "execution_count": null,
   "metadata": {},
   "outputs": [],
   "source": [
    "lim_dist_ave = None\n",
    "lim_dis_std = None\n",
    "lim_dist_point = None\n",
    "lim_dist_q = None\n",
    "lim_dist_g = None\n",
    "lim_dist_T = None\n"
   ]
  },
  {
   "cell_type": "code",
   "execution_count": null,
   "metadata": {},
   "outputs": [],
   "source": [
    "if color_lims:\n",
    "    lim_dist_ave = [0., 1.]\n",
    "    lim_dis_std = [0., 1.]\n",
    "    lim_dist_point = [0., 3.]\n",
    "    lim_dist_q = [0., 1.]\n",
    "    lim_dist_g = [0., 2.]\n",
    "    lim_dist_T = [0., 1.]"
   ]
  },
  {
   "cell_type": "code",
   "execution_count": null,
   "metadata": {},
   "outputs": [],
   "source": [
    "# # start display for showing results\n",
    "# display = Display(backend=\"xvfb\", visible=False, size=(1024, 768))\n",
    "# display.start()"
   ]
  },
  {
   "cell_type": "code",
   "execution_count": null,
   "metadata": {},
   "outputs": [],
   "source": [
    "params.clim = None"
   ]
  },
  {
   "cell_type": "code",
   "execution_count": null,
   "metadata": {},
   "outputs": [],
   "source": [
    "print(\"ERROR_ESTIMATOR\")\n",
    "params.show_file = name_vtk_error\n",
    "params.show_field = \"ERROR_ESTIMATOR\"\n",
    "params.show_edges = True\n",
    "params.p_cmap = 'jet'\n",
    "# params.clim = lim_dist_ave\n",
    "params.p_save = prefix+\"err_est.pdf\"\n",
    "show_results(params)\n",
    "\n",
    "print(\"ERROR_INDICATOR_DIV\")\n",
    "params.show_field = \"ERROR_INDICATOR_DIV\"\n",
    "# params.p_cmap = \"Blues\"\n",
    "# params.clim = lim_dis_std\n",
    "params.p_save = prefix+\"err_div.pdf\"\n",
    "show_results(params)\n",
    "params.p_save = None\n",
    "\n",
    "print(\"ERROR_INDICATOR_GRAD\")\n",
    "params.show_field = \"ERROR_INDICATOR_GRAD\"\n",
    "# params.p_cmap = \"Blues\"\n",
    "# params.clim = lim_dis_std\n",
    "params.p_save = prefix+\"err_grad.pdf\"\n",
    "show_results(params)\n",
    "params.p_save = None\n",
    "\n",
    "print(\"JUMP_L2\")\n",
    "params.show_field = \"JUMP_L2\"\n",
    "# params.p_cmap = \"Blues\"\n",
    "# params.clim = lim_dis_std\n",
    "params.p_save = prefix+\"err_jump.pdf\"\n",
    "show_results(params)\n",
    "params.p_save = None\n",
    "\n",
    "print(\"JUMP_L2\")\n",
    "params.show_field = \"ORDER\"\n",
    "params.p_cmap = \"rainbow\"\n",
    "params.p_save = prefix+\"order.pdf\"\n",
    "show_results(params)\n"
   ]
  },
  {
   "cell_type": "code",
   "execution_count": null,
   "metadata": {},
   "outputs": [],
   "source": []
  }
 ],
 "metadata": {
  "kernelspec": {
   "display_name": "Python 3",
   "language": "python",
   "name": "python3"
  },
  "language_info": {
   "codemirror_mode": {
    "name": "ipython",
    "version": 3
   },
   "file_extension": ".py",
   "mimetype": "text/x-python",
   "name": "python",
   "nbconvert_exporter": "python",
   "pygments_lexer": "ipython3",
   "version": "3.11.6"
  }
 },
 "nbformat": 4,
 "nbformat_minor": 2
}
