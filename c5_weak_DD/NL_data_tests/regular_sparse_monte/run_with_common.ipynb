{
 "cells": [
  {
   "cell_type": "code",
   "execution_count": null,
   "metadata": {
    "ExecuteTime": {
     "end_time": "2024-09-04T14:52:21.101626Z",
     "start_time": "2024-09-04T14:52:19.642861Z"
    },
    "execution": {
     "iopub.execute_input": "2024-09-06T18:04:32.986613Z",
     "iopub.status.busy": "2024-09-06T18:04:32.986420Z",
     "iopub.status.idle": "2024-09-06T18:04:34.677032Z",
     "shell.execute_reply": "2024-09-06T18:04:34.676473Z"
    }
   },
   "outputs": [],
   "source": [
    "# import settings and functions\n",
    "%run ./../../../imports.ipynb"
   ]
  },
  {
   "cell_type": "code",
   "execution_count": null,
   "metadata": {
    "ExecuteTime": {
     "end_time": "2024-09-04T14:52:21.108004Z",
     "start_time": "2024-09-04T14:52:21.104791Z"
    },
    "execution": {
     "iopub.execute_input": "2024-09-06T18:04:34.717781Z",
     "iopub.status.busy": "2024-09-06T18:04:34.717231Z",
     "iopub.status.idle": "2024-09-06T18:04:34.720736Z",
     "shell.execute_reply": "2024-09-06T18:04:34.720256Z"
    }
   },
   "outputs": [],
   "source": [
    "run_analysis = False\n",
    "\n",
    "color_lims = True\n",
    "\n",
    "exe = hdiv_data_driven_diffusion_snes\n",
    "sumanalys = \"sumanalys.csv\"\n",
    "ana_name = \"ana_DD_brick\"\n",
    "\n",
    "monte = True\n",
    "monte_num = 30\n",
    "\n",
    "additions = \"-print_integ 0\" \n",
    "\n",
    "# resolution\n",
    "res_multiply = 1\n",
    "params.p_resolution = [1000*res_multiply,1100*res_multiply]\n",
    "params.crop_top_x_percent_pdf = 10"
   ]
  },
  {
   "cell_type": "code",
   "execution_count": null,
   "metadata": {
    "ExecuteTime": {
     "start_time": "2024-09-04T14:52:19.401Z"
    },
    "execution": {
     "iopub.execute_input": "2024-09-06T18:04:34.722549Z",
     "iopub.status.busy": "2024-09-06T18:04:34.722302Z",
     "iopub.status.idle": "2024-09-06T18:04:52.773829Z",
     "shell.execute_reply": "2024-09-06T18:04:52.772646Z"
    }
   },
   "outputs": [],
   "source": [
    "# regular sparse\n",
    "prefix = \"c5_brick_regular_sparse_monte_\"\n",
    "csv_name = 'dataset_regular_sparse_scaled.csv'\n",
    "\n",
    "%run ../common_brick_running.ipynb"
   ]
  },
  {
   "cell_type": "code",
   "execution_count": null,
   "metadata": {
    "ExecuteTime": {
     "start_time": "2024-09-04T14:52:19.404Z"
    },
    "execution": {
     "iopub.execute_input": "2024-09-06T18:04:52.777684Z",
     "iopub.status.busy": "2024-09-06T18:04:52.777476Z",
     "iopub.status.idle": "2024-09-06T18:05:18.965664Z",
     "shell.execute_reply": "2024-09-06T18:05:18.963956Z"
    }
   },
   "outputs": [],
   "source": [
    "# regular dense\n",
    "prefix = \"c5_brick_regular_dense_monte_\"\n",
    "csv_name = 'dataset_regular_dense_scaled.csv'\n",
    "\n",
    "%run ../common_brick_running.ipynb"
   ]
  },
  {
   "cell_type": "code",
   "execution_count": null,
   "metadata": {
    "ExecuteTime": {
     "start_time": "2024-09-04T14:52:19.406Z"
    },
    "execution": {
     "iopub.execute_input": "2024-09-06T18:05:18.971028Z",
     "iopub.status.busy": "2024-09-06T18:05:18.970642Z",
     "iopub.status.idle": "2024-09-06T18:05:43.548499Z",
     "shell.execute_reply": "2024-09-06T18:05:43.546844Z"
    }
   },
   "outputs": [],
   "source": [
    "# random noisy\n",
    "prefix = \"c5_brick_random_noisy_monte_\"\n",
    "csv_name = 'dataset_random_dense_noisy_scaled.csv'\n",
    "\n",
    "%run ../common_brick_running.ipynb"
   ]
  },
  {
   "cell_type": "code",
   "execution_count": null,
   "metadata": {
    "ExecuteTime": {
     "start_time": "2024-09-04T14:52:19.408Z"
    },
    "execution": {
     "iopub.execute_input": "2024-09-06T18:05:43.552128Z",
     "iopub.status.busy": "2024-09-06T18:05:43.551907Z",
     "iopub.status.idle": "2024-09-06T18:05:43.556332Z",
     "shell.execute_reply": "2024-09-06T18:05:43.555605Z"
    }
   },
   "outputs": [],
   "source": [
    "print(\"done\")"
   ]
  },
  {
   "cell_type": "code",
   "execution_count": null,
   "metadata": {},
   "outputs": [],
   "source": []
  }
 ],
 "metadata": {
  "kernelspec": {
   "display_name": "Python 3 (ipykernel)",
   "language": "python",
   "name": "python3"
  },
  "language_info": {
   "codemirror_mode": {
    "name": "ipython",
    "version": 3
   },
   "file_extension": ".py",
   "mimetype": "text/x-python",
   "name": "python",
   "nbconvert_exporter": "python",
   "pygments_lexer": "ipython3",
   "version": "3.11.6"
  }
 },
 "nbformat": 4,
 "nbformat_minor": 2
}
