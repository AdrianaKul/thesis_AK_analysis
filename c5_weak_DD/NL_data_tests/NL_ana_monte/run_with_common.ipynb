{
 "cells": [
  {
   "cell_type": "code",
   "execution_count": null,
   "metadata": {
    "ExecuteTime": {
     "end_time": "2024-09-02T14:35:10.185266Z",
     "start_time": "2024-09-02T14:35:08.800845Z"
    }
   },
   "outputs": [],
   "source": [
    "# import settings and functions\n",
    "%run ./../../../imports.ipynb"
   ]
  },
  {
   "cell_type": "code",
   "execution_count": null,
   "metadata": {
    "ExecuteTime": {
     "end_time": "2024-09-02T14:35:10.191099Z",
     "start_time": "2024-09-02T14:35:10.189051Z"
    }
   },
   "outputs": [],
   "source": [
    "run_analysis = False\n",
    "\n",
    "color_lims = True\n",
    "\n",
    "exe = hdiv_data_driven_diffusion_snes\n",
    "sumanalys = \"sumanalys.csv\"\n",
    "ana_name = \"ana_DD_brick\"\n",
    "\n",
    "ref = False\n",
    "\n",
    "monte = True\n",
    "# monte_num = 100\n",
    "\n",
    "additions = \"-print_integ 0\" \n",
    "\n",
    "params.p_resolution = [1000*2,1100*2]"
   ]
  },
  {
   "cell_type": "code",
   "execution_count": null,
   "metadata": {
    "ExecuteTime": {
     "end_time": "2024-08-20T20:05:45.785845Z",
     "start_time": "2024-08-20T18:00:42.176668Z"
    }
   },
   "outputs": [],
   "source": [
    "# from ana dense\n",
    "prefix = \"c5_brick_NL_dense_monte_\"\n",
    "\n",
    "csv_name = 'dataset_loop_complete_scaled.csv'\n",
    "%run ../common_brick_running.ipynb"
   ]
  },
  {
   "cell_type": "code",
   "execution_count": null,
   "metadata": {
    "ExecuteTime": {
     "end_time": "2024-08-20T21:35:23.367121Z",
     "start_time": "2024-08-20T20:05:45.788373Z"
    }
   },
   "outputs": [],
   "source": [
    "# from ana missing\n",
    "prefix = \"c5_brick_NL_missing_monte_\"\n",
    "csv_name = 'dataset_loop_missing_scaled.csv'\n",
    "\n",
    "%run ../common_brick_running.ipynb"
   ]
  },
  {
   "cell_type": "code",
   "execution_count": null,
   "metadata": {
    "ExecuteTime": {
     "start_time": "2024-09-02T14:35:18.149Z"
    }
   },
   "outputs": [],
   "source": [
    "# from ana dense\n",
    "prefix = \"c5_brick_NL_noisy_monte_\"\n",
    "\n",
    "csv_name = 'dataset_loop_noisy_scaled.csv'\n",
    "%run ../common_brick_running.ipynb"
   ]
  },
  {
   "cell_type": "code",
   "execution_count": null,
   "metadata": {
    "ExecuteTime": {
     "end_time": "2024-08-20T21:35:23.377061Z",
     "start_time": "2024-08-20T21:35:23.373284Z"
    }
   },
   "outputs": [],
   "source": [
    "# # run notebook in its own folder\n",
    "# os.chdir(\"NL_dense\")\n",
    "# print(f\"Working in directory {os.getcwd()}\")\n",
    "# # run the analysis\n",
    "# # %run -i ../../../analysis/analysis.py"
   ]
  },
  {
   "cell_type": "code",
   "execution_count": null,
   "metadata": {
    "ExecuteTime": {
     "end_time": "2024-08-20T21:35:23.398173Z",
     "start_time": "2024-08-20T21:35:23.379293Z"
    }
   },
   "outputs": [],
   "source": [
    "# !convert.py out*\n"
   ]
  },
  {
   "cell_type": "code",
   "execution_count": null,
   "metadata": {},
   "outputs": [],
   "source": []
  }
 ],
 "metadata": {
  "kernelspec": {
   "display_name": "Python 3 (ipykernel)",
   "language": "python",
   "name": "python3"
  },
  "language_info": {
   "codemirror_mode": {
    "name": "ipython",
    "version": 3
   },
   "file_extension": ".py",
   "mimetype": "text/x-python",
   "name": "python",
   "nbconvert_exporter": "python",
   "pygments_lexer": "ipython3",
   "version": "3.11.6"
  }
 },
 "nbformat": 4,
 "nbformat_minor": 2
}
