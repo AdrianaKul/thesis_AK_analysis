{
 "cells": [
  {
   "cell_type": "code",
   "execution_count": null,
   "metadata": {
    "ExecuteTime": {
     "end_time": "2024-09-02T14:35:10.185266Z",
     "start_time": "2024-09-02T14:35:08.800845Z"
    },
    "execution": {
     "iopub.execute_input": "2024-09-06T18:05:48.889751Z",
     "iopub.status.busy": "2024-09-06T18:05:48.889319Z",
     "iopub.status.idle": "2024-09-06T18:05:50.458851Z",
     "shell.execute_reply": "2024-09-06T18:05:50.458296Z"
    }
   },
   "outputs": [],
   "source": [
    "# import settings and functions\n",
    "%run ./../../../imports.ipynb"
   ]
  },
  {
   "cell_type": "code",
   "execution_count": null,
   "metadata": {
    "ExecuteTime": {
     "end_time": "2024-09-02T14:35:10.191099Z",
     "start_time": "2024-09-02T14:35:10.189051Z"
    },
    "execution": {
     "iopub.execute_input": "2024-09-06T18:05:50.503068Z",
     "iopub.status.busy": "2024-09-06T18:05:50.502756Z",
     "iopub.status.idle": "2024-09-06T18:05:50.506105Z",
     "shell.execute_reply": "2024-09-06T18:05:50.505546Z"
    }
   },
   "outputs": [],
   "source": [
    "run_analysis = False\n",
    "\n",
    "color_lims = True\n",
    "\n",
    "exe = hdiv_data_driven_diffusion_snes\n",
    "sumanalys = \"sumanalys.csv\"\n",
    "ana_name = \"ana_DD_brick\"\n",
    "\n",
    "ref = False\n",
    "\n",
    "monte = True\n",
    "# monte_num = 100\n",
    "\n",
    "additions = \"-print_integ 0\" \n",
    "\n",
    "# resolution\n",
    "res_multiply = 1\n",
    "params.p_resolution = [1000*res_multiply,1100*res_multiply]\n",
    "params.crop_top_x_percent_pdf = 10"
   ]
  },
  {
   "cell_type": "code",
   "execution_count": null,
   "metadata": {
    "ExecuteTime": {
     "end_time": "2024-08-20T20:05:45.785845Z",
     "start_time": "2024-08-20T18:00:42.176668Z"
    },
    "execution": {
     "iopub.execute_input": "2024-09-06T18:05:50.507980Z",
     "iopub.status.busy": "2024-09-06T18:05:50.507800Z",
     "iopub.status.idle": "2024-09-06T18:06:10.270099Z",
     "shell.execute_reply": "2024-09-06T18:06:10.269123Z"
    }
   },
   "outputs": [],
   "source": [
    "# from ana dense\n",
    "prefix = \"c5_brick_NL_dense_monte_\"\n",
    "\n",
    "csv_name = 'dataset_loop_complete_scaled.csv'\n",
    "%run ../common_brick_running.ipynb"
   ]
  },
  {
   "cell_type": "code",
   "execution_count": null,
   "metadata": {
    "ExecuteTime": {
     "end_time": "2024-08-20T21:35:23.367121Z",
     "start_time": "2024-08-20T20:05:45.788373Z"
    },
    "execution": {
     "iopub.execute_input": "2024-09-06T18:06:10.274071Z",
     "iopub.status.busy": "2024-09-06T18:06:10.273853Z",
     "iopub.status.idle": "2024-09-06T18:06:31.622255Z",
     "shell.execute_reply": "2024-09-06T18:06:31.620879Z"
    }
   },
   "outputs": [],
   "source": [
    "# from ana missing\n",
    "prefix = \"c5_brick_NL_missing_monte_\"\n",
    "csv_name = 'dataset_loop_missing_scaled.csv'\n",
    "\n",
    "%run ../common_brick_running.ipynb"
   ]
  },
  {
   "cell_type": "code",
   "execution_count": null,
   "metadata": {
    "ExecuteTime": {
     "start_time": "2024-09-02T14:35:18.149Z"
    },
    "execution": {
     "iopub.execute_input": "2024-09-06T18:06:31.625726Z",
     "iopub.status.busy": "2024-09-06T18:06:31.625397Z",
     "iopub.status.idle": "2024-09-06T18:06:56.998026Z",
     "shell.execute_reply": "2024-09-06T18:06:56.996091Z"
    }
   },
   "outputs": [],
   "source": [
    "# from ana dense\n",
    "prefix = \"c5_brick_NL_noisy_monte_\"\n",
    "\n",
    "csv_name = 'dataset_loop_noisy_scaled.csv'\n",
    "%run ../common_brick_running.ipynb"
   ]
  },
  {
   "cell_type": "code",
   "execution_count": null,
   "metadata": {
    "ExecuteTime": {
     "end_time": "2024-08-20T21:35:23.377061Z",
     "start_time": "2024-08-20T21:35:23.373284Z"
    },
    "execution": {
     "iopub.execute_input": "2024-09-06T18:06:57.001743Z",
     "iopub.status.busy": "2024-09-06T18:06:57.001439Z",
     "iopub.status.idle": "2024-09-06T18:06:57.005049Z",
     "shell.execute_reply": "2024-09-06T18:06:57.004002Z"
    }
   },
   "outputs": [],
   "source": [
    "# # run notebook in its own folder\n",
    "# os.chdir(\"NL_dense\")\n",
    "# print(f\"Working in directory {os.getcwd()}\")\n",
    "# # run the analysis\n",
    "# # %run -i ../../../analysis/analysis.py"
   ]
  },
  {
   "cell_type": "code",
   "execution_count": null,
   "metadata": {
    "ExecuteTime": {
     "end_time": "2024-08-20T21:35:23.398173Z",
     "start_time": "2024-08-20T21:35:23.379293Z"
    },
    "execution": {
     "iopub.execute_input": "2024-09-06T18:06:57.007410Z",
     "iopub.status.busy": "2024-09-06T18:06:57.007093Z",
     "iopub.status.idle": "2024-09-06T18:06:57.010359Z",
     "shell.execute_reply": "2024-09-06T18:06:57.009391Z"
    }
   },
   "outputs": [],
   "source": [
    "# !convert.py out*\n"
   ]
  },
  {
   "cell_type": "code",
   "execution_count": null,
   "metadata": {},
   "outputs": [],
   "source": []
  },
  {
   "cell_type": "code",
   "execution_count": null,
   "metadata": {},
   "outputs": [],
   "source": []
  }
 ],
 "metadata": {
  "kernelspec": {
   "display_name": "Python 3 (ipykernel)",
   "language": "python",
   "name": "python3"
  },
  "language_info": {
   "codemirror_mode": {
    "name": "ipython",
    "version": 3
   },
   "file_extension": ".py",
   "mimetype": "text/x-python",
   "name": "python",
   "nbconvert_exporter": "python",
   "pygments_lexer": "ipython3",
   "version": "3.11.6"
  }
 },
 "nbformat": 4,
 "nbformat_minor": 2
}
