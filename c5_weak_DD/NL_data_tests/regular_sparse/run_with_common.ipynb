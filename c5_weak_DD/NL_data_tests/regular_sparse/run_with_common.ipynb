{
 "cells": [
  {
   "cell_type": "code",
   "execution_count": null,
   "metadata": {
    "ExecuteTime": {
     "end_time": "2024-08-20T16:39:46.564061Z",
     "start_time": "2024-08-20T16:39:45.213293Z"
    }
   },
   "outputs": [],
   "source": [
    "# import settings and functions\n",
    "%run ./../../../imports.ipynb"
   ]
  },
  {
   "cell_type": "code",
   "execution_count": null,
   "metadata": {
    "ExecuteTime": {
     "end_time": "2024-08-20T16:39:46.568099Z",
     "start_time": "2024-08-20T16:39:46.565819Z"
    }
   },
   "outputs": [],
   "source": [
    "run_analysis = False\n",
    "\n",
    "color_lims = True\n",
    "\n",
    "exe = hdiv_data_driven_diffusion_snes\n",
    "sumanalys = \"sumanalys.csv\"\n",
    "ana_name = \"ana_DD_brick\"\n",
    "\n",
    "ref = False"
   ]
  },
  {
   "cell_type": "code",
   "execution_count": null,
   "metadata": {
    "ExecuteTime": {
     "end_time": "2024-08-20T16:42:24.948566Z",
     "start_time": "2024-08-20T16:39:46.569031Z"
    }
   },
   "outputs": [],
   "source": [
    "# regular sparse\n",
    "prefix = \"c5_brick_regular_sparse_\"\n",
    "csv_name = 'dataset_regular_sparse_scaled.csv'\n",
    "\n",
    "%run ../common_brick_running.ipynb"
   ]
  },
  {
   "cell_type": "code",
   "execution_count": null,
   "metadata": {
    "ExecuteTime": {
     "end_time": "2024-08-20T16:46:19.381296Z",
     "start_time": "2024-08-20T16:42:24.951455Z"
    }
   },
   "outputs": [],
   "source": [
    "# regular dense\n",
    "prefix = \"c5_brick_regular_dense_\"\n",
    "csv_name = 'dataset_regular_dense_scaled.csv'\n",
    "\n",
    "%run ../common_brick_running.ipynb"
   ]
  },
  {
   "cell_type": "code",
   "execution_count": null,
   "metadata": {
    "ExecuteTime": {
     "end_time": "2024-08-20T16:48:32.890267Z",
     "start_time": "2024-08-20T16:46:19.384119Z"
    }
   },
   "outputs": [],
   "source": [
    "# random noisy\n",
    "prefix = \"c5_brick_random_noisy_ref_\"\n",
    "csv_name = 'dataset_random_dense_noisy_scaled.csv'\n",
    "\n",
    "%run ../common_brick_running.ipynb"
   ]
  },
  {
   "cell_type": "code",
   "execution_count": null,
   "metadata": {},
   "outputs": [],
   "source": []
  }
 ],
 "metadata": {
  "kernelspec": {
   "display_name": "Python 3 (ipykernel)",
   "language": "python",
   "name": "python3"
  },
  "language_info": {
   "codemirror_mode": {
    "name": "ipython",
    "version": 3
   },
   "file_extension": ".py",
   "mimetype": "text/x-python",
   "name": "python",
   "nbconvert_exporter": "python",
   "pygments_lexer": "ipython3",
   "version": "3.8.10"
  }
 },
 "nbformat": 4,
 "nbformat_minor": 2
}
