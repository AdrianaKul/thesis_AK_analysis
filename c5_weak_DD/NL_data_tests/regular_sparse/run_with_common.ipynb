{
 "cells": [
  {
   "cell_type": "code",
   "execution_count": null,
   "metadata": {
    "ExecuteTime": {
     "end_time": "2024-08-20T16:39:46.564061Z",
     "start_time": "2024-08-20T16:39:45.213293Z"
    },
    "execution": {
     "iopub.execute_input": "2024-08-24T16:24:38.796654Z",
     "iopub.status.busy": "2024-08-24T16:24:38.796327Z",
     "iopub.status.idle": "2024-08-24T16:24:40.491161Z",
     "shell.execute_reply": "2024-08-24T16:24:40.490138Z"
    }
   },
   "outputs": [],
   "source": [
    "# import settings and functions\n",
    "%run ./../../../imports.ipynb"
   ]
  },
  {
   "cell_type": "code",
   "execution_count": null,
   "metadata": {
    "ExecuteTime": {
     "end_time": "2024-08-20T16:39:46.568099Z",
     "start_time": "2024-08-20T16:39:46.565819Z"
    },
    "execution": {
     "iopub.execute_input": "2024-08-24T16:24:40.531843Z",
     "iopub.status.busy": "2024-08-24T16:24:40.531309Z",
     "iopub.status.idle": "2024-08-24T16:24:40.536058Z",
     "shell.execute_reply": "2024-08-24T16:24:40.535393Z"
    }
   },
   "outputs": [],
   "source": [
    "run_analysis = False\n",
    "\n",
    "if 'color_lims' not in locals():\n",
    "    color_lims = True\n",
    "\n",
    "exe = hdiv_data_driven_diffusion_snes\n",
    "sumanalys = \"sumanalys.csv\"\n",
    "ana_name = \"ana_DD_brick\"\n",
    "\n",
    "ref = False"
   ]
  },
  {
   "cell_type": "code",
   "execution_count": null,
   "metadata": {
    "ExecuteTime": {
     "end_time": "2024-08-20T16:42:24.948566Z",
     "start_time": "2024-08-20T16:39:46.569031Z"
    },
    "execution": {
     "iopub.execute_input": "2024-08-24T16:24:40.538077Z",
     "iopub.status.busy": "2024-08-24T16:24:40.537918Z",
     "iopub.status.idle": "2024-08-24T16:24:48.260454Z",
     "shell.execute_reply": "2024-08-24T16:24:48.259485Z"
    }
   },
   "outputs": [],
   "source": [
    "# regular sparse\n",
    "prefix = \"c5_brick_regular_sparse_\"\n",
    "csv_name = 'dataset_regular_sparse_scaled.csv'\n",
    "\n",
    "%run ../common_brick_running.ipynb"
   ]
  },
  {
   "cell_type": "code",
   "execution_count": null,
   "metadata": {
    "ExecuteTime": {
     "end_time": "2024-08-20T16:46:19.381296Z",
     "start_time": "2024-08-20T16:42:24.951455Z"
    },
    "execution": {
     "iopub.execute_input": "2024-08-24T16:24:48.263315Z",
     "iopub.status.busy": "2024-08-24T16:24:48.262910Z",
     "iopub.status.idle": "2024-08-24T16:25:00.904846Z",
     "shell.execute_reply": "2024-08-24T16:25:00.903797Z"
    }
   },
   "outputs": [],
   "source": [
    "# regular dense\n",
    "prefix = \"c5_brick_regular_dense_\"\n",
    "csv_name = 'dataset_regular_dense_scaled.csv'\n",
    "\n",
    "%run ../common_brick_running.ipynb"
   ]
  },
  {
   "cell_type": "code",
   "execution_count": null,
   "metadata": {
    "ExecuteTime": {
     "end_time": "2024-08-20T16:48:32.890267Z",
     "start_time": "2024-08-20T16:46:19.384119Z"
    },
    "execution": {
     "iopub.execute_input": "2024-08-24T16:25:00.907879Z",
     "iopub.status.busy": "2024-08-24T16:25:00.907519Z",
     "iopub.status.idle": "2024-08-24T16:25:09.364260Z",
     "shell.execute_reply": "2024-08-24T16:25:09.363030Z"
    }
   },
   "outputs": [],
   "source": [
    "# random noisy\n",
    "prefix = \"c5_brick_random_noisy_\"\n",
    "csv_name = 'dataset_random_dense_noisy_scaled.csv'\n",
    "\n",
    "%run ../common_brick_running.ipynb"
   ]
  },
  {
   "cell_type": "code",
   "execution_count": null,
   "metadata": {},
   "outputs": [],
   "source": []
  }
 ],
 "metadata": {
  "kernelspec": {
   "display_name": "Python 3 (ipykernel)",
   "language": "python",
   "name": "python3"
  },
  "language_info": {
   "codemirror_mode": {
    "name": "ipython",
    "version": 3
   },
   "file_extension": ".py",
   "mimetype": "text/x-python",
   "name": "python",
   "nbconvert_exporter": "python",
   "pygments_lexer": "ipython3",
   "version": "3.11.6"
  }
 },
 "nbformat": 4,
 "nbformat_minor": 2
}
