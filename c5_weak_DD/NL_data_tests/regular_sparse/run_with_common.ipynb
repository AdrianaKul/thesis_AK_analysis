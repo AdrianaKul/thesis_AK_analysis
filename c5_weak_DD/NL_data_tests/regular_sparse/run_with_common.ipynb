{
 "cells": [
  {
   "cell_type": "code",
   "execution_count": null,
   "metadata": {
    "ExecuteTime": {
     "end_time": "2024-08-31T17:29:06.473345Z",
     "start_time": "2024-08-31T17:29:04.993204Z"
    },
    "execution": {
     "iopub.execute_input": "2024-09-06T18:08:54.334299Z",
     "iopub.status.busy": "2024-09-06T18:08:54.333734Z",
     "iopub.status.idle": "2024-09-06T18:08:55.982124Z",
     "shell.execute_reply": "2024-09-06T18:08:55.981584Z"
    }
   },
   "outputs": [],
   "source": [
    "# import settings and functions\n",
    "%run ./../../../imports.ipynb"
   ]
  },
  {
   "cell_type": "code",
   "execution_count": null,
   "metadata": {
    "execution": {
     "iopub.execute_input": "2024-09-06T18:08:56.019510Z",
     "iopub.status.busy": "2024-09-06T18:08:56.017985Z",
     "iopub.status.idle": "2024-09-06T18:08:56.023494Z",
     "shell.execute_reply": "2024-09-06T18:08:56.023007Z"
    }
   },
   "outputs": [],
   "source": [
    "run_analysis = False\n",
    "\n",
    "if 'color_lims' not in locals():\n",
    "    color_lims = True\n",
    "\n",
    "exe = hdiv_data_driven_diffusion_snes\n",
    "sumanalys = \"sumanalys.csv\"\n",
    "ana_name = \"ana_DD_brick\"\n",
    "\n",
    "ref = False\n",
    "\n",
    "# resolution\n",
    "res_multiply = 1\n",
    "params.p_resolution = [1000*res_multiply,1100*res_multiply]\n",
    "params.crop_top_x_percent_pdf = 10"
   ]
  },
  {
   "cell_type": "code",
   "execution_count": null,
   "metadata": {
    "ExecuteTime": {
     "end_time": "2024-08-20T16:42:24.948566Z",
     "start_time": "2024-08-20T16:39:46.569031Z"
    },
    "execution": {
     "iopub.execute_input": "2024-09-06T18:08:56.025413Z",
     "iopub.status.busy": "2024-09-06T18:08:56.025061Z",
     "iopub.status.idle": "2024-09-06T18:09:09.474113Z",
     "shell.execute_reply": "2024-09-06T18:09:09.473192Z"
    }
   },
   "outputs": [],
   "source": [
    "# regular sparse\n",
    "prefix = \"c5_brick_regular_sparse_\"\n",
    "csv_name = 'dataset_regular_sparse_scaled.csv'\n",
    "\n",
    "%run ../common_brick_running.ipynb"
   ]
  },
  {
   "cell_type": "code",
   "execution_count": null,
   "metadata": {
    "ExecuteTime": {
     "end_time": "2024-08-20T16:46:19.381296Z",
     "start_time": "2024-08-20T16:42:24.951455Z"
    },
    "execution": {
     "iopub.execute_input": "2024-09-06T18:09:09.476852Z",
     "iopub.status.busy": "2024-09-06T18:09:09.476649Z",
     "iopub.status.idle": "2024-09-06T18:09:29.498561Z",
     "shell.execute_reply": "2024-09-06T18:09:29.497498Z"
    }
   },
   "outputs": [],
   "source": [
    "# regular dense\n",
    "prefix = \"c5_brick_regular_dense_\"\n",
    "csv_name = 'dataset_regular_dense_scaled.csv'\n",
    "\n",
    "%run ../common_brick_running.ipynb"
   ]
  },
  {
   "cell_type": "code",
   "execution_count": null,
   "metadata": {
    "ExecuteTime": {
     "end_time": "2024-08-31T17:29:14.684664Z",
     "start_time": "2024-08-31T17:29:11.017300Z"
    },
    "execution": {
     "iopub.execute_input": "2024-09-06T18:09:29.502994Z",
     "iopub.status.busy": "2024-09-06T18:09:29.502291Z",
     "iopub.status.idle": "2024-09-06T18:09:47.415125Z",
     "shell.execute_reply": "2024-09-06T18:09:47.413843Z"
    }
   },
   "outputs": [],
   "source": [
    "# random noisy\n",
    "prefix = \"c5_brick_random_noisy_\"\n",
    "csv_name = 'dataset_random_dense_noisy_scaled.csv'\n",
    "\n",
    "%run ../common_brick_running.ipynb"
   ]
  },
  {
   "cell_type": "code",
   "execution_count": null,
   "metadata": {
    "execution": {
     "iopub.execute_input": "2024-09-06T18:09:47.418240Z",
     "iopub.status.busy": "2024-09-06T18:09:47.417946Z",
     "iopub.status.idle": "2024-09-06T18:09:47.421802Z",
     "shell.execute_reply": "2024-09-06T18:09:47.420828Z"
    }
   },
   "outputs": [],
   "source": [
    "print(\"Done\")"
   ]
  },
  {
   "cell_type": "code",
   "execution_count": null,
   "metadata": {
    "execution": {
     "iopub.execute_input": "2024-09-06T18:09:47.424590Z",
     "iopub.status.busy": "2024-09-06T18:09:47.424096Z",
     "iopub.status.idle": "2024-09-06T18:09:47.427213Z",
     "shell.execute_reply": "2024-09-06T18:09:47.426517Z"
    }
   },
   "outputs": [],
   "source": [
    "# # load and plot far_points.csv\n",
    "# far_points = pd.read_csv(\"far_points.csv\")\n",
    "# print(far_points)\n",
    "\n",
    "# # get headers of far_points.csv\n",
    "# headers = list(far_points.columns)\n",
    "# print(headers)\n"
   ]
  },
  {
   "cell_type": "code",
   "execution_count": null,
   "metadata": {
    "execution": {
     "iopub.execute_input": "2024-09-06T18:09:47.430080Z",
     "iopub.status.busy": "2024-09-06T18:09:47.429474Z",
     "iopub.status.idle": "2024-09-06T18:09:47.432522Z",
     "shell.execute_reply": "2024-09-06T18:09:47.431813Z"
    }
   },
   "outputs": [],
   "source": [
    "# # load not_far_points.csv\n",
    "# not_far_points = pd.read_csv(\"not_far_points.csv\")\n",
    "# print(not_far_points)\n",
    "\n",
    "# # get headers of not_far_points.csv\n",
    "# headers = list(not_far_points.columns)\n",
    "# print(headers)"
   ]
  },
  {
   "cell_type": "code",
   "execution_count": null,
   "metadata": {
    "execution": {
     "iopub.execute_input": "2024-09-06T18:09:47.435422Z",
     "iopub.status.busy": "2024-09-06T18:09:47.434805Z",
     "iopub.status.idle": "2024-09-06T18:09:47.437820Z",
     "shell.execute_reply": "2024-09-06T18:09:47.437094Z"
    }
   },
   "outputs": [],
   "source": [
    "# # load dataset_random_dense_noisy_scaled.csv\n",
    "# dataset_random_dense_noisy_scaled = pd.read_csv(\"dataset_random_dense_noisy_scaled.csv\")\n",
    "# print(dataset_random_dense_noisy_scaled)\n",
    "\n",
    "# # keep every 10th row\n",
    "# dataset_random_dense_noisy_scaled = dataset_random_dense_noisy_scaled.iloc[::10, :]\n",
    "# print(dataset_random_dense_noisy_scaled)\n"
   ]
  },
  {
   "cell_type": "code",
   "execution_count": null,
   "metadata": {
    "execution": {
     "iopub.execute_input": "2024-09-06T18:09:47.440828Z",
     "iopub.status.busy": "2024-09-06T18:09:47.440247Z",
     "iopub.status.idle": "2024-09-06T18:09:47.443820Z",
     "shell.execute_reply": "2024-09-06T18:09:47.443148Z"
    }
   },
   "outputs": [],
   "source": [
    "# # plot the far_points column 0, 2, and 4 with Plotly using the correct markers\n",
    "\n",
    "# import plotly.graph_objects as go\n",
    "\n",
    "# fig = go.Figure()\n",
    "\n",
    "# x_header = headers[x_header]\n",
    "# y_header = headers[y_header]\n",
    "# z_header = headers[z_header]\n",
    "\n",
    "# # add far_points scatter\n",
    "# fig.add_trace(go.Scatter3d(\n",
    "#     x=far_points[headers[x_header]],\n",
    "#     y=far_points[headers[y_header]],\n",
    "#     z=far_points[headers[z_header]],\n",
    "#     mode='markers',\n",
    "#     marker=dict(size=3, color='red'),\n",
    "#     name='far_points'\n",
    "# ))\n",
    "\n",
    "# # add not_far_points scatter\n",
    "# fig.add_trace(go.Scatter3d(\n",
    "#     x=not_far_points[headers[x_header]],\n",
    "#     y=not_far_points[headers[y_header]],\n",
    "#     z=not_far_points[headers[z_header]],\n",
    "#     mode='markers',\n",
    "#     marker=dict(size=3, color='yellow'),\n",
    "#     name='not_far_points'\n",
    "# ))\n",
    "\n",
    "# # add dataset_random_dense_noisy_scaled scatter\n",
    "# fig.add_trace(go.Scatter3d(\n",
    "#     x=dataset_random_dense_noisy_scaled[headers[x_header]],\n",
    "#     y=dataset_random_dense_noisy_scaled[headers[y_header]],\n",
    "#     z=dataset_random_dense_noisy_scaled[headers[z_header]],\n",
    "#     mode='markers',\n",
    "#     marker=dict(size=1, color='blue'),\n",
    "#     name='dataset_random_dense_noisy_scaled'\n",
    "# ))\n",
    "\n",
    "# # label axis\n",
    "# fig.update_layout(scene = dict(\n",
    "#                     xaxis_title=headers[x_header],\n",
    "#                     yaxis_title=headers[y_header],\n",
    "#                     zaxis_title=headers[z_header]),\n",
    "#                     width=800, height=600)\n",
    "\n",
    "# fig.show()"
   ]
  },
  {
   "cell_type": "code",
   "execution_count": null,
   "metadata": {},
   "outputs": [],
   "source": []
  }
 ],
 "metadata": {
  "kernelspec": {
   "display_name": "Python 3 (ipykernel)",
   "language": "python",
   "name": "python3"
  },
  "language_info": {
   "codemirror_mode": {
    "name": "ipython",
    "version": 3
   },
   "file_extension": ".py",
   "mimetype": "text/x-python",
   "name": "python",
   "nbconvert_exporter": "python",
   "pygments_lexer": "ipython3",
   "version": "3.11.6"
  }
 },
 "nbformat": 4,
 "nbformat_minor": 2
}
