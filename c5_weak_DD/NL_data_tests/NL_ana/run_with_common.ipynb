{
 "cells": [
  {
   "cell_type": "code",
   "execution_count": null,
   "metadata": {
    "ExecuteTime": {
     "end_time": "2024-09-02T14:34:54.348837Z",
     "start_time": "2024-09-02T14:34:52.744410Z"
    },
    "execution": {
     "iopub.execute_input": "2024-09-06T18:03:37.438613Z",
     "iopub.status.busy": "2024-09-06T18:03:37.438437Z",
     "iopub.status.idle": "2024-09-06T18:03:39.158341Z",
     "shell.execute_reply": "2024-09-06T18:03:39.157725Z"
    }
   },
   "outputs": [],
   "source": [
    "# import settings and functions\n",
    "%run ./../../../imports.ipynb"
   ]
  },
  {
   "cell_type": "code",
   "execution_count": null,
   "metadata": {
    "ExecuteTime": {
     "end_time": "2024-09-02T14:34:54.353089Z",
     "start_time": "2024-09-02T14:34:54.350588Z"
    },
    "execution": {
     "iopub.execute_input": "2024-09-06T18:03:39.194868Z",
     "iopub.status.busy": "2024-09-06T18:03:39.194445Z",
     "iopub.status.idle": "2024-09-06T18:03:39.198103Z",
     "shell.execute_reply": "2024-09-06T18:03:39.197605Z"
    }
   },
   "outputs": [],
   "source": [
    "run_analysis = False\n",
    "\n",
    "color_lims = True\n",
    "\n",
    "exe = hdiv_data_driven_diffusion_snes\n",
    "sumanalys = \"sumanalys.csv\"\n",
    "ana_name = \"ana_DD_brick\"\n",
    "\n",
    "ref = False\n",
    "\n",
    "# resolution\n",
    "res_multiply = 1\n",
    "params.p_resolution = [1000*res_multiply,1100*res_multiply]\n",
    "params.crop_top_x_percent_pdf = 10"
   ]
  },
  {
   "cell_type": "code",
   "execution_count": null,
   "metadata": {
    "ExecuteTime": {
     "end_time": "2024-08-20T16:40:12.611487Z",
     "start_time": "2024-08-20T16:38:31.380971Z"
    },
    "execution": {
     "iopub.execute_input": "2024-09-06T18:03:39.200102Z",
     "iopub.status.busy": "2024-09-06T18:03:39.199905Z",
     "iopub.status.idle": "2024-09-06T18:03:55.085808Z",
     "shell.execute_reply": "2024-09-06T18:03:55.084815Z"
    }
   },
   "outputs": [],
   "source": [
    "# from ana dense\n",
    "prefix = \"c5_brick_NL_dense_\"\n",
    "\n",
    "csv_name = 'dataset_loop_complete_scaled.csv'\n",
    "%run ../common_brick_running.ipynb"
   ]
  },
  {
   "cell_type": "code",
   "execution_count": null,
   "metadata": {
    "ExecuteTime": {
     "end_time": "2024-08-20T16:43:04.782356Z",
     "start_time": "2024-08-20T16:40:12.614751Z"
    },
    "execution": {
     "iopub.execute_input": "2024-09-06T18:03:55.089131Z",
     "iopub.status.busy": "2024-09-06T18:03:55.088939Z",
     "iopub.status.idle": "2024-09-06T18:04:10.061642Z",
     "shell.execute_reply": "2024-09-06T18:04:10.060519Z"
    }
   },
   "outputs": [],
   "source": [
    "# from ana missing\n",
    "prefix = \"c5_brick_NL_missing_\"\n",
    "csv_name = 'dataset_loop_missing_scaled.csv'\n",
    "\n",
    "%run ../common_brick_running.ipynb"
   ]
  },
  {
   "cell_type": "code",
   "execution_count": null,
   "metadata": {
    "ExecuteTime": {
     "end_time": "2024-09-02T14:40:14.763712Z",
     "start_time": "2024-09-02T14:34:57.095476Z"
    },
    "execution": {
     "iopub.execute_input": "2024-09-06T18:04:10.064490Z",
     "iopub.status.busy": "2024-09-06T18:04:10.064306Z",
     "iopub.status.idle": "2024-09-06T18:04:28.146969Z",
     "shell.execute_reply": "2024-09-06T18:04:28.145749Z"
    }
   },
   "outputs": [],
   "source": [
    "# from ana dense\n",
    "prefix = \"c5_brick_NL_noisy_\"\n",
    "\n",
    "csv_name = 'dataset_loop_noisy_scaled.csv'\n",
    "%run ../common_brick_running.ipynb"
   ]
  },
  {
   "cell_type": "code",
   "execution_count": null,
   "metadata": {
    "ExecuteTime": {
     "end_time": "2024-08-20T16:43:04.787544Z",
     "start_time": "2024-08-20T16:43:04.784739Z"
    },
    "execution": {
     "iopub.execute_input": "2024-09-06T18:04:28.149887Z",
     "iopub.status.busy": "2024-09-06T18:04:28.149641Z",
     "iopub.status.idle": "2024-09-06T18:04:28.152265Z",
     "shell.execute_reply": "2024-09-06T18:04:28.151742Z"
    }
   },
   "outputs": [],
   "source": [
    "# # run notebook in its own folder\n",
    "# os.chdir(\"NL_dense\")\n",
    "# print(f\"Working in directory {os.getcwd()}\")\n",
    "# # run the analysis\n",
    "# # %run -i ../../../analysis/analysis.py"
   ]
  }
 ],
 "metadata": {
  "kernelspec": {
   "display_name": "Python 3 (ipykernel)",
   "language": "python",
   "name": "python3"
  },
  "language_info": {
   "codemirror_mode": {
    "name": "ipython",
    "version": 3
   },
   "file_extension": ".py",
   "mimetype": "text/x-python",
   "name": "python",
   "nbconvert_exporter": "python",
   "pygments_lexer": "ipython3",
   "version": "3.11.6"
  }
 },
 "nbformat": 4,
 "nbformat_minor": 2
}
