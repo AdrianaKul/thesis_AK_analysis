{
 "cells": [
  {
   "cell_type": "code",
   "execution_count": null,
   "metadata": {
    "ExecuteTime": {
     "end_time": "2024-09-02T14:35:30.988658Z",
     "start_time": "2024-09-02T14:35:29.605108Z"
    },
    "execution": {
     "iopub.execute_input": "2024-09-06T18:08:00.490142Z",
     "iopub.status.busy": "2024-09-06T18:08:00.489984Z",
     "iopub.status.idle": "2024-09-06T18:08:02.230692Z",
     "shell.execute_reply": "2024-09-06T18:08:02.230162Z"
    }
   },
   "outputs": [],
   "source": [
    "# import settings and functions\n",
    "%run ./../../../imports.ipynb"
   ]
  },
  {
   "cell_type": "code",
   "execution_count": null,
   "metadata": {
    "ExecuteTime": {
     "end_time": "2024-09-02T14:35:30.993176Z",
     "start_time": "2024-09-02T14:35:30.990801Z"
    },
    "execution": {
     "iopub.execute_input": "2024-09-06T18:08:02.273162Z",
     "iopub.status.busy": "2024-09-06T18:08:02.272482Z",
     "iopub.status.idle": "2024-09-06T18:08:02.276654Z",
     "shell.execute_reply": "2024-09-06T18:08:02.276196Z"
    }
   },
   "outputs": [],
   "source": [
    "run_analysis = False\n",
    "\n",
    "color_lims = True\n",
    "\n",
    "exe = hdiv_data_driven_diffusion_snes\n",
    "sumanalys = \"sumanalys.csv\"\n",
    "ana_name = \"ana_DD_brick\"\n",
    "\n",
    "ref = True\n",
    "\n",
    "# resolution\n",
    "res_multiply = 1\n",
    "params.p_resolution = [1000*res_multiply,1100*res_multiply]\n",
    "params.crop_top_x_percent_pdf = 10"
   ]
  },
  {
   "cell_type": "code",
   "execution_count": null,
   "metadata": {
    "ExecuteTime": {
     "end_time": "2024-08-20T16:55:45.095740Z",
     "start_time": "2024-08-20T16:39:23.189060Z"
    },
    "execution": {
     "iopub.execute_input": "2024-09-06T18:08:02.278735Z",
     "iopub.status.busy": "2024-09-06T18:08:02.278330Z",
     "iopub.status.idle": "2024-09-06T18:08:17.037517Z",
     "shell.execute_reply": "2024-09-06T18:08:17.036484Z"
    }
   },
   "outputs": [],
   "source": [
    "# from ana dense\n",
    "prefix = \"c5_brick_NL_dense_ref_\"\n",
    "\n",
    "csv_name = 'dataset_loop_complete_scaled.csv'\n",
    "%run ../common_brick_running.ipynb"
   ]
  },
  {
   "cell_type": "code",
   "execution_count": null,
   "metadata": {
    "ExecuteTime": {
     "end_time": "2024-08-20T16:55:45.102471Z",
     "start_time": "2024-08-20T16:55:45.099043Z"
    },
    "execution": {
     "iopub.execute_input": "2024-09-06T18:08:17.041915Z",
     "iopub.status.busy": "2024-09-06T18:08:17.040924Z",
     "iopub.status.idle": "2024-09-06T18:08:17.044979Z",
     "shell.execute_reply": "2024-09-06T18:08:17.044293Z"
    }
   },
   "outputs": [],
   "source": [
    "# # run notebook in its own folder\n",
    "# os.chdir(\"NL_dense\")\n",
    "# print(f\"Working in directory {os.getcwd()}\")\n",
    "# # run the analysis\n",
    "# # %run -i ../../../analysis/analysis.py"
   ]
  },
  {
   "cell_type": "code",
   "execution_count": null,
   "metadata": {
    "ExecuteTime": {
     "end_time": "2024-08-20T17:11:07.352861Z",
     "start_time": "2024-08-20T16:55:45.103781Z"
    },
    "execution": {
     "iopub.execute_input": "2024-09-06T18:08:17.047464Z",
     "iopub.status.busy": "2024-09-06T18:08:17.047309Z",
     "iopub.status.idle": "2024-09-06T18:08:31.414739Z",
     "shell.execute_reply": "2024-09-06T18:08:31.413178Z"
    }
   },
   "outputs": [],
   "source": [
    "# from ana missing\n",
    "prefix = \"c5_brick_NL_missing_ref_\"\n",
    "csv_name = 'dataset_loop_missing_scaled.csv'\n",
    "\n",
    "%run ../common_brick_running.ipynb"
   ]
  },
  {
   "cell_type": "code",
   "execution_count": null,
   "metadata": {
    "ExecuteTime": {
     "end_time": "2024-09-02T15:06:05.949655Z",
     "start_time": "2024-09-02T14:35:33.975291Z"
    },
    "execution": {
     "iopub.execute_input": "2024-09-06T18:08:31.418619Z",
     "iopub.status.busy": "2024-09-06T18:08:31.418187Z",
     "iopub.status.idle": "2024-09-06T18:08:49.441502Z",
     "shell.execute_reply": "2024-09-06T18:08:49.439877Z"
    }
   },
   "outputs": [],
   "source": [
    "# from ana dense\n",
    "prefix = \"c5_brick_NL_noisy_ref_\"\n",
    "\n",
    "csv_name = 'dataset_loop_noisy_scaled.csv'\n",
    "%run ../common_brick_running.ipynb"
   ]
  },
  {
   "cell_type": "code",
   "execution_count": null,
   "metadata": {
    "execution": {
     "iopub.execute_input": "2024-09-06T18:08:49.444524Z",
     "iopub.status.busy": "2024-09-06T18:08:49.443871Z",
     "iopub.status.idle": "2024-09-06T18:08:49.448713Z",
     "shell.execute_reply": "2024-09-06T18:08:49.447977Z"
    }
   },
   "outputs": [],
   "source": [
    "print(\"done\")"
   ]
  },
  {
   "cell_type": "code",
   "execution_count": null,
   "metadata": {},
   "outputs": [],
   "source": []
  }
 ],
 "metadata": {
  "kernelspec": {
   "display_name": "Python 3 (ipykernel)",
   "language": "python",
   "name": "python3"
  },
  "language_info": {
   "codemirror_mode": {
    "name": "ipython",
    "version": 3
   },
   "file_extension": ".py",
   "mimetype": "text/x-python",
   "name": "python",
   "nbconvert_exporter": "python",
   "pygments_lexer": "ipython3",
   "version": "3.11.6"
  }
 },
 "nbformat": 4,
 "nbformat_minor": 2
}
