{
 "cells": [
  {
   "cell_type": "markdown",
   "metadata": {},
   "source": [
    "## Do not execute this notebook on its own\n",
    "\n",
    "This notebook is to be called by other notebooks in the subfolders "
   ]
  },
  {
   "cell_type": "code",
   "execution_count": null,
   "metadata": {},
   "outputs": [],
   "source": [
    "# plot_for_monte.ipynb\n"
   ]
  },
  {
   "cell_type": "code",
   "execution_count": null,
   "metadata": {},
   "outputs": [],
   "source": [
    "# lim_dist_ave = None\n",
    "# lim_dis_std = None\n",
    "# lim_dist_point = None\n",
    "# lim_dist_q = None\n",
    "# lim_dist_g = None\n",
    "# lim_std_T = None\n",
    "# print_integ = True\n",
    "\n",
    "# if 'lim_std_T' 'lim_std_Q' 'lim_std_G' not in locals():\n",
    "lim_std_Q = locals().get('lim_std_Q', None)\n",
    "lim_std_G = locals().get('lim_std_G', None)\n",
    "lim_std_T = locals().get('lim_std_T', None)\n",
    "\n",
    "# if scaling does not exist create scaling = [1.,1.]\n",
    "if 'scaling' not in locals():\n",
    "    scaling = [1.,1.]\n",
    "\n",
    "# if 'color_lims' not in locals():\n",
    "#     color_lims = None\n",
    "\n",
    "# a = !ls {name_vtk_integ}*\n",
    "# a = a[0][0]\n",
    "# if a == 'l':\n",
    "#     print_integ = False"
   ]
  },
  {
   "cell_type": "code",
   "execution_count": null,
   "metadata": {},
   "outputs": [],
   "source": [
    "# if color_lims:\n",
    "#     lim_std_T = [0., 0.25]\n",
    "    "
   ]
  },
  {
   "cell_type": "code",
   "execution_count": null,
   "metadata": {},
   "outputs": [],
   "source": [
    "# start display for showing results\n",
    "display = Display(backend=\"xvfb\", visible=False, size=(1024, 768))\n",
    "display.start()"
   ]
  },
  {
   "cell_type": "markdown",
   "metadata": {},
   "source": [
    "\n",
    "name_vtk_monte_errors = \"out_monte_errors_\"+csv_name[:-4]\n",
    "\n",
    "name_vtk_monte_integ = \"out_monte_integ_\"+csv_name[:-4]\n",
    "\n",
    "name_vtk_monte_sigma = \"out_monte_sigma_\"+csv_name[:-4]\n",
    "\n",
    "name_vtk_monte_integ_mean_var = \"out_integ_pts_mean_var_\"+csv_name[:-4]"
   ]
  },
  {
   "cell_type": "code",
   "execution_count": null,
   "metadata": {},
   "outputs": [],
   "source": [
    "print(\"plotting results for Temperature standard deviation\")\n",
    "params.show_file = name_vtk_monte_sigma\n",
    "params.show_field = \"SIGMA_T\"\n",
    "params.show_field_scale = 1./scaling[1]\n",
    "params.p_cmap = color_std_temperature\n",
    "params.clim = lim_std_T\n",
    "params.show_edges = False\n",
    "params.p_save = prefix+\"T_std.pdf\"\n",
    "show_results(params)"
   ]
  },
  {
   "cell_type": "code",
   "execution_count": null,
   "metadata": {},
   "outputs": [],
   "source": [
    "print(\"plotting results for Flux standard deviation x\")\n",
    "params.show_file = name_vtk_monte_sigma\n",
    "params.show_field = \"SIGMA_FLUX_X\"\n",
    "params.show_field_scale = 1./scaling[0]\n",
    "params.p_cmap = color_std_flux\n",
    "params.clim = lim_std_Q\n",
    "params.show_edges = False\n",
    "params.p_save = prefix+\"Q_std_x.pdf\"\n",
    "show_results(params)"
   ]
  },
  {
   "cell_type": "code",
   "execution_count": null,
   "metadata": {},
   "outputs": [],
   "source": [
    "print(\"plotting results for Flux standard deviation y\")\n",
    "params.show_file = name_vtk_monte_sigma\n",
    "params.show_field = \"SIGMA_FLUX_Y\"\n",
    "params.show_field_scale = 1./scaling[0]\n",
    "params.p_cmap = color_std_flux\n",
    "params.clim = lim_std_Q\n",
    "params.show_edges = False\n",
    "params.p_save = prefix+\"Q_std_y.pdf\"\n",
    "show_results(params)\n",
    "\n",
    "\n",
    "params.show_field_scale = 1."
   ]
  },
  {
   "cell_type": "code",
   "execution_count": null,
   "metadata": {},
   "outputs": [],
   "source": [
    "# for SIGMA_GRAD_X and SIGMA_GRAD_Y\n",
    "\n",
    "print(\"plotting results for Gradient standard deviation x\")\n",
    "params.show_file = name_vtk_monte_sigma\n",
    "params.show_field = \"SIGMA_GRAD_X\"\n",
    "params.p_cmap = color_std_gradient\n",
    "params.clim = lim_std_G\n",
    "params.show_edges = False\n",
    "params.p_save = prefix+\"G_std_x.pdf\"\n",
    "show_results(params)\n"
   ]
  },
  {
   "cell_type": "code",
   "execution_count": null,
   "metadata": {},
   "outputs": [],
   "source": [
    "print(\"plotting results for Gradient standard deviation y\")\n",
    "params.show_file = name_vtk_monte_sigma\n",
    "params.show_field = \"SIGMA_GRAD_Y\"\n",
    "params.p_cmap = color_std_gradient\n",
    "params.clim = lim_std_G\n",
    "params.show_edges = False\n",
    "params.p_save = prefix+\"G_std_y.pdf\"\n",
    "show_results(params)"
   ]
  },
  {
   "cell_type": "markdown",
   "metadata": {},
   "source": [
    "## new plotting"
   ]
  },
  {
   "cell_type": "code",
   "execution_count": null,
   "metadata": {},
   "outputs": [],
   "source": [
    "def show_results_magnitude(params):\n",
    "    out_to_vtk = !ls -c1 {params.show_file}*vtk\n",
    "    last_file=out_to_vtk[0]\n",
    "\n",
    "    p = pv.Plotter(notebook=True)\n",
    "\n",
    "    mesh = pv.read(last_file[:-3] + \"vtk\")\n",
    "    warped_mesh = mesh\n",
    "\n",
    "    if params.warp_field_scalar:\n",
    "        # p.add_mesh(mesh, show_scalar_bar = False, opacity=0.2, color='gray', smooth_shading=True,)\n",
    "        warped_mesh = mesh.warp_by_scalar(scalars=params.warp_field_scalar, factor=params.warp_factor)\n",
    "    \n",
    "    if params.warp_field_vector:\n",
    "        # p.add_mesh(mesh, show_scalar_bar = False, opacity=0.2, color='gray', smooth_shading=True,)\n",
    "        warped_mesh = mesh.warp_by_vector(vectors=params.warp_field_vector, factor=params.warp_factor)\n",
    "\n",
    "    if params.show_edges:\n",
    "        warped_mesh=warped_mesh.shrink(0.95)\n",
    "    \n",
    "    jupyter_backend='ipygany'\n",
    "\n",
    "    # Check if the field is in point data or cell data\n",
    "    if params.show_field in warped_mesh.point_data:\n",
    "        data_location = warped_mesh.point_data\n",
    "    elif params.show_field in warped_mesh.cell_data:\n",
    "        data_location = warped_mesh.cell_data\n",
    "    else:\n",
    "        raise KeyError(f\"Field '{params.show_field}' not found in point or cell data.\")\n",
    "\n",
    "    # Check if params.show_field_2 is defined and calculate sqrt(f1^2 +f2^2) if so\n",
    "    if (params.show_field_2):\n",
    "        if (params.field_part < 0):\n",
    "            scalars1 = data_location[params.show_field]\n",
    "            scalars2 = data_location[params.show_field_2]\n",
    "        \n",
    "        scalars = np.sqrt(scalars1**2 + scalars2**2)\n",
    "        if params.show_field_diff_abs:\n",
    "            scalars = np.abs(scalars)\n",
    "\n",
    "    else:\n",
    "        scalars = data_location[params.show_field]\n",
    "\n",
    "    scalars = scalars * params.show_field_scale \n",
    "\n",
    "    if params.show_ori_shape:\n",
    "        p.add_mesh(mesh, component=None, smooth_shading=True, opacity=0.5, color='gray')\n",
    "\n",
    "\n",
    "    # scalar_bar_title = params.show_field_name if params.show_field_name else params.show_field\n",
    "    # # Define the arguments for the scalar bar\n",
    "    # scalar_bar_args = {\n",
    "    #     # 'n_labels': 8,\n",
    "    #     'position_x': 0.2,  \n",
    "    #     'title': scalar_bar_title,\n",
    "    # }\n",
    "\n",
    "    scalar_bar_args = p_settings(p, params)\n",
    "\n",
    "    p.add_mesh(warped_mesh, scalars=scalars, component=None, smooth_shading=False, cmap=params.p_cmap, clim = params.clim, show_scalar_bar=True, opacity=0.9, scalar_bar_args=scalar_bar_args)\n",
    "\n",
    "    # if params.show_scalar_bar:\n",
    "    #     scalar_bar_title = params.show_field if params.show_field else \"Scalar Field\"\n",
    "    #     p.add_scalar_bar(title=scalar_bar_title, color='black')\n",
    " \n",
    "    p.camera_position = params.camera_position\n",
    "    \n",
    "    p.enable_parallel_projection()\n",
    "    p.enable_image_style()\n",
    "    \n",
    "    # p.show(jupyter_backend=jupyter_backend)\n",
    "    # if params.p_save:\n",
    "    #     p.save_graphic(params.p_save) \n",
    "\n",
    "    p_save_crop(p,params)"
   ]
  },
  {
   "cell_type": "code",
   "execution_count": null,
   "metadata": {},
   "outputs": [],
   "source": [
    "# plot results for the magnitude of the gradient standard deviation\n",
    "print(\"plotting results for Gradient standard deviation magnitude\")\n",
    "params.show_file = name_vtk_monte_sigma\n",
    "params.show_field_name = \"SIGMA_GRAD_MAG\"\n",
    "params.show_field = \"SIGMA_GRAD_X\"\n",
    "params.show_field_2 = \"SIGMA_GRAD_Y\"\n",
    "params.p_cmap = color_std_gradient\n",
    "params.clim = lim_std_G\n",
    "params.show_edges = False\n",
    "params.p_save = prefix+\"G_std_mag.pdf\"\n",
    "show_results_magnitude(params)\n"
   ]
  },
  {
   "cell_type": "code",
   "execution_count": null,
   "metadata": {},
   "outputs": [],
   "source": [
    "# plot results for the magnitude of the flux standard deviation\n",
    "print(\"plotting results for Flux standard deviation magnitude\")\n",
    "params.show_file = name_vtk_monte_sigma\n",
    "params.show_field_name = \"SIGMA_FLUX_MAG\"\n",
    "params.show_field_scale = 1./scaling[0]\n",
    "params.show_field = \"SIGMA_FLUX_X\"\n",
    "params.show_field_2 = \"SIGMA_FLUX_Y\"\n",
    "params.p_cmap = color_std_flux\n",
    "params.clim = lim_std_Q\n",
    "params.show_edges = False\n",
    "params.p_save = prefix+\"Q_std_mag.pdf\"\n",
    "show_results_magnitude(params)\n"
   ]
  },
  {
   "cell_type": "code",
   "execution_count": null,
   "metadata": {},
   "outputs": [],
   "source": [
    "# reset params values\n",
    "params.show_field_name = None\n",
    "params.show_field_2 = None\n",
    "params.clim = None\n",
    "\n",
    "params.show_field_scale = 1.\n"
   ]
  },
  {
   "cell_type": "markdown",
   "metadata": {},
   "source": [
    "## old"
   ]
  },
  {
   "cell_type": "code",
   "execution_count": null,
   "metadata": {},
   "outputs": [],
   "source": [
    "# print(\"plotting results for grad(T)\")\n",
    "# params.show_file = name_vtk_result\n",
    "# params.show_field = \"T\"\n",
    "# params.field_part = 10\n",
    "# params.warp_field_scalar = \"\"\n",
    "# params.p_cmap = color_gradient\n",
    "# params.show_edges = True\n",
    "# params.p_save = prefix+\"gradT.pdf\"\n",
    "# show_results(params)\n",
    "# params.field_part = -1"
   ]
  },
  {
   "cell_type": "code",
   "execution_count": null,
   "metadata": {},
   "outputs": [],
   "source": [
    "# print(\"plotting results for Gradient\")\n",
    "# params.show_file = name_vtk_result\n",
    "# params.show_field = \"G\"\n",
    "# params.warp_field_scalar = \"\"\n",
    "# params.p_cmap = color_gradient\n",
    "# params.show_edges = True\n",
    "# params.p_save = prefix+\"G.pdf\"\n",
    "# show_results(params)"
   ]
  },
  {
   "cell_type": "code",
   "execution_count": null,
   "metadata": {},
   "outputs": [],
   "source": [
    "# print(\"plotting results for Flux (result scale)\")\n",
    "# params.show_file = name_vtk_result\n",
    "# params.show_field = \"Q\"\n",
    "# params.warp_field_scalar = \"\"\n",
    "# params.p_cmap = color_flux\n",
    "# params.show_edges = True\n",
    "# params.p_save = prefix+\"Q.pdf\"\n",
    "# show_results(params)\n",
    "\n",
    "# print(\"plotting results for Flux (dataset scale)\")\n",
    "# params.show_file = name_vtk_result\n",
    "# params.show_field = \"Q\"\n",
    "# params.show_field_scale = scaling[0]\n",
    "# params.warp_field_scalar = \"\"\n",
    "# params.p_cmap = color_flux\n",
    "# params.show_edges = True\n",
    "# params.p_save = prefix+\"Q_scaled.pdf\"\n",
    "# show_results(params)\n",
    "# params.show_field_scale = 1.0"
   ]
  },
  {
   "cell_type": "code",
   "execution_count": null,
   "metadata": {},
   "outputs": [],
   "source": [
    "# print(\"DD_DISTANCE_AVE\")\n",
    "# params.show_file = name_vtk_error\n",
    "# params.show_field = \"DD_DISTANCE_AVE\"\n",
    "# params.show_edges = True\n",
    "# params.p_cmap = 'Purples'\n",
    "# params.clim = lim_dist_ave\n",
    "# params.p_save = prefix+\"dis_ave.pdf\"\n",
    "# show_results(params)\n",
    "\n",
    "# print(\"DD_DISTANCE_VAR\")\n",
    "# params.show_field = \"DD_DISTANCE_VAR\"\n",
    "# params.p_cmap = \"Blues\"\n",
    "# params.clim = lim_dis_std\n",
    "# params.p_save = prefix+\"dis_var.pdf\"\n",
    "# show_results(params)\n",
    "# params.p_save = None"
   ]
  },
  {
   "cell_type": "code",
   "execution_count": null,
   "metadata": {},
   "outputs": [],
   "source": [
    "# if print_integ:\n",
    "#     print(\"plotting results for Point_distance\")\n",
    "#     params.show_file = name_vtk_integ\n",
    "#     params.show_field = \"Point_distance\"\n",
    "#     params.clim = lim_dist_point\n",
    "#     # params.clim = None\n",
    "#     # TODO: check if this is correct\n",
    "#     params.p_save = prefix+\"dis_point.pdf\"\n",
    "#     params.p_cmap = 'Purples'\n",
    "#     show_resulting_points(params)"
   ]
  },
  {
   "cell_type": "code",
   "execution_count": null,
   "metadata": {},
   "outputs": [],
   "source": [
    "# if print_integ:\n",
    "#     print(\"Q - Q_STAR (dataset scale)\")\n",
    "#     params.show_field_scale = 1.0\n",
    "#     params.show_field_scale_2 = 1.0\n",
    "#     params.show_file = name_vtk_integ\n",
    "#     params.field_part = 1\n",
    "#     params.show_field = \"Q\"\n",
    "#     params.show_field_2 = \"Q_STAR\"\n",
    "#     params.clim = lim_dist_q\n",
    "#     params.p_cmap = 'PuBu'\n",
    "#     params.p_save = prefix+\"dis_Q_Qstar_y.pdf\"\n",
    "#     show_resulting_points(params)\n",
    "\n",
    "#     print(\"Q - Q_STAR (result scale)\")\n",
    "#     params.show_field_scale = 1./scaling[0]\n",
    "#     params.show_field_scale_2 = 1./scaling[0]\n",
    "#     if color_lims:\n",
    "#         params.clim = [lim * (1.0/scaling[0]) for lim in lim_dist_q]\n",
    "#     params.p_save = prefix+\"dis_Q_Qstar_y_scaled.pdf\"\n",
    "#     show_resulting_points(params)\n",
    "#     params.show_field_2 = None\n",
    "#     params.field_part = -1\n",
    "#     params.p_save = None\n",
    "#     params.show_field_scale = 1.0\n",
    "#     params.show_field_scale_2 = 1.0"
   ]
  },
  {
   "cell_type": "code",
   "execution_count": null,
   "metadata": {},
   "outputs": [],
   "source": [
    "# if print_integ:\n",
    "#     print(\"GRAD(P) - GRAD(P)_STAR\")\n",
    "#     params.show_file = name_vtk_integ\n",
    "#     params.show_field = \"GRAD(P)\"\n",
    "#     params.show_field_2 = \"GRAD(P)_STAR\"\n",
    "#     params.clim = lim_dist_g\n",
    "#     params.p_cmap = \"YlGnBu\"\n",
    "#     params.field_part = 1\n",
    "#     params.p_save = prefix+\"dis_G_Gstar_y.pdf\"\n",
    "#     show_resulting_points(params)\n",
    "#     params.show_field_2 = None\n",
    "#     params.p_save = None\n",
    "#     params.field_part = -1"
   ]
  },
  {
   "cell_type": "code",
   "execution_count": null,
   "metadata": {},
   "outputs": [],
   "source": [
    "# if print_integ:\n",
    "#     print(\"T - P_STAR (dataset scale)\")\n",
    "#     params.show_file = name_vtk_integ\n",
    "#     params.show_field = \"T\"\n",
    "#     params.clim = lim_dist_T\n",
    "#     # params.show_field_scale = scaling[1]\n",
    "#     params.show_field_2 = \"P_STAR\"\n",
    "#     params.p_cmap = \"Reds\"\n",
    "#     params.p_save = prefix+\"dis_T_Pstar.pdf\"\n",
    "#     show_resulting_points(params)\n",
    "\n",
    "#     print(\"T - P_STAR (result scale)\")\n",
    "#     params.show_field_scale = 1.0\n",
    "#     params.show_field = \"T\"\n",
    "#     params.show_field_2 = \"P_STAR\"\n",
    "#     if color_lims:\n",
    "#         params.clim = lim_dist_T/scaling[1]\n",
    "#     params.show_field_scale = 1./scaling[1]\n",
    "#     params.show_field_scale_2 = 1./scaling[1]\n",
    "#     params.p_save = prefix+\"dis_T_Pstar_full_scale.pdf\"\n",
    "#     show_resulting_points(params)\n",
    "#     params.show_field_scale = 1.0\n",
    "#     params.show_field_scale_2 = 1.0\n",
    "#     params.show_field_2 = None\n",
    "#     params.p_save = None\n",
    "    "
   ]
  },
  {
   "cell_type": "code",
   "execution_count": null,
   "metadata": {},
   "outputs": [],
   "source": [
    "\n",
    "params.show_field_scale = 1.0\n",
    "params.show_field_scale_2 = 1.0\n",
    "params.clim = None\n",
    "\n",
    "\n",
    "# stop the display\n",
    "display.stop()\n"
   ]
  }
 ],
 "metadata": {
  "kernelspec": {
   "display_name": "Python 3",
   "language": "python",
   "name": "python3"
  },
  "language_info": {
   "codemirror_mode": {
    "name": "ipython",
    "version": 3
   },
   "file_extension": ".py",
   "mimetype": "text/x-python",
   "name": "python",
   "nbconvert_exporter": "python",
   "pygments_lexer": "ipython3",
   "version": "3.11.6"
  }
 },
 "nbformat": 4,
 "nbformat_minor": 2
}
