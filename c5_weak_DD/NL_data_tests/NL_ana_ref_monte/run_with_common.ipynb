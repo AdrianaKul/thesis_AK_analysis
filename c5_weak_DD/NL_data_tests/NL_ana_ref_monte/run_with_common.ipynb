{
 "cells": [
  {
   "cell_type": "code",
   "execution_count": null,
   "metadata": {
    "ExecuteTime": {
     "start_time": "2024-09-02T14:35:50.762Z"
    }
   },
   "outputs": [],
   "source": [
    "# import settings and functions\n",
    "%run ./../../../imports.ipynb"
   ]
  },
  {
   "cell_type": "code",
   "execution_count": null,
   "metadata": {
    "ExecuteTime": {
     "start_time": "2024-09-02T14:35:51.239Z"
    }
   },
   "outputs": [],
   "source": [
    "run_analysis = False\n",
    "\n",
    "color_lims = True\n",
    "\n",
    "exe = hdiv_data_driven_diffusion_snes\n",
    "sumanalys = \"sumanalys.csv\"\n",
    "ana_name = \"ana_DD_brick\"\n",
    "\n",
    "ref = True\n",
    "\n",
    "monte = True\n",
    "monte_num = 30\n",
    "\n",
    "additions = \"-print_integ 0\" \n",
    "\n",
    "# resolution\n",
    "res_multiply = 1\n",
    "params.p_resolution = [1000*res_multiply,1100*res_multiply]\n",
    "params.crop_top_x_percent_pdf = 10"
   ]
  },
  {
   "cell_type": "code",
   "execution_count": null,
   "metadata": {
    "ExecuteTime": {
     "end_time": "2024-08-20T22:30:55.838454Z",
     "start_time": "2024-08-20T18:01:31.251302Z"
    }
   },
   "outputs": [],
   "source": [
    "color_lims = False\n",
    "\n",
    "# from ana dense\n",
    "prefix = \"c5_brick_NL_dense_ref_monte_\"\n",
    "\n",
    "csv_name = 'dataset_loop_complete_scaled.csv'\n",
    "%run ../common_brick_running.ipynb"
   ]
  },
  {
   "cell_type": "code",
   "execution_count": null,
   "metadata": {
    "ExecuteTime": {
     "end_time": "2024-08-21T00:17:52.930121Z",
     "start_time": "2024-08-20T22:30:55.841536Z"
    }
   },
   "outputs": [],
   "source": [
    "# from ana missing\n",
    "prefix = \"c5_brick_NL_missing_ref_monte_\"\n",
    "csv_name = 'dataset_loop_missing_scaled.csv'\n",
    "\n",
    "%run ../common_brick_running.ipynb"
   ]
  },
  {
   "cell_type": "code",
   "execution_count": null,
   "metadata": {
    "ExecuteTime": {
     "start_time": "2024-09-02T14:35:54.833Z"
    }
   },
   "outputs": [],
   "source": [
    "# from ana dense\n",
    "prefix = \"c5_brick_NL_noisy_ref_monte_\"\n",
    "\n",
    "csv_name = 'dataset_loop_noisy_scaled.csv'\n",
    "%run ../common_brick_running.ipynb"
   ]
  },
  {
   "cell_type": "code",
   "execution_count": null,
   "metadata": {},
   "outputs": [],
   "source": [
    "print(\"Done\")"
   ]
  },
  {
   "cell_type": "code",
   "execution_count": null,
   "metadata": {
    "ExecuteTime": {
     "end_time": "2024-08-21T00:17:52.934378Z",
     "start_time": "2024-08-21T00:17:52.932134Z"
    }
   },
   "outputs": [],
   "source": [
    "# # run notebook in its own folder\n",
    "# os.chdir(\"NL_dense\")\n",
    "# print(f\"Working in directory {os.getcwd()}\")\n",
    "# # run the analysis\n",
    "# # %run -i ../../../analysis/analysis.py"
   ]
  }
 ],
 "metadata": {
  "kernelspec": {
   "display_name": "Python 3 (ipykernel)",
   "language": "python",
   "name": "python3"
  },
  "language_info": {
   "codemirror_mode": {
    "name": "ipython",
    "version": 3
   },
   "file_extension": ".py",
   "mimetype": "text/x-python",
   "name": "python",
   "nbconvert_exporter": "python",
   "pygments_lexer": "ipython3",
   "version": "3.11.6"
  }
 },
 "nbformat": 4,
 "nbformat_minor": 2
}
