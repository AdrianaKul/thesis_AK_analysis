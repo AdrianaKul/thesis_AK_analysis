{
 "cells": [
  {
   "cell_type": "code",
   "execution_count": 1,
   "metadata": {
    "ExecuteTime": {
     "start_time": "2024-09-02T14:35:50.762Z"
    },
    "execution": {
     "iopub.execute_input": "2024-09-06T18:00:59.782216Z",
     "iopub.status.busy": "2024-09-06T18:00:59.781809Z",
     "iopub.status.idle": "2024-09-06T18:01:01.657389Z",
     "shell.execute_reply": "2024-09-06T18:01:01.656651Z"
    }
   },
   "outputs": [],
   "source": [
    "# import settings and functions\n",
    "%run ./../../../imports.ipynb"
   ]
  },
  {
   "cell_type": "code",
   "execution_count": 2,
   "metadata": {
    "ExecuteTime": {
     "start_time": "2024-09-02T14:35:51.239Z"
    },
    "execution": {
     "iopub.execute_input": "2024-09-06T18:01:01.700485Z",
     "iopub.status.busy": "2024-09-06T18:01:01.700057Z",
     "iopub.status.idle": "2024-09-06T18:01:01.703610Z",
     "shell.execute_reply": "2024-09-06T18:01:01.703138Z"
    }
   },
   "outputs": [],
   "source": [
    "run_analysis = False\n",
    "\n",
    "color_lims = True\n",
    "\n",
    "exe = hdiv_data_driven_diffusion_snes\n",
    "sumanalys = \"sumanalys.csv\"\n",
    "ana_name = \"ana_DD_brick\"\n",
    "\n",
    "ref = True\n",
    "\n",
    "monte = True\n",
    "monte_num = 30\n",
    "\n",
    "additions = \"-print_integ 0\" \n",
    "\n",
    "# resolution\n",
    "res_multiply = 1\n",
    "params.p_resolution = [1000*res_multiply,1100*res_multiply]\n",
    "params.crop_top_x_percent_pdf = 10"
   ]
  },
  {
   "cell_type": "code",
   "execution_count": 3,
   "metadata": {
    "ExecuteTime": {
     "end_time": "2024-08-20T22:30:55.838454Z",
     "start_time": "2024-08-20T18:01:31.251302Z"
    },
    "execution": {
     "iopub.execute_input": "2024-09-06T18:01:01.705609Z",
     "iopub.status.busy": "2024-09-06T18:01:01.705256Z",
     "iopub.status.idle": "2024-09-06T18:01:23.541807Z",
     "shell.execute_reply": "2024-09-06T18:01:23.540725Z"
    }
   },
   "outputs": [],
   "source": [
    "color_lims = False\n",
    "\n",
    "# from ana dense\n",
    "prefix = \"c5_brick_NL_dense_ref_monte_\"\n",
    "\n",
    "csv_name = 'dataset_loop_complete_scaled.csv'\n",
    "%run ../common_brick_running.ipynb"
   ]
  },
  {
   "cell_type": "code",
   "execution_count": null,
   "metadata": {
    "ExecuteTime": {
     "end_time": "2024-08-21T00:17:52.930121Z",
     "start_time": "2024-08-20T22:30:55.841536Z"
    },
    "execution": {
     "iopub.execute_input": "2024-09-06T18:01:23.546339Z",
     "iopub.status.busy": "2024-09-06T18:01:23.546115Z",
     "iopub.status.idle": "2024-09-06T18:01:46.219022Z",
     "shell.execute_reply": "2024-09-06T18:01:46.217628Z"
    }
   },
   "outputs": [],
   "source": [
    "# from ana missing\n",
    "prefix = \"c5_brick_NL_missing_ref_monte_\"\n",
    "csv_name = 'dataset_loop_missing_scaled.csv'\n",
    "\n",
    "%run ../common_brick_running.ipynb"
   ]
  },
  {
   "cell_type": "code",
   "execution_count": null,
   "metadata": {
    "ExecuteTime": {
     "start_time": "2024-09-02T14:35:54.833Z"
    },
    "execution": {
     "iopub.execute_input": "2024-09-06T18:01:46.222907Z",
     "iopub.status.busy": "2024-09-06T18:01:46.222726Z",
     "iopub.status.idle": "2024-09-06T18:02:13.195548Z",
     "shell.execute_reply": "2024-09-06T18:02:13.193683Z"
    }
   },
   "outputs": [],
   "source": [
    "# from ana dense\n",
    "prefix = \"c5_brick_NL_noisy_ref_monte_\"\n",
    "\n",
    "csv_name = 'dataset_loop_noisy_scaled.csv'\n",
    "%run ../common_brick_running.ipynb"
   ]
  },
  {
   "cell_type": "code",
   "execution_count": null,
   "metadata": {
    "execution": {
     "iopub.execute_input": "2024-09-06T18:02:13.200547Z",
     "iopub.status.busy": "2024-09-06T18:02:13.200243Z",
     "iopub.status.idle": "2024-09-06T18:02:13.203766Z",
     "shell.execute_reply": "2024-09-06T18:02:13.203149Z"
    }
   },
   "outputs": [],
   "source": [
    "print(\"Done\")"
   ]
  },
  {
   "cell_type": "code",
   "execution_count": null,
   "metadata": {
    "ExecuteTime": {
     "end_time": "2024-08-21T00:17:52.934378Z",
     "start_time": "2024-08-21T00:17:52.932134Z"
    },
    "execution": {
     "iopub.execute_input": "2024-09-06T18:02:13.206223Z",
     "iopub.status.busy": "2024-09-06T18:02:13.206015Z",
     "iopub.status.idle": "2024-09-06T18:02:13.208342Z",
     "shell.execute_reply": "2024-09-06T18:02:13.207833Z"
    }
   },
   "outputs": [],
   "source": [
    "# # run notebook in its own folder\n",
    "# os.chdir(\"NL_dense\")\n",
    "# print(f\"Working in directory {os.getcwd()}\")\n",
    "# # run the analysis\n",
    "# # %run -i ../../../analysis/analysis.py"
   ]
  }
 ],
 "metadata": {
  "kernelspec": {
   "display_name": "Python 3",
   "language": "python",
   "name": "python3"
  },
  "language_info": {
   "codemirror_mode": {
    "name": "ipython",
    "version": 3
   },
   "file_extension": ".py",
   "mimetype": "text/x-python",
   "name": "python",
   "nbconvert_exporter": "python",
   "pygments_lexer": "ipython3",
   "version": "3.11.6"
  }
 },
 "nbformat": 4,
 "nbformat_minor": 2
}
