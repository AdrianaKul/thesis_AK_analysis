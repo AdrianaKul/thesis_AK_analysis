{
 "cells": [
  {
   "cell_type": "markdown",
   "metadata": {},
   "source": [
    "### to include in the other file before running this one"
   ]
  },
  {
   "cell_type": "code",
   "execution_count": null,
   "metadata": {},
   "outputs": [],
   "source": [
    "# # import settings and functions\n",
    "# %run ./../../../imports.ipynb\n",
    "\n",
    "# # from ana dense\n",
    "# prefix = \"c5_brick_NL_dense_ref_\"\n",
    "# csv_name = 'dataset_loop_complete_scaled.csv'\n",
    "\n",
    "# run_analysis = True\n",
    "\n",
    "# color_lims = True\n",
    "\n",
    "# exe = hdiv_data_driven_diffusion_snes\n",
    "# sumanalys = \"sumanalys.csv\"\n",
    "# ana_name = \"ana_DD_brick\"\n",
    "\n",
    "if 'additions' not in locals():\n",
    "    additions = \"\""
   ]
  },
  {
   "cell_type": "markdown",
   "metadata": {},
   "source": [
    "#### Get dataset and scaling"
   ]
  },
  {
   "cell_type": "code",
   "execution_count": null,
   "metadata": {},
   "outputs": [],
   "source": [
    "!cp ./../../../datasets_brick/scaling.in .\n",
    "!cp ./../../../datasets_brick/NL_dataset_creation/{csv_name} .\n",
    "!cp ./../../../datasets_brick/regular/{csv_name} .\n",
    "\n",
    "!ls ./../../../datasets_brick/scaling.in\n",
    "!ls ./../../../datasets_brick/NL_dataset_creation/{csv_name}\n",
    "!ls ./../../../datasets_brick/regular/{csv_name}\n",
    "\n",
    "\n",
    "scal = np.genfromtxt('./scaling.in')\n",
    "scaling = scal\n",
    "print(scaling)"
   ]
  },
  {
   "cell_type": "markdown",
   "metadata": {},
   "source": [
    "### Settings for refinement"
   ]
  },
  {
   "cell_type": "code",
   "execution_count": null,
   "metadata": {},
   "outputs": [],
   "source": [
    "# if variable 'ref' does not exist, create it\n",
    "if 'ref' not in locals():\n",
    "    ref = \"\"\n",
    "\n",
    "refinement_style = 0\n",
    "ref_iter_num = 0\n",
    "refinement_control = \"\"\n",
    "\n",
    "if ref:\n",
    "    print(\"refinement: \")\n",
    "\n",
    "    # refinement style: \n",
    "    # 0 - no refinement\n",
    "    # 1 - p refinement (order)\n",
    "    # 2 - h refinement (mesh)\n",
    "    # 3 - hp refinement\n",
    "    refinement_style = 3\n",
    "\n",
    "    # number of refinements\n",
    "    ref_iter_num = 4\n",
    "\n",
    "    # refine mesh due to error indicators only on boundary\n",
    "    boundary_ony = \"-refine_h_boundary_only\"\n",
    "\n",
    "    # order refinement control\n",
    "    # > ord_ref_control * average error -> refine\n",
    "    ord_ref_control = 3.0\n",
    "    # mesh refinement control\n",
    "    # > mesh_ref_control * average error -> refine\n",
    "    mesh_ref_control = 4.0\n",
    "\n",
    "    # DD refinement control\n",
    "    # d > tol_distance_ref * d_ave -> do not refine\n",
    "    tol_distance_ref = 1.0\n",
    "    # d > tol_distance_var_ref * d_var \n",
    "    # &&\n",
    "    # d_var > tol_distance_var_ave * d_ave\n",
    "    #  -> refine\n",
    "    tol_distance_var_ref = 2.0\n",
    "    tol_distance_var_ave = 0.5\n",
    "\n",
    "    refinement_control = f\"-ref_control {ord_ref_control} -ref_control_mesh {mesh_ref_control} -tol_distance_ref {tol_distance_ref} -tol_distance_var_ref {tol_distance_var_ref} -tol_distance_var_ave {tol_distance_var_ave} {boundary_ony}\"\n",
    "\n",
    "# print refinement style and number\n",
    "print(f\"refinement style: {refinement_style}\")\n",
    "print(f\"number of refinements: {ref_iter_num}\")\n",
    "\n",
    "print(refinement_control)\n"
   ]
  },
  {
   "cell_type": "markdown",
   "metadata": {},
   "source": [
    "### Settings for monte"
   ]
  },
  {
   "cell_type": "code",
   "execution_count": 1,
   "metadata": {},
   "outputs": [],
   "source": [
    "monte_control = \"\"\n",
    "monte_num = 30\n",
    "\n",
    "if 'monte' not in locals():\n",
    "    monte = \"\"\n",
    "\n",
    "if monte:\n",
    "    monte_control = f\"-monte_carlo {monte_num}\"\n",
    "    \n",
    "print(monte_control)"
   ]
  },
  {
   "cell_type": "markdown",
   "metadata": {},
   "source": [
    "### General settings"
   ]
  },
  {
   "cell_type": "code",
   "execution_count": null,
   "metadata": {},
   "outputs": [],
   "source": [
    "# approximation order for temperatures\n",
    "params.order = 3\n",
    "# number of processors\n",
    "params.nproc = 1 \n",
    "# calculation of jumps only works with 1 processor\n",
    "jumps = \"\"\n",
    "if params.nproc == 1:\n",
    "    jumps = \"-get_jumps\"\n",
    "\n",
    "# naming for the csv file\n",
    "naming = [\"order\", \"gaussnum\", \"iterations\",\"volume\", \"datanum\",\"rmsPoiErr\", \"errorEstimator\",\n",
    "          \"L2norm\", \"H1seminorm\",\"fluxErr\", \"orderRefinementCounter\", \"errorIndicatorGrad\", \"errorIndicatorDiv\", \"jumpL2\", \"jumpHdiv\", \"eleNum\"]\n",
    "# naming = [\"order\", \"gaussnum\", \"iterations\",\"volume\", \"datanum\",\"rmsPoiErr\", \"errorEstimator\",\n",
    "#           \"L2norm\", \"H1seminorm\",\"fluxErr\", \"orderRefinementCounter\"]"
   ]
  },
  {
   "cell_type": "code",
   "execution_count": null,
   "metadata": {},
   "outputs": [],
   "source": [
    "# which file?\n",
    "params.list_mesh_files = []\n",
    "params.element_sizes = []\n",
    "\n",
    "# 0\n",
    "params.list_mesh_files.append(\"./../brick_20.cub\")\n",
    "params.element_sizes.append(5)\n",
    "# 1\n",
    "params.list_mesh_files.append(\"./../brick_15.cub\")\n",
    "params.element_sizes.append(4)\n",
    "# 2\n",
    "params.list_mesh_files.append(\"./../brick_10.cub\")\n",
    "params.element_sizes.append(3)\n",
    "# 3\n",
    "params.list_mesh_files.append(\"./../brick_7.cub\")\n",
    "params.element_sizes.append(2)\n",
    "# 4\n",
    "params.list_mesh_files.append(\"./../brick_6.cub\")\n",
    "params.element_sizes.append(1)\n",
    "# 5\n",
    "params.list_mesh_files.append(\"./../brick_4.cub\")\n",
    "params.element_sizes.append(1)\n",
    "# 6\n",
    "params.list_mesh_files.append(\"./../brick_q.cub\")\n",
    "params.element_sizes.append(10)\n",
    "\n",
    "h = params.element_sizes\n",
    "cub_names = params.list_mesh_files\n",
    "input_names = []\n",
    "for i in cub_names:\n",
    "    input_names.append(i[:-3]+\"h5m\")\n",
    "count = len(h)\n",
    "print(cub_names)\n",
    "print(input_names)\n",
    "\n",
    "# which mesh to use\n",
    "input_number = 6\n",
    "\n",
    "# # which mesh to use\n",
    "# input_number = 3\n",
    "\n",
    "input_mesh = params.list_mesh_files[input_number]\n",
    "input_name = input_names[input_number]\n",
    "input_cub = cub_names[input_number]\n",
    "print(input_mesh)"
   ]
  },
  {
   "cell_type": "code",
   "execution_count": null,
   "metadata": {},
   "outputs": [],
   "source": [
    "params.csv_tree_file = csv_name"
   ]
  },
  {
   "cell_type": "code",
   "execution_count": null,
   "metadata": {},
   "outputs": [],
   "source": [
    "!pwd\n",
    "print(\"1\")"
   ]
  },
  {
   "cell_type": "code",
   "execution_count": null,
   "metadata": {},
   "outputs": [],
   "source": [
    "# # start display for showing results\n",
    "display = Display(backend=\"xvfb\", visible=False, size=(1024, 768))\n",
    "display.start()\n",
    "print(\"2\")"
   ]
  },
  {
   "cell_type": "markdown",
   "metadata": {},
   "source": [
    "### Run analysis"
   ]
  },
  {
   "cell_type": "code",
   "execution_count": null,
   "metadata": {},
   "outputs": [],
   "source": [
    "if run_analysis:\n",
    "    !rm out*[0-9]*\n",
    "    # params.part_file = input_names[input_number]\n",
    "\n",
    "    print(\"hello\")\n",
    "\n",
    "    # params.mesh_file = cub_names[0]\n",
    "    # params.part_file = params.mesh_file + \"_\" + str(params.nproc) + \"p.h5m\"\n",
    "    !{mofem_part} -my_file {input_cub} -nparts {params.nproc} -output_file {input_name} -dim 2 -adj_dim 1\n",
    "    !mpirun -np {params.nproc} {exe} -file_name {input_name} -my_order {params.order} {jumps} -csv_tree_file {params.csv_tree_file} -scaling 1 -snes_max_it 500 -print_integ -refinement_style {refinement_style} -ref_iter_num {ref_iter_num} {refinement_control} {additions} {monte_control}\n",
    "    #  -use_line -data_dim 4 -my_dummy_k 100.0"
   ]
  },
  {
   "cell_type": "markdown",
   "metadata": {},
   "source": [
    "### Post-process"
   ]
  },
  {
   "cell_type": "code",
   "execution_count": null,
   "metadata": {},
   "outputs": [],
   "source": [
    "name_vtk_integ = \"out_integ_pts_\"+csv_name[:-4]\n",
    "name_vtk_result = \"out_result_\"+csv_name[:-4]\n",
    "name_vtk_error = \"out_error_\"+csv_name[:-4]\n",
    "name_vtk_moab = \"out_moab_\"+csv_name[:-4]\n",
    "\n",
    "# monte\n",
    "name_vtk_monte_errors = \"out_monte_errors_\"+csv_name[:-4]\n",
    "name_vtk_monte_integ = \"out_monte_integ_\"+csv_name[:-4]\n",
    "name_vtk_monte_sigma = \"out_monte_sigma_\"+csv_name[:-4]\n",
    "name_vtk_monte_integ_mean_var = \"out_integ_pts_mean_var_\"+csv_name[:-4]\n"
   ]
  },
  {
   "cell_type": "code",
   "execution_count": null,
   "metadata": {},
   "outputs": [],
   "source": [
    "if run_analysis:    \n",
    "    out_to_vtk = !ls -c1 out_integ_pts_*.h5m\n",
    "    last_file=out_to_vtk[0]\n",
    "    !mbconvert {last_file} {name_vtk_integ}.vtk\n",
    "\n",
    "    out_to_vtk = !ls -c1 out_result*.h5m\n",
    "    last_file=out_to_vtk[0]\n",
    "    !mbconvert {last_file} {name_vtk_result}.vtk\n",
    "\n",
    "    out_to_vtk = !ls -c1 out_error*.h5m\n",
    "    last_file=out_to_vtk[0]\n",
    "    !mbconvert {last_file} {name_vtk_error}.vtk\n",
    "    # !mbconvert out_moab_5.h5m {name_vtk_moab}.vtk\n",
    "    # !rm out_*h5m\n",
    "\n",
    "    out_to_vtk = !ls -c1 out_monte_ele_errors_*.h5m\n",
    "    last_file=out_to_vtk[0]\n",
    "    !mbconvert {last_file} {name_vtk_monte_errors}.vtk\n",
    "\n",
    "    out_to_vtk = !ls -c1 out_monte_integ_star_*.h5m\n",
    "    last_file=out_to_vtk[0]\n",
    "    !mbconvert {last_file} {name_vtk_monte_integ}.vtk\n",
    "\n",
    "    out_to_vtk = !ls -c1 out_sigma_ele_*.h5m\n",
    "    last_file=out_to_vtk[0]\n",
    "    !mbconvert {last_file} {name_vtk_monte_sigma}.vtk\n",
    "\n",
    "    out_to_vtk = !ls -c1 out_integ_pts_mean_var_*.h5m\n",
    "    last_file=out_to_vtk[0]\n",
    "    !mbconvert {last_file} {name_vtk_monte_integ_mean_var}.vtk\n",
    "\n",
    "\n"
   ]
  },
  {
   "cell_type": "code",
   "execution_count": null,
   "metadata": {},
   "outputs": [],
   "source": [
    "# import settings and functions\n",
    "%run ./../plot_for_hdiv_errors.ipynb"
   ]
  },
  {
   "cell_type": "code",
   "execution_count": null,
   "metadata": {},
   "outputs": [],
   "source": [
    "# import settings and functions\n",
    "%run ./../plot_for_DD.ipynb"
   ]
  },
  {
   "cell_type": "code",
   "execution_count": null,
   "metadata": {},
   "outputs": [],
   "source": [
    "if monte:\n",
    "    %run ./../plot_for_monte.ipynb"
   ]
  }
 ],
 "metadata": {
  "kernelspec": {
   "display_name": "Python 3",
   "language": "python",
   "name": "python3"
  },
  "language_info": {
   "codemirror_mode": {
    "name": "ipython",
    "version": 3
   },
   "file_extension": ".py",
   "mimetype": "text/x-python",
   "name": "python",
   "nbconvert_exporter": "python",
   "pygments_lexer": "ipython3",
   "version": "3.11.6"
  }
 },
 "nbformat": 4,
 "nbformat_minor": 2
}
