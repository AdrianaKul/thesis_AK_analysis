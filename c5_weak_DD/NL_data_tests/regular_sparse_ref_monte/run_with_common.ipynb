{
 "cells": [
  {
   "cell_type": "code",
   "execution_count": null,
   "metadata": {
    "execution": {
     "iopub.execute_input": "2024-08-18T20:21:42.837620Z",
     "iopub.status.busy": "2024-08-18T20:21:42.837314Z",
     "iopub.status.idle": "2024-08-18T20:21:45.343068Z",
     "shell.execute_reply": "2024-08-18T20:21:45.342444Z"
    }
   },
   "outputs": [],
   "source": [
    "# import settings and functions\n",
    "%run ./../../../imports.ipynb"
   ]
  },
  {
   "cell_type": "code",
   "execution_count": null,
   "metadata": {
    "execution": {
     "iopub.execute_input": "2024-08-18T20:21:45.346270Z",
     "iopub.status.busy": "2024-08-18T20:21:45.345885Z",
     "iopub.status.idle": "2024-08-18T20:21:45.349048Z",
     "shell.execute_reply": "2024-08-18T20:21:45.348589Z"
    }
   },
   "outputs": [],
   "source": [
    "run_analysis = False\n",
    "\n",
    "if 'color_lims' not in locals():\n",
    "    color_lims = True\n",
    "\n",
    "exe = hdiv_data_driven_diffusion_snes\n",
    "sumanalys = \"sumanalys.csv\"\n",
    "ana_name = \"ana_DD_brick\"\n",
    "\n",
    "ref = True\n",
    "\n",
    "monte = True\n",
    "monte_num = 100\n",
    "\n",
    "additions = \"-print_integ 0\" "
   ]
  },
  {
   "cell_type": "code",
   "execution_count": null,
   "metadata": {
    "execution": {
     "iopub.execute_input": "2024-08-18T20:21:45.351165Z",
     "iopub.status.busy": "2024-08-18T20:21:45.350975Z",
     "iopub.status.idle": "2024-08-18T20:21:55.636298Z",
     "shell.execute_reply": "2024-08-18T20:21:55.635510Z"
    }
   },
   "outputs": [],
   "source": [
    "# regular sparse\n",
    "prefix = \"c5_brick_regular_sparse_ref_\"\n",
    "csv_name = 'dataset_regular_sparse_scaled.csv'\n",
    "\n",
    "%run ../common_brick_running.ipynb"
   ]
  },
  {
   "cell_type": "code",
   "execution_count": null,
   "metadata": {
    "execution": {
     "iopub.execute_input": "2024-08-18T20:21:55.639986Z",
     "iopub.status.busy": "2024-08-18T20:21:55.639758Z",
     "iopub.status.idle": "2024-08-18T20:22:11.078507Z",
     "shell.execute_reply": "2024-08-18T20:22:11.077495Z"
    }
   },
   "outputs": [],
   "source": [
    "# regular dense\n",
    "prefix = \"c5_brick_regular_dense_ref_\"\n",
    "csv_name = 'dataset_regular_dense_scaled.csv'\n",
    "\n",
    "%run ../common_brick_running.ipynb"
   ]
  },
  {
   "cell_type": "code",
   "execution_count": null,
   "metadata": {
    "execution": {
     "iopub.execute_input": "2024-08-18T20:22:11.081018Z",
     "iopub.status.busy": "2024-08-18T20:22:11.080763Z",
     "iopub.status.idle": "2024-08-18T20:22:22.970948Z",
     "shell.execute_reply": "2024-08-18T20:22:22.969907Z"
    }
   },
   "outputs": [],
   "source": [
    "# random noisy\n",
    "prefix = \"c5_brick_random_noisy_ref_\"\n",
    "csv_name = 'dataset_random_dense_noisy_scaled.csv'\n",
    "\n",
    "%run ../common_brick_running.ipynb"
   ]
  },
  {
   "cell_type": "code",
   "execution_count": null,
   "metadata": {},
   "outputs": [],
   "source": []
  }
 ],
 "metadata": {
  "kernelspec": {
   "display_name": "Python 3",
   "language": "python",
   "name": "python3"
  },
  "language_info": {
   "codemirror_mode": {
    "name": "ipython",
    "version": 3
   },
   "file_extension": ".py",
   "mimetype": "text/x-python",
   "name": "python",
   "nbconvert_exporter": "python",
   "pygments_lexer": "ipython3",
   "version": "3.11.6"
  }
 },
 "nbformat": 4,
 "nbformat_minor": 2
}
