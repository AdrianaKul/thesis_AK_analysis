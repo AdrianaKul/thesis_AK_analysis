{
 "cells": [
  {
   "cell_type": "code",
   "execution_count": null,
   "metadata": {
    "ExecuteTime": {
     "end_time": "2024-08-20T18:01:51.334958Z",
     "start_time": "2024-08-20T18:01:50.071596Z"
    },
    "execution": {
     "iopub.execute_input": "2024-09-06T18:02:18.646696Z",
     "iopub.status.busy": "2024-09-06T18:02:18.646490Z",
     "iopub.status.idle": "2024-09-06T18:02:20.582843Z",
     "shell.execute_reply": "2024-09-06T18:02:20.581714Z"
    }
   },
   "outputs": [],
   "source": [
    "# import settings and functions\n",
    "%run ./../../../imports.ipynb"
   ]
  },
  {
   "cell_type": "code",
   "execution_count": null,
   "metadata": {
    "ExecuteTime": {
     "end_time": "2024-08-20T18:01:51.339687Z",
     "start_time": "2024-08-20T18:01:51.337007Z"
    },
    "execution": {
     "iopub.execute_input": "2024-09-06T18:02:20.646917Z",
     "iopub.status.busy": "2024-09-06T18:02:20.646271Z",
     "iopub.status.idle": "2024-09-06T18:02:20.651522Z",
     "shell.execute_reply": "2024-09-06T18:02:20.650631Z"
    }
   },
   "outputs": [],
   "source": [
    "run_analysis = False\n",
    "\n",
    "if 'color_lims' not in locals():\n",
    "    color_lims = True\n",
    "\n",
    "exe = hdiv_data_driven_diffusion_snes\n",
    "sumanalys = \"sumanalys.csv\"\n",
    "ana_name = \"ana_DD_brick\"\n",
    "\n",
    "ref = True\n",
    "\n",
    "monte = True\n",
    "monte_num = 30\n",
    "\n",
    "additions = \"-print_integ 0\" \n",
    "\n",
    "# resolution\n",
    "res_multiply = 1\n",
    "params.p_resolution = [1000*res_multiply,1100*res_multiply]\n",
    "params.crop_top_x_percent_pdf = 10"
   ]
  },
  {
   "cell_type": "code",
   "execution_count": null,
   "metadata": {
    "ExecuteTime": {
     "end_time": "2024-08-20T20:48:07.741066Z",
     "start_time": "2024-08-20T18:01:51.340841Z"
    },
    "execution": {
     "iopub.execute_input": "2024-09-06T18:02:20.655007Z",
     "iopub.status.busy": "2024-09-06T18:02:20.654427Z",
     "iopub.status.idle": "2024-09-06T18:02:39.857414Z",
     "shell.execute_reply": "2024-09-06T18:02:39.855958Z"
    }
   },
   "outputs": [],
   "source": [
    "# regular sparse\n",
    "prefix = \"c5_brick_regular_sparse_ref_monte_\"\n",
    "csv_name = 'dataset_regular_sparse_scaled.csv'\n",
    "\n",
    "%run ../common_brick_running.ipynb"
   ]
  },
  {
   "cell_type": "code",
   "execution_count": null,
   "metadata": {
    "ExecuteTime": {
     "end_time": "2024-08-21T00:19:13.777099Z",
     "start_time": "2024-08-20T20:48:07.743108Z"
    },
    "execution": {
     "iopub.execute_input": "2024-09-06T18:02:39.862199Z",
     "iopub.status.busy": "2024-09-06T18:02:39.861765Z",
     "iopub.status.idle": "2024-09-06T18:03:06.331999Z",
     "shell.execute_reply": "2024-09-06T18:03:06.329000Z"
    }
   },
   "outputs": [],
   "source": [
    "color_lims = False\n",
    "\n",
    "# regular dense\n",
    "prefix = \"c5_brick_regular_dense_ref_monte_\"\n",
    "csv_name = 'dataset_regular_dense_scaled.csv'\n",
    "\n",
    "%run ../common_brick_running.ipynb"
   ]
  },
  {
   "cell_type": "code",
   "execution_count": null,
   "metadata": {
    "ExecuteTime": {
     "end_time": "2024-08-21T02:05:10.768128Z",
     "start_time": "2024-08-21T00:19:13.783233Z"
    },
    "execution": {
     "iopub.execute_input": "2024-09-06T18:03:06.337178Z",
     "iopub.status.busy": "2024-09-06T18:03:06.336643Z",
     "iopub.status.idle": "2024-09-06T18:03:30.773875Z",
     "shell.execute_reply": "2024-09-06T18:03:30.772118Z"
    }
   },
   "outputs": [],
   "source": [
    "# random noisy\n",
    "prefix = \"c5_brick_random_noisy_ref_monte_\"\n",
    "csv_name = 'dataset_random_dense_noisy_scaled.csv'\n",
    "\n",
    "%run ../common_brick_running.ipynb"
   ]
  },
  {
   "cell_type": "code",
   "execution_count": null,
   "metadata": {
    "execution": {
     "iopub.execute_input": "2024-09-06T18:03:30.778517Z",
     "iopub.status.busy": "2024-09-06T18:03:30.778049Z",
     "iopub.status.idle": "2024-09-06T18:03:30.783266Z",
     "shell.execute_reply": "2024-09-06T18:03:30.781692Z"
    }
   },
   "outputs": [],
   "source": [
    "print(\"done\")"
   ]
  },
  {
   "cell_type": "code",
   "execution_count": null,
   "metadata": {
    "execution": {
     "iopub.execute_input": "2024-09-06T18:03:30.786370Z",
     "iopub.status.busy": "2024-09-06T18:03:30.785873Z",
     "iopub.status.idle": "2024-09-06T18:03:30.789960Z",
     "shell.execute_reply": "2024-09-06T18:03:30.788575Z"
    }
   },
   "outputs": [],
   "source": [
    "# # load and plot far_points.csv\n",
    "# far_points = pd.read_csv(\"far_points.csv\")\n",
    "# print(far_points)\n",
    "\n",
    "# # load not_far_points.csv\n",
    "# not_far_points = pd.read_csv(\"not_far_points.csv\")\n",
    "# print(not_far_points)\n",
    "\n",
    "# # load dataset_random_dense_noisy_scaled.csv\n",
    "# dataset_random_dense_noisy_scaled = pd.read_csv(\"dataset_random_dense_noisy_scaled.csv\")\n",
    "# print(dataset_random_dense_noisy_scaled)\n",
    "\n",
    "# # keep every 10th row\n",
    "# dataset_random_dense_noisy_scaled = dataset_random_dense_noisy_scaled.iloc[::10, :]\n",
    "# print(dataset_random_dense_noisy_scaled)\n",
    "\n",
    "# # get headers of far_points.csv\n",
    "# headers = list(far_points.columns)\n",
    "# print(headers)\n"
   ]
  },
  {
   "cell_type": "code",
   "execution_count": null,
   "metadata": {
    "execution": {
     "iopub.execute_input": "2024-09-06T18:03:30.792904Z",
     "iopub.status.busy": "2024-09-06T18:03:30.792329Z",
     "iopub.status.idle": "2024-09-06T18:03:30.796506Z",
     "shell.execute_reply": "2024-09-06T18:03:30.795353Z"
    }
   },
   "outputs": [],
   "source": [
    "# # plot the far_points column 0, 2, and 4 with Plotly using the correct markers\n",
    "\n",
    "# import plotly.graph_objects as go\n",
    "\n",
    "# fig = go.Figure()\n",
    "\n",
    "# x_header = 0\n",
    "# y_header = 1\n",
    "# z_header = 3\n",
    "\n",
    "# # add far_points scatter\n",
    "# fig.add_trace(go.Scatter3d(\n",
    "#     x=far_points[headers[x_header]],\n",
    "#     y=far_points[headers[y_header]],\n",
    "#     z=far_points[headers[z_header]],\n",
    "#     mode='markers',\n",
    "#     marker=dict(size=3, color='red'),\n",
    "#     name='far_points'\n",
    "# ))\n",
    "\n",
    "# # add not_far_points scatter\n",
    "# fig.add_trace(go.Scatter3d(\n",
    "#     x=not_far_points[headers[x_header]],\n",
    "#     y=not_far_points[headers[y_header]],\n",
    "#     z=not_far_points[headers[z_header]],\n",
    "#     mode='markers',\n",
    "#     marker=dict(size=3, color='blue'),\n",
    "#     name='not_far_points'\n",
    "# ))\n",
    "\n",
    "# # add dataset_random_dense_noisy_scaled scatter\n",
    "# fig.add_trace(go.Scatter3d(\n",
    "#     x=dataset_random_dense_noisy_scaled[headers[x_header]],\n",
    "#     y=dataset_random_dense_noisy_scaled[headers[y_header]],\n",
    "#     z=dataset_random_dense_noisy_scaled[headers[z_header]],\n",
    "#     mode='markers',\n",
    "#     marker=dict(size=1, color='yellow'),\n",
    "#     name='dataset_random_dense_noisy_scaled'\n",
    "# ))\n",
    "\n",
    "# # label axis\n",
    "# fig.update_layout(scene = dict(\n",
    "#                     xaxis_title=headers[x_header],\n",
    "#                     yaxis_title=headers[y_header],\n",
    "#                     zaxis_title=headers[z_header]),\n",
    "#                     width=800, height=600)\n",
    "\n",
    "# fig.show()"
   ]
  },
  {
   "cell_type": "code",
   "execution_count": null,
   "metadata": {},
   "outputs": [],
   "source": []
  }
 ],
 "metadata": {
  "kernelspec": {
   "display_name": "Python 3 (ipykernel)",
   "language": "python",
   "name": "python3"
  },
  "language_info": {
   "codemirror_mode": {
    "name": "ipython",
    "version": 3
   },
   "file_extension": ".py",
   "mimetype": "text/x-python",
   "name": "python",
   "nbconvert_exporter": "python",
   "pygments_lexer": "ipython3",
   "version": "3.11.6"
  }
 },
 "nbformat": 4,
 "nbformat_minor": 2
}
