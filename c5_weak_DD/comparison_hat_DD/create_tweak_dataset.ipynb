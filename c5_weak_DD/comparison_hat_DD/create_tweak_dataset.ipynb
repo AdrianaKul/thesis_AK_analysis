{
 "cells": [
  {
   "cell_type": "code",
   "execution_count": null,
   "metadata": {},
   "outputs": [],
   "source": [
    "# import settings and functions\n",
    "%run ./../../imports.ipynb"
   ]
  },
  {
   "cell_type": "code",
   "execution_count": null,
   "metadata": {},
   "outputs": [],
   "source": [
    "csv_name = \"dummy_tree_test\"\n",
    "trim_dataset = True"
   ]
  },
  {
   "cell_type": "code",
   "execution_count": null,
   "metadata": {},
   "outputs": [],
   "source": [
    "# recreate dataset\n",
    "recreate_dataset = False\n",
    "\n",
    "dummy_count = 100000\n",
    "\n",
    "if recreate_dataset:\n",
    "    !{create_csv_dataset} -output_file {csv_name}.csv -my_dummy_noise_q 0 -my_dummy_noise_k 0 -my_dummy_k -1 -my_dummy_range_dp 9.0 -my_dummy_count {int(dummy_count)}\n",
    "\n",
    "    scal = np.genfromtxt('./scaling.in')\n",
    "    scaling = scal\n",
    "    print(scaling)\n",
    "    scaling[0] *= -1.\n",
    "    f = open(\"scaling.in\", \"w\")\n",
    "    f.write(str(scaling[0])+\"\\n\")\n",
    "    f.write(str(scaling[1]))\n",
    "    f.close()\n",
    "    print(scaling)"
   ]
  },
  {
   "cell_type": "code",
   "execution_count": null,
   "metadata": {},
   "outputs": [],
   "source": [
    "data = pd.read_csv(csv_name+\".csv\", index_col=False)\n",
    "headers = []\n",
    "headers = data.columns.values\n",
    "print(headers)"
   ]
  },
  {
   "cell_type": "code",
   "execution_count": null,
   "metadata": {},
   "outputs": [],
   "source": [
    "if trim_dataset:\n",
    "    trimmed_data = data.copy()\n",
    "\n",
    "    trimmed_data = trimmed_data.drop(trimmed_data[(trimmed_data.gradx > -6) & (trimmed_data.gradx < -5)].index)\n",
    "    # trimmed_data = trimmed_data.drop(trimmed_data[(trimmed_data[\" grady\"] > -6) & (trimmed_data[\" grady\"] < -5)].index)\n",
    "\n",
    "    # 2D scatter plot for G_x and Q_x\n",
    "    fig = plt.figure()\n",
    "    ax = fig.add_subplot(111)\n",
    "    sc = ax.scatter(trimmed_data[\"gradx\"], trimmed_data[headers[2]], s=0.1)\n",
    "    ax.set_xlabel(label_gradient_g_x)\n",
    "    ax.set_ylabel(label_flux_x)\n",
    "    plt.grid(True,ls=':')\n",
    "    plt.tight_layout()\n",
    "    plt.savefig(csv_name+'_simple_x.png', dpi=300)\n",
    "    plt.savefig(csv_name+'_simple_x.pdf')\n",
    "\n",
    "    # 2D scatter plot for G_y and Q_y\n",
    "    fig = plt.figure()\n",
    "    ax = fig.add_subplot(111)\n",
    "    sc = ax.scatter(trimmed_data[headers[1]], trimmed_data[headers[3]], s=0.1)\n",
    "    ax.set_xlabel(label_gradient_g_y)\n",
    "    ax.set_ylabel(label_flux_y)\n",
    "    plt.grid(True,ls=':')\n",
    "    plt.tight_layout()\n",
    "    plt.savefig(csv_name+'_simple_y.png', dpi=300)\n",
    "    plt.savefig(csv_name+'_simple_y.pdf')\n",
    "\n",
    "\n",
    "    # # 3D scatter plot for G_x, G_y, and Q_y\n",
    "    # fig = plt.figure()\n",
    "    # ax = fig.add_subplot(111, projection='3d')\n",
    "    # sc = ax.scatter(trimmed_data[\" grady\"], trimmed_data[\"gradx\"], trimmed_data[\" fluxy\"], s=0.1)\n",
    "    # # cbar = fig.colorbar(sc, pad=0.2)\n",
    "    # ax.set_xlabel(r'$g_y^*$', labelpad=10)\n",
    "    # ax.set_ylabel(r'$T^*$', labelpad=10)\n",
    "    # ax.set_zlabel(r'$q_y^*$', labelpad=10)\n",
    "    # # cbar.set_label(r'Temperature ' + r'$T^*$')\n",
    "    # plt.tight_layout()\n",
    "    # # plt.savefig('dataset_3D_from_ana_loop.pdf')\n",
    "    # plt.savefig(csv_name+'_TGQ_trimmed.png')\n",
    "    # plt.show()\n",
    "\n",
    "    # data = trimmed_data.copy()"
   ]
  },
  {
   "cell_type": "code",
   "execution_count": null,
   "metadata": {},
   "outputs": [],
   "source": [
    "pd.DataFrame(trimmed_data).to_csv(\"dummy_trimmed.csv\", index=False)"
   ]
  },
  {
   "cell_type": "code",
   "execution_count": null,
   "metadata": {},
   "outputs": [],
   "source": []
  }
 ],
 "metadata": {
  "kernelspec": {
   "display_name": "Python 3",
   "language": "python",
   "name": "python3"
  },
  "language_info": {
   "codemirror_mode": {
    "name": "ipython",
    "version": 3
   },
   "file_extension": ".py",
   "mimetype": "text/x-python",
   "name": "python",
   "nbconvert_exporter": "python",
   "pygments_lexer": "ipython3",
   "version": "3.11.6"
  }
 },
 "nbformat": 4,
 "nbformat_minor": 2
}
