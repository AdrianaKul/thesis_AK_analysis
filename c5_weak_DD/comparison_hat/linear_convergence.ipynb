{
 "cells": [
  {
   "cell_type": "code",
   "execution_count": null,
   "metadata": {
    "ExecuteTime": {
     "end_time": "2024-02-04T18:06:05.250997Z",
     "start_time": "2024-02-04T18:06:04.464573Z"
    }
   },
   "outputs": [],
   "source": [
    "# import settings and functions\n",
    "%run ./../../imports.ipynb\n"
   ]
  },
  {
   "cell_type": "markdown",
   "metadata": {},
   "source": [
    "## What mesh?\n",
    "\n",
    "Copy your choice to the next cell\n",
    "\n",
    "for SquareTop:\n",
    "```\n",
    "analytical_solution_tag = \"-ana_square_top\"\n",
    "generate_config = generateConfig_squareTop\n",
    "generate_mesh = generateMesh_squareTop\n",
    "```\n",
    "\n",
    "for SquareSinCos:\n",
    "```\n",
    "analytical_solution_tag = \"-ana_square_sincos\"\n",
    "generate_config = generateConfig_squareSinCos\n",
    "generate_mesh = generateMesh_squareSinCos\n",
    "```"
   ]
  },
  {
   "cell_type": "code",
   "execution_count": null,
   "metadata": {},
   "outputs": [],
   "source": [
    "# # Change according to instruction above\n",
    "analytical_solution_tag = \"-ana_mexi_hat\"\n",
    "generate_config = generateConfig_squareMexiHat\n",
    "generate_mesh = generateMesh_squareMexiHat\n",
    "\n",
    "# analytical_solution_tag = \"-ana_square_top\"\n",
    "# generate_config = generateConfig_squareTop\n",
    "# generate_mesh = generateMesh_squareTop\n",
    "\n",
    "# analytical_solution_tag = \"-ana_square_sincos\"\n",
    "# generate_config = generateConfig_squareSinCos\n",
    "# generate_mesh = generateMesh_squareSinCos"
   ]
  },
  {
   "cell_type": "markdown",
   "metadata": {},
   "source": [
    "## Analysis setup"
   ]
  },
  {
   "cell_type": "code",
   "execution_count": null,
   "metadata": {},
   "outputs": [],
   "source": [
    "# which executable?\n",
    "\n",
    "exe = hdiv_data_driven_diffusion_snes\n",
    "sumanalys = \"sumanalys.csv\"\n",
    "ana_name = \"ana_square_mexi_mixed_order\"\n",
    "\n",
    "ana_compare_exe = [hdiv_data_driven_diffusion_snes, hdiv_diffusion, classic_diffusion, data_driven_diffusion_snes]\n",
    "ana_compare_name = [\"ana_square_mexi_dd_weak\", \"ana_square_mexi_mixed\", \"ana_square_mexi_classic\", \"ana_square_mexi_dd\"]\n",
    "# ana_compare_name = [\"ana_square_mexi_mixed\"]\n",
    "ana_compare_sum = [\"sumanalys.csv\", \"sumanalys.csv\", \"FEM_errors.csv\", \"sumanalys.csv\"]\n",
    "\n",
    "# Convergence analysis parameters\n",
    "order_list = [1, 2, 3] # approximation order p\n",
    "elem_size_list = [0.08, 0.04, 0.02] # element size h\n",
    "# elem_size_list = [0.1, 0.05, 0.025] # element size h\n",
    "# order_list = [2, 3] # approximation order p\n",
    "# elem_size_list = [1./3., 1./7., 1./13.] # element size h\n",
    "params.triangle_mesh = True\n",
    "params.nproc = 1 # number of processors\n",
    "jumps = \"\"\n",
    "if params.nproc == 1:\n",
    "    jumps = \"-get_jumps\"\n",
    "# jumps = \"-get_jumps\"\n",
    "\n",
    "use_line = \"-use_line\"\n",
    "# use_line = \"\"\n",
    "\n",
    "run_test = True\n",
    "run_analysis = True\n",
    "run_refinement_analysis = True\n",
    "run_refinement_mesh_analysis = True\n",
    "run_refinement_hp_analysis = True\n",
    "\n",
    "# params.triangle_mesh = False\n",
    "\n",
    "run_test = False\n",
    "run_analysis = False\n",
    "run_refinement_analysis = False\n",
    "run_refinement_mesh_analysis = False\n",
    "run_refinement_hp_analysis = False\n",
    "\n",
    "naming = [\"order\", \"gaussnum\", \"iterations\",\"volume\", \"datanum\",\"rmsPoiErr\", \"errorEstimator\",\n",
    "          \"L2norm\", \"H1seminorm\",\"fluxErr\", \"orderRefinementCounter\", \"errorIndicatorGrad\", \"errorIndicatorDiv\", \"jumpL2\", \"jumpHdiv\", \"eleNum\"]\n",
    "# naming = [\"order\", \"gaussnum\", \"iterations\",\"volume\", \"datanum\",\"rmsPoiErr\", \"errorEstimator\",\n",
    "#           \"L2norm\", \"H1seminorm\",\"fluxErr\", \"orderRefinementCounter\"]\n",
    "\n",
    "error_name_list = [\"L2norm\", \"H1seminorm\", \"fluxErr\"]\n",
    "error_label_list = [(r'Global error $L^2$-norm'),\n",
    "               (r'Global error $H^1$-seminorm'), (r'Global Flux error')]"
   ]
  },
  {
   "cell_type": "code",
   "execution_count": null,
   "metadata": {
    "ExecuteTime": {
     "end_time": "2024-02-04T18:06:05.254997Z",
     "start_time": "2024-02-04T18:06:05.252603Z"
    }
   },
   "outputs": [],
   "source": [
    "params.conductivity = 1.0 # linear conductivity\n",
    "# params.element_size = elem_size_list[0] # element size in the regular mesh\n",
    "params.element_size = 0.1\n",
    "params.order = 1 # approximation order for displacements\n",
    "\n",
    "# params.triangle_mesh = False # use triangular mesh\n",
    "\n",
    "# Pre-processing parameters\n",
    "params.mesh_file = \"square_mexi\"\n",
    "params.length_x = 1\n",
    "params.length_y = 1\n",
    "params.length_z = 0\n",
    "params.show_mesh = True\n",
    "\n",
    "\n",
    "# solution parameters\n",
    "params.log_file = \"log\" # log file name \n"
   ]
  },
  {
   "cell_type": "markdown",
   "metadata": {},
   "source": [
    "## Run test"
   ]
  },
  {
   "cell_type": "code",
   "execution_count": null,
   "metadata": {
    "ExecuteTime": {
     "end_time": "2024-02-04T18:06:05.347658Z",
     "start_time": "2024-02-04T18:06:05.256058Z"
    }
   },
   "outputs": [],
   "source": [
    "# start display for showing results\n",
    "display = Display(backend=\"xvfb\", visible=False, size=(1024, 768))\n",
    "display.start()"
   ]
  },
  {
   "cell_type": "code",
   "execution_count": null,
   "metadata": {
    "ExecuteTime": {
     "end_time": "2024-02-04T18:06:06.528759Z",
     "start_time": "2024-02-04T18:06:05.372517Z"
    }
   },
   "outputs": [],
   "source": [
    "# Testing mesh generation\n",
    "if run_test:\n",
    "    params.show_mesh = True\n",
    "    generate_config(params)\n",
    "    generate_mesh(params)"
   ]
  },
  {
   "cell_type": "code",
   "execution_count": null,
   "metadata": {},
   "outputs": [],
   "source": [
    "# Testing running analysis\n",
    "if run_test:\n",
    "    !rm out*\n",
    "    params.part_file = params.mesh_file + \"_\" + str(params.nproc) + \"p.h5m\"\n",
    "    !{mofem_part} -my_file {params.mesh_file + \".h5m\"} -nparts {params.nproc} -output_file {params.part_file} -dim 2 -adj_dim 1\n",
    "    !mpirun -np {params.nproc} {exe} -file_name {params.part_file} -my_order {params.order} {analytical_solution_tag} {jumps} {use_line}  -use_part_star 0\n",
    "# -print_integ\n",
    "    # !convert.py out*\n"
   ]
  },
  {
   "cell_type": "code",
   "execution_count": null,
   "metadata": {},
   "outputs": [],
   "source": [
    "if run_test:    \n",
    "    out_to_vtk = !ls -c1 out_integ_pts_*.h5m\n",
    "    last_file=out_to_vtk[0]\n",
    "    !convert.py {last_file} \n",
    "    out_to_vtk = !ls -c1 out_resu*.h5m\n",
    "    last_file=out_to_vtk[0]\n",
    "    !convert.py {last_file} \n",
    "    out_to_vtk = !ls -c1 out_ite*.h5m\n",
    "    last_file=out_to_vtk[0]\n",
    "    !convert.py {last_file} \n",
    "    out_to_vtk = !ls -c1 out_error*.h5m\n",
    "    last_file=out_to_vtk[0]\n",
    "    !convert.py {last_file} \n",
    "    !rm out*h5m"
   ]
  },
  {
   "cell_type": "code",
   "execution_count": null,
   "metadata": {},
   "outputs": [],
   "source": [
    "if run_test:\n",
    "    params.field_part = -1\n",
    "    params.show_file = \"out_ite\"\n",
    "    params.show_file = \"out_resu\"\n",
    "    params.show_field = \"T\"\n",
    "    params.show_edges = True\n",
    "    params.p_cmap = color_temperature\n",
    "    params.p_save = \"c5_T.pdf\"\n",
    "    show_results(params)"
   ]
  },
  {
   "cell_type": "code",
   "execution_count": null,
   "metadata": {},
   "outputs": [],
   "source": [
    "if run_test:\n",
    "    params.field_part = 10\n",
    "    # params.show_file = \"out_ite\"\n",
    "    params.show_field = \"T\"\n",
    "    params.show_edges = True\n",
    "    # params.clim = [0, 12]\n",
    "    params.clim = None\n",
    "    params.p_cmap = color_gradient\n",
    "    params.p_save = \"c5_grad_T.pdf\"\n",
    "    show_results(params)\n"
   ]
  },
  {
   "cell_type": "code",
   "execution_count": null,
   "metadata": {},
   "outputs": [],
   "source": [
    "if run_test:\n",
    "    params.field_part = -1\n",
    "    # params.show_file = \"out_ite\"\n",
    "    params.show_field = \"G\"\n",
    "    params.show_edges = True\n",
    "    params.p_cmap = color_gradient\n",
    "    params.p_save = \"c5_G.pdf\"\n",
    "    show_results(params)"
   ]
  },
  {
   "cell_type": "code",
   "execution_count": null,
   "metadata": {},
   "outputs": [],
   "source": [
    "if run_test:\n",
    "    params.show_file = \"out_error\"\n",
    "    params.show_field = \"ERROR_FLUX\"\n",
    "    params.clim = None\n",
    "    params.show_edges = True\n",
    "    params.p_cmap = \"jet\"\n",
    "    params.p_save = \"c5_err_flux.pdf\"\n",
    "    show_results(params)"
   ]
  },
  {
   "cell_type": "code",
   "execution_count": null,
   "metadata": {},
   "outputs": [],
   "source": [
    "if run_test:\n",
    "    if jumps:\n",
    "        params.show_file = \"out_error\"\n",
    "        params.show_field = \"JUMP_L2\"\n",
    "        params.show_edges = True\n",
    "        params.p_cmap = \"jet\"\n",
    "        params.p_save = \"c5_err_ind_jump.pdf\"\n",
    "        show_results(params)"
   ]
  },
  {
   "cell_type": "code",
   "execution_count": null,
   "metadata": {},
   "outputs": [],
   "source": [
    "if run_test:\n",
    "    params.show_file = \"out_error\"\n",
    "    params.show_field = \"ERROR_ESTIMATOR\"\n",
    "    params.show_edges = True\n",
    "    params.p_cmap = \"jet\"\n",
    "    params.p_save = \"c5_err_est.pdf\"\n",
    "    show_results(params)"
   ]
  },
  {
   "cell_type": "code",
   "execution_count": null,
   "metadata": {},
   "outputs": [],
   "source": [
    "\n",
    "if run_test:\n",
    "    params.show_file = \"out_error\"\n",
    "    params.show_field = \"ERROR_L2_NORM\"\n",
    "    params.show_edges = True\n",
    "    params.p_save = \"c5_err_L2_.pdf\"\n",
    "    show_results(params)"
   ]
  },
  {
   "cell_type": "code",
   "execution_count": null,
   "metadata": {},
   "outputs": [],
   "source": [
    "\n",
    "if run_test:\n",
    "    params.show_file = \"out_error\"\n",
    "    params.show_field = \"ERROR_H1_SEMINORM\"\n",
    "    params.show_edges = True\n",
    "    params.p_save = \"c5_err_H1_.pdf\"\n",
    "    show_results(params)"
   ]
  },
  {
   "cell_type": "code",
   "execution_count": null,
   "metadata": {},
   "outputs": [],
   "source": [
    "# if run_test:\n",
    "#     # params.show_file = \"out_ori_result\"\n",
    "#     params.show_file = \"out_result\"\n",
    "#     params.show_field = \"P_reference\"\n",
    "#     params.warp_field_scalar = \"P_reference\"\n",
    "#     params.warp_factor = 0.4  # warp factor\n",
    "#     params.show_edges = True\n",
    "#     params.p_save = \"run_test_p.pdf\"\n",
    "#     show_results(params)"
   ]
  },
  {
   "cell_type": "code",
   "execution_count": null,
   "metadata": {},
   "outputs": [],
   "source": [
    "if run_test:\n",
    "    params.show_file = \"out_error\"\n",
    "    params.show_field = \"ERROR_INDICATOR_DIV\"\n",
    "    params.show_edges = True\n",
    "    params.warp_field_scalar = \"\"\n",
    "    # params.warp_factor = 0.4  # warp factor\n",
    "    params.p_save = \"run_test_err_ind_div.pdf\"\n",
    "    show_results(params)"
   ]
  },
  {
   "cell_type": "code",
   "execution_count": null,
   "metadata": {},
   "outputs": [],
   "source": [
    "if run_test:\n",
    "    params.show_file = \"out_error\"\n",
    "    params.show_field = \"ERROR_INDICATOR_GRAD\"\n",
    "    params.show_edges = True\n",
    "    params.warp_field_scalar = \"\"\n",
    "    # params.warp_factor = 0.4  # warp factor\n",
    "    params.p_save = \"run_test_err_ind_grad.pdf\"\n",
    "    show_results(params)"
   ]
  },
  {
   "cell_type": "markdown",
   "metadata": {},
   "source": [
    "## Comparison between standard and mixed"
   ]
  },
  {
   "cell_type": "code",
   "execution_count": null,
   "metadata": {},
   "outputs": [],
   "source": [
    "if run_analysis:    \n",
    "    for i in range(len(ana_compare_name)):\n",
    "        !rm {ana_compare_sum[i]}\n",
    "        !rm ./out_*\n",
    "        for elem_size in elem_size_list:\n",
    "            params.element_size = elem_size\n",
    "            params.show_mesh = False\n",
    "            generate_mesh(params)\n",
    "            params.part_file = params.mesh_file + \"_\" + str(params.nproc) + \"p.h5m\"\n",
    "            !{mofem_part} -my_file {params.mesh_file + \".h5m\"} -my_nparts {params.nproc} -output_file {params.part_file} -dim 2 -adj_dim 1\n",
    "            for order in order_list:\n",
    "                params.order = order\n",
    "                !mpirun -np {params.nproc} {ana_compare_exe[i]} -file_name {params.part_file} -my_order {params.order} {analytical_solution_tag} {jumps} {use_line}\n",
    "        !mv {ana_compare_sum[i]} {ana_compare_name[i]}.csv\n",
    "    \n",
    "!rm out_*h5m"
   ]
  },
  {
   "cell_type": "code",
   "execution_count": null,
   "metadata": {},
   "outputs": [],
   "source": [
    "# exe = hdiv_diffusion\n",
    "sumanalys = \"sumanalys.csv\"\n",
    "ana_ref_ord_name = \"ana_square_mexi_mixed_order\"\n",
    "\n",
    "refinement_style = 1\n",
    "ref_iter_num = 6\n",
    "ref_control = 1.0\n",
    "params.nproc = 1\n",
    "\n",
    "if run_refinement_analysis:    \n",
    "    !rm {sumanalys}\n",
    "    !rm ./out_*\n",
    "    elem_size =  elem_size_list[0]\n",
    "    params.element_size = elem_size\n",
    "    params.show_mesh = True\n",
    "    generate_mesh(params)\n",
    "    params.part_file = params.mesh_file + \"_\" + str(params.nproc) + \"p.h5m\"\n",
    "    !{mofem_part} -my_file {params.mesh_file + \".h5m\"} -my_nparts {params.nproc} -output_file {params.part_file} -dim 2 -adj_dim 1\n",
    "    order = order_list[0]\n",
    "    params.order = order\n",
    "    !mpirun -np {params.nproc} {exe} -file_name {params.part_file} -my_order {params.order} {analytical_solution_tag} -refinement_style {refinement_style} -ref_iter_num {ref_iter_num} -ref_control {ref_control} {jumps} {use_line}\n",
    "    !mv {sumanalys} {ana_ref_ord_name}.csv"
   ]
  },
  {
   "cell_type": "code",
   "execution_count": null,
   "metadata": {},
   "outputs": [],
   "source": [
    "out_to_vtk = !ls -c1 out_error_*h5m\n",
    "\n",
    "!convert.py {out_to_vtk[0]}\n",
    "\n",
    "if run_refinement_analysis:\n",
    "    params.show_file = \"out_error\"\n",
    "    params.show_field = \"ORDER\"\n",
    "    params.show_edges = True\n",
    "    params.p_cmap = \"rainbow\"\n",
    "    params.p_save = \"c5_hat_ord_ref_weak_DD.pdf\"\n",
    "    show_results(params)\n",
    "    params.p_save = \"\"\n",
    "\n",
    "    params.show_file = \"out_error\"\n",
    "    params.show_field = \"ERROR_INDICATOR_GRAD\"\n",
    "    params.show_edges = True\n",
    "    params.p_cmap = \"jet\"\n",
    "    # params.p_save = \"run_test_err_ind_grad.pdf\"\n",
    "    show_results(params)"
   ]
  },
  {
   "cell_type": "code",
   "execution_count": null,
   "metadata": {},
   "outputs": [],
   "source": [
    "# exe = hdiv_diffusion\n",
    "sumanalys = \"sumanalys.csv\"\n",
    "ana_ref_ord_name_ori = \"ana_square_mexi_mixed_order_ori\"\n",
    "\n",
    "refinement_style = 1\n",
    "# ref_iter_num = 7\n",
    "# ref_control = 1.0\n",
    "params.nproc = 1\n",
    "\n",
    "if run_refinement_analysis:    \n",
    "    !rm {sumanalys}\n",
    "    !rm ./out_*\n",
    "    elem_size =  elem_size_list[0]\n",
    "    params.element_size = elem_size\n",
    "    params.show_mesh = True\n",
    "    generate_mesh(params)\n",
    "    params.part_file = params.mesh_file + \"_\" + str(params.nproc) + \"p.h5m\"\n",
    "    !{mofem_part} -my_file {params.mesh_file + \".h5m\"} -my_nparts {params.nproc} -output_file {params.part_file} -dim 2 -adj_dim 1\n",
    "    order = order_list[0]\n",
    "    params.order = order\n",
    "    !mpirun -np {params.nproc} {hdiv_diffusion} -file_name {params.part_file} -my_order {params.order} {analytical_solution_tag} -refinement_style {refinement_style} -ref_iter_num {ref_iter_num} -ref_control {ref_control} {jumps} {use_line}\n",
    "    !mv {sumanalys} {ana_ref_ord_name_ori}.csv"
   ]
  },
  {
   "cell_type": "code",
   "execution_count": null,
   "metadata": {},
   "outputs": [],
   "source": [
    "out_to_vtk = !ls -c1 out_error_*h5m\n",
    "\n",
    "!convert.py {out_to_vtk[0]}\n",
    "\n",
    "if run_refinement_analysis:\n",
    "    params.show_file = \"out_error\"\n",
    "    params.show_field = \"ORDER\"\n",
    "    params.show_edges = True\n",
    "    params.p_cmap = \"rainbow\"\n",
    "    # params.p_save = \"run_test_err_ind_grad.pdf\"\n",
    "    params.p_save = \"c5_hat_ord_ref_mixed.pdf\"\n",
    "    show_results(params)\n",
    "    params.p_save = \"\"\n",
    "\n",
    "    params.show_file = \"out_error\"\n",
    "    params.show_field = \"ERROR_INDICATOR_GRAD\"\n",
    "    params.show_edges = True\n",
    "    params.p_cmap = \"jet\"\n",
    "    # params.p_save = \"run_test_err_ind_grad.pdf\"\n",
    "    show_results(params)"
   ]
  },
  {
   "cell_type": "code",
   "execution_count": null,
   "metadata": {},
   "outputs": [],
   "source": [
    "# exe = hdiv_diffusion\n",
    "sumanalys = \"sumanalys.csv\"\n",
    "ana_ref_mesh_name = \"ana_square_mexi_mixed_mesh\"\n",
    "\n",
    "if run_refinement_mesh_analysis:   \n",
    "    refinement_style = 2\n",
    "    # ref_iter_num = 5\n",
    "    # ref_control = 1.0\n",
    "    params.nproc = 1\n",
    "\n",
    "    !rm {sumanalys}\n",
    "    !rm ./out_*\n",
    "    elem_size =  elem_size_list[0]\n",
    "    params.element_size = elem_size\n",
    "    params.show_mesh = True\n",
    "    generate_mesh(params)\n",
    "    params.part_file = params.mesh_file + \"_\" + str(params.nproc) + \"p.h5m\"\n",
    "    !{mofem_part} -my_file {params.mesh_file + \".h5m\"} -my_nparts {params.nproc} -output_file {params.part_file} -dim 2 -adj_dim 1\n",
    "    order = order_list[0]\n",
    "    params.order = order\n",
    "    !mpirun -np {params.nproc} {exe} -file_name {params.part_file} -my_order {params.order} {analytical_solution_tag} -refinement_style {refinement_style} -ref_iter_num {ref_iter_num} -ref_control {ref_control} {jumps} {use_line}\n",
    "    !mv {sumanalys} {ana_ref_mesh_name}.csv"
   ]
  },
  {
   "cell_type": "code",
   "execution_count": null,
   "metadata": {},
   "outputs": [],
   "source": [
    "out_to_vtk = !ls -c1 out_error_*h5m\n",
    "\n",
    "!convert.py {out_to_vtk[0]}\n",
    "\n",
    "if run_refinement_mesh_analysis:\n",
    "    params.show_file = \"out_error\"\n",
    "    params.show_field = \"ERROR_INDICATOR_GRAD\"\n",
    "    params.show_edges = True\n",
    "    params.p_cmap = \"jet\"\n",
    "    # params.p_save = \"run_test_err_ind_grad.pdf\"\n",
    "    show_results(params)"
   ]
  },
  {
   "cell_type": "code",
   "execution_count": null,
   "metadata": {},
   "outputs": [],
   "source": [
    "\n",
    "ana_ref_hp_name = \"ana_square_mexi_mixed_hp\"\n",
    "\n",
    "if run_refinement_hp_analysis:   \n",
    "    refinement_style = 3\n",
    "    # ref_iter_num = 7\n",
    "    # ref_control = 1.0\n",
    "    params.nproc = 1\n",
    "\n",
    "    !rm {sumanalys}\n",
    "    !rm ./out_*\n",
    "    elem_size =  elem_size_list[0]\n",
    "    order = order_list[0]\n",
    "\n",
    "    params.element_size = elem_size\n",
    "    params.show_mesh = True\n",
    "    generate_mesh(params)\n",
    "    params.part_file = params.mesh_file + \"_\" + str(params.nproc) + \"p.h5m\"\n",
    "    !{mofem_part} -my_file {params.mesh_file + \".h5m\"} -my_nparts {params.nproc} -output_file {params.part_file} -dim 2 -adj_dim 1\n",
    "    \n",
    "    params.order = order\n",
    "    !mpirun -np {params.nproc} {exe} -file_name {params.part_file} -my_order {params.order} {analytical_solution_tag} -refinement_style {refinement_style} -ref_iter_num {ref_iter_num} -ref_control {ref_control} {jumps} {use_line}\n",
    "    !mv {sumanalys} {ana_ref_hp_name}.csv"
   ]
  },
  {
   "cell_type": "code",
   "execution_count": null,
   "metadata": {},
   "outputs": [],
   "source": [
    "!convert.py out*\n",
    "\n",
    "if run_refinement_hp_analysis:\n",
    "    params.show_file = \"out_error\"\n",
    "    params.show_field = \"ORDER\"\n",
    "    params.show_edges = True\n",
    "    # params.p_cmap = \"rainbow\"\n",
    "    # params.p_save = \"run_test_err_ind_grad.pdf\"\n",
    "    show_results(params)"
   ]
  },
  {
   "cell_type": "code",
   "execution_count": null,
   "metadata": {},
   "outputs": [],
   "source": [
    "if run_refinement_hp_analysis:\n",
    "    params.show_file = \"out_error\"\n",
    "    params.show_field = \"ERROR_INDICATOR_GRAD\"\n",
    "    params.show_edges = True\n",
    "    # params.p_cmap = \"jet\"\n",
    "    # params.p_save = \"run_test_err_ind_grad.pdf\"\n",
    "    show_results(params)"
   ]
  },
  {
   "cell_type": "code",
   "execution_count": null,
   "metadata": {},
   "outputs": [],
   "source": [
    "if run_refinement_hp_analysis:\n",
    "    params.show_file = \"out_result\"\n",
    "    params.show_field = \"T\"\n",
    "    params.show_edges = True\n",
    "    # params.p_save = \"run_test_err_ind_grad.pdf\"\n",
    "    show_results(params)"
   ]
  },
  {
   "cell_type": "markdown",
   "metadata": {},
   "source": [
    "### Load analysis"
   ]
  },
  {
   "cell_type": "code",
   "execution_count": null,
   "metadata": {},
   "outputs": [],
   "source": [
    "print(naming)"
   ]
  },
  {
   "cell_type": "code",
   "execution_count": null,
   "metadata": {},
   "outputs": [],
   "source": [
    "error_name_list = []\n",
    "error_label_list = []\n",
    "\n",
    "error_name_list.append(\"L2norm\")\n",
    "error_label_list.append(r'Global error $L^2$-norm')\n",
    "error_name_list.append(\"H1seminorm\")\n",
    "error_label_list.append(r'Global error $H^1$-seminorm')\n",
    "error_name_list.append(\"fluxErr\")\n",
    "error_label_list.append(r'Global Flux error')\n",
    "\n",
    "error_name_list.append(\"errorEstimator\")\n",
    "error_label_list.append(r'Global error estimator')\n",
    "error_name_list.append(\"errorIndicatorGrad\")\n",
    "error_label_list.append(r'Global error indicator grad')\n",
    "error_name_list.append(\"errorIndicatorDiv\")\n",
    "error_label_list.append(r'Global error indicator div')\n",
    "\n",
    "if jumps:\n",
    "    error_name_list.append(\"jumpL2\")\n",
    "    error_label_list.append(r'Global jump L2')\n",
    "    # error_name_list.append(\"jumpHdiv\")\n",
    "    # error_label_list.append(r'Global jump Hdiv')\n",
    "\n"
   ]
  },
  {
   "cell_type": "code",
   "execution_count": null,
   "metadata": {},
   "outputs": [],
   "source": [
    "filename_prefix = \"c5_mixed_hat_\"\n",
    "\n",
    "mixed_DD_ana = Analysis(ana_compare_name[0], naming, order_list, error_name_list, error_label_list, filename_prefix, elem_size_list,  marker='*', linestyle='--', plot_gradients=True, label=\"Weak DD\")\n",
    "mixed_ana = Analysis(ana_compare_name[1], naming, order_list, error_name_list, error_label_list, filename_prefix, elem_size_list,  marker='x', linestyle=':', plot_gradients=False, label=\"Mixed\")\n",
    "classic_ana = Analysis(ana_compare_name[2], naming, order_list, error_name_list, error_label_list, filename_prefix, elem_size_list,  marker='o', linestyle=':', plot_gradients=False, label=\"Standard\")\n",
    "classic_DD_ana = Analysis(ana_compare_name[3], naming, order_list, error_name_list, error_label_list, filename_prefix, elem_size_list,  marker='+', linestyle=':', plot_gradients=False, label=\"Standard DD\")\n",
    "\n",
    "order_ref_ana = Analysis(ana_ref_ord_name, naming, order_list, error_name_list, error_label_list, filename_prefix, elem_size_list,  marker='*', linestyle='--', plot_gradients=False, label=\"Weak DD; Order Refinement\", color = 'black')\n",
    "order_ref_ana_ori = Analysis(ana_ref_ord_name_ori, naming, order_list, error_name_list, error_label_list, filename_prefix, elem_size_list,  marker='x', linestyle=':', plot_gradients=False, label=\"Mixed; Order Refinement\")\n",
    "\n",
    "mesh_ref_ana = Analysis(ana_ref_mesh_name, naming, order_list, error_name_list, error_label_list, filename_prefix, elem_size_list,  marker='v', linestyle=':', plot_gradients=False, label=\"Mesh Refinement\", color = 'black')\n",
    "\n",
    "\n",
    "hp_ref_ana = Analysis(ana_ref_hp_name, naming, order_list, error_name_list, error_label_list, filename_prefix, elem_size_list,  marker='*', linestyle=':', plot_gradients=False, label=\"HP Refinement\", color = 'red')\n",
    "\n",
    "# ana_ref_ord_name"
   ]
  },
  {
   "cell_type": "code",
   "execution_count": null,
   "metadata": {},
   "outputs": [],
   "source": [
    "print(mixed_DD_ana.data)"
   ]
  },
  {
   "cell_type": "markdown",
   "metadata": {},
   "source": [
    "### Plot results"
   ]
  },
  {
   "cell_type": "code",
   "execution_count": null,
   "metadata": {},
   "outputs": [],
   "source": [
    "# # mixed_ana.plot_both_analyses_by_elem_size([classic_ana])\n",
    "# mixed_DD_ana.plot_both_analyses_by_elem_size([])\n",
    "# # mixed_ana.plot_both_analyses_by_gaussnum([classic_ana], [order_ref_ana, mesh_ref_ana])\n",
    "# mixed_DD_ana.plot_both_analyses_by_gaussnum([])"
   ]
  },
  {
   "cell_type": "code",
   "execution_count": null,
   "metadata": {},
   "outputs": [],
   "source": [
    "mixed_DD_ana.plot_gradients = True\n",
    "# mixed_DD_ana.plot_gradients = False\n",
    "mixed_DD_ana.legend_fond_size = 12\n",
    "\n",
    "mixed_DD_ana.filename_prefix = \"c5_mixed_hat_mixed_\"\n",
    "mixed_DD_ana.plot_both_analyses_by_gaussnum([mixed_ana])\n",
    "mixed_DD_ana.plot_both_analyses_by_elem_size([mixed_ana])\n",
    "\n",
    "mixed_DD_ana.legend_fond_size = 10\n",
    "\n",
    "mixed_DD_ana.filename_prefix = \"c5_mixed_hat_mixed_DD_\"\n",
    "mixed_DD_ana.plot_both_analyses_by_gaussnum([mixed_ana, classic_DD_ana])\n",
    "mixed_DD_ana.plot_both_analyses_by_elem_size([mixed_ana, classic_DD_ana])\n",
    "mixed_DD_ana.plot_gradients = False\n",
    "\n",
    "\n",
    "mixed_DD_ana.filename_prefix = \"c5_mixed_hat_ref_order_\"\n",
    "mixed_DD_ana.plot_both_analyses_by_gaussnum([mixed_ana], [order_ref_ana, order_ref_ana_ori])\n",
    "\n",
    "# mixed_DD_ana.filename_prefix = \"c5_mixed_hat_mixed_\"\n",
    "# mixed_DD_ana.plot_both_analyses_by_gaussnum([mixed_ana])\n",
    "# mixed_DD_ana.plot_both_analyses_by_elem_size([mixed_ana])\n",
    "\n",
    "# mixed_DD_ana.filename_prefix = \"c5_mixed_hat_DD_\"\n",
    "# mixed_DD_ana.plot_both_analyses_by_gaussnum([classic_DD_ana])\n",
    "# mixed_DD_ana.plot_both_analyses_by_elem_size([classic_DD_ana])\n",
    "\n",
    "\n",
    "# mixed_DD_ana.filename_prefix = \"c5_mixed_hat_ref_order_\"\n",
    "# mixed_DD_ana.plot_both_analyses_by_gaussnum([], [order_ref_ana])\n",
    "# mixed_DD_ana.filename_prefix = \"c5_mixed_hat_ref_mesh_\"\n",
    "# mixed_DD_ana.plot_both_analyses_by_gaussnum([], [mesh_ref_ana])\n",
    "# mixed_DD_ana.filename_prefix = \"c5_mixed_hat_ref_order_mesh_\"\n",
    "# mixed_DD_ana.plot_both_analyses_by_gaussnum([], [order_ref_ana, mesh_ref_ana])\n",
    "\n",
    "# mixed_DD_ana.filename_prefix = \"c5_mixed_hat_ref_hp_\"\n",
    "# mixed_DD_ana.plot_both_analyses_by_gaussnum([], [order_ref_ana, mesh_ref_ana, hp_ref_ana])"
   ]
  },
  {
   "cell_type": "code",
   "execution_count": null,
   "metadata": {},
   "outputs": [],
   "source": [
    "\n",
    "# mixed_DD_ana.legend_fond_size = 12\n",
    "# # mixed_ana.plot_gradients = True\n",
    "# mixed_DD_ana.filename_prefix = \"c5_mixed_hat_compare_\"\n",
    "# mixed_DD_ana.plot_both_analyses_by_gaussnum([classic_DD_ana], [order_ref_ana])"
   ]
  },
  {
   "cell_type": "code",
   "execution_count": null,
   "metadata": {},
   "outputs": [],
   "source": []
  },
  {
   "cell_type": "code",
   "execution_count": null,
   "metadata": {},
   "outputs": [],
   "source": []
  }
 ],
 "metadata": {
  "jupytext": {
   "formats": "ipynb,md"
  },
  "kernelspec": {
   "display_name": "Python 3 (ipykernel)",
   "language": "python",
   "name": "python3"
  },
  "language_info": {
   "codemirror_mode": {
    "name": "ipython",
    "version": 3
   },
   "file_extension": ".py",
   "mimetype": "text/x-python",
   "name": "python",
   "nbconvert_exporter": "python",
   "pygments_lexer": "ipython3",
   "version": "3.11.6"
  }
 },
 "nbformat": 4,
 "nbformat_minor": 2
}
