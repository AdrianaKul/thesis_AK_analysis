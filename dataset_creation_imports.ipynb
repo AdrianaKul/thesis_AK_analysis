{
 "cells": [
  {
   "cell_type": "code",
   "execution_count": null,
   "metadata": {},
   "outputs": [],
   "source": [
    "# import settings and functions\n",
    "%run ./../../imports.ipynb\n",
    "\n",
    "print('Importing dataset creation functions...')"
   ]
  },
  {
   "cell_type": "code",
   "execution_count": null,
   "metadata": {},
   "outputs": [],
   "source": [
    "def make_grid_linear_dataset(g_max, how_many, csv_name=\"grid_dataset\", k=1.0, plot_dataset=False):\n",
    "    g_min = - g_max\n",
    "\n",
    "    G_x = np.linspace(g_min, g_max, how_many)\n",
    "    Q_x = -k * G_x\n",
    "    G_y = np.linspace(g_min, g_max, how_many)\n",
    "    Q_y = -k * G_y\n",
    "\n",
    "    X, Y = np.meshgrid(G_x, G_y)\n",
    "    Q_Y = -k * Y\n",
    "    Q_X = -k * X\n",
    "\n",
    "    # Flatten the arrays\n",
    "    X_flat = X.flatten()\n",
    "    Y_flat = Y.flatten()\n",
    "    Q_X_flat = Q_X.flatten()\n",
    "    Q_Y_flat = Q_Y.flatten()\n",
    "\n",
    "    # Stack them horizontally\n",
    "    data = np.column_stack((X_flat, Y_flat, Q_X_flat, Q_Y_flat))\n",
    "\n",
    "    # Define the header\n",
    "    header = \"gradx,grady,fluxx,fluxy\"\n",
    "\n",
    "    # Save to CSV\n",
    "    np.savetxt(csv_name, data, delimiter=\",\", header=header, comments='')\n",
    "\n",
    "    if plot_dataset:\n",
    "        # 2D scatter plot for G_x and Q_x\n",
    "        plt.figure()\n",
    "        plt.scatter(G_x, Q_x, s=2)\n",
    "        plt.xlabel('G_x')\n",
    "        plt.ylabel('Q_x')\n",
    "        plt.grid(True, ls=':')\n",
    "        plt.xlabel(r'Temperature gradient $g_x^*$')\n",
    "        plt.ylabel(r'Heat flux $q_x^*$')\n",
    "        plt.tight_layout()\n",
    "        plt.savefig('simplest_G_x_Q_x.pdf')\n",
    "        plt.show()\n",
    "\n",
    "        # 3D scatter plot for G_x, G_y, and Q_y\n",
    "        fig = plt.figure()\n",
    "        ax = fig.add_subplot(111, projection='3d')\n",
    "        ax.scatter(X, Y, Q_X, s=2)\n",
    "        ax.set_xlabel(r'$g_x^*$')\n",
    "        ax.set_ylabel(r'$g_y^*$')\n",
    "        ax.set_zlabel(r'$q_y^*$')\n",
    "        plt.tight_layout()\n",
    "        plt.savefig('simplest_G_x_G_y_Q_y.pdf')\n",
    "        plt.show()"
   ]
  }
 ],
 "metadata": {
  "language_info": {
   "name": "python"
  }
 },
 "nbformat": 4,
 "nbformat_minor": 2
}
